{
  "nbformat": 4,
  "nbformat_minor": 0,
  "metadata": {
    "colab": {
      "provenance": [],
      "authorship_tag": "ABX9TyPluCJy9MkcfTjVcGpBetm5",
      "include_colab_link": true
    },
    "kernelspec": {
      "name": "python3",
      "display_name": "Python 3"
    },
    "language_info": {
      "name": "python"
    }
  },
  "cells": [
    {
      "cell_type": "markdown",
      "metadata": {
        "id": "view-in-github",
        "colab_type": "text"
      },
      "source": [
        "<a href=\"https://colab.research.google.com/github/fangya18/Data-science/blob/master/L.ipynb\" target=\"_parent\"><img src=\"https://colab.research.google.com/assets/colab-badge.svg\" alt=\"Open In Colab\"/></a>"
      ]
    },
    {
      "cell_type": "code",
      "execution_count": null,
      "metadata": {
        "colab": {
          "base_uri": "https://localhost:8080/"
        },
        "id": "KMaKJQmNVGcP",
        "outputId": "16900adc-c404-41f8-bb4b-4baaa8eb6105"
      },
      "outputs": [
        {
          "output_type": "stream",
          "name": "stdout",
          "text": [
            "Mounted at /content/drive\n"
          ]
        }
      ],
      "source": [
        "\n",
        "# authenticate Bigquery and Google Drive\n",
        "from google.colab import auth\n",
        "auth.authenticate_user()\n",
        "\n",
        "# mount your drive\n",
        "from google.colab import drive\n",
        "drive.mount('/content/drive')\n"
      ]
    },
    {
      "cell_type": "code",
      "source": [
        "\n",
        "import numpy as np\n",
        "import pandas as pd\n",
        "import datetime as dt\n",
        "import re\n",
        "import matplotlib.pyplot as plt\n",
        "from collections import Counter\n",
        "import seaborn as sns\n",
        "from sklearn.linear_model import LinearRegression"
      ],
      "metadata": {
        "id": "kTOee4_lVXHB"
      },
      "execution_count": null,
      "outputs": []
    },
    {
      "cell_type": "code",
      "source": [
        "cd drive/MyDrive/HU/lymphoma/"
      ],
      "metadata": {
        "colab": {
          "base_uri": "https://localhost:8080/"
        },
        "id": "Ahg0LrIEVZlt",
        "outputId": "1918af4d-5851-464f-a0ed-30e07fcb8c9a"
      },
      "execution_count": null,
      "outputs": [
        {
          "output_type": "stream",
          "name": "stdout",
          "text": [
            "/content/drive/MyDrive/HU/lymphoma\n"
          ]
        }
      ]
    },
    {
      "cell_type": "code",
      "source": [
        "\n",
        "df = pd.read_csv('LP1.csv')\n",
        "df.head()\n"
      ],
      "metadata": {
        "colab": {
          "base_uri": "https://localhost:8080/",
          "height": 751
        },
        "id": "k5aqcgc_VfZJ",
        "outputId": "ee17b155-125b-46be-d527-494fe1e71129"
      },
      "execution_count": null,
      "outputs": [
        {
          "output_type": "execute_result",
          "data": {
            "text/plain": [
              "   Rank   NCT Number                                              Title  \\\n",
              "0     1  NCT03415399  Clinical Study of ET190L1 ARTEMIS™ in Relapsed...   \n",
              "1     2  NCT01334502  Everolimus, Rituximab, and Combination Chemoth...   \n",
              "2     3  NCT03039114  Study Evaluating Safety and Efficacy of INCB05...   \n",
              "3     4  NCT04103905  A Study of MIL62 in Treatment of CD20 Positive...   \n",
              "4     5  NCT02741388  A Phase Ib Study of Oral Selinexor in Adult Pa...   \n",
              "\n",
              "   Acronym     Status         Study Results  \\\n",
              "0      NaN  Completed  No Results Available   \n",
              "1      NaN  Completed  No Results Available   \n",
              "2      NaN  Completed  No Results Available   \n",
              "3      NaN  Completed  No Results Available   \n",
              "4  SELINDA  Completed  No Results Available   \n",
              "\n",
              "                                  Conditions  \\\n",
              "0                           Lymphoma, B-Cell   \n",
              "1                                   Lymphoma   \n",
              "2                                   Lymphoma   \n",
              "3  CD20-positive B Cell Non-Hodgkin Lymphoma   \n",
              "4                            B-cell Lymphoma   \n",
              "\n",
              "                                       Interventions  \\\n",
              "0               Biological: ET190L1 ARTEMIS™ T cells   \n",
              "1  Biological: rituximab|Drug: cyclophosphamide|D...   \n",
              "2       Drug: Parsaclisib|Drug: Hexal|Drug: Gazyvaro   \n",
              "3  Drug: Recombinant Humanized Monoclonal Antibod...   \n",
              "4  Drug: selinexor|Drug: Rituximab|Drug: Dexameth...   \n",
              "\n",
              "                                    Outcome Measures  \\\n",
              "0  Maximum Tolerated Dose|Toxicity profile of ET1...   \n",
              "1  MTD of everolimus in combination with R-CHOP|A...   \n",
              "2  Safety and tolerability of parsaclisib in comb...   \n",
              "3  Percentage of Participants Who Experienced a D...   \n",
              "4  Incidence rate of dose-limiting toxicities (DL...   \n",
              "\n",
              "                               Sponsor/Collaborators  ...  \\\n",
              "0         Eureka Therapeutics Inc.|Peking University  ...   \n",
              "1  Alliance for Clinical Trials in Oncology|Natio...  ...   \n",
              "2                                 Incyte Corporation  ...   \n",
              "3                 Beijing Mabworks Biotech Co., Ltd.  ...   \n",
              "4  The Lymphoma Academic Research Organisation|Ka...  ...   \n",
              "\n",
              "                                  Other IDs         Start Date  \\\n",
              "0                           ETCH17CD19AR103  September 9, 2017   \n",
              "1  NCCTG-N1085|CDR0000698584|NCI-2011-02643         March 2012   \n",
              "2  INCB 50465-102 (CITADEL-102)|Parsaclisib  February 15, 2017   \n",
              "3                                MIL62-CT01  February 10, 2017   \n",
              "4                                   SELINDA       October 2016   \n",
              "\n",
              "  Primary Completion Date     Completion Date        First Posted  \\\n",
              "0       December 31, 2020   December 31, 2020    January 30, 2018   \n",
              "1           February 2015         August 2017      April 13, 2011   \n",
              "2          March 30, 2021      March 30, 2021    February 1, 2017   \n",
              "3            May 30, 2019        May 29, 2020  September 26, 2019   \n",
              "4      September 29, 2021  September 29, 2021      April 18, 2016   \n",
              "\n",
              "  Results First Posted Last Update Posted  \\\n",
              "0                  NaN     March 16, 2021   \n",
              "1                  NaN    August 10, 2017   \n",
              "2                  NaN   December 2, 2021   \n",
              "3                  NaN      June 16, 2021   \n",
              "4                  NaN   December 7, 2021   \n",
              "\n",
              "                                           Locations Study Documents  \\\n",
              "0  Peking University Cancer Hospital, Beijing, China             NaN   \n",
              "1  Mayo Clinic Cancer Center, Rochester, Minnesot...             NaN   \n",
              "2  Banner Health, Gilbert, Arizona, United States...             NaN   \n",
              "3  Chinese Academy of Medical Sciences (CAMS) & P...             NaN   \n",
              "4  Institut Jules Bordet, Bruxelles, Belgium|CHU ...             NaN   \n",
              "\n",
              "                                           URL  \n",
              "0  https://ClinicalTrials.gov/show/NCT03415399  \n",
              "1  https://ClinicalTrials.gov/show/NCT01334502  \n",
              "2  https://ClinicalTrials.gov/show/NCT03039114  \n",
              "3  https://ClinicalTrials.gov/show/NCT04103905  \n",
              "4  https://ClinicalTrials.gov/show/NCT02741388  \n",
              "\n",
              "[5 rows x 27 columns]"
            ],
            "text/html": [
              "\n",
              "  <div id=\"df-4b55a1dd-ed49-4ab3-bdba-b41361711132\">\n",
              "    <div class=\"colab-df-container\">\n",
              "      <div>\n",
              "<style scoped>\n",
              "    .dataframe tbody tr th:only-of-type {\n",
              "        vertical-align: middle;\n",
              "    }\n",
              "\n",
              "    .dataframe tbody tr th {\n",
              "        vertical-align: top;\n",
              "    }\n",
              "\n",
              "    .dataframe thead th {\n",
              "        text-align: right;\n",
              "    }\n",
              "</style>\n",
              "<table border=\"1\" class=\"dataframe\">\n",
              "  <thead>\n",
              "    <tr style=\"text-align: right;\">\n",
              "      <th></th>\n",
              "      <th>Rank</th>\n",
              "      <th>NCT Number</th>\n",
              "      <th>Title</th>\n",
              "      <th>Acronym</th>\n",
              "      <th>Status</th>\n",
              "      <th>Study Results</th>\n",
              "      <th>Conditions</th>\n",
              "      <th>Interventions</th>\n",
              "      <th>Outcome Measures</th>\n",
              "      <th>Sponsor/Collaborators</th>\n",
              "      <th>...</th>\n",
              "      <th>Other IDs</th>\n",
              "      <th>Start Date</th>\n",
              "      <th>Primary Completion Date</th>\n",
              "      <th>Completion Date</th>\n",
              "      <th>First Posted</th>\n",
              "      <th>Results First Posted</th>\n",
              "      <th>Last Update Posted</th>\n",
              "      <th>Locations</th>\n",
              "      <th>Study Documents</th>\n",
              "      <th>URL</th>\n",
              "    </tr>\n",
              "  </thead>\n",
              "  <tbody>\n",
              "    <tr>\n",
              "      <th>0</th>\n",
              "      <td>1</td>\n",
              "      <td>NCT03415399</td>\n",
              "      <td>Clinical Study of ET190L1 ARTEMIS™ in Relapsed...</td>\n",
              "      <td>NaN</td>\n",
              "      <td>Completed</td>\n",
              "      <td>No Results Available</td>\n",
              "      <td>Lymphoma, B-Cell</td>\n",
              "      <td>Biological: ET190L1 ARTEMIS™ T cells</td>\n",
              "      <td>Maximum Tolerated Dose|Toxicity profile of ET1...</td>\n",
              "      <td>Eureka Therapeutics Inc.|Peking University</td>\n",
              "      <td>...</td>\n",
              "      <td>ETCH17CD19AR103</td>\n",
              "      <td>September 9, 2017</td>\n",
              "      <td>December 31, 2020</td>\n",
              "      <td>December 31, 2020</td>\n",
              "      <td>January 30, 2018</td>\n",
              "      <td>NaN</td>\n",
              "      <td>March 16, 2021</td>\n",
              "      <td>Peking University Cancer Hospital, Beijing, China</td>\n",
              "      <td>NaN</td>\n",
              "      <td>https://ClinicalTrials.gov/show/NCT03415399</td>\n",
              "    </tr>\n",
              "    <tr>\n",
              "      <th>1</th>\n",
              "      <td>2</td>\n",
              "      <td>NCT01334502</td>\n",
              "      <td>Everolimus, Rituximab, and Combination Chemoth...</td>\n",
              "      <td>NaN</td>\n",
              "      <td>Completed</td>\n",
              "      <td>No Results Available</td>\n",
              "      <td>Lymphoma</td>\n",
              "      <td>Biological: rituximab|Drug: cyclophosphamide|D...</td>\n",
              "      <td>MTD of everolimus in combination with R-CHOP|A...</td>\n",
              "      <td>Alliance for Clinical Trials in Oncology|Natio...</td>\n",
              "      <td>...</td>\n",
              "      <td>NCCTG-N1085|CDR0000698584|NCI-2011-02643</td>\n",
              "      <td>March 2012</td>\n",
              "      <td>February 2015</td>\n",
              "      <td>August 2017</td>\n",
              "      <td>April 13, 2011</td>\n",
              "      <td>NaN</td>\n",
              "      <td>August 10, 2017</td>\n",
              "      <td>Mayo Clinic Cancer Center, Rochester, Minnesot...</td>\n",
              "      <td>NaN</td>\n",
              "      <td>https://ClinicalTrials.gov/show/NCT01334502</td>\n",
              "    </tr>\n",
              "    <tr>\n",
              "      <th>2</th>\n",
              "      <td>3</td>\n",
              "      <td>NCT03039114</td>\n",
              "      <td>Study Evaluating Safety and Efficacy of INCB05...</td>\n",
              "      <td>NaN</td>\n",
              "      <td>Completed</td>\n",
              "      <td>No Results Available</td>\n",
              "      <td>Lymphoma</td>\n",
              "      <td>Drug: Parsaclisib|Drug: Hexal|Drug: Gazyvaro</td>\n",
              "      <td>Safety and tolerability of parsaclisib in comb...</td>\n",
              "      <td>Incyte Corporation</td>\n",
              "      <td>...</td>\n",
              "      <td>INCB 50465-102 (CITADEL-102)|Parsaclisib</td>\n",
              "      <td>February 15, 2017</td>\n",
              "      <td>March 30, 2021</td>\n",
              "      <td>March 30, 2021</td>\n",
              "      <td>February 1, 2017</td>\n",
              "      <td>NaN</td>\n",
              "      <td>December 2, 2021</td>\n",
              "      <td>Banner Health, Gilbert, Arizona, United States...</td>\n",
              "      <td>NaN</td>\n",
              "      <td>https://ClinicalTrials.gov/show/NCT03039114</td>\n",
              "    </tr>\n",
              "    <tr>\n",
              "      <th>3</th>\n",
              "      <td>4</td>\n",
              "      <td>NCT04103905</td>\n",
              "      <td>A Study of MIL62 in Treatment of CD20 Positive...</td>\n",
              "      <td>NaN</td>\n",
              "      <td>Completed</td>\n",
              "      <td>No Results Available</td>\n",
              "      <td>CD20-positive B Cell Non-Hodgkin Lymphoma</td>\n",
              "      <td>Drug: Recombinant Humanized Monoclonal Antibod...</td>\n",
              "      <td>Percentage of Participants Who Experienced a D...</td>\n",
              "      <td>Beijing Mabworks Biotech Co., Ltd.</td>\n",
              "      <td>...</td>\n",
              "      <td>MIL62-CT01</td>\n",
              "      <td>February 10, 2017</td>\n",
              "      <td>May 30, 2019</td>\n",
              "      <td>May 29, 2020</td>\n",
              "      <td>September 26, 2019</td>\n",
              "      <td>NaN</td>\n",
              "      <td>June 16, 2021</td>\n",
              "      <td>Chinese Academy of Medical Sciences (CAMS) &amp; P...</td>\n",
              "      <td>NaN</td>\n",
              "      <td>https://ClinicalTrials.gov/show/NCT04103905</td>\n",
              "    </tr>\n",
              "    <tr>\n",
              "      <th>4</th>\n",
              "      <td>5</td>\n",
              "      <td>NCT02741388</td>\n",
              "      <td>A Phase Ib Study of Oral Selinexor in Adult Pa...</td>\n",
              "      <td>SELINDA</td>\n",
              "      <td>Completed</td>\n",
              "      <td>No Results Available</td>\n",
              "      <td>B-cell Lymphoma</td>\n",
              "      <td>Drug: selinexor|Drug: Rituximab|Drug: Dexameth...</td>\n",
              "      <td>Incidence rate of dose-limiting toxicities (DL...</td>\n",
              "      <td>The Lymphoma Academic Research Organisation|Ka...</td>\n",
              "      <td>...</td>\n",
              "      <td>SELINDA</td>\n",
              "      <td>October 2016</td>\n",
              "      <td>September 29, 2021</td>\n",
              "      <td>September 29, 2021</td>\n",
              "      <td>April 18, 2016</td>\n",
              "      <td>NaN</td>\n",
              "      <td>December 7, 2021</td>\n",
              "      <td>Institut Jules Bordet, Bruxelles, Belgium|CHU ...</td>\n",
              "      <td>NaN</td>\n",
              "      <td>https://ClinicalTrials.gov/show/NCT02741388</td>\n",
              "    </tr>\n",
              "  </tbody>\n",
              "</table>\n",
              "<p>5 rows × 27 columns</p>\n",
              "</div>\n",
              "      <button class=\"colab-df-convert\" onclick=\"convertToInteractive('df-4b55a1dd-ed49-4ab3-bdba-b41361711132')\"\n",
              "              title=\"Convert this dataframe to an interactive table.\"\n",
              "              style=\"display:none;\">\n",
              "        \n",
              "  <svg xmlns=\"http://www.w3.org/2000/svg\" height=\"24px\"viewBox=\"0 0 24 24\"\n",
              "       width=\"24px\">\n",
              "    <path d=\"M0 0h24v24H0V0z\" fill=\"none\"/>\n",
              "    <path d=\"M18.56 5.44l.94 2.06.94-2.06 2.06-.94-2.06-.94-.94-2.06-.94 2.06-2.06.94zm-11 1L8.5 8.5l.94-2.06 2.06-.94-2.06-.94L8.5 2.5l-.94 2.06-2.06.94zm10 10l.94 2.06.94-2.06 2.06-.94-2.06-.94-.94-2.06-.94 2.06-2.06.94z\"/><path d=\"M17.41 7.96l-1.37-1.37c-.4-.4-.92-.59-1.43-.59-.52 0-1.04.2-1.43.59L10.3 9.45l-7.72 7.72c-.78.78-.78 2.05 0 2.83L4 21.41c.39.39.9.59 1.41.59.51 0 1.02-.2 1.41-.59l7.78-7.78 2.81-2.81c.8-.78.8-2.07 0-2.86zM5.41 20L4 18.59l7.72-7.72 1.47 1.35L5.41 20z\"/>\n",
              "  </svg>\n",
              "      </button>\n",
              "      \n",
              "  <style>\n",
              "    .colab-df-container {\n",
              "      display:flex;\n",
              "      flex-wrap:wrap;\n",
              "      gap: 12px;\n",
              "    }\n",
              "\n",
              "    .colab-df-convert {\n",
              "      background-color: #E8F0FE;\n",
              "      border: none;\n",
              "      border-radius: 50%;\n",
              "      cursor: pointer;\n",
              "      display: none;\n",
              "      fill: #1967D2;\n",
              "      height: 32px;\n",
              "      padding: 0 0 0 0;\n",
              "      width: 32px;\n",
              "    }\n",
              "\n",
              "    .colab-df-convert:hover {\n",
              "      background-color: #E2EBFA;\n",
              "      box-shadow: 0px 1px 2px rgba(60, 64, 67, 0.3), 0px 1px 3px 1px rgba(60, 64, 67, 0.15);\n",
              "      fill: #174EA6;\n",
              "    }\n",
              "\n",
              "    [theme=dark] .colab-df-convert {\n",
              "      background-color: #3B4455;\n",
              "      fill: #D2E3FC;\n",
              "    }\n",
              "\n",
              "    [theme=dark] .colab-df-convert:hover {\n",
              "      background-color: #434B5C;\n",
              "      box-shadow: 0px 1px 3px 1px rgba(0, 0, 0, 0.15);\n",
              "      filter: drop-shadow(0px 1px 2px rgba(0, 0, 0, 0.3));\n",
              "      fill: #FFFFFF;\n",
              "    }\n",
              "  </style>\n",
              "\n",
              "      <script>\n",
              "        const buttonEl =\n",
              "          document.querySelector('#df-4b55a1dd-ed49-4ab3-bdba-b41361711132 button.colab-df-convert');\n",
              "        buttonEl.style.display =\n",
              "          google.colab.kernel.accessAllowed ? 'block' : 'none';\n",
              "\n",
              "        async function convertToInteractive(key) {\n",
              "          const element = document.querySelector('#df-4b55a1dd-ed49-4ab3-bdba-b41361711132');\n",
              "          const dataTable =\n",
              "            await google.colab.kernel.invokeFunction('convertToInteractive',\n",
              "                                                     [key], {});\n",
              "          if (!dataTable) return;\n",
              "\n",
              "          const docLinkHtml = 'Like what you see? Visit the ' +\n",
              "            '<a target=\"_blank\" href=https://colab.research.google.com/notebooks/data_table.ipynb>data table notebook</a>'\n",
              "            + ' to learn more about interactive tables.';\n",
              "          element.innerHTML = '';\n",
              "          dataTable['output_type'] = 'display_data';\n",
              "          await google.colab.output.renderOutput(dataTable, element);\n",
              "          const docLink = document.createElement('div');\n",
              "          docLink.innerHTML = docLinkHtml;\n",
              "          element.appendChild(docLink);\n",
              "        }\n",
              "      </script>\n",
              "    </div>\n",
              "  </div>\n",
              "  "
            ]
          },
          "metadata": {},
          "execution_count": 4
        }
      ]
    },
    {
      "cell_type": "code",
      "source": [
        "df.columns = df.columns.str.lower()"
      ],
      "metadata": {
        "id": "mnioilnvVowJ"
      },
      "execution_count": null,
      "outputs": []
    },
    {
      "cell_type": "code",
      "source": [
        "df[['start date','completion date']] = df[['start date','completion date']].apply(pd.to_datetime)\n",
        "df['duration'] = (df['completion date'] - df['start date']).dt.days"
      ],
      "metadata": {
        "id": "UEdPMXICWItT"
      },
      "execution_count": null,
      "outputs": []
    },
    {
      "cell_type": "code",
      "source": [
        "df.columns"
      ],
      "metadata": {
        "colab": {
          "base_uri": "https://localhost:8080/"
        },
        "id": "Q1oXSSrkWUJ0",
        "outputId": "eb6fc1dd-ca64-4243-a1e3-7e611aab691f"
      },
      "execution_count": null,
      "outputs": [
        {
          "output_type": "execute_result",
          "data": {
            "text/plain": [
              "Index(['rank', 'nct number', 'title', 'acronym', 'status', 'study results',\n",
              "       'conditions', 'interventions', 'outcome measures',\n",
              "       'sponsor/collaborators', 'gender', 'age', 'phases', 'enrollment',\n",
              "       'funded bys', 'study type', 'study designs', 'other ids', 'start date',\n",
              "       'primary completion date', 'completion date', 'first posted',\n",
              "       'results first posted', 'last update posted', 'locations',\n",
              "       'study documents', 'url', 'duration'],\n",
              "      dtype='object')"
            ]
          },
          "metadata": {},
          "execution_count": 7
        }
      ]
    },
    {
      "cell_type": "code",
      "source": [
        "df1= df[['duration','gender','age','enrollment','sponsor/collaborators']]\n",
        "df1['sponsor/collaborators']=df['sponsor/collaborators'].str.lower()\n",
        "df1['age']=df['age'].str.lower()\n",
        "df1.head()"
      ],
      "metadata": {
        "colab": {
          "base_uri": "https://localhost:8080/",
          "height": 440
        },
        "id": "cbLSaDoiWWiy",
        "outputId": "2d43d66a-c5a2-40dd-def3-91afd84130e1"
      },
      "execution_count": null,
      "outputs": [
        {
          "output_type": "stream",
          "name": "stderr",
          "text": [
            "<ipython-input-54-f0308fcf2a1c>:2: SettingWithCopyWarning: \n",
            "A value is trying to be set on a copy of a slice from a DataFrame.\n",
            "Try using .loc[row_indexer,col_indexer] = value instead\n",
            "\n",
            "See the caveats in the documentation: https://pandas.pydata.org/pandas-docs/stable/user_guide/indexing.html#returning-a-view-versus-a-copy\n",
            "  df1['sponsor/collaborators']=df['sponsor/collaborators'].str.lower()\n",
            "<ipython-input-54-f0308fcf2a1c>:3: SettingWithCopyWarning: \n",
            "A value is trying to be set on a copy of a slice from a DataFrame.\n",
            "Try using .loc[row_indexer,col_indexer] = value instead\n",
            "\n",
            "See the caveats in the documentation: https://pandas.pydata.org/pandas-docs/stable/user_guide/indexing.html#returning-a-view-versus-a-copy\n",
            "  df1['age']=df['age'].str.lower()\n"
          ]
        },
        {
          "output_type": "execute_result",
          "data": {
            "text/plain": [
              "   duration gender                                          age  enrollment  \\\n",
              "0    1209.0    All    18 years and older   (adult, older adult)         4.0   \n",
              "1    1979.0    All    18 years and older   (adult, older adult)        26.0   \n",
              "2    1504.0    All    18 years and older   (adult, older adult)        26.0   \n",
              "3    1204.0    All    18 years and older   (adult, older adult)        27.0   \n",
              "4    1824.0    All  18 years to 70 years   (adult, older adult)        39.0   \n",
              "\n",
              "                               sponsor/collaborators  \n",
              "0         eureka therapeutics inc.|peking university  \n",
              "1  alliance for clinical trials in oncology|natio...  \n",
              "2                                 incyte corporation  \n",
              "3                 beijing mabworks biotech co., ltd.  \n",
              "4  the lymphoma academic research organisation|ka...  "
            ],
            "text/html": [
              "\n",
              "  <div id=\"df-e28cb6fc-0e0c-45b3-b179-252e46bfd8f3\">\n",
              "    <div class=\"colab-df-container\">\n",
              "      <div>\n",
              "<style scoped>\n",
              "    .dataframe tbody tr th:only-of-type {\n",
              "        vertical-align: middle;\n",
              "    }\n",
              "\n",
              "    .dataframe tbody tr th {\n",
              "        vertical-align: top;\n",
              "    }\n",
              "\n",
              "    .dataframe thead th {\n",
              "        text-align: right;\n",
              "    }\n",
              "</style>\n",
              "<table border=\"1\" class=\"dataframe\">\n",
              "  <thead>\n",
              "    <tr style=\"text-align: right;\">\n",
              "      <th></th>\n",
              "      <th>duration</th>\n",
              "      <th>gender</th>\n",
              "      <th>age</th>\n",
              "      <th>enrollment</th>\n",
              "      <th>sponsor/collaborators</th>\n",
              "    </tr>\n",
              "  </thead>\n",
              "  <tbody>\n",
              "    <tr>\n",
              "      <th>0</th>\n",
              "      <td>1209.0</td>\n",
              "      <td>All</td>\n",
              "      <td>18 years and older   (adult, older adult)</td>\n",
              "      <td>4.0</td>\n",
              "      <td>eureka therapeutics inc.|peking university</td>\n",
              "    </tr>\n",
              "    <tr>\n",
              "      <th>1</th>\n",
              "      <td>1979.0</td>\n",
              "      <td>All</td>\n",
              "      <td>18 years and older   (adult, older adult)</td>\n",
              "      <td>26.0</td>\n",
              "      <td>alliance for clinical trials in oncology|natio...</td>\n",
              "    </tr>\n",
              "    <tr>\n",
              "      <th>2</th>\n",
              "      <td>1504.0</td>\n",
              "      <td>All</td>\n",
              "      <td>18 years and older   (adult, older adult)</td>\n",
              "      <td>26.0</td>\n",
              "      <td>incyte corporation</td>\n",
              "    </tr>\n",
              "    <tr>\n",
              "      <th>3</th>\n",
              "      <td>1204.0</td>\n",
              "      <td>All</td>\n",
              "      <td>18 years and older   (adult, older adult)</td>\n",
              "      <td>27.0</td>\n",
              "      <td>beijing mabworks biotech co., ltd.</td>\n",
              "    </tr>\n",
              "    <tr>\n",
              "      <th>4</th>\n",
              "      <td>1824.0</td>\n",
              "      <td>All</td>\n",
              "      <td>18 years to 70 years   (adult, older adult)</td>\n",
              "      <td>39.0</td>\n",
              "      <td>the lymphoma academic research organisation|ka...</td>\n",
              "    </tr>\n",
              "  </tbody>\n",
              "</table>\n",
              "</div>\n",
              "      <button class=\"colab-df-convert\" onclick=\"convertToInteractive('df-e28cb6fc-0e0c-45b3-b179-252e46bfd8f3')\"\n",
              "              title=\"Convert this dataframe to an interactive table.\"\n",
              "              style=\"display:none;\">\n",
              "        \n",
              "  <svg xmlns=\"http://www.w3.org/2000/svg\" height=\"24px\"viewBox=\"0 0 24 24\"\n",
              "       width=\"24px\">\n",
              "    <path d=\"M0 0h24v24H0V0z\" fill=\"none\"/>\n",
              "    <path d=\"M18.56 5.44l.94 2.06.94-2.06 2.06-.94-2.06-.94-.94-2.06-.94 2.06-2.06.94zm-11 1L8.5 8.5l.94-2.06 2.06-.94-2.06-.94L8.5 2.5l-.94 2.06-2.06.94zm10 10l.94 2.06.94-2.06 2.06-.94-2.06-.94-.94-2.06-.94 2.06-2.06.94z\"/><path d=\"M17.41 7.96l-1.37-1.37c-.4-.4-.92-.59-1.43-.59-.52 0-1.04.2-1.43.59L10.3 9.45l-7.72 7.72c-.78.78-.78 2.05 0 2.83L4 21.41c.39.39.9.59 1.41.59.51 0 1.02-.2 1.41-.59l7.78-7.78 2.81-2.81c.8-.78.8-2.07 0-2.86zM5.41 20L4 18.59l7.72-7.72 1.47 1.35L5.41 20z\"/>\n",
              "  </svg>\n",
              "      </button>\n",
              "      \n",
              "  <style>\n",
              "    .colab-df-container {\n",
              "      display:flex;\n",
              "      flex-wrap:wrap;\n",
              "      gap: 12px;\n",
              "    }\n",
              "\n",
              "    .colab-df-convert {\n",
              "      background-color: #E8F0FE;\n",
              "      border: none;\n",
              "      border-radius: 50%;\n",
              "      cursor: pointer;\n",
              "      display: none;\n",
              "      fill: #1967D2;\n",
              "      height: 32px;\n",
              "      padding: 0 0 0 0;\n",
              "      width: 32px;\n",
              "    }\n",
              "\n",
              "    .colab-df-convert:hover {\n",
              "      background-color: #E2EBFA;\n",
              "      box-shadow: 0px 1px 2px rgba(60, 64, 67, 0.3), 0px 1px 3px 1px rgba(60, 64, 67, 0.15);\n",
              "      fill: #174EA6;\n",
              "    }\n",
              "\n",
              "    [theme=dark] .colab-df-convert {\n",
              "      background-color: #3B4455;\n",
              "      fill: #D2E3FC;\n",
              "    }\n",
              "\n",
              "    [theme=dark] .colab-df-convert:hover {\n",
              "      background-color: #434B5C;\n",
              "      box-shadow: 0px 1px 3px 1px rgba(0, 0, 0, 0.15);\n",
              "      filter: drop-shadow(0px 1px 2px rgba(0, 0, 0, 0.3));\n",
              "      fill: #FFFFFF;\n",
              "    }\n",
              "  </style>\n",
              "\n",
              "      <script>\n",
              "        const buttonEl =\n",
              "          document.querySelector('#df-e28cb6fc-0e0c-45b3-b179-252e46bfd8f3 button.colab-df-convert');\n",
              "        buttonEl.style.display =\n",
              "          google.colab.kernel.accessAllowed ? 'block' : 'none';\n",
              "\n",
              "        async function convertToInteractive(key) {\n",
              "          const element = document.querySelector('#df-e28cb6fc-0e0c-45b3-b179-252e46bfd8f3');\n",
              "          const dataTable =\n",
              "            await google.colab.kernel.invokeFunction('convertToInteractive',\n",
              "                                                     [key], {});\n",
              "          if (!dataTable) return;\n",
              "\n",
              "          const docLinkHtml = 'Like what you see? Visit the ' +\n",
              "            '<a target=\"_blank\" href=https://colab.research.google.com/notebooks/data_table.ipynb>data table notebook</a>'\n",
              "            + ' to learn more about interactive tables.';\n",
              "          element.innerHTML = '';\n",
              "          dataTable['output_type'] = 'display_data';\n",
              "          await google.colab.output.renderOutput(dataTable, element);\n",
              "          const docLink = document.createElement('div');\n",
              "          docLink.innerHTML = docLinkHtml;\n",
              "          element.appendChild(docLink);\n",
              "        }\n",
              "      </script>\n",
              "    </div>\n",
              "  </div>\n",
              "  "
            ]
          },
          "metadata": {},
          "execution_count": 54
        }
      ]
    },
    {
      "cell_type": "code",
      "source": [
        "# Cut Level for duration\n",
        "dcat=pd.cut(df1.duration, bins=[0,366,732,1100,3000],\n",
        "             labels=[\"a1year\", \"a2year\" ,\"a3year\", \"m3year\"])\n",
        "df1.insert(5, \"Dcat\", dcat)\n"
      ],
      "metadata": {
        "id": "vk9F5_VAWhOm"
      },
      "execution_count": null,
      "outputs": []
    },
    {
      "cell_type": "code",
      "source": [
        "df1['ecat']= np.where(df1['enrollment']<50, 'Less50','Greater50')"
      ],
      "metadata": {
        "colab": {
          "base_uri": "https://localhost:8080/"
        },
        "id": "0VJ0uyKma37Y",
        "outputId": "63f8c25d-8965-47ab-aa8d-4cddad0ae338"
      },
      "execution_count": null,
      "outputs": [
        {
          "output_type": "stream",
          "name": "stderr",
          "text": [
            "<ipython-input-27-de0aa5b3d4e5>:1: SettingWithCopyWarning: \n",
            "A value is trying to be set on a copy of a slice from a DataFrame.\n",
            "Try using .loc[row_indexer,col_indexer] = value instead\n",
            "\n",
            "See the caveats in the documentation: https://pandas.pydata.org/pandas-docs/stable/user_guide/indexing.html#returning-a-view-versus-a-copy\n",
            "  df1['ecat']= np.where(df1['enrollment']<50, 'Less50','Greater50')\n"
          ]
        }
      ]
    },
    {
      "cell_type": "code",
      "source": [
        "df1.head()"
      ],
      "metadata": {
        "colab": {
          "base_uri": "https://localhost:8080/",
          "height": 337
        },
        "id": "BtCp6JC3Wref",
        "outputId": "f8a38950-0c02-489b-8f2d-8784b6ba63ab"
      },
      "execution_count": null,
      "outputs": [
        {
          "output_type": "execute_result",
          "data": {
            "text/plain": [
              "   duration gender                                          age  enrollment  \\\n",
              "0    1209.0    All    18 Years and older   (Adult, Older Adult)         4.0   \n",
              "1    1979.0    All    18 Years and older   (Adult, Older Adult)        26.0   \n",
              "2    1504.0    All    18 Years and older   (Adult, Older Adult)        26.0   \n",
              "3    1204.0    All    18 Years and older   (Adult, Older Adult)        27.0   \n",
              "4    1824.0    All  18 Years to 70 Years   (Adult, Older Adult)        39.0   \n",
              "\n",
              "                               sponsor/collaborators    Dcat    ecat  \n",
              "0         Eureka Therapeutics Inc.|Peking University  m3year  Less50  \n",
              "1  Alliance for Clinical Trials in Oncology|Natio...  m3year  Less50  \n",
              "2                                 Incyte Corporation  m3year  Less50  \n",
              "3                 Beijing Mabworks Biotech Co., Ltd.  m3year  Less50  \n",
              "4  The Lymphoma Academic Research Organisation|Ka...  m3year  Less50  "
            ],
            "text/html": [
              "\n",
              "  <div id=\"df-dcfe7a2b-4776-4384-a4c2-e53b0f4b0ce6\">\n",
              "    <div class=\"colab-df-container\">\n",
              "      <div>\n",
              "<style scoped>\n",
              "    .dataframe tbody tr th:only-of-type {\n",
              "        vertical-align: middle;\n",
              "    }\n",
              "\n",
              "    .dataframe tbody tr th {\n",
              "        vertical-align: top;\n",
              "    }\n",
              "\n",
              "    .dataframe thead th {\n",
              "        text-align: right;\n",
              "    }\n",
              "</style>\n",
              "<table border=\"1\" class=\"dataframe\">\n",
              "  <thead>\n",
              "    <tr style=\"text-align: right;\">\n",
              "      <th></th>\n",
              "      <th>duration</th>\n",
              "      <th>gender</th>\n",
              "      <th>age</th>\n",
              "      <th>enrollment</th>\n",
              "      <th>sponsor/collaborators</th>\n",
              "      <th>Dcat</th>\n",
              "      <th>ecat</th>\n",
              "    </tr>\n",
              "  </thead>\n",
              "  <tbody>\n",
              "    <tr>\n",
              "      <th>0</th>\n",
              "      <td>1209.0</td>\n",
              "      <td>All</td>\n",
              "      <td>18 Years and older   (Adult, Older Adult)</td>\n",
              "      <td>4.0</td>\n",
              "      <td>Eureka Therapeutics Inc.|Peking University</td>\n",
              "      <td>m3year</td>\n",
              "      <td>Less50</td>\n",
              "    </tr>\n",
              "    <tr>\n",
              "      <th>1</th>\n",
              "      <td>1979.0</td>\n",
              "      <td>All</td>\n",
              "      <td>18 Years and older   (Adult, Older Adult)</td>\n",
              "      <td>26.0</td>\n",
              "      <td>Alliance for Clinical Trials in Oncology|Natio...</td>\n",
              "      <td>m3year</td>\n",
              "      <td>Less50</td>\n",
              "    </tr>\n",
              "    <tr>\n",
              "      <th>2</th>\n",
              "      <td>1504.0</td>\n",
              "      <td>All</td>\n",
              "      <td>18 Years and older   (Adult, Older Adult)</td>\n",
              "      <td>26.0</td>\n",
              "      <td>Incyte Corporation</td>\n",
              "      <td>m3year</td>\n",
              "      <td>Less50</td>\n",
              "    </tr>\n",
              "    <tr>\n",
              "      <th>3</th>\n",
              "      <td>1204.0</td>\n",
              "      <td>All</td>\n",
              "      <td>18 Years and older   (Adult, Older Adult)</td>\n",
              "      <td>27.0</td>\n",
              "      <td>Beijing Mabworks Biotech Co., Ltd.</td>\n",
              "      <td>m3year</td>\n",
              "      <td>Less50</td>\n",
              "    </tr>\n",
              "    <tr>\n",
              "      <th>4</th>\n",
              "      <td>1824.0</td>\n",
              "      <td>All</td>\n",
              "      <td>18 Years to 70 Years   (Adult, Older Adult)</td>\n",
              "      <td>39.0</td>\n",
              "      <td>The Lymphoma Academic Research Organisation|Ka...</td>\n",
              "      <td>m3year</td>\n",
              "      <td>Less50</td>\n",
              "    </tr>\n",
              "  </tbody>\n",
              "</table>\n",
              "</div>\n",
              "      <button class=\"colab-df-convert\" onclick=\"convertToInteractive('df-dcfe7a2b-4776-4384-a4c2-e53b0f4b0ce6')\"\n",
              "              title=\"Convert this dataframe to an interactive table.\"\n",
              "              style=\"display:none;\">\n",
              "        \n",
              "  <svg xmlns=\"http://www.w3.org/2000/svg\" height=\"24px\"viewBox=\"0 0 24 24\"\n",
              "       width=\"24px\">\n",
              "    <path d=\"M0 0h24v24H0V0z\" fill=\"none\"/>\n",
              "    <path d=\"M18.56 5.44l.94 2.06.94-2.06 2.06-.94-2.06-.94-.94-2.06-.94 2.06-2.06.94zm-11 1L8.5 8.5l.94-2.06 2.06-.94-2.06-.94L8.5 2.5l-.94 2.06-2.06.94zm10 10l.94 2.06.94-2.06 2.06-.94-2.06-.94-.94-2.06-.94 2.06-2.06.94z\"/><path d=\"M17.41 7.96l-1.37-1.37c-.4-.4-.92-.59-1.43-.59-.52 0-1.04.2-1.43.59L10.3 9.45l-7.72 7.72c-.78.78-.78 2.05 0 2.83L4 21.41c.39.39.9.59 1.41.59.51 0 1.02-.2 1.41-.59l7.78-7.78 2.81-2.81c.8-.78.8-2.07 0-2.86zM5.41 20L4 18.59l7.72-7.72 1.47 1.35L5.41 20z\"/>\n",
              "  </svg>\n",
              "      </button>\n",
              "      \n",
              "  <style>\n",
              "    .colab-df-container {\n",
              "      display:flex;\n",
              "      flex-wrap:wrap;\n",
              "      gap: 12px;\n",
              "    }\n",
              "\n",
              "    .colab-df-convert {\n",
              "      background-color: #E8F0FE;\n",
              "      border: none;\n",
              "      border-radius: 50%;\n",
              "      cursor: pointer;\n",
              "      display: none;\n",
              "      fill: #1967D2;\n",
              "      height: 32px;\n",
              "      padding: 0 0 0 0;\n",
              "      width: 32px;\n",
              "    }\n",
              "\n",
              "    .colab-df-convert:hover {\n",
              "      background-color: #E2EBFA;\n",
              "      box-shadow: 0px 1px 2px rgba(60, 64, 67, 0.3), 0px 1px 3px 1px rgba(60, 64, 67, 0.15);\n",
              "      fill: #174EA6;\n",
              "    }\n",
              "\n",
              "    [theme=dark] .colab-df-convert {\n",
              "      background-color: #3B4455;\n",
              "      fill: #D2E3FC;\n",
              "    }\n",
              "\n",
              "    [theme=dark] .colab-df-convert:hover {\n",
              "      background-color: #434B5C;\n",
              "      box-shadow: 0px 1px 3px 1px rgba(0, 0, 0, 0.15);\n",
              "      filter: drop-shadow(0px 1px 2px rgba(0, 0, 0, 0.3));\n",
              "      fill: #FFFFFF;\n",
              "    }\n",
              "  </style>\n",
              "\n",
              "      <script>\n",
              "        const buttonEl =\n",
              "          document.querySelector('#df-dcfe7a2b-4776-4384-a4c2-e53b0f4b0ce6 button.colab-df-convert');\n",
              "        buttonEl.style.display =\n",
              "          google.colab.kernel.accessAllowed ? 'block' : 'none';\n",
              "\n",
              "        async function convertToInteractive(key) {\n",
              "          const element = document.querySelector('#df-dcfe7a2b-4776-4384-a4c2-e53b0f4b0ce6');\n",
              "          const dataTable =\n",
              "            await google.colab.kernel.invokeFunction('convertToInteractive',\n",
              "                                                     [key], {});\n",
              "          if (!dataTable) return;\n",
              "\n",
              "          const docLinkHtml = 'Like what you see? Visit the ' +\n",
              "            '<a target=\"_blank\" href=https://colab.research.google.com/notebooks/data_table.ipynb>data table notebook</a>'\n",
              "            + ' to learn more about interactive tables.';\n",
              "          element.innerHTML = '';\n",
              "          dataTable['output_type'] = 'display_data';\n",
              "          await google.colab.output.renderOutput(dataTable, element);\n",
              "          const docLink = document.createElement('div');\n",
              "          docLink.innerHTML = docLinkHtml;\n",
              "          element.appendChild(docLink);\n",
              "        }\n",
              "      </script>\n",
              "    </div>\n",
              "  </div>\n",
              "  "
            ]
          },
          "metadata": {},
          "execution_count": 28
        }
      ]
    },
    {
      "cell_type": "markdown",
      "source": [
        "## Enrollement vs Duration\n",
        "1. patients =<50\n",
        "2. patients >50\n",
        "\n",
        "* It makes a difference"
      ],
      "metadata": {
        "id": "LHAkbO2wXEPD"
      }
    },
    {
      "cell_type": "code",
      "source": [
        "fig=plt.figure()\n",
        "def fplot(var,label):\n",
        "    fig, ax=plt.subplots(1,4)\n",
        "    sns.violinplot(x=var, y=\"duration\",data=df1,palette=\"Set2\",ax=ax[0])\n",
        "    sns.histplot(df1,x=\"duration\", hue=var, palette=\"Set2\",kde=True,ax=ax[1])\n",
        "    sns.countplot(x=var,hue=\"Dcat\",data=df1,palette=\"Set2\", ax=ax[2])\n",
        "    sns.barplot(x=var , y=\"duration\",palette=\"Set2\", data=df1,ax=ax[3])\n",
        "    plt.suptitle(label)\n",
        "    return plt\n",
        "fig.show()"
      ],
      "metadata": {
        "colab": {
          "base_uri": "https://localhost:8080/",
          "height": 35
        },
        "id": "njRKY1p_XBW7",
        "outputId": "745a84d5-e30c-4ecc-93bf-38ee1d64dfca"
      },
      "execution_count": null,
      "outputs": [
        {
          "output_type": "display_data",
          "data": {
            "text/plain": [
              "<Figure size 640x480 with 0 Axes>"
            ]
          },
          "metadata": {}
        }
      ]
    },
    {
      "cell_type": "code",
      "source": [
        "fplot(\"ecat\",\"enrollment\")"
      ],
      "metadata": {
        "colab": {
          "base_uri": "https://localhost:8080/",
          "height": 515
        },
        "id": "cLyWLP-DbhDG",
        "outputId": "631105e2-e17c-4e4e-884c-dd197852e72a"
      },
      "execution_count": null,
      "outputs": [
        {
          "output_type": "execute_result",
          "data": {
            "text/plain": [
              "<module 'matplotlib.pyplot' from '/usr/local/lib/python3.10/dist-packages/matplotlib/pyplot.py'>"
            ]
          },
          "metadata": {},
          "execution_count": 31
        },
        {
          "output_type": "display_data",
          "data": {
            "text/plain": [
              "<Figure size 640x480 with 3 Axes>"
            ],
            "image/png": "[encoded data removed]"
          },
          "metadata": {}
        }
      ]
    },
    {
      "cell_type": "code",
      "source": [
        "fig=plt.figure()\n",
        "ax=sns.barplot(x=\"ecat\" , y=\"duration\",palette=\"Set2\", data=df1)\n",
        "plt.show()"
      ],
      "metadata": {
        "colab": {
          "base_uri": "https://localhost:8080/",
          "height": 449
        },
        "id": "rjk2XCvtY74x",
        "outputId": "50050af1-7a49-43a7-cfd4-ebed524d38da"
      },
      "execution_count": null,
      "outputs": [
        {
          "output_type": "display_data",
          "data": {
            "text/plain": [
              "<Figure size 640x480 with 1 Axes>"
            ],
            "image/png": "[encoded data removed]"
          },
          "metadata": {}
        }
      ]
    },
    {
      "cell_type": "code",
      "source": [
        "import scipy.stats as stats"
      ],
      "metadata": {
        "id": "_hLwd-MLb1KL"
      },
      "execution_count": null,
      "outputs": []
    },
    {
      "cell_type": "markdown",
      "source": [
        "## Sponsor vs Duration\n",
        "1. Industrial or Academic\n",
        "\n",
        "Note: We only count industry solo, collaboration is counted in acdemics"
      ],
      "metadata": {
        "id": "K4ESYz-te-QV"
      }
    },
    {
      "cell_type": "code",
      "source": [
        "values=[\"university\", \"academic\", \"research\" ,\"hospital\", \"organization\"]"
      ],
      "metadata": {
        "id": "VFxke6Hff6Bf"
      },
      "execution_count": null,
      "outputs": []
    },
    {
      "cell_type": "code",
      "source": [
        "# Industry vs Academic\n",
        "df1[\"indcat\"]=np.where(df1[\"sponsor/collaborators\"].str.contains('|'.join(values)),\"CorA\" ,\"IndSolo\")\n",
        "dfa= df1[df1.indcat.isin([\"N\"])]\n",
        "dfb=df1[df1.indcat.isin([\"Y\"])]"
      ],
      "metadata": {
        "colab": {
          "base_uri": "https://localhost:8080/"
        },
        "id": "vrwNr60weF80",
        "outputId": "c856b2f9-2e26-479b-ee00-22db84acf4c5"
      },
      "execution_count": null,
      "outputs": [
        {
          "output_type": "stream",
          "name": "stderr",
          "text": [
            "<ipython-input-45-4ae14a001bcb>:2: SettingWithCopyWarning: \n",
            "A value is trying to be set on a copy of a slice from a DataFrame.\n",
            "Try using .loc[row_indexer,col_indexer] = value instead\n",
            "\n",
            "See the caveats in the documentation: https://pandas.pydata.org/pandas-docs/stable/user_guide/indexing.html#returning-a-view-versus-a-copy\n",
            "  df1[\"indcat\"]=np.where(df1[\"sponsor/collaborators\"].str.contains('|'.join(values)),\"CorA\" ,\"IndSolo\")\n"
          ]
        }
      ]
    },
    {
      "cell_type": "code",
      "source": [
        "df1.head()"
      ],
      "metadata": {
        "colab": {
          "base_uri": "https://localhost:8080/",
          "height": 337
        },
        "id": "IProTq_ggJY1",
        "outputId": "98c8cbc7-e3bf-4999-8d49-f7541d715311"
      },
      "execution_count": null,
      "outputs": [
        {
          "output_type": "execute_result",
          "data": {
            "text/plain": [
              "   duration gender                                          age  enrollment  \\\n",
              "0    1209.0    All    18 Years and older   (Adult, Older Adult)         4.0   \n",
              "1    1979.0    All    18 Years and older   (Adult, Older Adult)        26.0   \n",
              "2    1504.0    All    18 Years and older   (Adult, Older Adult)        26.0   \n",
              "3    1204.0    All    18 Years and older   (Adult, Older Adult)        27.0   \n",
              "4    1824.0    All  18 Years to 70 Years   (Adult, Older Adult)        39.0   \n",
              "\n",
              "                               sponsor/collaborators   indcat  \n",
              "0         eureka therapeutics inc.|peking university     CorA  \n",
              "1  alliance for clinical trials in oncology|natio...  IndSolo  \n",
              "2                                 incyte corporation  IndSolo  \n",
              "3                 beijing mabworks biotech co., ltd.  IndSolo  \n",
              "4  the lymphoma academic research organisation|ka...     CorA  "
            ],
            "text/html": [
              "\n",
              "  <div id=\"df-185e40ac-cfe6-4804-a267-2010d6a25273\">\n",
              "    <div class=\"colab-df-container\">\n",
              "      <div>\n",
              "<style scoped>\n",
              "    .dataframe tbody tr th:only-of-type {\n",
              "        vertical-align: middle;\n",
              "    }\n",
              "\n",
              "    .dataframe tbody tr th {\n",
              "        vertical-align: top;\n",
              "    }\n",
              "\n",
              "    .dataframe thead th {\n",
              "        text-align: right;\n",
              "    }\n",
              "</style>\n",
              "<table border=\"1\" class=\"dataframe\">\n",
              "  <thead>\n",
              "    <tr style=\"text-align: right;\">\n",
              "      <th></th>\n",
              "      <th>duration</th>\n",
              "      <th>gender</th>\n",
              "      <th>age</th>\n",
              "      <th>enrollment</th>\n",
              "      <th>sponsor/collaborators</th>\n",
              "      <th>indcat</th>\n",
              "    </tr>\n",
              "  </thead>\n",
              "  <tbody>\n",
              "    <tr>\n",
              "      <th>0</th>\n",
              "      <td>1209.0</td>\n",
              "      <td>All</td>\n",
              "      <td>18 Years and older   (Adult, Older Adult)</td>\n",
              "      <td>4.0</td>\n",
              "      <td>eureka therapeutics inc.|peking university</td>\n",
              "      <td>CorA</td>\n",
              "    </tr>\n",
              "    <tr>\n",
              "      <th>1</th>\n",
              "      <td>1979.0</td>\n",
              "      <td>All</td>\n",
              "      <td>18 Years and older   (Adult, Older Adult)</td>\n",
              "      <td>26.0</td>\n",
              "      <td>alliance for clinical trials in oncology|natio...</td>\n",
              "      <td>IndSolo</td>\n",
              "    </tr>\n",
              "    <tr>\n",
              "      <th>2</th>\n",
              "      <td>1504.0</td>\n",
              "      <td>All</td>\n",
              "      <td>18 Years and older   (Adult, Older Adult)</td>\n",
              "      <td>26.0</td>\n",
              "      <td>incyte corporation</td>\n",
              "      <td>IndSolo</td>\n",
              "    </tr>\n",
              "    <tr>\n",
              "      <th>3</th>\n",
              "      <td>1204.0</td>\n",
              "      <td>All</td>\n",
              "      <td>18 Years and older   (Adult, Older Adult)</td>\n",
              "      <td>27.0</td>\n",
              "      <td>beijing mabworks biotech co., ltd.</td>\n",
              "      <td>IndSolo</td>\n",
              "    </tr>\n",
              "    <tr>\n",
              "      <th>4</th>\n",
              "      <td>1824.0</td>\n",
              "      <td>All</td>\n",
              "      <td>18 Years to 70 Years   (Adult, Older Adult)</td>\n",
              "      <td>39.0</td>\n",
              "      <td>the lymphoma academic research organisation|ka...</td>\n",
              "      <td>CorA</td>\n",
              "    </tr>\n",
              "  </tbody>\n",
              "</table>\n",
              "</div>\n",
              "      <button class=\"colab-df-convert\" onclick=\"convertToInteractive('df-185e40ac-cfe6-4804-a267-2010d6a25273')\"\n",
              "              title=\"Convert this dataframe to an interactive table.\"\n",
              "              style=\"display:none;\">\n",
              "        \n",
              "  <svg xmlns=\"http://www.w3.org/2000/svg\" height=\"24px\"viewBox=\"0 0 24 24\"\n",
              "       width=\"24px\">\n",
              "    <path d=\"M0 0h24v24H0V0z\" fill=\"none\"/>\n",
              "    <path d=\"M18.56 5.44l.94 2.06.94-2.06 2.06-.94-2.06-.94-.94-2.06-.94 2.06-2.06.94zm-11 1L8.5 8.5l.94-2.06 2.06-.94-2.06-.94L8.5 2.5l-.94 2.06-2.06.94zm10 10l.94 2.06.94-2.06 2.06-.94-2.06-.94-.94-2.06-.94 2.06-2.06.94z\"/><path d=\"M17.41 7.96l-1.37-1.37c-.4-.4-.92-.59-1.43-.59-.52 0-1.04.2-1.43.59L10.3 9.45l-7.72 7.72c-.78.78-.78 2.05 0 2.83L4 21.41c.39.39.9.59 1.41.59.51 0 1.02-.2 1.41-.59l7.78-7.78 2.81-2.81c.8-.78.8-2.07 0-2.86zM5.41 20L4 18.59l7.72-7.72 1.47 1.35L5.41 20z\"/>\n",
              "  </svg>\n",
              "      </button>\n",
              "      \n",
              "  <style>\n",
              "    .colab-df-container {\n",
              "      display:flex;\n",
              "      flex-wrap:wrap;\n",
              "      gap: 12px;\n",
              "    }\n",
              "\n",
              "    .colab-df-convert {\n",
              "      background-color: #E8F0FE;\n",
              "      border: none;\n",
              "      border-radius: 50%;\n",
              "      cursor: pointer;\n",
              "      display: none;\n",
              "      fill: #1967D2;\n",
              "      height: 32px;\n",
              "      padding: 0 0 0 0;\n",
              "      width: 32px;\n",
              "    }\n",
              "\n",
              "    .colab-df-convert:hover {\n",
              "      background-color: #E2EBFA;\n",
              "      box-shadow: 0px 1px 2px rgba(60, 64, 67, 0.3), 0px 1px 3px 1px rgba(60, 64, 67, 0.15);\n",
              "      fill: #174EA6;\n",
              "    }\n",
              "\n",
              "    [theme=dark] .colab-df-convert {\n",
              "      background-color: #3B4455;\n",
              "      fill: #D2E3FC;\n",
              "    }\n",
              "\n",
              "    [theme=dark] .colab-df-convert:hover {\n",
              "      background-color: #434B5C;\n",
              "      box-shadow: 0px 1px 3px 1px rgba(0, 0, 0, 0.15);\n",
              "      filter: drop-shadow(0px 1px 2px rgba(0, 0, 0, 0.3));\n",
              "      fill: #FFFFFF;\n",
              "    }\n",
              "  </style>\n",
              "\n",
              "      <script>\n",
              "        const buttonEl =\n",
              "          document.querySelector('#df-185e40ac-cfe6-4804-a267-2010d6a25273 button.colab-df-convert');\n",
              "        buttonEl.style.display =\n",
              "          google.colab.kernel.accessAllowed ? 'block' : 'none';\n",
              "\n",
              "        async function convertToInteractive(key) {\n",
              "          const element = document.querySelector('#df-185e40ac-cfe6-4804-a267-2010d6a25273');\n",
              "          const dataTable =\n",
              "            await google.colab.kernel.invokeFunction('convertToInteractive',\n",
              "                                                     [key], {});\n",
              "          if (!dataTable) return;\n",
              "\n",
              "          const docLinkHtml = 'Like what you see? Visit the ' +\n",
              "            '<a target=\"_blank\" href=https://colab.research.google.com/notebooks/data_table.ipynb>data table notebook</a>'\n",
              "            + ' to learn more about interactive tables.';\n",
              "          element.innerHTML = '';\n",
              "          dataTable['output_type'] = 'display_data';\n",
              "          await google.colab.output.renderOutput(dataTable, element);\n",
              "          const docLink = document.createElement('div');\n",
              "          docLink.innerHTML = docLinkHtml;\n",
              "          element.appendChild(docLink);\n",
              "        }\n",
              "      </script>\n",
              "    </div>\n",
              "  </div>\n",
              "  "
            ]
          },
          "metadata": {},
          "execution_count": 46
        }
      ]
    },
    {
      "cell_type": "code",
      "source": [
        "fplot(\"indcat\",\"Industry\")"
      ],
      "metadata": {
        "colab": {
          "base_uri": "https://localhost:8080/",
          "height": 515
        },
        "id": "o0LbQNiggN0A",
        "outputId": "9cbebe93-4c14-4066-9ae8-b9ab09d746b3"
      },
      "execution_count": null,
      "outputs": [
        {
          "output_type": "execute_result",
          "data": {
            "text/plain": [
              "<module 'matplotlib.pyplot' from '/usr/local/lib/python3.10/dist-packages/matplotlib/pyplot.py'>"
            ]
          },
          "metadata": {},
          "execution_count": 53
        },
        {
          "output_type": "display_data",
          "data": {
            "text/plain": [
              "<Figure size 640x480 with 4 Axes>"
            ],
            "image/png": "[encoded data removed]"
          },
          "metadata": {}
        }
      ]
    },
    {
      "cell_type": "code",
      "source": [
        "fig=plt.figure()\n",
        "ax=sns.barplot(x=\"indcat\" , y=\"duration\",palette=\"Set2\", data=df1)\n",
        "plt.show()"
      ],
      "metadata": {
        "colab": {
          "base_uri": "https://localhost:8080/",
          "height": 449
        },
        "id": "UcG8rpblhII_",
        "outputId": "773b7687-a95f-49d1-b141-8eaaa776ab04"
      },
      "execution_count": null,
      "outputs": [
        {
          "output_type": "display_data",
          "data": {
            "text/plain": [
              "<Figure size 640x480 with 1 Axes>"
            ],
            "image/png": "[encoded data removed]"
          },
          "metadata": {}
        }
      ]
    },
    {
      "cell_type": "markdown",
      "source": [
        "## Age\n",
        "1. Any study contains Adult or children\n",
        "2. Child solo"
      ],
      "metadata": {
        "id": "0F028t8fht5w"
      }
    },
    {
      "cell_type": "code",
      "source": [
        "# Adult vs Child Solo\n",
        "df1[\"acat\"]=np.where(df1[\"age\"].str.contains(\"adult\"),\"CAdult\" ,\"ChildSolo\")\n",
        "df1.head()"
      ],
      "metadata": {
        "colab": {
          "base_uri": "https://localhost:8080/",
          "height": 395
        },
        "id": "GiPvPfa5hte2",
        "outputId": "77ee4107-240b-4f20-b958-b143864fb5f9"
      },
      "execution_count": null,
      "outputs": [
        {
          "output_type": "stream",
          "name": "stderr",
          "text": [
            "<ipython-input-56-769cc83c8f56>:2: SettingWithCopyWarning: \n",
            "A value is trying to be set on a copy of a slice from a DataFrame.\n",
            "Try using .loc[row_indexer,col_indexer] = value instead\n",
            "\n",
            "See the caveats in the documentation: https://pandas.pydata.org/pandas-docs/stable/user_guide/indexing.html#returning-a-view-versus-a-copy\n",
            "  df1[\"acat\"]=np.where(df1[\"age\"].str.contains(\"adult\"),\"CAdult\" ,\"ChildSolo\")\n"
          ]
        },
        {
          "output_type": "execute_result",
          "data": {
            "text/plain": [
              "   duration gender                                          age  enrollment  \\\n",
              "0    1209.0    All    18 years and older   (adult, older adult)         4.0   \n",
              "1    1979.0    All    18 years and older   (adult, older adult)        26.0   \n",
              "2    1504.0    All    18 years and older   (adult, older adult)        26.0   \n",
              "3    1204.0    All    18 years and older   (adult, older adult)        27.0   \n",
              "4    1824.0    All  18 years to 70 years   (adult, older adult)        39.0   \n",
              "\n",
              "                               sponsor/collaborators    acat  \n",
              "0         eureka therapeutics inc.|peking university  CAdult  \n",
              "1  alliance for clinical trials in oncology|natio...  CAdult  \n",
              "2                                 incyte corporation  CAdult  \n",
              "3                 beijing mabworks biotech co., ltd.  CAdult  \n",
              "4  the lymphoma academic research organisation|ka...  CAdult  "
            ],
            "text/html": [
              "\n",
              "  <div id=\"df-33cf5355-0ca9-414c-96f8-d76c8d96badd\">\n",
              "    <div class=\"colab-df-container\">\n",
              "      <div>\n",
              "<style scoped>\n",
              "    .dataframe tbody tr th:only-of-type {\n",
              "        vertical-align: middle;\n",
              "    }\n",
              "\n",
              "    .dataframe tbody tr th {\n",
              "        vertical-align: top;\n",
              "    }\n",
              "\n",
              "    .dataframe thead th {\n",
              "        text-align: right;\n",
              "    }\n",
              "</style>\n",
              "<table border=\"1\" class=\"dataframe\">\n",
              "  <thead>\n",
              "    <tr style=\"text-align: right;\">\n",
              "      <th></th>\n",
              "      <th>duration</th>\n",
              "      <th>gender</th>\n",
              "      <th>age</th>\n",
              "      <th>enrollment</th>\n",
              "      <th>sponsor/collaborators</th>\n",
              "      <th>acat</th>\n",
              "    </tr>\n",
              "  </thead>\n",
              "  <tbody>\n",
              "    <tr>\n",
              "      <th>0</th>\n",
              "      <td>1209.0</td>\n",
              "      <td>All</td>\n",
              "      <td>18 years and older   (adult, older adult)</td>\n",
              "      <td>4.0</td>\n",
              "      <td>eureka therapeutics inc.|peking university</td>\n",
              "      <td>CAdult</td>\n",
              "    </tr>\n",
              "    <tr>\n",
              "      <th>1</th>\n",
              "      <td>1979.0</td>\n",
              "      <td>All</td>\n",
              "      <td>18 years and older   (adult, older adult)</td>\n",
              "      <td>26.0</td>\n",
              "      <td>alliance for clinical trials in oncology|natio...</td>\n",
              "      <td>CAdult</td>\n",
              "    </tr>\n",
              "    <tr>\n",
              "      <th>2</th>\n",
              "      <td>1504.0</td>\n",
              "      <td>All</td>\n",
              "      <td>18 years and older   (adult, older adult)</td>\n",
              "      <td>26.0</td>\n",
              "      <td>incyte corporation</td>\n",
              "      <td>CAdult</td>\n",
              "    </tr>\n",
              "    <tr>\n",
              "      <th>3</th>\n",
              "      <td>1204.0</td>\n",
              "      <td>All</td>\n",
              "      <td>18 years and older   (adult, older adult)</td>\n",
              "      <td>27.0</td>\n",
              "      <td>beijing mabworks biotech co., ltd.</td>\n",
              "      <td>CAdult</td>\n",
              "    </tr>\n",
              "    <tr>\n",
              "      <th>4</th>\n",
              "      <td>1824.0</td>\n",
              "      <td>All</td>\n",
              "      <td>18 years to 70 years   (adult, older adult)</td>\n",
              "      <td>39.0</td>\n",
              "      <td>the lymphoma academic research organisation|ka...</td>\n",
              "      <td>CAdult</td>\n",
              "    </tr>\n",
              "  </tbody>\n",
              "</table>\n",
              "</div>\n",
              "      <button class=\"colab-df-convert\" onclick=\"convertToInteractive('df-33cf5355-0ca9-414c-96f8-d76c8d96badd')\"\n",
              "              title=\"Convert this dataframe to an interactive table.\"\n",
              "              style=\"display:none;\">\n",
              "        \n",
              "  <svg xmlns=\"http://www.w3.org/2000/svg\" height=\"24px\"viewBox=\"0 0 24 24\"\n",
              "       width=\"24px\">\n",
              "    <path d=\"M0 0h24v24H0V0z\" fill=\"none\"/>\n",
              "    <path d=\"M18.56 5.44l.94 2.06.94-2.06 2.06-.94-2.06-.94-.94-2.06-.94 2.06-2.06.94zm-11 1L8.5 8.5l.94-2.06 2.06-.94-2.06-.94L8.5 2.5l-.94 2.06-2.06.94zm10 10l.94 2.06.94-2.06 2.06-.94-2.06-.94-.94-2.06-.94 2.06-2.06.94z\"/><path d=\"M17.41 7.96l-1.37-1.37c-.4-.4-.92-.59-1.43-.59-.52 0-1.04.2-1.43.59L10.3 9.45l-7.72 7.72c-.78.78-.78 2.05 0 2.83L4 21.41c.39.39.9.59 1.41.59.51 0 1.02-.2 1.41-.59l7.78-7.78 2.81-2.81c.8-.78.8-2.07 0-2.86zM5.41 20L4 18.59l7.72-7.72 1.47 1.35L5.41 20z\"/>\n",
              "  </svg>\n",
              "      </button>\n",
              "      \n",
              "  <style>\n",
              "    .colab-df-container {\n",
              "      display:flex;\n",
              "      flex-wrap:wrap;\n",
              "      gap: 12px;\n",
              "    }\n",
              "\n",
              "    .colab-df-convert {\n",
              "      background-color: #E8F0FE;\n",
              "      border: none;\n",
              "      border-radius: 50%;\n",
              "      cursor: pointer;\n",
              "      display: none;\n",
              "      fill: #1967D2;\n",
              "      height: 32px;\n",
              "      padding: 0 0 0 0;\n",
              "      width: 32px;\n",
              "    }\n",
              "\n",
              "    .colab-df-convert:hover {\n",
              "      background-color: #E2EBFA;\n",
              "      box-shadow: 0px 1px 2px rgba(60, 64, 67, 0.3), 0px 1px 3px 1px rgba(60, 64, 67, 0.15);\n",
              "      fill: #174EA6;\n",
              "    }\n",
              "\n",
              "    [theme=dark] .colab-df-convert {\n",
              "      background-color: #3B4455;\n",
              "      fill: #D2E3FC;\n",
              "    }\n",
              "\n",
              "    [theme=dark] .colab-df-convert:hover {\n",
              "      background-color: #434B5C;\n",
              "      box-shadow: 0px 1px 3px 1px rgba(0, 0, 0, 0.15);\n",
              "      filter: drop-shadow(0px 1px 2px rgba(0, 0, 0, 0.3));\n",
              "      fill: #FFFFFF;\n",
              "    }\n",
              "  </style>\n",
              "\n",
              "      <script>\n",
              "        const buttonEl =\n",
              "          document.querySelector('#df-33cf5355-0ca9-414c-96f8-d76c8d96badd button.colab-df-convert');\n",
              "        buttonEl.style.display =\n",
              "          google.colab.kernel.accessAllowed ? 'block' : 'none';\n",
              "\n",
              "        async function convertToInteractive(key) {\n",
              "          const element = document.querySelector('#df-33cf5355-0ca9-414c-96f8-d76c8d96badd');\n",
              "          const dataTable =\n",
              "            await google.colab.kernel.invokeFunction('convertToInteractive',\n",
              "                                                     [key], {});\n",
              "          if (!dataTable) return;\n",
              "\n",
              "          const docLinkHtml = 'Like what you see? Visit the ' +\n",
              "            '<a target=\"_blank\" href=https://colab.research.google.com/notebooks/data_table.ipynb>data table notebook</a>'\n",
              "            + ' to learn more about interactive tables.';\n",
              "          element.innerHTML = '';\n",
              "          dataTable['output_type'] = 'display_data';\n",
              "          await google.colab.output.renderOutput(dataTable, element);\n",
              "          const docLink = document.createElement('div');\n",
              "          docLink.innerHTML = docLinkHtml;\n",
              "          element.appendChild(docLink);\n",
              "        }\n",
              "      </script>\n",
              "    </div>\n",
              "  </div>\n",
              "  "
            ]
          },
          "metadata": {},
          "execution_count": 56
        }
      ]
    },
    {
      "cell_type": "code",
      "source": [
        "fig=plt.figure()\n",
        "ax=sns.barplot(x=\"acat\" , y=\"duration\",palette=\"Set2\", data=df1)\n",
        "plt.show()"
      ],
      "metadata": {
        "colab": {
          "base_uri": "https://localhost:8080/",
          "height": 449
        },
        "id": "k6hGUNTti-d4",
        "outputId": "4551e490-206e-428a-cf36-a9dee499b424"
      },
      "execution_count": null,
      "outputs": [
        {
          "output_type": "display_data",
          "data": {
            "text/plain": [
              "<Figure size 640x480 with 1 Axes>"
            ],
            "image/png": "[encoded data removed]"
          },
          "metadata": {}
        }
      ]
    }
  ]
}