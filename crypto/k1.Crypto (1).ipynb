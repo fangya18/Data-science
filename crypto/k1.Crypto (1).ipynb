{
 "cells": [
  {
   "cell_type": "markdown",
   "id": "86fe3927",
   "metadata": {},
   "source": [
    "## 1. Introduction\n",
    "\n",
    "Crypto currency is a popular investment nowadays.\n",
    "\n",
    "This project consisite of three parts: \n",
    "1. Data visualtion for overall cryptocurrency\n",
    "2. Price History for individual cryptocurrency\n",
    "3. Basic Arima Model for price prediction"
   ]
  },
  {
   "cell_type": "code",
   "execution_count": 201,
   "id": "01056bef",
   "metadata": {},
   "outputs": [
    {
     "name": "stdout",
     "output_type": "stream",
     "text": [
      "Requirement already satisfied: plotly in /Users/fangya/opt/anaconda3/lib/python3.8/site-packages (5.1.0)\r\n",
      "Requirement already satisfied: tenacity>=6.2.0 in /Users/fangya/opt/anaconda3/lib/python3.8/site-packages (from plotly) (8.0.1)\r\n",
      "Requirement already satisfied: six in /Users/fangya/opt/anaconda3/lib/python3.8/site-packages (from plotly) (1.15.0)\r\n"
     ]
    }
   ],
   "source": [
    "# library\n",
    "import pandas as pd\n",
    "import numpy as np\n",
    "import os\n",
    "from datetime import datetime\n",
    "import time\n",
    "from sklearn.preprocessing import StandardScaler\n",
    "! pip install plotly\n",
    "import plotly.express as px\n",
    "import plotly.graph_objs as go\n",
    "import matplotlib.pyplot as plt\n",
    "import seaborn as sns\n",
    "import math\n",
    "\n",
    "import statsmodels.api as sm\n",
    "from statsmodels.tsa.ar_model import AutoReg\n",
    "from statsmodels.tsa.arima_model import ARMA\n",
    "from statsmodels.tsa.stattools import adfuller\n",
    "from statsmodels.graphics.tsaplots import plot_acf\n",
    "from statsmodels.graphics.tsaplots import plot_pacf\n",
    "from statsmodels.tsa.arima_model import ARIMA\n",
    "from statsmodels.tsa.statespace.sarimax import SARIMAX\n",
    "from statsmodels.tsa.seasonal import seasonal_decompose\n",
    "from scipy import stats\n",
    "from itertools import product\n",
    "\n",
    "import warnings\n",
    "warnings.filterwarnings(\"ignore\")"
   ]
  },
  {
   "cell_type": "markdown",
   "id": "4bd6b733",
   "metadata": {},
   "source": [
    "### 1.1 Data Cleaning"
   ]
  },
  {
   "cell_type": "code",
   "execution_count": 202,
   "id": "bb9be51a",
   "metadata": {},
   "outputs": [
    {
     "data": {
      "text/html": [
       "<div>\n",
       "<style scoped>\n",
       "    .dataframe tbody tr th:only-of-type {\n",
       "        vertical-align: middle;\n",
       "    }\n",
       "\n",
       "    .dataframe tbody tr th {\n",
       "        vertical-align: top;\n",
       "    }\n",
       "\n",
       "    .dataframe thead th {\n",
       "        text-align: right;\n",
       "    }\n",
       "</style>\n",
       "<table border=\"1\" class=\"dataframe\">\n",
       "  <thead>\n",
       "    <tr style=\"text-align: right;\">\n",
       "      <th></th>\n",
       "      <th>timestamp</th>\n",
       "      <th>Asset_ID</th>\n",
       "      <th>Count</th>\n",
       "      <th>Open</th>\n",
       "      <th>High</th>\n",
       "      <th>Low</th>\n",
       "      <th>Close</th>\n",
       "      <th>Volume</th>\n",
       "      <th>VWAP</th>\n",
       "      <th>Target</th>\n",
       "    </tr>\n",
       "  </thead>\n",
       "  <tbody>\n",
       "    <tr>\n",
       "      <th>0</th>\n",
       "      <td>1514764860</td>\n",
       "      <td>2</td>\n",
       "      <td>40.0</td>\n",
       "      <td>2376.5800</td>\n",
       "      <td>2399.5000</td>\n",
       "      <td>2357.1400</td>\n",
       "      <td>2374.5900</td>\n",
       "      <td>19.233005</td>\n",
       "      <td>2373.116392</td>\n",
       "      <td>-0.004218</td>\n",
       "    </tr>\n",
       "    <tr>\n",
       "      <th>1</th>\n",
       "      <td>1514764860</td>\n",
       "      <td>0</td>\n",
       "      <td>5.0</td>\n",
       "      <td>8.5300</td>\n",
       "      <td>8.5300</td>\n",
       "      <td>8.5300</td>\n",
       "      <td>8.5300</td>\n",
       "      <td>78.380000</td>\n",
       "      <td>8.530000</td>\n",
       "      <td>-0.014399</td>\n",
       "    </tr>\n",
       "    <tr>\n",
       "      <th>2</th>\n",
       "      <td>1514764860</td>\n",
       "      <td>1</td>\n",
       "      <td>229.0</td>\n",
       "      <td>13835.1940</td>\n",
       "      <td>14013.8000</td>\n",
       "      <td>13666.1100</td>\n",
       "      <td>13850.1760</td>\n",
       "      <td>31.550062</td>\n",
       "      <td>13827.062093</td>\n",
       "      <td>-0.014643</td>\n",
       "    </tr>\n",
       "    <tr>\n",
       "      <th>3</th>\n",
       "      <td>1514764860</td>\n",
       "      <td>5</td>\n",
       "      <td>32.0</td>\n",
       "      <td>7.6596</td>\n",
       "      <td>7.6596</td>\n",
       "      <td>7.6567</td>\n",
       "      <td>7.6576</td>\n",
       "      <td>6626.713370</td>\n",
       "      <td>7.657713</td>\n",
       "      <td>-0.013922</td>\n",
       "    </tr>\n",
       "    <tr>\n",
       "      <th>4</th>\n",
       "      <td>1514764860</td>\n",
       "      <td>7</td>\n",
       "      <td>5.0</td>\n",
       "      <td>25.9200</td>\n",
       "      <td>25.9200</td>\n",
       "      <td>25.8740</td>\n",
       "      <td>25.8770</td>\n",
       "      <td>121.087310</td>\n",
       "      <td>25.891363</td>\n",
       "      <td>-0.008264</td>\n",
       "    </tr>\n",
       "  </tbody>\n",
       "</table>\n",
       "</div>"
      ],
      "text/plain": [
       "    timestamp  Asset_ID  Count        Open        High         Low  \\\n",
       "0  1514764860         2   40.0   2376.5800   2399.5000   2357.1400   \n",
       "1  1514764860         0    5.0      8.5300      8.5300      8.5300   \n",
       "2  1514764860         1  229.0  13835.1940  14013.8000  13666.1100   \n",
       "3  1514764860         5   32.0      7.6596      7.6596      7.6567   \n",
       "4  1514764860         7    5.0     25.9200     25.9200     25.8740   \n",
       "\n",
       "        Close       Volume          VWAP    Target  \n",
       "0   2374.5900    19.233005   2373.116392 -0.004218  \n",
       "1      8.5300    78.380000      8.530000 -0.014399  \n",
       "2  13850.1760    31.550062  13827.062093 -0.014643  \n",
       "3      7.6576  6626.713370      7.657713 -0.013922  \n",
       "4     25.8770   121.087310     25.891363 -0.008264  "
      ]
     },
     "execution_count": 202,
     "metadata": {},
     "output_type": "execute_result"
    }
   ],
   "source": [
    "# read in dataset\n",
    "info = pd.read_csv(\"/Users/fangya/HU/3.Kaggle/G crypto/asset_details.csv\")\n",
    "ctrain = pd.read_csv(\"/Users/fangya/HU/3.Kaggle/G crypto/train.csv\")\n",
    "ctrain.head()"
   ]
  },
  {
   "cell_type": "code",
   "execution_count": 105,
   "id": "54745886",
   "metadata": {},
   "outputs": [
    {
     "data": {
      "text/plain": [
       "60    1803769\n",
       "Name: timestamp, dtype: int64"
      ]
     },
     "execution_count": 105,
     "metadata": {},
     "output_type": "execute_result"
    }
   ],
   "source": [
    "# Impute Missing Time Value\n",
    "def c_time_sub(asset_id, data=ctrain):\n",
    "    df=data[ctrain[\"Asset_ID\"]==asset_id].set_index(\"timestamp\")\n",
    "    df=df.reindex(range(df.index[0],df.index[-1]+60,60), method=\"pad\")\n",
    "    return df\n",
    "\n",
    "# Subgroup Bitcoin\n",
    "btc=c_time_sub(asset_id=1)\n",
    "(btc.index[1:] -btc.index[:-1]).value_counts().head()\n",
    "\n",
    "# Subgroup Ethereum\n",
    "eth=c_time_sub(asset_id=6)\n",
    "(btc.index[1:] -btc.index[:-1]).value_counts().head()\n",
    "\n",
    "# Subgroup Cardano\n",
    "ada=c_time_sub(asset_id=3)\n",
    "(ada.index[1:] -ada.index[:-1]).value_counts().head()"
   ]
  },
  {
   "cell_type": "code",
   "execution_count": null,
   "id": "90eb78de",
   "metadata": {},
   "outputs": [],
   "source": [
    "# time frame selection: from datetime to timestamp\n",
    "totimestamp= lambda s: np.int32(time.mktime(datetime.strptime(s,\"%d/%m/%Y\").timetuple()))\n",
    "\n",
    "# Log Return \n",
    "def log_return(series, periods=1):\n",
    "    return np.log(series).diff(periods=periods)"
   ]
  },
  {
   "cell_type": "code",
   "execution_count": 85,
   "id": "1d3fbc31",
   "metadata": {},
   "outputs": [],
   "source": [
    "# Data Selection\n",
    "def crypto_sub(asset_id ,data= ctrain ):\n",
    "    df = data[data[\"Asset_ID\"]==asset_id].reset_index(drop = True)\n",
    "    df['timestamp'] = pd.to_datetime(df['timestamp'], unit='s')\n",
    "    df = df.set_index('timestamp')\n",
    "    return df\n",
    "\n",
    "#Subgroup Bitcoin\n",
    "btc1=crypto_sub(asset_id=1)\n",
    "\n",
    "#Subgroup Eth\n",
    "eth1=crypto_sub(asset_id=6)\n",
    "\n",
    "#Subgroup Ada\n",
    "ada1=crypto_sub(asset_id=3)\n"
   ]
  },
  {
   "cell_type": "markdown",
   "id": "0e962cd9",
   "metadata": {},
   "source": [
    "## 2. Data Visualization\n",
    "we will present the weight among the 14 different crypto currency and investigate three crypto currency in depth\n"
   ]
  },
  {
   "cell_type": "markdown",
   "id": "a385c65c",
   "metadata": {},
   "source": [
    "### 2.1 Weight Distribution Plot\n",
    "The Bar plot shows Bitcoin, Ethereum, and Cardano are the three most popular crypto currency for trading or investment"
   ]
  },
  {
   "cell_type": "code",
   "execution_count": 203,
   "id": "f3caf950",
   "metadata": {},
   "outputs": [
    {
     "data": {
      "application/vnd.plotly.v1+json": {
       "config": {
        "plotlyServerURL": "https://plot.ly"
       },
       "data": [
        {
         "alignmentgroup": "True",
         "hovertemplate": "Asset_Name=%{x}<br>Weight=%{marker.color}<extra></extra>",
         "legendgroup": "",
         "marker": {
          "color": [
           1.0986122886681098,
           1.0986122886681098,
           1.3862943611198906,
           1.6094379124341005,
           1.791759469228055,
           2.079441541679836,
           2.079441541679836,
           2.3978952727983707,
           2.3978952727983707,
           3.555348061489413,
           4.30406509320417,
           4.406719247264253,
           5.8944028342648505,
           6.779921907472252
          ],
          "coloraxis": "coloraxis",
          "pattern": {
           "shape": ""
          }
         },
         "name": "",
         "offsetgroup": "",
         "orientation": "v",
         "showlegend": false,
         "textposition": "auto",
         "type": "bar",
         "x": [
          "IOTA",
          "Maker",
          "EOS.IO",
          "Monero",
          "TRON",
          "Ethereum Classic",
          "Stellar",
          "Bitcoin Cash",
          "Litecoin",
          "Dogecoin",
          "Binance Coin",
          "Cardano",
          "Ethereum",
          "Bitcoin"
         ],
         "xaxis": "x",
         "y": [
          1.0986122886681098,
          1.0986122886681098,
          1.3862943611198906,
          1.6094379124341005,
          1.791759469228055,
          2.079441541679836,
          2.079441541679836,
          2.3978952727983707,
          2.3978952727983707,
          3.555348061489413,
          4.30406509320417,
          4.406719247264253,
          5.8944028342648505,
          6.779921907472252
         ],
         "yaxis": "y"
        }
       ],
       "layout": {
        "barmode": "relative",
        "coloraxis": {
         "colorbar": {
          "title": {
           "text": "Weight"
          }
         },
         "colorscale": [
          [
           0,
           "#0d0887"
          ],
          [
           0.1111111111111111,
           "#46039f"
          ],
          [
           0.2222222222222222,
           "#7201a8"
          ],
          [
           0.3333333333333333,
           "#9c179e"
          ],
          [
           0.4444444444444444,
           "#bd3786"
          ],
          [
           0.5555555555555556,
           "#d8576b"
          ],
          [
           0.6666666666666666,
           "#ed7953"
          ],
          [
           0.7777777777777778,
           "#fb9f3a"
          ],
          [
           0.8888888888888888,
           "#fdca26"
          ],
          [
           1,
           "#f0f921"
          ]
         ]
        },
        "legend": {
         "tracegroupgap": 0
        },
        "template": {
         "data": {
          "bar": [
           {
            "error_x": {
             "color": "#2a3f5f"
            },
            "error_y": {
             "color": "#2a3f5f"
            },
            "marker": {
             "line": {
              "color": "#E5ECF6",
              "width": 0.5
             },
             "pattern": {
              "fillmode": "overlay",
              "size": 10,
              "solidity": 0.2
             }
            },
            "type": "bar"
           }
          ],
          "barpolar": [
           {
            "marker": {
             "line": {
              "color": "#E5ECF6",
              "width": 0.5
             },
             "pattern": {
              "fillmode": "overlay",
              "size": 10,
              "solidity": 0.2
             }
            },
            "type": "barpolar"
           }
          ],
          "carpet": [
           {
            "aaxis": {
             "endlinecolor": "#2a3f5f",
             "gridcolor": "white",
             "linecolor": "white",
             "minorgridcolor": "white",
             "startlinecolor": "#2a3f5f"
            },
            "baxis": {
             "endlinecolor": "#2a3f5f",
             "gridcolor": "white",
             "linecolor": "white",
             "minorgridcolor": "white",
             "startlinecolor": "#2a3f5f"
            },
            "type": "carpet"
           }
          ],
          "choropleth": [
           {
            "colorbar": {
             "outlinewidth": 0,
             "ticks": ""
            },
            "type": "choropleth"
           }
          ],
          "contour": [
           {
            "colorbar": {
             "outlinewidth": 0,
             "ticks": ""
            },
            "colorscale": [
             [
              0,
              "#0d0887"
             ],
             [
              0.1111111111111111,
              "#46039f"
             ],
             [
              0.2222222222222222,
              "#7201a8"
             ],
             [
              0.3333333333333333,
              "#9c179e"
             ],
             [
              0.4444444444444444,
              "#bd3786"
             ],
             [
              0.5555555555555556,
              "#d8576b"
             ],
             [
              0.6666666666666666,
              "#ed7953"
             ],
             [
              0.7777777777777778,
              "#fb9f3a"
             ],
             [
              0.8888888888888888,
              "#fdca26"
             ],
             [
              1,
              "#f0f921"
             ]
            ],
            "type": "contour"
           }
          ],
          "contourcarpet": [
           {
            "colorbar": {
             "outlinewidth": 0,
             "ticks": ""
            },
            "type": "contourcarpet"
           }
          ],
          "heatmap": [
           {
            "colorbar": {
             "outlinewidth": 0,
             "ticks": ""
            },
            "colorscale": [
             [
              0,
              "#0d0887"
             ],
             [
              0.1111111111111111,
              "#46039f"
             ],
             [
              0.2222222222222222,
              "#7201a8"
             ],
             [
              0.3333333333333333,
              "#9c179e"
             ],
             [
              0.4444444444444444,
              "#bd3786"
             ],
             [
              0.5555555555555556,
              "#d8576b"
             ],
             [
              0.6666666666666666,
              "#ed7953"
             ],
             [
              0.7777777777777778,
              "#fb9f3a"
             ],
             [
              0.8888888888888888,
              "#fdca26"
             ],
             [
              1,
              "#f0f921"
             ]
            ],
            "type": "heatmap"
           }
          ],
          "heatmapgl": [
           {
            "colorbar": {
             "outlinewidth": 0,
             "ticks": ""
            },
            "colorscale": [
             [
              0,
              "#0d0887"
             ],
             [
              0.1111111111111111,
              "#46039f"
             ],
             [
              0.2222222222222222,
              "#7201a8"
             ],
             [
              0.3333333333333333,
              "#9c179e"
             ],
             [
              0.4444444444444444,
              "#bd3786"
             ],
             [
              0.5555555555555556,
              "#d8576b"
             ],
             [
              0.6666666666666666,
              "#ed7953"
             ],
             [
              0.7777777777777778,
              "#fb9f3a"
             ],
             [
              0.8888888888888888,
              "#fdca26"
             ],
             [
              1,
              "#f0f921"
             ]
            ],
            "type": "heatmapgl"
           }
          ],
          "histogram": [
           {
            "marker": {
             "pattern": {
              "fillmode": "overlay",
              "size": 10,
              "solidity": 0.2
             }
            },
            "type": "histogram"
           }
          ],
          "histogram2d": [
           {
            "colorbar": {
             "outlinewidth": 0,
             "ticks": ""
            },
            "colorscale": [
             [
              0,
              "#0d0887"
             ],
             [
              0.1111111111111111,
              "#46039f"
             ],
             [
              0.2222222222222222,
              "#7201a8"
             ],
             [
              0.3333333333333333,
              "#9c179e"
             ],
             [
              0.4444444444444444,
              "#bd3786"
             ],
             [
              0.5555555555555556,
              "#d8576b"
             ],
             [
              0.6666666666666666,
              "#ed7953"
             ],
             [
              0.7777777777777778,
              "#fb9f3a"
             ],
             [
              0.8888888888888888,
              "#fdca26"
             ],
             [
              1,
              "#f0f921"
             ]
            ],
            "type": "histogram2d"
           }
          ],
          "histogram2dcontour": [
           {
            "colorbar": {
             "outlinewidth": 0,
             "ticks": ""
            },
            "colorscale": [
             [
              0,
              "#0d0887"
             ],
             [
              0.1111111111111111,
              "#46039f"
             ],
             [
              0.2222222222222222,
              "#7201a8"
             ],
             [
              0.3333333333333333,
              "#9c179e"
             ],
             [
              0.4444444444444444,
              "#bd3786"
             ],
             [
              0.5555555555555556,
              "#d8576b"
             ],
             [
              0.6666666666666666,
              "#ed7953"
             ],
             [
              0.7777777777777778,
              "#fb9f3a"
             ],
             [
              0.8888888888888888,
              "#fdca26"
             ],
             [
              1,
              "#f0f921"
             ]
            ],
            "type": "histogram2dcontour"
           }
          ],
          "mesh3d": [
           {
            "colorbar": {
             "outlinewidth": 0,
             "ticks": ""
            },
            "type": "mesh3d"
           }
          ],
          "parcoords": [
           {
            "line": {
             "colorbar": {
              "outlinewidth": 0,
              "ticks": ""
             }
            },
            "type": "parcoords"
           }
          ],
          "pie": [
           {
            "automargin": true,
            "type": "pie"
           }
          ],
          "scatter": [
           {
            "marker": {
             "colorbar": {
              "outlinewidth": 0,
              "ticks": ""
             }
            },
            "type": "scatter"
           }
          ],
          "scatter3d": [
           {
            "line": {
             "colorbar": {
              "outlinewidth": 0,
              "ticks": ""
             }
            },
            "marker": {
             "colorbar": {
              "outlinewidth": 0,
              "ticks": ""
             }
            },
            "type": "scatter3d"
           }
          ],
          "scattercarpet": [
           {
            "marker": {
             "colorbar": {
              "outlinewidth": 0,
              "ticks": ""
             }
            },
            "type": "scattercarpet"
           }
          ],
          "scattergeo": [
           {
            "marker": {
             "colorbar": {
              "outlinewidth": 0,
              "ticks": ""
             }
            },
            "type": "scattergeo"
           }
          ],
          "scattergl": [
           {
            "marker": {
             "colorbar": {
              "outlinewidth": 0,
              "ticks": ""
             }
            },
            "type": "scattergl"
           }
          ],
          "scattermapbox": [
           {
            "marker": {
             "colorbar": {
              "outlinewidth": 0,
              "ticks": ""
             }
            },
            "type": "scattermapbox"
           }
          ],
          "scatterpolar": [
           {
            "marker": {
             "colorbar": {
              "outlinewidth": 0,
              "ticks": ""
             }
            },
            "type": "scatterpolar"
           }
          ],
          "scatterpolargl": [
           {
            "marker": {
             "colorbar": {
              "outlinewidth": 0,
              "ticks": ""
             }
            },
            "type": "scatterpolargl"
           }
          ],
          "scatterternary": [
           {
            "marker": {
             "colorbar": {
              "outlinewidth": 0,
              "ticks": ""
             }
            },
            "type": "scatterternary"
           }
          ],
          "surface": [
           {
            "colorbar": {
             "outlinewidth": 0,
             "ticks": ""
            },
            "colorscale": [
             [
              0,
              "#0d0887"
             ],
             [
              0.1111111111111111,
              "#46039f"
             ],
             [
              0.2222222222222222,
              "#7201a8"
             ],
             [
              0.3333333333333333,
              "#9c179e"
             ],
             [
              0.4444444444444444,
              "#bd3786"
             ],
             [
              0.5555555555555556,
              "#d8576b"
             ],
             [
              0.6666666666666666,
              "#ed7953"
             ],
             [
              0.7777777777777778,
              "#fb9f3a"
             ],
             [
              0.8888888888888888,
              "#fdca26"
             ],
             [
              1,
              "#f0f921"
             ]
            ],
            "type": "surface"
           }
          ],
          "table": [
           {
            "cells": {
             "fill": {
              "color": "#EBF0F8"
             },
             "line": {
              "color": "white"
             }
            },
            "header": {
             "fill": {
              "color": "#C8D4E3"
             },
             "line": {
              "color": "white"
             }
            },
            "type": "table"
           }
          ]
         },
         "layout": {
          "annotationdefaults": {
           "arrowcolor": "#2a3f5f",
           "arrowhead": 0,
           "arrowwidth": 1
          },
          "autotypenumbers": "strict",
          "coloraxis": {
           "colorbar": {
            "outlinewidth": 0,
            "ticks": ""
           }
          },
          "colorscale": {
           "diverging": [
            [
             0,
             "#8e0152"
            ],
            [
             0.1,
             "#c51b7d"
            ],
            [
             0.2,
             "#de77ae"
            ],
            [
             0.3,
             "#f1b6da"
            ],
            [
             0.4,
             "#fde0ef"
            ],
            [
             0.5,
             "#f7f7f7"
            ],
            [
             0.6,
             "#e6f5d0"
            ],
            [
             0.7,
             "#b8e186"
            ],
            [
             0.8,
             "#7fbc41"
            ],
            [
             0.9,
             "#4d9221"
            ],
            [
             1,
             "#276419"
            ]
           ],
           "sequential": [
            [
             0,
             "#0d0887"
            ],
            [
             0.1111111111111111,
             "#46039f"
            ],
            [
             0.2222222222222222,
             "#7201a8"
            ],
            [
             0.3333333333333333,
             "#9c179e"
            ],
            [
             0.4444444444444444,
             "#bd3786"
            ],
            [
             0.5555555555555556,
             "#d8576b"
            ],
            [
             0.6666666666666666,
             "#ed7953"
            ],
            [
             0.7777777777777778,
             "#fb9f3a"
            ],
            [
             0.8888888888888888,
             "#fdca26"
            ],
            [
             1,
             "#f0f921"
            ]
           ],
           "sequentialminus": [
            [
             0,
             "#0d0887"
            ],
            [
             0.1111111111111111,
             "#46039f"
            ],
            [
             0.2222222222222222,
             "#7201a8"
            ],
            [
             0.3333333333333333,
             "#9c179e"
            ],
            [
             0.4444444444444444,
             "#bd3786"
            ],
            [
             0.5555555555555556,
             "#d8576b"
            ],
            [
             0.6666666666666666,
             "#ed7953"
            ],
            [
             0.7777777777777778,
             "#fb9f3a"
            ],
            [
             0.8888888888888888,
             "#fdca26"
            ],
            [
             1,
             "#f0f921"
            ]
           ]
          },
          "colorway": [
           "#636efa",
           "#EF553B",
           "#00cc96",
           "#ab63fa",
           "#FFA15A",
           "#19d3f3",
           "#FF6692",
           "#B6E880",
           "#FF97FF",
           "#FECB52"
          ],
          "font": {
           "color": "#2a3f5f"
          },
          "geo": {
           "bgcolor": "white",
           "lakecolor": "white",
           "landcolor": "#E5ECF6",
           "showlakes": true,
           "showland": true,
           "subunitcolor": "white"
          },
          "hoverlabel": {
           "align": "left"
          },
          "hovermode": "closest",
          "mapbox": {
           "style": "light"
          },
          "paper_bgcolor": "white",
          "plot_bgcolor": "#E5ECF6",
          "polar": {
           "angularaxis": {
            "gridcolor": "white",
            "linecolor": "white",
            "ticks": ""
           },
           "bgcolor": "#E5ECF6",
           "radialaxis": {
            "gridcolor": "white",
            "linecolor": "white",
            "ticks": ""
           }
          },
          "scene": {
           "xaxis": {
            "backgroundcolor": "#E5ECF6",
            "gridcolor": "white",
            "gridwidth": 2,
            "linecolor": "white",
            "showbackground": true,
            "ticks": "",
            "zerolinecolor": "white"
           },
           "yaxis": {
            "backgroundcolor": "#E5ECF6",
            "gridcolor": "white",
            "gridwidth": 2,
            "linecolor": "white",
            "showbackground": true,
            "ticks": "",
            "zerolinecolor": "white"
           },
           "zaxis": {
            "backgroundcolor": "#E5ECF6",
            "gridcolor": "white",
            "gridwidth": 2,
            "linecolor": "white",
            "showbackground": true,
            "ticks": "",
            "zerolinecolor": "white"
           }
          },
          "shapedefaults": {
           "line": {
            "color": "#2a3f5f"
           }
          },
          "ternary": {
           "aaxis": {
            "gridcolor": "white",
            "linecolor": "white",
            "ticks": ""
           },
           "baxis": {
            "gridcolor": "white",
            "linecolor": "white",
            "ticks": ""
           },
           "bgcolor": "#E5ECF6",
           "caxis": {
            "gridcolor": "white",
            "linecolor": "white",
            "ticks": ""
           }
          },
          "title": {
           "x": 0.05
          },
          "xaxis": {
           "automargin": true,
           "gridcolor": "white",
           "linecolor": "white",
           "ticks": "",
           "title": {
            "standoff": 15
           },
           "zerolinecolor": "white",
           "zerolinewidth": 2
          },
          "yaxis": {
           "automargin": true,
           "gridcolor": "white",
           "linecolor": "white",
           "ticks": "",
           "title": {
            "standoff": 15
           },
           "zerolinecolor": "white",
           "zerolinewidth": 2
          }
         }
        },
        "title": {
         "text": "Popular Cryptocurrency Weight Distribution"
        },
        "xaxis": {
         "anchor": "y",
         "domain": [
          0,
          1
         ],
         "title": {
          "text": "Asset_Name"
         }
        },
        "yaxis": {
         "anchor": "x",
         "domain": [
          0,
          1
         ],
         "title": {
          "text": "Weight"
         }
        }
       }
      },
      "text/html": [
       "<div>                            <div id=\"a3ff9571-ae58-4b8b-9ada-4472f9adfc86\" class=\"plotly-graph-div\" style=\"height:525px; width:100%;\"></div>            <script type=\"text/javascript\">                require([\"plotly\"], function(Plotly) {                    window.PLOTLYENV=window.PLOTLYENV || {};                                    if (document.getElementById(\"a3ff9571-ae58-4b8b-9ada-4472f9adfc86\")) {                    Plotly.newPlot(                        \"a3ff9571-ae58-4b8b-9ada-4472f9adfc86\",                        [{\"alignmentgroup\":\"True\",\"hovertemplate\":\"Asset_Name=%{x}<br>Weight=%{marker.color}<extra></extra>\",\"legendgroup\":\"\",\"marker\":{\"color\":[1.0986122886681098,1.0986122886681098,1.3862943611198906,1.6094379124341005,1.791759469228055,2.079441541679836,2.079441541679836,2.3978952727983707,2.3978952727983707,3.555348061489413,4.30406509320417,4.406719247264253,5.8944028342648505,6.779921907472252],\"coloraxis\":\"coloraxis\",\"pattern\":{\"shape\":\"\"}},\"name\":\"\",\"offsetgroup\":\"\",\"orientation\":\"v\",\"showlegend\":false,\"textposition\":\"auto\",\"type\":\"bar\",\"x\":[\"IOTA\",\"Maker\",\"EOS.IO\",\"Monero\",\"TRON\",\"Ethereum Classic\",\"Stellar\",\"Bitcoin Cash\",\"Litecoin\",\"Dogecoin\",\"Binance Coin\",\"Cardano\",\"Ethereum\",\"Bitcoin\"],\"xaxis\":\"x\",\"y\":[1.0986122886681098,1.0986122886681098,1.3862943611198906,1.6094379124341005,1.791759469228055,2.079441541679836,2.079441541679836,2.3978952727983707,2.3978952727983707,3.555348061489413,4.30406509320417,4.406719247264253,5.8944028342648505,6.779921907472252],\"yaxis\":\"y\"}],                        {\"barmode\":\"relative\",\"coloraxis\":{\"colorbar\":{\"title\":{\"text\":\"Weight\"}},\"colorscale\":[[0.0,\"#0d0887\"],[0.1111111111111111,\"#46039f\"],[0.2222222222222222,\"#7201a8\"],[0.3333333333333333,\"#9c179e\"],[0.4444444444444444,\"#bd3786\"],[0.5555555555555556,\"#d8576b\"],[0.6666666666666666,\"#ed7953\"],[0.7777777777777778,\"#fb9f3a\"],[0.8888888888888888,\"#fdca26\"],[1.0,\"#f0f921\"]]},\"legend\":{\"tracegroupgap\":0},\"template\":{\"data\":{\"bar\":[{\"error_x\":{\"color\":\"#2a3f5f\"},\"error_y\":{\"color\":\"#2a3f5f\"},\"marker\":{\"line\":{\"color\":\"#E5ECF6\",\"width\":0.5},\"pattern\":{\"fillmode\":\"overlay\",\"size\":10,\"solidity\":0.2}},\"type\":\"bar\"}],\"barpolar\":[{\"marker\":{\"line\":{\"color\":\"#E5ECF6\",\"width\":0.5},\"pattern\":{\"fillmode\":\"overlay\",\"size\":10,\"solidity\":0.2}},\"type\":\"barpolar\"}],\"carpet\":[{\"aaxis\":{\"endlinecolor\":\"#2a3f5f\",\"gridcolor\":\"white\",\"linecolor\":\"white\",\"minorgridcolor\":\"white\",\"startlinecolor\":\"#2a3f5f\"},\"baxis\":{\"endlinecolor\":\"#2a3f5f\",\"gridcolor\":\"white\",\"linecolor\":\"white\",\"minorgridcolor\":\"white\",\"startlinecolor\":\"#2a3f5f\"},\"type\":\"carpet\"}],\"choropleth\":[{\"colorbar\":{\"outlinewidth\":0,\"ticks\":\"\"},\"type\":\"choropleth\"}],\"contour\":[{\"colorbar\":{\"outlinewidth\":0,\"ticks\":\"\"},\"colorscale\":[[0.0,\"#0d0887\"],[0.1111111111111111,\"#46039f\"],[0.2222222222222222,\"#7201a8\"],[0.3333333333333333,\"#9c179e\"],[0.4444444444444444,\"#bd3786\"],[0.5555555555555556,\"#d8576b\"],[0.6666666666666666,\"#ed7953\"],[0.7777777777777778,\"#fb9f3a\"],[0.8888888888888888,\"#fdca26\"],[1.0,\"#f0f921\"]],\"type\":\"contour\"}],\"contourcarpet\":[{\"colorbar\":{\"outlinewidth\":0,\"ticks\":\"\"},\"type\":\"contourcarpet\"}],\"heatmap\":[{\"colorbar\":{\"outlinewidth\":0,\"ticks\":\"\"},\"colorscale\":[[0.0,\"#0d0887\"],[0.1111111111111111,\"#46039f\"],[0.2222222222222222,\"#7201a8\"],[0.3333333333333333,\"#9c179e\"],[0.4444444444444444,\"#bd3786\"],[0.5555555555555556,\"#d8576b\"],[0.6666666666666666,\"#ed7953\"],[0.7777777777777778,\"#fb9f3a\"],[0.8888888888888888,\"#fdca26\"],[1.0,\"#f0f921\"]],\"type\":\"heatmap\"}],\"heatmapgl\":[{\"colorbar\":{\"outlinewidth\":0,\"ticks\":\"\"},\"colorscale\":[[0.0,\"#0d0887\"],[0.1111111111111111,\"#46039f\"],[0.2222222222222222,\"#7201a8\"],[0.3333333333333333,\"#9c179e\"],[0.4444444444444444,\"#bd3786\"],[0.5555555555555556,\"#d8576b\"],[0.6666666666666666,\"#ed7953\"],[0.7777777777777778,\"#fb9f3a\"],[0.8888888888888888,\"#fdca26\"],[1.0,\"#f0f921\"]],\"type\":\"heatmapgl\"}],\"histogram\":[{\"marker\":{\"pattern\":{\"fillmode\":\"overlay\",\"size\":10,\"solidity\":0.2}},\"type\":\"histogram\"}],\"histogram2d\":[{\"colorbar\":{\"outlinewidth\":0,\"ticks\":\"\"},\"colorscale\":[[0.0,\"#0d0887\"],[0.1111111111111111,\"#46039f\"],[0.2222222222222222,\"#7201a8\"],[0.3333333333333333,\"#9c179e\"],[0.4444444444444444,\"#bd3786\"],[0.5555555555555556,\"#d8576b\"],[0.6666666666666666,\"#ed7953\"],[0.7777777777777778,\"#fb9f3a\"],[0.8888888888888888,\"#fdca26\"],[1.0,\"#f0f921\"]],\"type\":\"histogram2d\"}],\"histogram2dcontour\":[{\"colorbar\":{\"outlinewidth\":0,\"ticks\":\"\"},\"colorscale\":[[0.0,\"#0d0887\"],[0.1111111111111111,\"#46039f\"],[0.2222222222222222,\"#7201a8\"],[0.3333333333333333,\"#9c179e\"],[0.4444444444444444,\"#bd3786\"],[0.5555555555555556,\"#d8576b\"],[0.6666666666666666,\"#ed7953\"],[0.7777777777777778,\"#fb9f3a\"],[0.8888888888888888,\"#fdca26\"],[1.0,\"#f0f921\"]],\"type\":\"histogram2dcontour\"}],\"mesh3d\":[{\"colorbar\":{\"outlinewidth\":0,\"ticks\":\"\"},\"type\":\"mesh3d\"}],\"parcoords\":[{\"line\":{\"colorbar\":{\"outlinewidth\":0,\"ticks\":\"\"}},\"type\":\"parcoords\"}],\"pie\":[{\"automargin\":true,\"type\":\"pie\"}],\"scatter\":[{\"marker\":{\"colorbar\":{\"outlinewidth\":0,\"ticks\":\"\"}},\"type\":\"scatter\"}],\"scatter3d\":[{\"line\":{\"colorbar\":{\"outlinewidth\":0,\"ticks\":\"\"}},\"marker\":{\"colorbar\":{\"outlinewidth\":0,\"ticks\":\"\"}},\"type\":\"scatter3d\"}],\"scattercarpet\":[{\"marker\":{\"colorbar\":{\"outlinewidth\":0,\"ticks\":\"\"}},\"type\":\"scattercarpet\"}],\"scattergeo\":[{\"marker\":{\"colorbar\":{\"outlinewidth\":0,\"ticks\":\"\"}},\"type\":\"scattergeo\"}],\"scattergl\":[{\"marker\":{\"colorbar\":{\"outlinewidth\":0,\"ticks\":\"\"}},\"type\":\"scattergl\"}],\"scattermapbox\":[{\"marker\":{\"colorbar\":{\"outlinewidth\":0,\"ticks\":\"\"}},\"type\":\"scattermapbox\"}],\"scatterpolar\":[{\"marker\":{\"colorbar\":{\"outlinewidth\":0,\"ticks\":\"\"}},\"type\":\"scatterpolar\"}],\"scatterpolargl\":[{\"marker\":{\"colorbar\":{\"outlinewidth\":0,\"ticks\":\"\"}},\"type\":\"scatterpolargl\"}],\"scatterternary\":[{\"marker\":{\"colorbar\":{\"outlinewidth\":0,\"ticks\":\"\"}},\"type\":\"scatterternary\"}],\"surface\":[{\"colorbar\":{\"outlinewidth\":0,\"ticks\":\"\"},\"colorscale\":[[0.0,\"#0d0887\"],[0.1111111111111111,\"#46039f\"],[0.2222222222222222,\"#7201a8\"],[0.3333333333333333,\"#9c179e\"],[0.4444444444444444,\"#bd3786\"],[0.5555555555555556,\"#d8576b\"],[0.6666666666666666,\"#ed7953\"],[0.7777777777777778,\"#fb9f3a\"],[0.8888888888888888,\"#fdca26\"],[1.0,\"#f0f921\"]],\"type\":\"surface\"}],\"table\":[{\"cells\":{\"fill\":{\"color\":\"#EBF0F8\"},\"line\":{\"color\":\"white\"}},\"header\":{\"fill\":{\"color\":\"#C8D4E3\"},\"line\":{\"color\":\"white\"}},\"type\":\"table\"}]},\"layout\":{\"annotationdefaults\":{\"arrowcolor\":\"#2a3f5f\",\"arrowhead\":0,\"arrowwidth\":1},\"autotypenumbers\":\"strict\",\"coloraxis\":{\"colorbar\":{\"outlinewidth\":0,\"ticks\":\"\"}},\"colorscale\":{\"diverging\":[[0,\"#8e0152\"],[0.1,\"#c51b7d\"],[0.2,\"#de77ae\"],[0.3,\"#f1b6da\"],[0.4,\"#fde0ef\"],[0.5,\"#f7f7f7\"],[0.6,\"#e6f5d0\"],[0.7,\"#b8e186\"],[0.8,\"#7fbc41\"],[0.9,\"#4d9221\"],[1,\"#276419\"]],\"sequential\":[[0.0,\"#0d0887\"],[0.1111111111111111,\"#46039f\"],[0.2222222222222222,\"#7201a8\"],[0.3333333333333333,\"#9c179e\"],[0.4444444444444444,\"#bd3786\"],[0.5555555555555556,\"#d8576b\"],[0.6666666666666666,\"#ed7953\"],[0.7777777777777778,\"#fb9f3a\"],[0.8888888888888888,\"#fdca26\"],[1.0,\"#f0f921\"]],\"sequentialminus\":[[0.0,\"#0d0887\"],[0.1111111111111111,\"#46039f\"],[0.2222222222222222,\"#7201a8\"],[0.3333333333333333,\"#9c179e\"],[0.4444444444444444,\"#bd3786\"],[0.5555555555555556,\"#d8576b\"],[0.6666666666666666,\"#ed7953\"],[0.7777777777777778,\"#fb9f3a\"],[0.8888888888888888,\"#fdca26\"],[1.0,\"#f0f921\"]]},\"colorway\":[\"#636efa\",\"#EF553B\",\"#00cc96\",\"#ab63fa\",\"#FFA15A\",\"#19d3f3\",\"#FF6692\",\"#B6E880\",\"#FF97FF\",\"#FECB52\"],\"font\":{\"color\":\"#2a3f5f\"},\"geo\":{\"bgcolor\":\"white\",\"lakecolor\":\"white\",\"landcolor\":\"#E5ECF6\",\"showlakes\":true,\"showland\":true,\"subunitcolor\":\"white\"},\"hoverlabel\":{\"align\":\"left\"},\"hovermode\":\"closest\",\"mapbox\":{\"style\":\"light\"},\"paper_bgcolor\":\"white\",\"plot_bgcolor\":\"#E5ECF6\",\"polar\":{\"angularaxis\":{\"gridcolor\":\"white\",\"linecolor\":\"white\",\"ticks\":\"\"},\"bgcolor\":\"#E5ECF6\",\"radialaxis\":{\"gridcolor\":\"white\",\"linecolor\":\"white\",\"ticks\":\"\"}},\"scene\":{\"xaxis\":{\"backgroundcolor\":\"#E5ECF6\",\"gridcolor\":\"white\",\"gridwidth\":2,\"linecolor\":\"white\",\"showbackground\":true,\"ticks\":\"\",\"zerolinecolor\":\"white\"},\"yaxis\":{\"backgroundcolor\":\"#E5ECF6\",\"gridcolor\":\"white\",\"gridwidth\":2,\"linecolor\":\"white\",\"showbackground\":true,\"ticks\":\"\",\"zerolinecolor\":\"white\"},\"zaxis\":{\"backgroundcolor\":\"#E5ECF6\",\"gridcolor\":\"white\",\"gridwidth\":2,\"linecolor\":\"white\",\"showbackground\":true,\"ticks\":\"\",\"zerolinecolor\":\"white\"}},\"shapedefaults\":{\"line\":{\"color\":\"#2a3f5f\"}},\"ternary\":{\"aaxis\":{\"gridcolor\":\"white\",\"linecolor\":\"white\",\"ticks\":\"\"},\"baxis\":{\"gridcolor\":\"white\",\"linecolor\":\"white\",\"ticks\":\"\"},\"bgcolor\":\"#E5ECF6\",\"caxis\":{\"gridcolor\":\"white\",\"linecolor\":\"white\",\"ticks\":\"\"}},\"title\":{\"x\":0.05},\"xaxis\":{\"automargin\":true,\"gridcolor\":\"white\",\"linecolor\":\"white\",\"ticks\":\"\",\"title\":{\"standoff\":15},\"zerolinecolor\":\"white\",\"zerolinewidth\":2},\"yaxis\":{\"automargin\":true,\"gridcolor\":\"white\",\"linecolor\":\"white\",\"ticks\":\"\",\"title\":{\"standoff\":15},\"zerolinecolor\":\"white\",\"zerolinewidth\":2}}},\"title\":{\"text\":\"Popular Cryptocurrency Weight Distribution\"},\"xaxis\":{\"anchor\":\"y\",\"domain\":[0.0,1.0],\"title\":{\"text\":\"Asset_Name\"}},\"yaxis\":{\"anchor\":\"x\",\"domain\":[0.0,1.0],\"title\":{\"text\":\"Weight\"}}},                        {\"responsive\": true}                    ).then(function(){\n",
       "                            \n",
       "var gd = document.getElementById('a3ff9571-ae58-4b8b-9ada-4472f9adfc86');\n",
       "var x = new MutationObserver(function (mutations, observer) {{\n",
       "        var display = window.getComputedStyle(gd).display;\n",
       "        if (!display || display === 'none') {{\n",
       "            console.log([gd, 'removed!']);\n",
       "            Plotly.purge(gd);\n",
       "            observer.disconnect();\n",
       "        }}\n",
       "}});\n",
       "\n",
       "// Listen for the removal of the full notebook cells\n",
       "var notebookContainer = gd.closest('#notebook-container');\n",
       "if (notebookContainer) {{\n",
       "    x.observe(notebookContainer, {childList: true});\n",
       "}}\n",
       "\n",
       "// Listen for the clearing of the current output cell\n",
       "var outputEl = gd.closest('.output');\n",
       "if (outputEl) {{\n",
       "    x.observe(outputEl, {childList: true});\n",
       "}}\n",
       "\n",
       "                        })                };                });            </script>        </div>"
      ]
     },
     "metadata": {},
     "output_type": "display_data"
    }
   ],
   "source": [
    "%matplotlib inline\n",
    "info_s=info.sort_values(\"Weight\")\n",
    "fig_index=px.bar(info_s,x=\"Asset_Name\" , y=\"Weight\", color=\"Weight\", title=\"Popular Cryptocurrency Weight Distribution\")\n",
    "fig_index.show()"
   ]
  },
  {
   "cell_type": "markdown",
   "id": "8cecd1bd",
   "metadata": {},
   "source": [
    "### 2.2 Cryptocurrency Log Return Correlation Plot for 2021\n",
    "From the Correlation plot we can see Bitcoin Cash is highly correlated with EOS.IO.\n",
    "\n",
    "Binance Coin is correlated with many crypto currencies, such as , Bitcoin, Bitcoin Cash, Cardano, Ethereum. \n",
    "\n",
    "We can have a roughly conclude that Binance Coin, Bitcoin Cash prices have a strong relation with other cryptocurrencies. Whereas Dogecoin and Monero prices are quite independent. \n"
   ]
  },
  {
   "cell_type": "code",
   "execution_count": 23,
   "id": "d842fab4",
   "metadata": {},
   "outputs": [
    {
     "data": {
      "text/plain": [
       "<matplotlib.colorbar.Colorbar at 0x7f8f360b2d00>"
      ]
     },
     "execution_count": 23,
     "metadata": {},
     "output_type": "execute_result"
    },
    {
     "data": {
      "image/png": "[encoded data removed]",
      "text/plain": [
       "<Figure size 432x288 with 2 Axes>"
      ]
     },
     "metadata": {
      "needs_background": "light"
     },
     "output_type": "display_data"
    }
   ],
   "source": [
    "# time frame selection: from datetime to timestamp\n",
    "totimestamp= lambda s: np.int32(time.mktime(datetime.strptime(s,\"%d/%m/%Y\").timetuple()))\n",
    "\n",
    "# Log Return \n",
    "def log_return(series, periods=1):\n",
    "    return np.log(series).diff(periods=periods)\n",
    "\n",
    "all2021=pd.DataFrame([])\n",
    "for asset_id, asset_name in zip(info.Asset_ID, info.Asset_Name):\n",
    "    asset=ctrain[ctrain[\"Asset_ID\"]==asset_id].set_index(\"timestamp\")\n",
    "    asset=asset.loc[totimestamp(\"01/01/2021\"):totimestamp(\"21/09/2021\")]\n",
    "    asset=asset.reindex(range(asset.index[0],asset.index[-1]+60,60), method=\"pad\")\n",
    "    lret=log_return(asset.Close.fillna(0))[1:]\n",
    "    all2021=all2021.join(lret,rsuffix=asset_name,how=\"outer\")\n",
    "    \n",
    "plt.imshow(all2021.corr());\n",
    "plt.yticks(info.Asset_ID, info.Asset_Name.values)\n",
    "plt.xticks(info.Asset_ID, info.Asset_Name.values,rotation=\"vertical\");\n",
    "plt.colorbar()"
   ]
  },
  {
   "cell_type": "markdown",
   "id": "868f0132",
   "metadata": {},
   "source": [
    "## Price History\n",
    "\n",
    "We will use the Closing Price and Candlestick graph to capture the trends of the crypto currency in 2021"
   ]
  },
  {
   "cell_type": "markdown",
   "id": "202df2e1",
   "metadata": {},
   "source": [
    " ### 3.1 Closing Price Trend in 2021 \n",
    "\n",
    "we will impute the missing time value using the \"pad\" method and present the overall closing price for Bitcoin, Etherum, Carnado \n",
    " "
   ]
  },
  {
   "cell_type": "code",
   "execution_count": 47,
   "id": "8c5f3434",
   "metadata": {},
   "outputs": [],
   "source": [
    "# Impute Missing Time Value\n",
    "def c_time_sub(asset_id, data=ctrain):\n",
    "    df=data[ctrain[\"Asset_ID\"]==asset_id].set_index(\"timestamp\")\n",
    "    df=df.reindex(range(df.index[0],df.index[-1]+60,60), method=\"pad\")\n",
    "    return df\n"
   ]
  },
  {
   "cell_type": "code",
   "execution_count": 48,
   "id": "0705a312",
   "metadata": {},
   "outputs": [
    {
     "data": {
      "text/html": [
       "<div>\n",
       "<style scoped>\n",
       "    .dataframe tbody tr th:only-of-type {\n",
       "        vertical-align: middle;\n",
       "    }\n",
       "\n",
       "    .dataframe tbody tr th {\n",
       "        vertical-align: top;\n",
       "    }\n",
       "\n",
       "    .dataframe thead th {\n",
       "        text-align: right;\n",
       "    }\n",
       "</style>\n",
       "<table border=\"1\" class=\"dataframe\">\n",
       "  <thead>\n",
       "    <tr style=\"text-align: right;\">\n",
       "      <th></th>\n",
       "      <th>Asset_ID</th>\n",
       "      <th>Count</th>\n",
       "      <th>Open</th>\n",
       "      <th>High</th>\n",
       "      <th>Low</th>\n",
       "      <th>Close</th>\n",
       "      <th>Volume</th>\n",
       "      <th>VWAP</th>\n",
       "      <th>Target</th>\n",
       "    </tr>\n",
       "    <tr>\n",
       "      <th>timestamp</th>\n",
       "      <th></th>\n",
       "      <th></th>\n",
       "      <th></th>\n",
       "      <th></th>\n",
       "      <th></th>\n",
       "      <th></th>\n",
       "      <th></th>\n",
       "      <th></th>\n",
       "      <th></th>\n",
       "    </tr>\n",
       "  </thead>\n",
       "  <tbody>\n",
       "    <tr>\n",
       "      <th>1514764860</th>\n",
       "      <td>1</td>\n",
       "      <td>229.0</td>\n",
       "      <td>13835.194</td>\n",
       "      <td>14013.8</td>\n",
       "      <td>13666.11</td>\n",
       "      <td>13850.176</td>\n",
       "      <td>31.550062</td>\n",
       "      <td>13827.062093</td>\n",
       "      <td>-0.014643</td>\n",
       "    </tr>\n",
       "    <tr>\n",
       "      <th>1514764920</th>\n",
       "      <td>1</td>\n",
       "      <td>235.0</td>\n",
       "      <td>13835.036</td>\n",
       "      <td>14052.3</td>\n",
       "      <td>13680.00</td>\n",
       "      <td>13828.102</td>\n",
       "      <td>31.046432</td>\n",
       "      <td>13840.362591</td>\n",
       "      <td>-0.015037</td>\n",
       "    </tr>\n",
       "    <tr>\n",
       "      <th>1514764980</th>\n",
       "      <td>1</td>\n",
       "      <td>528.0</td>\n",
       "      <td>13823.900</td>\n",
       "      <td>14000.4</td>\n",
       "      <td>13601.00</td>\n",
       "      <td>13801.314</td>\n",
       "      <td>55.061820</td>\n",
       "      <td>13806.068014</td>\n",
       "      <td>-0.010309</td>\n",
       "    </tr>\n",
       "    <tr>\n",
       "      <th>1514765040</th>\n",
       "      <td>1</td>\n",
       "      <td>435.0</td>\n",
       "      <td>13802.512</td>\n",
       "      <td>13999.0</td>\n",
       "      <td>13576.28</td>\n",
       "      <td>13768.040</td>\n",
       "      <td>38.780529</td>\n",
       "      <td>13783.598101</td>\n",
       "      <td>-0.008999</td>\n",
       "    </tr>\n",
       "    <tr>\n",
       "      <th>1514765100</th>\n",
       "      <td>1</td>\n",
       "      <td>742.0</td>\n",
       "      <td>13766.000</td>\n",
       "      <td>13955.9</td>\n",
       "      <td>13554.44</td>\n",
       "      <td>13724.914</td>\n",
       "      <td>108.501637</td>\n",
       "      <td>13735.586842</td>\n",
       "      <td>-0.008079</td>\n",
       "    </tr>\n",
       "  </tbody>\n",
       "</table>\n",
       "</div>"
      ],
      "text/plain": [
       "            Asset_ID  Count       Open     High       Low      Close  \\\n",
       "timestamp                                                              \n",
       "1514764860         1  229.0  13835.194  14013.8  13666.11  13850.176   \n",
       "1514764920         1  235.0  13835.036  14052.3  13680.00  13828.102   \n",
       "1514764980         1  528.0  13823.900  14000.4  13601.00  13801.314   \n",
       "1514765040         1  435.0  13802.512  13999.0  13576.28  13768.040   \n",
       "1514765100         1  742.0  13766.000  13955.9  13554.44  13724.914   \n",
       "\n",
       "                Volume          VWAP    Target  \n",
       "timestamp                                       \n",
       "1514764860   31.550062  13827.062093 -0.014643  \n",
       "1514764920   31.046432  13840.362591 -0.015037  \n",
       "1514764980   55.061820  13806.068014 -0.010309  \n",
       "1514765040   38.780529  13783.598101 -0.008999  \n",
       "1514765100  108.501637  13735.586842 -0.008079  "
      ]
     },
     "execution_count": 48,
     "metadata": {},
     "output_type": "execute_result"
    }
   ],
   "source": [
    "#1. Subgroup Bitcoin\n",
    "btc=c_time_sub(asset_id=1)\n",
    "(btc.index[1:] -btc.index[:-1]).value_counts().head()\n",
    "btc.head()"
   ]
  },
  {
   "cell_type": "code",
   "execution_count": 49,
   "id": "7dc58578",
   "metadata": {},
   "outputs": [
    {
     "data": {
      "text/html": [
       "<div>\n",
       "<style scoped>\n",
       "    .dataframe tbody tr th:only-of-type {\n",
       "        vertical-align: middle;\n",
       "    }\n",
       "\n",
       "    .dataframe tbody tr th {\n",
       "        vertical-align: top;\n",
       "    }\n",
       "\n",
       "    .dataframe thead th {\n",
       "        text-align: right;\n",
       "    }\n",
       "</style>\n",
       "<table border=\"1\" class=\"dataframe\">\n",
       "  <thead>\n",
       "    <tr style=\"text-align: right;\">\n",
       "      <th></th>\n",
       "      <th>Asset_ID</th>\n",
       "      <th>Count</th>\n",
       "      <th>Open</th>\n",
       "      <th>High</th>\n",
       "      <th>Low</th>\n",
       "      <th>Close</th>\n",
       "      <th>Volume</th>\n",
       "      <th>VWAP</th>\n",
       "      <th>Target</th>\n",
       "    </tr>\n",
       "    <tr>\n",
       "      <th>timestamp</th>\n",
       "      <th></th>\n",
       "      <th></th>\n",
       "      <th></th>\n",
       "      <th></th>\n",
       "      <th></th>\n",
       "      <th></th>\n",
       "      <th></th>\n",
       "      <th></th>\n",
       "      <th></th>\n",
       "    </tr>\n",
       "  </thead>\n",
       "  <tbody>\n",
       "    <tr>\n",
       "      <th>1514764860</th>\n",
       "      <td>6</td>\n",
       "      <td>173.0</td>\n",
       "      <td>738.3025</td>\n",
       "      <td>746.00</td>\n",
       "      <td>732.51</td>\n",
       "      <td>738.5075</td>\n",
       "      <td>335.987856</td>\n",
       "      <td>738.839291</td>\n",
       "      <td>-0.004809</td>\n",
       "    </tr>\n",
       "    <tr>\n",
       "      <th>1514764920</th>\n",
       "      <td>6</td>\n",
       "      <td>192.0</td>\n",
       "      <td>738.5075</td>\n",
       "      <td>745.14</td>\n",
       "      <td>732.49</td>\n",
       "      <td>738.2600</td>\n",
       "      <td>232.793141</td>\n",
       "      <td>738.268967</td>\n",
       "      <td>-0.004441</td>\n",
       "    </tr>\n",
       "    <tr>\n",
       "      <th>1514764980</th>\n",
       "      <td>6</td>\n",
       "      <td>120.0</td>\n",
       "      <td>738.3325</td>\n",
       "      <td>745.12</td>\n",
       "      <td>730.00</td>\n",
       "      <td>737.5025</td>\n",
       "      <td>174.138031</td>\n",
       "      <td>737.994457</td>\n",
       "      <td>-0.004206</td>\n",
       "    </tr>\n",
       "    <tr>\n",
       "      <th>1514765040</th>\n",
       "      <td>6</td>\n",
       "      <td>156.0</td>\n",
       "      <td>737.2225</td>\n",
       "      <td>744.69</td>\n",
       "      <td>728.93</td>\n",
       "      <td>737.1025</td>\n",
       "      <td>165.383926</td>\n",
       "      <td>737.303631</td>\n",
       "      <td>-0.002205</td>\n",
       "    </tr>\n",
       "    <tr>\n",
       "      <th>1514765100</th>\n",
       "      <td>6</td>\n",
       "      <td>118.0</td>\n",
       "      <td>736.5300</td>\n",
       "      <td>743.80</td>\n",
       "      <td>727.11</td>\n",
       "      <td>735.7050</td>\n",
       "      <td>193.078039</td>\n",
       "      <td>736.163026</td>\n",
       "      <td>-0.001744</td>\n",
       "    </tr>\n",
       "  </tbody>\n",
       "</table>\n",
       "</div>"
      ],
      "text/plain": [
       "            Asset_ID  Count      Open    High     Low     Close      Volume  \\\n",
       "timestamp                                                                     \n",
       "1514764860         6  173.0  738.3025  746.00  732.51  738.5075  335.987856   \n",
       "1514764920         6  192.0  738.5075  745.14  732.49  738.2600  232.793141   \n",
       "1514764980         6  120.0  738.3325  745.12  730.00  737.5025  174.138031   \n",
       "1514765040         6  156.0  737.2225  744.69  728.93  737.1025  165.383926   \n",
       "1514765100         6  118.0  736.5300  743.80  727.11  735.7050  193.078039   \n",
       "\n",
       "                  VWAP    Target  \n",
       "timestamp                         \n",
       "1514764860  738.839291 -0.004809  \n",
       "1514764920  738.268967 -0.004441  \n",
       "1514764980  737.994457 -0.004206  \n",
       "1514765040  737.303631 -0.002205  \n",
       "1514765100  736.163026 -0.001744  "
      ]
     },
     "execution_count": 49,
     "metadata": {},
     "output_type": "execute_result"
    }
   ],
   "source": [
    "#2. Subgroup Ethereum\n",
    "eth=c_time_sub(asset_id=6)\n",
    "(btc.index[1:] -btc.index[:-1]).value_counts().head()\n",
    "eth.head()"
   ]
  },
  {
   "cell_type": "code",
   "execution_count": 50,
   "id": "9eb0e037",
   "metadata": {},
   "outputs": [
    {
     "data": {
      "text/html": [
       "<div>\n",
       "<style scoped>\n",
       "    .dataframe tbody tr th:only-of-type {\n",
       "        vertical-align: middle;\n",
       "    }\n",
       "\n",
       "    .dataframe tbody tr th {\n",
       "        vertical-align: top;\n",
       "    }\n",
       "\n",
       "    .dataframe thead th {\n",
       "        text-align: right;\n",
       "    }\n",
       "</style>\n",
       "<table border=\"1\" class=\"dataframe\">\n",
       "  <thead>\n",
       "    <tr style=\"text-align: right;\">\n",
       "      <th></th>\n",
       "      <th>Asset_ID</th>\n",
       "      <th>Count</th>\n",
       "      <th>Open</th>\n",
       "      <th>High</th>\n",
       "      <th>Low</th>\n",
       "      <th>Close</th>\n",
       "      <th>Volume</th>\n",
       "      <th>VWAP</th>\n",
       "      <th>Target</th>\n",
       "    </tr>\n",
       "    <tr>\n",
       "      <th>timestamp</th>\n",
       "      <th></th>\n",
       "      <th></th>\n",
       "      <th></th>\n",
       "      <th></th>\n",
       "      <th></th>\n",
       "      <th></th>\n",
       "      <th></th>\n",
       "      <th></th>\n",
       "      <th></th>\n",
       "    </tr>\n",
       "  </thead>\n",
       "  <tbody>\n",
       "    <tr>\n",
       "      <th>1523956260</th>\n",
       "      <td>3</td>\n",
       "      <td>16.0</td>\n",
       "      <td>0.260000</td>\n",
       "      <td>0.260990</td>\n",
       "      <td>0.260000</td>\n",
       "      <td>0.260000</td>\n",
       "      <td>32230.832200</td>\n",
       "      <td>0.260200</td>\n",
       "      <td>-0.004612</td>\n",
       "    </tr>\n",
       "    <tr>\n",
       "      <th>1523956320</th>\n",
       "      <td>3</td>\n",
       "      <td>28.0</td>\n",
       "      <td>0.260000</td>\n",
       "      <td>0.260990</td>\n",
       "      <td>0.259852</td>\n",
       "      <td>0.260000</td>\n",
       "      <td>18711.228600</td>\n",
       "      <td>0.260037</td>\n",
       "      <td>0.000387</td>\n",
       "    </tr>\n",
       "    <tr>\n",
       "      <th>1523956380</th>\n",
       "      <td>3</td>\n",
       "      <td>9.0</td>\n",
       "      <td>0.260000</td>\n",
       "      <td>0.260000</td>\n",
       "      <td>0.258700</td>\n",
       "      <td>0.258700</td>\n",
       "      <td>6831.405700</td>\n",
       "      <td>0.259515</td>\n",
       "      <td>-0.005415</td>\n",
       "    </tr>\n",
       "    <tr>\n",
       "      <th>1523956440</th>\n",
       "      <td>3</td>\n",
       "      <td>5.0</td>\n",
       "      <td>0.259999</td>\n",
       "      <td>0.259999</td>\n",
       "      <td>0.259870</td>\n",
       "      <td>0.259998</td>\n",
       "      <td>4414.874062</td>\n",
       "      <td>0.259884</td>\n",
       "      <td>-0.005415</td>\n",
       "    </tr>\n",
       "    <tr>\n",
       "      <th>1523956500</th>\n",
       "      <td>3</td>\n",
       "      <td>9.0</td>\n",
       "      <td>0.259997</td>\n",
       "      <td>0.259997</td>\n",
       "      <td>0.259000</td>\n",
       "      <td>0.259997</td>\n",
       "      <td>10797.813800</td>\n",
       "      <td>0.259997</td>\n",
       "      <td>0.000385</td>\n",
       "    </tr>\n",
       "  </tbody>\n",
       "</table>\n",
       "</div>"
      ],
      "text/plain": [
       "            Asset_ID  Count      Open      High       Low     Close  \\\n",
       "timestamp                                                             \n",
       "1523956260         3   16.0  0.260000  0.260990  0.260000  0.260000   \n",
       "1523956320         3   28.0  0.260000  0.260990  0.259852  0.260000   \n",
       "1523956380         3    9.0  0.260000  0.260000  0.258700  0.258700   \n",
       "1523956440         3    5.0  0.259999  0.259999  0.259870  0.259998   \n",
       "1523956500         3    9.0  0.259997  0.259997  0.259000  0.259997   \n",
       "\n",
       "                  Volume      VWAP    Target  \n",
       "timestamp                                     \n",
       "1523956260  32230.832200  0.260200 -0.004612  \n",
       "1523956320  18711.228600  0.260037  0.000387  \n",
       "1523956380   6831.405700  0.259515 -0.005415  \n",
       "1523956440   4414.874062  0.259884 -0.005415  \n",
       "1523956500  10797.813800  0.259997  0.000385  "
      ]
     },
     "execution_count": 50,
     "metadata": {},
     "output_type": "execute_result"
    }
   ],
   "source": [
    "#3. Subgroup Cardano\n",
    "ada=c_time_sub(asset_id=3)\n",
    "(ada.index[1:] -ada.index[:-1]).value_counts().head()\n",
    "ada.head()"
   ]
  },
  {
   "cell_type": "code",
   "execution_count": 54,
   "id": "d9e5711b",
   "metadata": {},
   "outputs": [],
   "source": [
    "# Create time interval for 2021\n",
    "def dur(start,end,data):\n",
    "    df=data.loc[totimestamp(start): totimestamp(end)]\n",
    "    return df\n",
    "\n",
    "btc2021= dur(start=\"01/01/2021\", end=\"21/09/2021\", data=btc)\n",
    "eth2021= dur(start=\"01/01/2021\", end=\"21/09/2021\", data=eth)\n",
    "ada2021= dur(start=\"01/01/2021\", end=\"21/09/2021\", data=ada)"
   ]
  },
  {
   "cell_type": "markdown",
   "id": "4e806a30",
   "metadata": {},
   "source": [
    "#### Investment Tips 1\n",
    "We can see there is tremedeous price increase for BTC, ETH, and ADA in 2021, which implies they are all good investment"
   ]
  },
  {
   "cell_type": "code",
   "execution_count": 81,
   "id": "8e8ebeed",
   "metadata": {},
   "outputs": [
    {
     "data": {
      "image/png": "[encoded data removed]",
      "text/plain": [
       "<Figure size 720x864 with 3 Axes>"
      ]
     },
     "metadata": {
      "needs_background": "light"
     },
     "output_type": "display_data"
    }
   ],
   "source": [
    "# Plot the Closing Price for BTC, ETH, ADA\n",
    "f= plt.figure(figsize=(10,12))  \n",
    "\n",
    "def gplot(no , data, price, label, ylabel, color):\n",
    "    ax=f.add_subplot(no)\n",
    "    plt.plot(data[price], label=label, color=color)\n",
    "    plt.legend()\n",
    "    plt.xlabel(\"Time\")\n",
    "    plt.ylabel(ylabel)\n",
    "    return plt\n",
    "\n",
    "gplot(no=311, data=btc, price=\"Close\" , label=\"BTC 2021 Overall Performance\", ylabel=\"BTC Closing Price\", color=\"Lightskyblue\")\n",
    "gplot(no=312, data=eth, price=\"Close\" ,label=\"ETH 2021 Overall Performance\", ylabel=\"ETH Closing Price\", color=\"Coral\")\n",
    "gplot(no=313, data=ada, price=\"Close\" ,label=\"Cardano 2021 Overall Performance\", ylabel=\"ADA Closing Price\", color=\"khaki\")\n",
    "\n",
    "\n",
    "plt.tight_layout()\n",
    "plt.show()\n",
    "\n",
    "\n"
   ]
  },
  {
   "cell_type": "markdown",
   "id": "859cab34",
   "metadata": {},
   "source": [
    "### 3.2 Return Rate for BTC, ETH, and ADA\n",
    "we see the crypto currency price went up dramatically regardless of the type, we would like to investigate one step further for the Target variable.\n",
    "*Target : 15 minute resudualized returns.\n",
    "\n",
    "*Residual Return: An asset's residual return equals its excess return minus beta times the benchmark excess return.\n",
    "\n",
    "As we can see ETH, and BTC residual return are relatively stable compared to ADA.\n",
    "This might be a good implication that if the investor would take short time trading opportunities, ADA is a better choice. \n",
    "\n",
    "If the investor is risk averse, BTC or ETH will be a better fit"
   ]
  },
  {
   "cell_type": "code",
   "execution_count": 82,
   "id": "b09bc6d5",
   "metadata": {},
   "outputs": [
    {
     "data": {
      "image/png": "[encoded data removed]",
      "text/plain": [
       "<Figure size 720x864 with 3 Axes>"
      ]
     },
     "metadata": {
      "needs_background": "light"
     },
     "output_type": "display_data"
    }
   ],
   "source": [
    "f= plt.figure(figsize=(10,12))  \n",
    "gplot(no=311, data=btc, price=\"Target\" , label=\"BTC 2021 15min Return Residue\", ylabel=\"BTC residual return\", color=\"Aqua\")\n",
    "gplot(no=312, data=eth, price=\"Target\" ,label=\"ETH 2021 15min Return Residue\", ylabel=\"ETH residual return\", color=\"Pink\")\n",
    "gplot(no=313, data=ada, price=\"Target\" ,label=\"ADA 2021 15min Return Residue\", ylabel=\"ADA residual return\", color=\"gold\")\n",
    "\n",
    "\n",
    "plt.tight_layout()\n",
    "plt.show()"
   ]
  },
  {
   "cell_type": "markdown",
   "id": "3459da8a",
   "metadata": {},
   "source": [
    "### 3.3 Candlestick Chart \n",
    "Candlestick charts are used by traders to determine possible price movement based on past patterns."
   ]
  },
  {
   "cell_type": "code",
   "execution_count": 113,
   "id": "80063317",
   "metadata": {},
   "outputs": [
    {
     "data": {
      "text/html": [
       "<div>\n",
       "<style scoped>\n",
       "    .dataframe tbody tr th:only-of-type {\n",
       "        vertical-align: middle;\n",
       "    }\n",
       "\n",
       "    .dataframe tbody tr th {\n",
       "        vertical-align: top;\n",
       "    }\n",
       "\n",
       "    .dataframe thead th {\n",
       "        text-align: right;\n",
       "    }\n",
       "</style>\n",
       "<table border=\"1\" class=\"dataframe\">\n",
       "  <thead>\n",
       "    <tr style=\"text-align: right;\">\n",
       "      <th></th>\n",
       "      <th>Asset_ID</th>\n",
       "      <th>Count</th>\n",
       "      <th>Open</th>\n",
       "      <th>High</th>\n",
       "      <th>Low</th>\n",
       "      <th>Close</th>\n",
       "      <th>Volume</th>\n",
       "      <th>VWAP</th>\n",
       "      <th>Target</th>\n",
       "    </tr>\n",
       "    <tr>\n",
       "      <th>timestamp</th>\n",
       "      <th></th>\n",
       "      <th></th>\n",
       "      <th></th>\n",
       "      <th></th>\n",
       "      <th></th>\n",
       "      <th></th>\n",
       "      <th></th>\n",
       "      <th></th>\n",
       "      <th></th>\n",
       "    </tr>\n",
       "  </thead>\n",
       "  <tbody>\n",
       "    <tr>\n",
       "      <th>2018-01-01 00:01:00</th>\n",
       "      <td>1</td>\n",
       "      <td>229.0</td>\n",
       "      <td>13835.194</td>\n",
       "      <td>14013.8</td>\n",
       "      <td>13666.11</td>\n",
       "      <td>13850.176</td>\n",
       "      <td>31.550062</td>\n",
       "      <td>13827.062093</td>\n",
       "      <td>-0.014643</td>\n",
       "    </tr>\n",
       "    <tr>\n",
       "      <th>2018-01-01 00:02:00</th>\n",
       "      <td>1</td>\n",
       "      <td>235.0</td>\n",
       "      <td>13835.036</td>\n",
       "      <td>14052.3</td>\n",
       "      <td>13680.00</td>\n",
       "      <td>13828.102</td>\n",
       "      <td>31.046432</td>\n",
       "      <td>13840.362591</td>\n",
       "      <td>-0.015037</td>\n",
       "    </tr>\n",
       "    <tr>\n",
       "      <th>2018-01-01 00:03:00</th>\n",
       "      <td>1</td>\n",
       "      <td>528.0</td>\n",
       "      <td>13823.900</td>\n",
       "      <td>14000.4</td>\n",
       "      <td>13601.00</td>\n",
       "      <td>13801.314</td>\n",
       "      <td>55.061820</td>\n",
       "      <td>13806.068014</td>\n",
       "      <td>-0.010309</td>\n",
       "    </tr>\n",
       "    <tr>\n",
       "      <th>2018-01-01 00:04:00</th>\n",
       "      <td>1</td>\n",
       "      <td>435.0</td>\n",
       "      <td>13802.512</td>\n",
       "      <td>13999.0</td>\n",
       "      <td>13576.28</td>\n",
       "      <td>13768.040</td>\n",
       "      <td>38.780529</td>\n",
       "      <td>13783.598101</td>\n",
       "      <td>-0.008999</td>\n",
       "    </tr>\n",
       "    <tr>\n",
       "      <th>2018-01-01 00:05:00</th>\n",
       "      <td>1</td>\n",
       "      <td>742.0</td>\n",
       "      <td>13766.000</td>\n",
       "      <td>13955.9</td>\n",
       "      <td>13554.44</td>\n",
       "      <td>13724.914</td>\n",
       "      <td>108.501637</td>\n",
       "      <td>13735.586842</td>\n",
       "      <td>-0.008079</td>\n",
       "    </tr>\n",
       "  </tbody>\n",
       "</table>\n",
       "</div>"
      ],
      "text/plain": [
       "                     Asset_ID  Count       Open     High       Low      Close  \\\n",
       "timestamp                                                                       \n",
       "2018-01-01 00:01:00         1  229.0  13835.194  14013.8  13666.11  13850.176   \n",
       "2018-01-01 00:02:00         1  235.0  13835.036  14052.3  13680.00  13828.102   \n",
       "2018-01-01 00:03:00         1  528.0  13823.900  14000.4  13601.00  13801.314   \n",
       "2018-01-01 00:04:00         1  435.0  13802.512  13999.0  13576.28  13768.040   \n",
       "2018-01-01 00:05:00         1  742.0  13766.000  13955.9  13554.44  13724.914   \n",
       "\n",
       "                         Volume          VWAP    Target  \n",
       "timestamp                                                \n",
       "2018-01-01 00:01:00   31.550062  13827.062093 -0.014643  \n",
       "2018-01-01 00:02:00   31.046432  13840.362591 -0.015037  \n",
       "2018-01-01 00:03:00   55.061820  13806.068014 -0.010309  \n",
       "2018-01-01 00:04:00   38.780529  13783.598101 -0.008999  \n",
       "2018-01-01 00:05:00  108.501637  13735.586842 -0.008079  "
      ]
     },
     "execution_count": 113,
     "metadata": {},
     "output_type": "execute_result"
    }
   ],
   "source": [
    "def c_chart(data,label):\n",
    "    candlestick = go.Figure(data = [go.Candlestick(x =data.index, \n",
    "                                               open = data[('Open')], \n",
    "                                               high = data[('High')], \n",
    "                                               low = data[('Low')], \n",
    "                                               close = data[('Close')])])\n",
    "    candlestick.update_xaxes(title_text = 'Time',\n",
    "                             rangeslider_visible = True)\n",
    "\n",
    "    candlestick.update_layout(\n",
    "    title = {\n",
    "        'text': '{:} Candelstick Chart'.format(label),\n",
    "        \"y\":0.8,\n",
    "        \"x\":0.5,\n",
    "        'xanchor': 'center',\n",
    "        'yanchor': 'top'})\n",
    "\n",
    "    candlestick.update_yaxes(title_text = 'Price in USD', ticksuffix = '$')\n",
    "    return candlestick\n",
    "\n",
    "btc1.head()"
   ]
  },
  {
   "cell_type": "markdown",
   "id": "8ccc8b4f",
   "metadata": {},
   "source": [
    "#### Investment Tips 2\n",
    "During the time interval 22:40 to 22:50, there is a series of downward red candle, which represent **Oversold.** Theoratically, the price would go up followed by a Oversold interval\n",
    "\n",
    "**Oversold** means it's trading below what would be a typical or average trading range(sometimes the investors also call it as true value). Normally, oversold draw buyers in the market.\n"
   ]
  },
  {
   "cell_type": "code",
   "execution_count": 204,
   "id": "7d45a056",
   "metadata": {},
   "outputs": [
    {
     "data": {
      "application/vnd.plotly.v1+json": {
       "config": {
        "plotlyServerURL": "https://plot.ly"
       },
       "data": [
        {
         "close": [
          43797.20571428572,
          43798.15714285714,
          43804.61142857144,
          43831.59142857143,
          43871.69625,
          43897.16857142858,
          43901.38285714285,
          43883.25895342144,
          43862.52,
          43894.77857142857,
          43866.73499999999,
          43845.84857142857,
          43823.298571428575,
          43752.76714285714,
          43703.374285714286,
          43669.07857142857,
          43642.77285714285,
          43615.38,
          43504.42428571429,
          43367.88571428572,
          43316.7225,
          43295.04428571429,
          43250.16571428572,
          43075.9025,
          43232.90125,
          43259.1575,
          43293.7075,
          43305.09857142857,
          43327.79,
          43356.28068103,
          43344.55857142858,
          43484.61375,
          43580.82375,
          43470.794999999984,
          43198.788571428566,
          43213.69,
          43269.54714285715,
          43239.26125,
          43114.23614144125,
          43067.63,
          43060.81,
          42991.2775,
          42989.62375,
          43219.33125,
          43140.19135458125,
          43198.24000000001,
          43110.797500000015,
          43157.72298172143,
          43099.1575,
          43051.08285714287,
          42966.91285714286,
          43009.43142857143,
          42880.67875,
          42822.040000000015,
          42699.178750000014,
          42778.885,
          42779.71,
          42700.44625,
          42659.58241635572,
          42600.39625,
          42624.279999999984,
          42577,
          42679.60625,
          42678.21816655625,
          42762.514285714286,
          42825.295,
          42736.6525,
          42769.39571428571,
          42637.115,
          42703.63625,
          42781.97057111125,
          42755.5925,
          42717.23428571428,
          42657.20249999999,
          42678.72142857143,
          42778.29125,
          42790.17571428571,
          42731.73142857143,
          42898.565,
          42939.64571428572,
          42927.167142857135,
          42979.83375,
          42960.60142857144,
          42985.48285714286,
          42985.21482412572,
          42899.01285714287,
          42860.00571428572,
          42827.02,
          43017.277142857136,
          43002.505
         ],
         "high": [
          43818.6,
          43818.4,
          43821.1,
          43840.7,
          43910.99,
          43912.1,
          43940,
          43912,
          43908.5,
          43906.71,
          43906.73,
          43874.98,
          43851.4,
          43843.87,
          43782.1,
          43721.3,
          43699.8,
          43679.99,
          43633.3,
          43560.02,
          43417.91,
          43354.59,
          43359.44,
          43259.3,
          43281,
          43301.61947119,
          43320.02,
          43348.22,
          43366,
          43391.85,
          43376,
          43546.61,
          43640,
          43627,
          43455,
          43276.57,
          43366,
          43288.47,
          43287.5,
          43133.15,
          43099.98,
          43072.2,
          43069.67,
          43289.9,
          43350.5,
          43229.1,
          43247.5,
          43193.54,
          43172.9,
          43122,
          43082.02,
          43029.49,
          43015,
          42897,
          42884.85,
          42836.33,
          42811,
          42852,
          42719.98,
          42779.1,
          42703.01,
          42650,
          42705,
          42802.54,
          42862,
          42877.82,
          42846,
          42833.9,
          42841.99,
          42736.9,
          42819.38,
          42827.1,
          42811.3,
          42752,
          42715.99,
          42810.26,
          42828,
          42827.7,
          42937.31,
          42966.98,
          42971.95,
          43014.98,
          43005.65,
          43008.85,
          43006.54,
          43001.85084871,
          42932,
          42887.5,
          43042.16,
          43048.51
         ],
         "low": [
          43766.7,
          43757.17,
          43782.18,
          43795.58,
          43823.74,
          43842.5,
          43875.72,
          43866.3,
          43847,
          43835.66,
          43850.16,
          43832.56,
          43813.11,
          43746,
          43687,
          43650.01,
          43627.29,
          43600,
          43499.99,
          43350.4,
          43295.74,
          43278.42,
          43221.04,
          43003.84,
          43067,
          43172.38,
          43172,
          43220.67,
          43261.3,
          43333.51,
          43283.1,
          43335.64,
          43441.56,
          43428.8,
          43172.9,
          43133.08,
          43209.9,
          43218.81,
          43062.9,
          43050.9,
          43019.49,
          42930.14,
          42967.33,
          42969.79,
          43106.01,
          43026.47,
          43092.88,
          43064.36,
          43058.56,
          43007.67,
          42898.8,
          42900,
          42801,
          42795.45,
          42659.29112887,
          42660.05,
          42651.4,
          42672.8,
          42640,
          42575,
          42579.4,
          42515.09,
          42548.09,
          42626.61,
          42660.7,
          42743.68,
          42688.55,
          42731.17,
          42600,
          42607.5,
          42690.84,
          42690.75,
          42694.37,
          42636.76,
          42630.17,
          42662.27,
          42742.36,
          42713.48,
          42713.48,
          42852.07,
          42899.1,
          42907.18,
          42929.74,
          42953.1,
          42958.06,
          42878.26,
          42840.16,
          42797.2,
          42818.1,
          42961.64
         ],
         "open": [
          43798.41857142857,
          43794.84032981571,
          43807.66285714285,
          43807.34428571429,
          43836.9875,
          43872.08714285714,
          43900.88857142856,
          43901.008571428574,
          43890.30857142857,
          43858.474285714285,
          43893.88166666668,
          43866.00571428572,
          43843.235714285714,
          43821.555714285714,
          43752.37,
          43704.62857142857,
          43671.72,
          43644.06142857143,
          43610.07408044428,
          43504.71428571428,
          43365.91375,
          43313.70812588,
          43296.055714285714,
          43239.0175,
          43092.85375,
          43251.94250000001,
          43264.50125,
          43307.44571428571,
          43296.88375,
          43341.862857142856,
          43353.12,
          43365.74875000001,
          43477.0875,
          43588.102500000015,
          43447.60285714286,
          43205.55625,
          43234.95285714286,
          43267.83,
          43229.50125,
          43106.66925542,
          43064.47714285714,
          43054.81000000001,
          43002.9225,
          42998.535,
          43227.1275,
          43122.16,
          43192.76624999999,
          43106.25997366144,
          43159.91625,
          43085.22049047715,
          43049.56714285714,
          42972.15714285714,
          42979.09125000001,
          42873.23000000002,
          42815.11375,
          42707.930000000015,
          42766.4325,
          42775.73125,
          42694.57285714285,
          42675.71750000001,
          42599.647142857146,
          42620.29375,
          42577.715,
          42683.24375,
          42673.72571428572,
          42768.39625000001,
          42819.91125,
          42750.58285714287,
          42760.10875,
          42632.465,
          42718.815,
          42772.92125,
          42762.29,
          42703.80250000001,
          42655.528483642855,
          42688.935,
          42790.287142857145,
          42792.855714285724,
          42745.15375,
          42896.17428571428,
          42937.78428571428,
          42933.25490686,
          42974.10869267286,
          42971.347142857136,
          42982.91571428572,
          42983.779999999984,
          42904.19714285714,
          42859.38571428572,
          42839.01280218857,
          43009.96125
         ],
         "type": "candlestick",
         "x": [
          "2021-09-20T22:31:00",
          "2021-09-20T22:32:00",
          "2021-09-20T22:33:00",
          "2021-09-20T22:34:00",
          "2021-09-20T22:35:00",
          "2021-09-20T22:36:00",
          "2021-09-20T22:37:00",
          "2021-09-20T22:38:00",
          "2021-09-20T22:39:00",
          "2021-09-20T22:40:00",
          "2021-09-20T22:41:00",
          "2021-09-20T22:42:00",
          "2021-09-20T22:43:00",
          "2021-09-20T22:44:00",
          "2021-09-20T22:45:00",
          "2021-09-20T22:46:00",
          "2021-09-20T22:47:00",
          "2021-09-20T22:48:00",
          "2021-09-20T22:49:00",
          "2021-09-20T22:50:00",
          "2021-09-20T22:51:00",
          "2021-09-20T22:52:00",
          "2021-09-20T22:53:00",
          "2021-09-20T22:54:00",
          "2021-09-20T22:55:00",
          "2021-09-20T22:56:00",
          "2021-09-20T22:57:00",
          "2021-09-20T22:58:00",
          "2021-09-20T22:59:00",
          "2021-09-20T23:00:00",
          "2021-09-20T23:01:00",
          "2021-09-20T23:02:00",
          "2021-09-20T23:03:00",
          "2021-09-20T23:04:00",
          "2021-09-20T23:05:00",
          "2021-09-20T23:06:00",
          "2021-09-20T23:07:00",
          "2021-09-20T23:08:00",
          "2021-09-20T23:09:00",
          "2021-09-20T23:10:00",
          "2021-09-20T23:11:00",
          "2021-09-20T23:12:00",
          "2021-09-20T23:13:00",
          "2021-09-20T23:14:00",
          "2021-09-20T23:15:00",
          "2021-09-20T23:16:00",
          "2021-09-20T23:17:00",
          "2021-09-20T23:18:00",
          "2021-09-20T23:19:00",
          "2021-09-20T23:20:00",
          "2021-09-20T23:21:00",
          "2021-09-20T23:22:00",
          "2021-09-20T23:23:00",
          "2021-09-20T23:24:00",
          "2021-09-20T23:25:00",
          "2021-09-20T23:26:00",
          "2021-09-20T23:27:00",
          "2021-09-20T23:28:00",
          "2021-09-20T23:29:00",
          "2021-09-20T23:30:00",
          "2021-09-20T23:31:00",
          "2021-09-20T23:32:00",
          "2021-09-20T23:33:00",
          "2021-09-20T23:34:00",
          "2021-09-20T23:35:00",
          "2021-09-20T23:36:00",
          "2021-09-20T23:37:00",
          "2021-09-20T23:38:00",
          "2021-09-20T23:39:00",
          "2021-09-20T23:40:00",
          "2021-09-20T23:41:00",
          "2021-09-20T23:42:00",
          "2021-09-20T23:43:00",
          "2021-09-20T23:44:00",
          "2021-09-20T23:45:00",
          "2021-09-20T23:46:00",
          "2021-09-20T23:47:00",
          "2021-09-20T23:48:00",
          "2021-09-20T23:49:00",
          "2021-09-20T23:50:00",
          "2021-09-20T23:51:00",
          "2021-09-20T23:52:00",
          "2021-09-20T23:53:00",
          "2021-09-20T23:54:00",
          "2021-09-20T23:55:00",
          "2021-09-20T23:56:00",
          "2021-09-20T23:57:00",
          "2021-09-20T23:58:00",
          "2021-09-20T23:59:00",
          "2021-09-21T00:00:00"
         ]
        }
       ],
       "layout": {
        "template": {
         "data": {
          "bar": [
           {
            "error_x": {
             "color": "#2a3f5f"
            },
            "error_y": {
             "color": "#2a3f5f"
            },
            "marker": {
             "line": {
              "color": "#E5ECF6",
              "width": 0.5
             },
             "pattern": {
              "fillmode": "overlay",
              "size": 10,
              "solidity": 0.2
             }
            },
            "type": "bar"
           }
          ],
          "barpolar": [
           {
            "marker": {
             "line": {
              "color": "#E5ECF6",
              "width": 0.5
             },
             "pattern": {
              "fillmode": "overlay",
              "size": 10,
              "solidity": 0.2
             }
            },
            "type": "barpolar"
           }
          ],
          "carpet": [
           {
            "aaxis": {
             "endlinecolor": "#2a3f5f",
             "gridcolor": "white",
             "linecolor": "white",
             "minorgridcolor": "white",
             "startlinecolor": "#2a3f5f"
            },
            "baxis": {
             "endlinecolor": "#2a3f5f",
             "gridcolor": "white",
             "linecolor": "white",
             "minorgridcolor": "white",
             "startlinecolor": "#2a3f5f"
            },
            "type": "carpet"
           }
          ],
          "choropleth": [
           {
            "colorbar": {
             "outlinewidth": 0,
             "ticks": ""
            },
            "type": "choropleth"
           }
          ],
          "contour": [
           {
            "colorbar": {
             "outlinewidth": 0,
             "ticks": ""
            },
            "colorscale": [
             [
              0,
              "#0d0887"
             ],
             [
              0.1111111111111111,
              "#46039f"
             ],
             [
              0.2222222222222222,
              "#7201a8"
             ],
             [
              0.3333333333333333,
              "#9c179e"
             ],
             [
              0.4444444444444444,
              "#bd3786"
             ],
             [
              0.5555555555555556,
              "#d8576b"
             ],
             [
              0.6666666666666666,
              "#ed7953"
             ],
             [
              0.7777777777777778,
              "#fb9f3a"
             ],
             [
              0.8888888888888888,
              "#fdca26"
             ],
             [
              1,
              "#f0f921"
             ]
            ],
            "type": "contour"
           }
          ],
          "contourcarpet": [
           {
            "colorbar": {
             "outlinewidth": 0,
             "ticks": ""
            },
            "type": "contourcarpet"
           }
          ],
          "heatmap": [
           {
            "colorbar": {
             "outlinewidth": 0,
             "ticks": ""
            },
            "colorscale": [
             [
              0,
              "#0d0887"
             ],
             [
              0.1111111111111111,
              "#46039f"
             ],
             [
              0.2222222222222222,
              "#7201a8"
             ],
             [
              0.3333333333333333,
              "#9c179e"
             ],
             [
              0.4444444444444444,
              "#bd3786"
             ],
             [
              0.5555555555555556,
              "#d8576b"
             ],
             [
              0.6666666666666666,
              "#ed7953"
             ],
             [
              0.7777777777777778,
              "#fb9f3a"
             ],
             [
              0.8888888888888888,
              "#fdca26"
             ],
             [
              1,
              "#f0f921"
             ]
            ],
            "type": "heatmap"
           }
          ],
          "heatmapgl": [
           {
            "colorbar": {
             "outlinewidth": 0,
             "ticks": ""
            },
            "colorscale": [
             [
              0,
              "#0d0887"
             ],
             [
              0.1111111111111111,
              "#46039f"
             ],
             [
              0.2222222222222222,
              "#7201a8"
             ],
             [
              0.3333333333333333,
              "#9c179e"
             ],
             [
              0.4444444444444444,
              "#bd3786"
             ],
             [
              0.5555555555555556,
              "#d8576b"
             ],
             [
              0.6666666666666666,
              "#ed7953"
             ],
             [
              0.7777777777777778,
              "#fb9f3a"
             ],
             [
              0.8888888888888888,
              "#fdca26"
             ],
             [
              1,
              "#f0f921"
             ]
            ],
            "type": "heatmapgl"
           }
          ],
          "histogram": [
           {
            "marker": {
             "pattern": {
              "fillmode": "overlay",
              "size": 10,
              "solidity": 0.2
             }
            },
            "type": "histogram"
           }
          ],
          "histogram2d": [
           {
            "colorbar": {
             "outlinewidth": 0,
             "ticks": ""
            },
            "colorscale": [
             [
              0,
              "#0d0887"
             ],
             [
              0.1111111111111111,
              "#46039f"
             ],
             [
              0.2222222222222222,
              "#7201a8"
             ],
             [
              0.3333333333333333,
              "#9c179e"
             ],
             [
              0.4444444444444444,
              "#bd3786"
             ],
             [
              0.5555555555555556,
              "#d8576b"
             ],
             [
              0.6666666666666666,
              "#ed7953"
             ],
             [
              0.7777777777777778,
              "#fb9f3a"
             ],
             [
              0.8888888888888888,
              "#fdca26"
             ],
             [
              1,
              "#f0f921"
             ]
            ],
            "type": "histogram2d"
           }
          ],
          "histogram2dcontour": [
           {
            "colorbar": {
             "outlinewidth": 0,
             "ticks": ""
            },
            "colorscale": [
             [
              0,
              "#0d0887"
             ],
             [
              0.1111111111111111,
              "#46039f"
             ],
             [
              0.2222222222222222,
              "#7201a8"
             ],
             [
              0.3333333333333333,
              "#9c179e"
             ],
             [
              0.4444444444444444,
              "#bd3786"
             ],
             [
              0.5555555555555556,
              "#d8576b"
             ],
             [
              0.6666666666666666,
              "#ed7953"
             ],
             [
              0.7777777777777778,
              "#fb9f3a"
             ],
             [
              0.8888888888888888,
              "#fdca26"
             ],
             [
              1,
              "#f0f921"
             ]
            ],
            "type": "histogram2dcontour"
           }
          ],
          "mesh3d": [
           {
            "colorbar": {
             "outlinewidth": 0,
             "ticks": ""
            },
            "type": "mesh3d"
           }
          ],
          "parcoords": [
           {
            "line": {
             "colorbar": {
              "outlinewidth": 0,
              "ticks": ""
             }
            },
            "type": "parcoords"
           }
          ],
          "pie": [
           {
            "automargin": true,
            "type": "pie"
           }
          ],
          "scatter": [
           {
            "marker": {
             "colorbar": {
              "outlinewidth": 0,
              "ticks": ""
             }
            },
            "type": "scatter"
           }
          ],
          "scatter3d": [
           {
            "line": {
             "colorbar": {
              "outlinewidth": 0,
              "ticks": ""
             }
            },
            "marker": {
             "colorbar": {
              "outlinewidth": 0,
              "ticks": ""
             }
            },
            "type": "scatter3d"
           }
          ],
          "scattercarpet": [
           {
            "marker": {
             "colorbar": {
              "outlinewidth": 0,
              "ticks": ""
             }
            },
            "type": "scattercarpet"
           }
          ],
          "scattergeo": [
           {
            "marker": {
             "colorbar": {
              "outlinewidth": 0,
              "ticks": ""
             }
            },
            "type": "scattergeo"
           }
          ],
          "scattergl": [
           {
            "marker": {
             "colorbar": {
              "outlinewidth": 0,
              "ticks": ""
             }
            },
            "type": "scattergl"
           }
          ],
          "scattermapbox": [
           {
            "marker": {
             "colorbar": {
              "outlinewidth": 0,
              "ticks": ""
             }
            },
            "type": "scattermapbox"
           }
          ],
          "scatterpolar": [
           {
            "marker": {
             "colorbar": {
              "outlinewidth": 0,
              "ticks": ""
             }
            },
            "type": "scatterpolar"
           }
          ],
          "scatterpolargl": [
           {
            "marker": {
             "colorbar": {
              "outlinewidth": 0,
              "ticks": ""
             }
            },
            "type": "scatterpolargl"
           }
          ],
          "scatterternary": [
           {
            "marker": {
             "colorbar": {
              "outlinewidth": 0,
              "ticks": ""
             }
            },
            "type": "scatterternary"
           }
          ],
          "surface": [
           {
            "colorbar": {
             "outlinewidth": 0,
             "ticks": ""
            },
            "colorscale": [
             [
              0,
              "#0d0887"
             ],
             [
              0.1111111111111111,
              "#46039f"
             ],
             [
              0.2222222222222222,
              "#7201a8"
             ],
             [
              0.3333333333333333,
              "#9c179e"
             ],
             [
              0.4444444444444444,
              "#bd3786"
             ],
             [
              0.5555555555555556,
              "#d8576b"
             ],
             [
              0.6666666666666666,
              "#ed7953"
             ],
             [
              0.7777777777777778,
              "#fb9f3a"
             ],
             [
              0.8888888888888888,
              "#fdca26"
             ],
             [
              1,
              "#f0f921"
             ]
            ],
            "type": "surface"
           }
          ],
          "table": [
           {
            "cells": {
             "fill": {
              "color": "#EBF0F8"
             },
             "line": {
              "color": "white"
             }
            },
            "header": {
             "fill": {
              "color": "#C8D4E3"
             },
             "line": {
              "color": "white"
             }
            },
            "type": "table"
           }
          ]
         },
         "layout": {
          "annotationdefaults": {
           "arrowcolor": "#2a3f5f",
           "arrowhead": 0,
           "arrowwidth": 1
          },
          "autotypenumbers": "strict",
          "coloraxis": {
           "colorbar": {
            "outlinewidth": 0,
            "ticks": ""
           }
          },
          "colorscale": {
           "diverging": [
            [
             0,
             "#8e0152"
            ],
            [
             0.1,
             "#c51b7d"
            ],
            [
             0.2,
             "#de77ae"
            ],
            [
             0.3,
             "#f1b6da"
            ],
            [
             0.4,
             "#fde0ef"
            ],
            [
             0.5,
             "#f7f7f7"
            ],
            [
             0.6,
             "#e6f5d0"
            ],
            [
             0.7,
             "#b8e186"
            ],
            [
             0.8,
             "#7fbc41"
            ],
            [
             0.9,
             "#4d9221"
            ],
            [
             1,
             "#276419"
            ]
           ],
           "sequential": [
            [
             0,
             "#0d0887"
            ],
            [
             0.1111111111111111,
             "#46039f"
            ],
            [
             0.2222222222222222,
             "#7201a8"
            ],
            [
             0.3333333333333333,
             "#9c179e"
            ],
            [
             0.4444444444444444,
             "#bd3786"
            ],
            [
             0.5555555555555556,
             "#d8576b"
            ],
            [
             0.6666666666666666,
             "#ed7953"
            ],
            [
             0.7777777777777778,
             "#fb9f3a"
            ],
            [
             0.8888888888888888,
             "#fdca26"
            ],
            [
             1,
             "#f0f921"
            ]
           ],
           "sequentialminus": [
            [
             0,
             "#0d0887"
            ],
            [
             0.1111111111111111,
             "#46039f"
            ],
            [
             0.2222222222222222,
             "#7201a8"
            ],
            [
             0.3333333333333333,
             "#9c179e"
            ],
            [
             0.4444444444444444,
             "#bd3786"
            ],
            [
             0.5555555555555556,
             "#d8576b"
            ],
            [
             0.6666666666666666,
             "#ed7953"
            ],
            [
             0.7777777777777778,
             "#fb9f3a"
            ],
            [
             0.8888888888888888,
             "#fdca26"
            ],
            [
             1,
             "#f0f921"
            ]
           ]
          },
          "colorway": [
           "#636efa",
           "#EF553B",
           "#00cc96",
           "#ab63fa",
           "#FFA15A",
           "#19d3f3",
           "#FF6692",
           "#B6E880",
           "#FF97FF",
           "#FECB52"
          ],
          "font": {
           "color": "#2a3f5f"
          },
          "geo": {
           "bgcolor": "white",
           "lakecolor": "white",
           "landcolor": "#E5ECF6",
           "showlakes": true,
           "showland": true,
           "subunitcolor": "white"
          },
          "hoverlabel": {
           "align": "left"
          },
          "hovermode": "closest",
          "mapbox": {
           "style": "light"
          },
          "paper_bgcolor": "white",
          "plot_bgcolor": "#E5ECF6",
          "polar": {
           "angularaxis": {
            "gridcolor": "white",
            "linecolor": "white",
            "ticks": ""
           },
           "bgcolor": "#E5ECF6",
           "radialaxis": {
            "gridcolor": "white",
            "linecolor": "white",
            "ticks": ""
           }
          },
          "scene": {
           "xaxis": {
            "backgroundcolor": "#E5ECF6",
            "gridcolor": "white",
            "gridwidth": 2,
            "linecolor": "white",
            "showbackground": true,
            "ticks": "",
            "zerolinecolor": "white"
           },
           "yaxis": {
            "backgroundcolor": "#E5ECF6",
            "gridcolor": "white",
            "gridwidth": 2,
            "linecolor": "white",
            "showbackground": true,
            "ticks": "",
            "zerolinecolor": "white"
           },
           "zaxis": {
            "backgroundcolor": "#E5ECF6",
            "gridcolor": "white",
            "gridwidth": 2,
            "linecolor": "white",
            "showbackground": true,
            "ticks": "",
            "zerolinecolor": "white"
           }
          },
          "shapedefaults": {
           "line": {
            "color": "#2a3f5f"
           }
          },
          "ternary": {
           "aaxis": {
            "gridcolor": "white",
            "linecolor": "white",
            "ticks": ""
           },
           "baxis": {
            "gridcolor": "white",
            "linecolor": "white",
            "ticks": ""
           },
           "bgcolor": "#E5ECF6",
           "caxis": {
            "gridcolor": "white",
            "linecolor": "white",
            "ticks": ""
           }
          },
          "title": {
           "x": 0.05
          },
          "xaxis": {
           "automargin": true,
           "gridcolor": "white",
           "linecolor": "white",
           "ticks": "",
           "title": {
            "standoff": 15
           },
           "zerolinecolor": "white",
           "zerolinewidth": 2
          },
          "yaxis": {
           "automargin": true,
           "gridcolor": "white",
           "linecolor": "white",
           "ticks": "",
           "title": {
            "standoff": 15
           },
           "zerolinecolor": "white",
           "zerolinewidth": 2
          }
         }
        },
        "title": {
         "text": "BTC Price Candelstick Chart",
         "x": 0.5,
         "xanchor": "center",
         "y": 0.8,
         "yanchor": "top"
        },
        "xaxis": {
         "rangeslider": {
          "visible": true
         },
         "title": {
          "text": "Time"
         }
        },
        "yaxis": {
         "ticksuffix": "$",
         "title": {
          "text": "Price in USD"
         }
        }
       }
      },
      "text/html": [
       "<div>                            <div id=\"339dbb36-681f-4382-aa29-b09f1c7c5373\" class=\"plotly-graph-div\" style=\"height:525px; width:100%;\"></div>            <script type=\"text/javascript\">                require([\"plotly\"], function(Plotly) {                    window.PLOTLYENV=window.PLOTLYENV || {};                                    if (document.getElementById(\"339dbb36-681f-4382-aa29-b09f1c7c5373\")) {                    Plotly.newPlot(                        \"339dbb36-681f-4382-aa29-b09f1c7c5373\",                        [{\"close\":[43797.20571428572,43798.15714285714,43804.61142857144,43831.59142857143,43871.69625,43897.16857142858,43901.38285714285,43883.25895342144,43862.52,43894.77857142857,43866.73499999999,43845.84857142857,43823.298571428575,43752.76714285714,43703.374285714286,43669.07857142857,43642.77285714285,43615.38,43504.42428571429,43367.88571428572,43316.7225,43295.04428571429,43250.16571428572,43075.9025,43232.90125,43259.1575,43293.7075,43305.09857142857,43327.79,43356.28068103,43344.55857142858,43484.61375,43580.82375,43470.794999999984,43198.788571428566,43213.69,43269.54714285715,43239.26125,43114.23614144125,43067.63,43060.81,42991.2775,42989.62375,43219.33125,43140.19135458125,43198.24000000001,43110.797500000015,43157.72298172143,43099.1575,43051.08285714287,42966.91285714286,43009.43142857143,42880.67875,42822.040000000015,42699.178750000014,42778.885,42779.71,42700.44625,42659.58241635572,42600.39625,42624.279999999984,42577.0,42679.60625,42678.21816655625,42762.514285714286,42825.295,42736.6525,42769.39571428571,42637.115,42703.63625,42781.97057111125,42755.5925,42717.23428571428,42657.20249999999,42678.72142857143,42778.29125,42790.17571428571,42731.73142857143,42898.565,42939.64571428572,42927.167142857135,42979.83375,42960.60142857144,42985.48285714286,42985.21482412572,42899.01285714287,42860.00571428572,42827.02,43017.277142857136,43002.505],\"high\":[43818.6,43818.4,43821.1,43840.7,43910.99,43912.1,43940.0,43912.0,43908.5,43906.71,43906.73,43874.98,43851.4,43843.87,43782.1,43721.3,43699.8,43679.99,43633.3,43560.02,43417.91,43354.59,43359.44,43259.3,43281.0,43301.61947119,43320.02,43348.22,43366.0,43391.85,43376.0,43546.61,43640.0,43627.0,43455.0,43276.57,43366.0,43288.47,43287.5,43133.15,43099.98,43072.2,43069.67,43289.9,43350.5,43229.1,43247.5,43193.54,43172.9,43122.0,43082.02,43029.49,43015.0,42897.0,42884.85,42836.33,42811.0,42852.0,42719.98,42779.1,42703.01,42650.0,42705.0,42802.54,42862.0,42877.82,42846.0,42833.9,42841.99,42736.9,42819.38,42827.1,42811.3,42752.0,42715.99,42810.26,42828.0,42827.7,42937.31,42966.98,42971.95,43014.98,43005.65,43008.85,43006.54,43001.85084871,42932.0,42887.5,43042.16,43048.51],\"low\":[43766.7,43757.17,43782.18,43795.58,43823.74,43842.5,43875.72,43866.3,43847.0,43835.66,43850.16,43832.56,43813.11,43746.0,43687.0,43650.01,43627.29,43600.0,43499.99,43350.4,43295.74,43278.42,43221.04,43003.84,43067.0,43172.38,43172.0,43220.67,43261.3,43333.51,43283.1,43335.64,43441.56,43428.8,43172.9,43133.08,43209.9,43218.81,43062.9,43050.9,43019.49,42930.14,42967.33,42969.79,43106.01,43026.47,43092.88,43064.36,43058.56,43007.67,42898.8,42900.0,42801.0,42795.45,42659.29112887,42660.05,42651.4,42672.8,42640.0,42575.0,42579.4,42515.09,42548.09,42626.61,42660.7,42743.68,42688.55,42731.17,42600.0,42607.5,42690.84,42690.75,42694.37,42636.76,42630.17,42662.27,42742.36,42713.48,42713.48,42852.07,42899.1,42907.18,42929.74,42953.1,42958.06,42878.26,42840.16,42797.2,42818.1,42961.64],\"open\":[43798.41857142857,43794.84032981571,43807.66285714285,43807.34428571429,43836.9875,43872.08714285714,43900.88857142856,43901.008571428574,43890.30857142857,43858.474285714285,43893.88166666668,43866.00571428572,43843.235714285714,43821.555714285714,43752.37,43704.62857142857,43671.72,43644.06142857143,43610.07408044428,43504.71428571428,43365.91375,43313.70812588,43296.055714285714,43239.0175,43092.85375,43251.94250000001,43264.50125,43307.44571428571,43296.88375,43341.862857142856,43353.12,43365.74875000001,43477.0875,43588.102500000015,43447.60285714286,43205.55625,43234.95285714286,43267.83,43229.50125,43106.66925542,43064.47714285714,43054.81000000001,43002.9225,42998.535,43227.1275,43122.16,43192.76624999999,43106.25997366144,43159.91625,43085.22049047715,43049.56714285714,42972.15714285714,42979.09125000001,42873.23000000002,42815.11375,42707.930000000015,42766.4325,42775.73125,42694.57285714285,42675.71750000001,42599.647142857146,42620.29375,42577.715,42683.24375,42673.72571428572,42768.39625000001,42819.91125,42750.58285714287,42760.10875,42632.465,42718.815,42772.92125,42762.29,42703.80250000001,42655.528483642855,42688.935,42790.287142857145,42792.855714285724,42745.15375,42896.17428571428,42937.78428571428,42933.25490686,42974.10869267286,42971.347142857136,42982.91571428572,42983.779999999984,42904.19714285714,42859.38571428572,42839.01280218857,43009.96125],\"type\":\"candlestick\",\"x\":[\"2021-09-20T22:31:00\",\"2021-09-20T22:32:00\",\"2021-09-20T22:33:00\",\"2021-09-20T22:34:00\",\"2021-09-20T22:35:00\",\"2021-09-20T22:36:00\",\"2021-09-20T22:37:00\",\"2021-09-20T22:38:00\",\"2021-09-20T22:39:00\",\"2021-09-20T22:40:00\",\"2021-09-20T22:41:00\",\"2021-09-20T22:42:00\",\"2021-09-20T22:43:00\",\"2021-09-20T22:44:00\",\"2021-09-20T22:45:00\",\"2021-09-20T22:46:00\",\"2021-09-20T22:47:00\",\"2021-09-20T22:48:00\",\"2021-09-20T22:49:00\",\"2021-09-20T22:50:00\",\"2021-09-20T22:51:00\",\"2021-09-20T22:52:00\",\"2021-09-20T22:53:00\",\"2021-09-20T22:54:00\",\"2021-09-20T22:55:00\",\"2021-09-20T22:56:00\",\"2021-09-20T22:57:00\",\"2021-09-20T22:58:00\",\"2021-09-20T22:59:00\",\"2021-09-20T23:00:00\",\"2021-09-20T23:01:00\",\"2021-09-20T23:02:00\",\"2021-09-20T23:03:00\",\"2021-09-20T23:04:00\",\"2021-09-20T23:05:00\",\"2021-09-20T23:06:00\",\"2021-09-20T23:07:00\",\"2021-09-20T23:08:00\",\"2021-09-20T23:09:00\",\"2021-09-20T23:10:00\",\"2021-09-20T23:11:00\",\"2021-09-20T23:12:00\",\"2021-09-20T23:13:00\",\"2021-09-20T23:14:00\",\"2021-09-20T23:15:00\",\"2021-09-20T23:16:00\",\"2021-09-20T23:17:00\",\"2021-09-20T23:18:00\",\"2021-09-20T23:19:00\",\"2021-09-20T23:20:00\",\"2021-09-20T23:21:00\",\"2021-09-20T23:22:00\",\"2021-09-20T23:23:00\",\"2021-09-20T23:24:00\",\"2021-09-20T23:25:00\",\"2021-09-20T23:26:00\",\"2021-09-20T23:27:00\",\"2021-09-20T23:28:00\",\"2021-09-20T23:29:00\",\"2021-09-20T23:30:00\",\"2021-09-20T23:31:00\",\"2021-09-20T23:32:00\",\"2021-09-20T23:33:00\",\"2021-09-20T23:34:00\",\"2021-09-20T23:35:00\",\"2021-09-20T23:36:00\",\"2021-09-20T23:37:00\",\"2021-09-20T23:38:00\",\"2021-09-20T23:39:00\",\"2021-09-20T23:40:00\",\"2021-09-20T23:41:00\",\"2021-09-20T23:42:00\",\"2021-09-20T23:43:00\",\"2021-09-20T23:44:00\",\"2021-09-20T23:45:00\",\"2021-09-20T23:46:00\",\"2021-09-20T23:47:00\",\"2021-09-20T23:48:00\",\"2021-09-20T23:49:00\",\"2021-09-20T23:50:00\",\"2021-09-20T23:51:00\",\"2021-09-20T23:52:00\",\"2021-09-20T23:53:00\",\"2021-09-20T23:54:00\",\"2021-09-20T23:55:00\",\"2021-09-20T23:56:00\",\"2021-09-20T23:57:00\",\"2021-09-20T23:58:00\",\"2021-09-20T23:59:00\",\"2021-09-21T00:00:00\"]}],                        {\"template\":{\"data\":{\"bar\":[{\"error_x\":{\"color\":\"#2a3f5f\"},\"error_y\":{\"color\":\"#2a3f5f\"},\"marker\":{\"line\":{\"color\":\"#E5ECF6\",\"width\":0.5},\"pattern\":{\"fillmode\":\"overlay\",\"size\":10,\"solidity\":0.2}},\"type\":\"bar\"}],\"barpolar\":[{\"marker\":{\"line\":{\"color\":\"#E5ECF6\",\"width\":0.5},\"pattern\":{\"fillmode\":\"overlay\",\"size\":10,\"solidity\":0.2}},\"type\":\"barpolar\"}],\"carpet\":[{\"aaxis\":{\"endlinecolor\":\"#2a3f5f\",\"gridcolor\":\"white\",\"linecolor\":\"white\",\"minorgridcolor\":\"white\",\"startlinecolor\":\"#2a3f5f\"},\"baxis\":{\"endlinecolor\":\"#2a3f5f\",\"gridcolor\":\"white\",\"linecolor\":\"white\",\"minorgridcolor\":\"white\",\"startlinecolor\":\"#2a3f5f\"},\"type\":\"carpet\"}],\"choropleth\":[{\"colorbar\":{\"outlinewidth\":0,\"ticks\":\"\"},\"type\":\"choropleth\"}],\"contour\":[{\"colorbar\":{\"outlinewidth\":0,\"ticks\":\"\"},\"colorscale\":[[0.0,\"#0d0887\"],[0.1111111111111111,\"#46039f\"],[0.2222222222222222,\"#7201a8\"],[0.3333333333333333,\"#9c179e\"],[0.4444444444444444,\"#bd3786\"],[0.5555555555555556,\"#d8576b\"],[0.6666666666666666,\"#ed7953\"],[0.7777777777777778,\"#fb9f3a\"],[0.8888888888888888,\"#fdca26\"],[1.0,\"#f0f921\"]],\"type\":\"contour\"}],\"contourcarpet\":[{\"colorbar\":{\"outlinewidth\":0,\"ticks\":\"\"},\"type\":\"contourcarpet\"}],\"heatmap\":[{\"colorbar\":{\"outlinewidth\":0,\"ticks\":\"\"},\"colorscale\":[[0.0,\"#0d0887\"],[0.1111111111111111,\"#46039f\"],[0.2222222222222222,\"#7201a8\"],[0.3333333333333333,\"#9c179e\"],[0.4444444444444444,\"#bd3786\"],[0.5555555555555556,\"#d8576b\"],[0.6666666666666666,\"#ed7953\"],[0.7777777777777778,\"#fb9f3a\"],[0.8888888888888888,\"#fdca26\"],[1.0,\"#f0f921\"]],\"type\":\"heatmap\"}],\"heatmapgl\":[{\"colorbar\":{\"outlinewidth\":0,\"ticks\":\"\"},\"colorscale\":[[0.0,\"#0d0887\"],[0.1111111111111111,\"#46039f\"],[0.2222222222222222,\"#7201a8\"],[0.3333333333333333,\"#9c179e\"],[0.4444444444444444,\"#bd3786\"],[0.5555555555555556,\"#d8576b\"],[0.6666666666666666,\"#ed7953\"],[0.7777777777777778,\"#fb9f3a\"],[0.8888888888888888,\"#fdca26\"],[1.0,\"#f0f921\"]],\"type\":\"heatmapgl\"}],\"histogram\":[{\"marker\":{\"pattern\":{\"fillmode\":\"overlay\",\"size\":10,\"solidity\":0.2}},\"type\":\"histogram\"}],\"histogram2d\":[{\"colorbar\":{\"outlinewidth\":0,\"ticks\":\"\"},\"colorscale\":[[0.0,\"#0d0887\"],[0.1111111111111111,\"#46039f\"],[0.2222222222222222,\"#7201a8\"],[0.3333333333333333,\"#9c179e\"],[0.4444444444444444,\"#bd3786\"],[0.5555555555555556,\"#d8576b\"],[0.6666666666666666,\"#ed7953\"],[0.7777777777777778,\"#fb9f3a\"],[0.8888888888888888,\"#fdca26\"],[1.0,\"#f0f921\"]],\"type\":\"histogram2d\"}],\"histogram2dcontour\":[{\"colorbar\":{\"outlinewidth\":0,\"ticks\":\"\"},\"colorscale\":[[0.0,\"#0d0887\"],[0.1111111111111111,\"#46039f\"],[0.2222222222222222,\"#7201a8\"],[0.3333333333333333,\"#9c179e\"],[0.4444444444444444,\"#bd3786\"],[0.5555555555555556,\"#d8576b\"],[0.6666666666666666,\"#ed7953\"],[0.7777777777777778,\"#fb9f3a\"],[0.8888888888888888,\"#fdca26\"],[1.0,\"#f0f921\"]],\"type\":\"histogram2dcontour\"}],\"mesh3d\":[{\"colorbar\":{\"outlinewidth\":0,\"ticks\":\"\"},\"type\":\"mesh3d\"}],\"parcoords\":[{\"line\":{\"colorbar\":{\"outlinewidth\":0,\"ticks\":\"\"}},\"type\":\"parcoords\"}],\"pie\":[{\"automargin\":true,\"type\":\"pie\"}],\"scatter\":[{\"marker\":{\"colorbar\":{\"outlinewidth\":0,\"ticks\":\"\"}},\"type\":\"scatter\"}],\"scatter3d\":[{\"line\":{\"colorbar\":{\"outlinewidth\":0,\"ticks\":\"\"}},\"marker\":{\"colorbar\":{\"outlinewidth\":0,\"ticks\":\"\"}},\"type\":\"scatter3d\"}],\"scattercarpet\":[{\"marker\":{\"colorbar\":{\"outlinewidth\":0,\"ticks\":\"\"}},\"type\":\"scattercarpet\"}],\"scattergeo\":[{\"marker\":{\"colorbar\":{\"outlinewidth\":0,\"ticks\":\"\"}},\"type\":\"scattergeo\"}],\"scattergl\":[{\"marker\":{\"colorbar\":{\"outlinewidth\":0,\"ticks\":\"\"}},\"type\":\"scattergl\"}],\"scattermapbox\":[{\"marker\":{\"colorbar\":{\"outlinewidth\":0,\"ticks\":\"\"}},\"type\":\"scattermapbox\"}],\"scatterpolar\":[{\"marker\":{\"colorbar\":{\"outlinewidth\":0,\"ticks\":\"\"}},\"type\":\"scatterpolar\"}],\"scatterpolargl\":[{\"marker\":{\"colorbar\":{\"outlinewidth\":0,\"ticks\":\"\"}},\"type\":\"scatterpolargl\"}],\"scatterternary\":[{\"marker\":{\"colorbar\":{\"outlinewidth\":0,\"ticks\":\"\"}},\"type\":\"scatterternary\"}],\"surface\":[{\"colorbar\":{\"outlinewidth\":0,\"ticks\":\"\"},\"colorscale\":[[0.0,\"#0d0887\"],[0.1111111111111111,\"#46039f\"],[0.2222222222222222,\"#7201a8\"],[0.3333333333333333,\"#9c179e\"],[0.4444444444444444,\"#bd3786\"],[0.5555555555555556,\"#d8576b\"],[0.6666666666666666,\"#ed7953\"],[0.7777777777777778,\"#fb9f3a\"],[0.8888888888888888,\"#fdca26\"],[1.0,\"#f0f921\"]],\"type\":\"surface\"}],\"table\":[{\"cells\":{\"fill\":{\"color\":\"#EBF0F8\"},\"line\":{\"color\":\"white\"}},\"header\":{\"fill\":{\"color\":\"#C8D4E3\"},\"line\":{\"color\":\"white\"}},\"type\":\"table\"}]},\"layout\":{\"annotationdefaults\":{\"arrowcolor\":\"#2a3f5f\",\"arrowhead\":0,\"arrowwidth\":1},\"autotypenumbers\":\"strict\",\"coloraxis\":{\"colorbar\":{\"outlinewidth\":0,\"ticks\":\"\"}},\"colorscale\":{\"diverging\":[[0,\"#8e0152\"],[0.1,\"#c51b7d\"],[0.2,\"#de77ae\"],[0.3,\"#f1b6da\"],[0.4,\"#fde0ef\"],[0.5,\"#f7f7f7\"],[0.6,\"#e6f5d0\"],[0.7,\"#b8e186\"],[0.8,\"#7fbc41\"],[0.9,\"#4d9221\"],[1,\"#276419\"]],\"sequential\":[[0.0,\"#0d0887\"],[0.1111111111111111,\"#46039f\"],[0.2222222222222222,\"#7201a8\"],[0.3333333333333333,\"#9c179e\"],[0.4444444444444444,\"#bd3786\"],[0.5555555555555556,\"#d8576b\"],[0.6666666666666666,\"#ed7953\"],[0.7777777777777778,\"#fb9f3a\"],[0.8888888888888888,\"#fdca26\"],[1.0,\"#f0f921\"]],\"sequentialminus\":[[0.0,\"#0d0887\"],[0.1111111111111111,\"#46039f\"],[0.2222222222222222,\"#7201a8\"],[0.3333333333333333,\"#9c179e\"],[0.4444444444444444,\"#bd3786\"],[0.5555555555555556,\"#d8576b\"],[0.6666666666666666,\"#ed7953\"],[0.7777777777777778,\"#fb9f3a\"],[0.8888888888888888,\"#fdca26\"],[1.0,\"#f0f921\"]]},\"colorway\":[\"#636efa\",\"#EF553B\",\"#00cc96\",\"#ab63fa\",\"#FFA15A\",\"#19d3f3\",\"#FF6692\",\"#B6E880\",\"#FF97FF\",\"#FECB52\"],\"font\":{\"color\":\"#2a3f5f\"},\"geo\":{\"bgcolor\":\"white\",\"lakecolor\":\"white\",\"landcolor\":\"#E5ECF6\",\"showlakes\":true,\"showland\":true,\"subunitcolor\":\"white\"},\"hoverlabel\":{\"align\":\"left\"},\"hovermode\":\"closest\",\"mapbox\":{\"style\":\"light\"},\"paper_bgcolor\":\"white\",\"plot_bgcolor\":\"#E5ECF6\",\"polar\":{\"angularaxis\":{\"gridcolor\":\"white\",\"linecolor\":\"white\",\"ticks\":\"\"},\"bgcolor\":\"#E5ECF6\",\"radialaxis\":{\"gridcolor\":\"white\",\"linecolor\":\"white\",\"ticks\":\"\"}},\"scene\":{\"xaxis\":{\"backgroundcolor\":\"#E5ECF6\",\"gridcolor\":\"white\",\"gridwidth\":2,\"linecolor\":\"white\",\"showbackground\":true,\"ticks\":\"\",\"zerolinecolor\":\"white\"},\"yaxis\":{\"backgroundcolor\":\"#E5ECF6\",\"gridcolor\":\"white\",\"gridwidth\":2,\"linecolor\":\"white\",\"showbackground\":true,\"ticks\":\"\",\"zerolinecolor\":\"white\"},\"zaxis\":{\"backgroundcolor\":\"#E5ECF6\",\"gridcolor\":\"white\",\"gridwidth\":2,\"linecolor\":\"white\",\"showbackground\":true,\"ticks\":\"\",\"zerolinecolor\":\"white\"}},\"shapedefaults\":{\"line\":{\"color\":\"#2a3f5f\"}},\"ternary\":{\"aaxis\":{\"gridcolor\":\"white\",\"linecolor\":\"white\",\"ticks\":\"\"},\"baxis\":{\"gridcolor\":\"white\",\"linecolor\":\"white\",\"ticks\":\"\"},\"bgcolor\":\"#E5ECF6\",\"caxis\":{\"gridcolor\":\"white\",\"linecolor\":\"white\",\"ticks\":\"\"}},\"title\":{\"x\":0.05},\"xaxis\":{\"automargin\":true,\"gridcolor\":\"white\",\"linecolor\":\"white\",\"ticks\":\"\",\"title\":{\"standoff\":15},\"zerolinecolor\":\"white\",\"zerolinewidth\":2},\"yaxis\":{\"automargin\":true,\"gridcolor\":\"white\",\"linecolor\":\"white\",\"ticks\":\"\",\"title\":{\"standoff\":15},\"zerolinecolor\":\"white\",\"zerolinewidth\":2}}},\"title\":{\"text\":\"BTC Price Candelstick Chart\",\"x\":0.5,\"xanchor\":\"center\",\"y\":0.8,\"yanchor\":\"top\"},\"xaxis\":{\"rangeslider\":{\"visible\":true},\"title\":{\"text\":\"Time\"}},\"yaxis\":{\"ticksuffix\":\"$\",\"title\":{\"text\":\"Price in USD\"}}},                        {\"responsive\": true}                    ).then(function(){\n",
       "                            \n",
       "var gd = document.getElementById('339dbb36-681f-4382-aa29-b09f1c7c5373');\n",
       "var x = new MutationObserver(function (mutations, observer) {{\n",
       "        var display = window.getComputedStyle(gd).display;\n",
       "        if (!display || display === 'none') {{\n",
       "            console.log([gd, 'removed!']);\n",
       "            Plotly.purge(gd);\n",
       "            observer.disconnect();\n",
       "        }}\n",
       "}});\n",
       "\n",
       "// Listen for the removal of the full notebook cells\n",
       "var notebookContainer = gd.closest('#notebook-container');\n",
       "if (notebookContainer) {{\n",
       "    x.observe(notebookContainer, {childList: true});\n",
       "}}\n",
       "\n",
       "// Listen for the clearing of the current output cell\n",
       "var outputEl = gd.closest('.output');\n",
       "if (outputEl) {{\n",
       "    x.observe(outputEl, {childList: true});\n",
       "}}\n",
       "\n",
       "                        })                };                });            </script>        </div>"
      ]
     },
     "metadata": {},
     "output_type": "display_data"
    }
   ],
   "source": [
    "%matplotlib inline\n",
    "btc_candle=c_chart(btc1[-90:], label=\"BTC Price\")\n",
    "btc_candle.show()"
   ]
  },
  {
   "cell_type": "markdown",
   "id": "e2b8c745",
   "metadata": {},
   "source": [
    "#### ETH Candlestick\n",
    "\n",
    "We randomly pick a time interval for the ETh price, we see an over sold around 1:50am, and an overbuy around 02:05 am."
   ]
  },
  {
   "cell_type": "code",
   "execution_count": 114,
   "id": "26c36f5f",
   "metadata": {},
   "outputs": [
    {
     "data": {
      "application/vnd.plotly.v1+json": {
       "config": {
        "plotlyServerURL": "https://plot.ly"
       },
       "data": [
        {
         "close": [
          727.4,
          727.84,
          728.2016666666667,
          729.0849999999998,
          729.5316666666665,
          729.37,
          728.7383333333332,
          728.53,
          728.4275,
          724.71,
          723.0633333333333,
          723.3533333333335,
          723.5260000000002,
          720.4233333333334,
          721.65,
          722.2733333333334,
          721.7139999999999,
          721.7475,
          720.7683333333333,
          720.525,
          721.3875,
          721.9375,
          721.842,
          721.988,
          721.91,
          722.488,
          722.6733333333333,
          723.0999999999998,
          722.3980000000001,
          722.375,
          722.3675000000002,
          721.556,
          721.1999999999998,
          721.0239999999999,
          721.314,
          721.242,
          721.58,
          721.835,
          722.0540000000002,
          722.5200000000002,
          722.985,
          723.9066666666665,
          723.77,
          723.9616666666667,
          724.0083333333333,
          724.0180000000001,
          723.9866666666667,
          723.4983333333333,
          724.238,
          724.3216666666667,
          723.4766666666666,
          723.9633333333335,
          724.2616666666668,
          724.7000000000003,
          725.1933333333333,
          725.4316666666667,
          725.8466666666667,
          725.3183333333333,
          725.4,
          724.9316666666667,
          724.9116666666667,
          724.67,
          724.6133333333332,
          725.045,
          724.9875,
          723.61,
          723.9639999999998,
          724.1619999999999,
          723.5450000000002,
          723.3380000000001,
          723.508,
          723.8399999999998,
          723.6366666666668,
          723.592,
          724.0116666666668,
          724.585,
          724.3820000000002,
          724.188,
          724.0516666666666,
          724.03,
          723.528,
          723.466,
          723.3333333333335,
          722.6466666666665,
          723.36,
          723.066,
          723.025,
          724.085,
          724.1039999999999,
          724.316,
          724.2333333333332,
          724.1719999999998,
          723.9283333333333,
          723.8533333333335,
          724.4280000000001,
          724.176,
          724.2516666666667,
          725.2216666666666,
          725.6149999999999,
          725.61
         ],
         "high": [
          729.12,
          730,
          729.54,
          730.59,
          730.61,
          731,
          730.03,
          729.83,
          729.74,
          729.19,
          726,
          724.98,
          724.87,
          724.31,
          723.45,
          724.99,
          723.71,
          723.57,
          722.83,
          722.3,
          722.59,
          723.01,
          722.96,
          723.28,
          723.38,
          723.38,
          724.97,
          724.89,
          724.9,
          723.74,
          723,
          723,
          722.23,
          722.13,
          722.12,
          722.08,
          722.6,
          724.31,
          724.3,
          723.38,
          724.3,
          725,
          725,
          725.64,
          724.5,
          724.5,
          725,
          724.4,
          726.65,
          727.25,
          726.2,
          724.9,
          725.38,
          725.68,
          726.04,
          726.26,
          727.55,
          726.97,
          726.78,
          726.99,
          725.82,
          725.29,
          725.99,
          726,
          725.81,
          725.67,
          724.76,
          729.05,
          725,
          724.71,
          725,
          725,
          725.54,
          725.62,
          725.27,
          726.44,
          725.99,
          726.25,
          725.77,
          725.6,
          725.26,
          724.97,
          724.23,
          723.93,
          723.94,
          723.94,
          724,
          725.01,
          725.22,
          725.99,
          725.92,
          726.99,
          725.78,
          725.17,
          725.72,
          725.72,
          725.8,
          726.93,
          727.53,
          727.62
         ],
         "low": [
          726.33,
          726.85,
          726.53,
          727.17,
          728.22,
          728.24,
          727.25,
          727.99,
          727.95,
          723.46,
          720.69,
          721.48,
          721.5,
          718.95,
          718.74,
          719.64,
          720.59,
          720.93,
          720,
          720,
          719.68,
          720.11,
          720,
          720.53,
          720.65,
          721.59,
          721.22,
          721.73,
          721.42,
          721.18,
          720.7,
          720.22,
          719.96,
          719.09,
          719.11,
          720.02,
          720.04,
          720.9,
          721.46,
          721.25,
          721.26,
          722.32,
          723.09,
          723.24,
          723.57,
          723.56,
          723.42,
          722.08,
          722.92,
          723.01,
          721.66,
          723.1,
          722.76,
          723.49,
          723.98,
          724.33,
          724.26,
          723.99,
          723.62,
          723.22,
          723.44,
          723.08,
          723.13,
          723.45,
          723.2,
          722.01,
          722.06,
          721.36,
          722.48,
          722.2,
          722.2,
          722.83,
          723,
          722.4,
          722.17,
          723.39,
          723,
          723.23,
          723.41,
          723.4,
          722.95,
          722.95,
          722.59,
          721.89,
          722.15,
          720.5,
          721.9,
          721.99,
          723.02,
          723.84,
          722.85,
          723.52,
          722.69,
          722.34,
          723.48,
          723.14,
          723.2,
          722.93,
          724.48,
          724.39
         ],
         "open": [
          727.3925,
          727.6360000000002,
          727.7783333333333,
          728.4366666666666,
          729.585,
          729.5633333333334,
          729.0516666666666,
          728.8059999999998,
          728.6925000000001,
          728.4666666666667,
          724.48,
          723.2883333333334,
          723.5319999999998,
          722.8016666666666,
          720.9183333333333,
          722.0083333333333,
          722.308,
          722.12,
          721.2916666666665,
          721.0149999999999,
          720.4425,
          721.3975,
          721.8079999999999,
          721.9960000000001,
          721.832,
          722.168,
          722.3533333333335,
          723.302,
          722.9,
          722.7800000000002,
          722.0550000000002,
          722.3880000000001,
          721.3316666666666,
          721.0020000000002,
          720.674,
          721.1419999999999,
          721.008,
          721.7316666666667,
          721.9860000000001,
          722.2866666666667,
          722.6216666666666,
          723.015,
          723.9916666666667,
          723.8783333333333,
          723.8450000000001,
          724.0020000000002,
          724.0016666666667,
          723.4733333333335,
          723.4159999999998,
          724.43,
          724.2599999999999,
          723.9366666666666,
          724.0316666666668,
          724.2600000000001,
          724.5,
          725.3266666666667,
          725.5833333333335,
          725.4583333333335,
          725.5980000000001,
          725.12,
          724.9350000000002,
          724.5799999999998,
          724.7916666666665,
          724.74,
          724.8924999999998,
          724.7316666666666,
          723.3960000000002,
          723.95,
          724.15,
          723.312,
          723.262,
          723.488,
          723.64,
          723.8520000000002,
          723.4533333333335,
          723.9933333333332,
          724.184,
          724.6419999999999,
          724.3616666666667,
          724.1859999999998,
          723.9579999999999,
          723.428,
          723.4383333333333,
          723.025,
          722.825,
          722.9920000000002,
          722.7416666666667,
          723.1700000000002,
          724.14,
          724.3100000000002,
          724.1899999999998,
          724.6659999999998,
          724.1599999999999,
          723.9050000000002,
          724.414,
          724.492,
          724.3966666666665,
          724.3533333333335,
          725.5,
          725.5383333333334
         ],
         "type": "candlestick",
         "x": [
          "2018-03-12T01:31:00",
          "2018-03-12T01:32:00",
          "2018-03-12T01:33:00",
          "2018-03-12T01:34:00",
          "2018-03-12T01:35:00",
          "2018-03-12T01:36:00",
          "2018-03-12T01:37:00",
          "2018-03-12T01:38:00",
          "2018-03-12T01:39:00",
          "2018-03-12T01:40:00",
          "2018-03-12T01:41:00",
          "2018-03-12T01:42:00",
          "2018-03-12T01:43:00",
          "2018-03-12T01:44:00",
          "2018-03-12T01:45:00",
          "2018-03-12T01:46:00",
          "2018-03-12T01:47:00",
          "2018-03-12T01:48:00",
          "2018-03-12T01:49:00",
          "2018-03-12T01:50:00",
          "2018-03-12T01:51:00",
          "2018-03-12T01:52:00",
          "2018-03-12T01:53:00",
          "2018-03-12T01:54:00",
          "2018-03-12T01:55:00",
          "2018-03-12T01:56:00",
          "2018-03-12T01:57:00",
          "2018-03-12T01:58:00",
          "2018-03-12T01:59:00",
          "2018-03-12T02:00:00",
          "2018-03-12T02:01:00",
          "2018-03-12T02:02:00",
          "2018-03-12T02:03:00",
          "2018-03-12T02:04:00",
          "2018-03-12T02:05:00",
          "2018-03-12T02:06:00",
          "2018-03-12T02:07:00",
          "2018-03-12T02:08:00",
          "2018-03-12T02:09:00",
          "2018-03-12T02:10:00",
          "2018-03-12T02:11:00",
          "2018-03-12T02:12:00",
          "2018-03-12T02:13:00",
          "2018-03-12T02:14:00",
          "2018-03-12T02:15:00",
          "2018-03-12T02:16:00",
          "2018-03-12T02:17:00",
          "2018-03-12T02:18:00",
          "2018-03-12T02:19:00",
          "2018-03-12T02:20:00",
          "2018-03-12T02:21:00",
          "2018-03-12T02:22:00",
          "2018-03-12T02:23:00",
          "2018-03-12T02:24:00",
          "2018-03-12T02:25:00",
          "2018-03-12T02:26:00",
          "2018-03-12T02:27:00",
          "2018-03-12T02:28:00",
          "2018-03-12T02:29:00",
          "2018-03-12T02:30:00",
          "2018-03-12T02:31:00",
          "2018-03-12T02:32:00",
          "2018-03-12T02:33:00",
          "2018-03-12T02:34:00",
          "2018-03-12T02:35:00",
          "2018-03-12T02:36:00",
          "2018-03-12T02:37:00",
          "2018-03-12T02:38:00",
          "2018-03-12T02:39:00",
          "2018-03-12T02:40:00",
          "2018-03-12T02:41:00",
          "2018-03-12T02:42:00",
          "2018-03-12T02:43:00",
          "2018-03-12T02:44:00",
          "2018-03-12T02:45:00",
          "2018-03-12T02:46:00",
          "2018-03-12T02:47:00",
          "2018-03-12T02:48:00",
          "2018-03-12T02:49:00",
          "2018-03-12T02:50:00",
          "2018-03-12T02:51:00",
          "2018-03-12T02:52:00",
          "2018-03-12T02:53:00",
          "2018-03-12T02:54:00",
          "2018-03-12T02:55:00",
          "2018-03-12T02:56:00",
          "2018-03-12T02:57:00",
          "2018-03-12T02:58:00",
          "2018-03-12T02:59:00",
          "2018-03-12T03:00:00",
          "2018-03-12T03:01:00",
          "2018-03-12T03:02:00",
          "2018-03-12T03:03:00",
          "2018-03-12T03:04:00",
          "2018-03-12T03:05:00",
          "2018-03-12T03:06:00",
          "2018-03-12T03:07:00",
          "2018-03-12T03:08:00",
          "2018-03-12T03:09:00",
          "2018-03-12T03:10:00"
         ]
        }
       ],
       "layout": {
        "template": {
         "data": {
          "bar": [
           {
            "error_x": {
             "color": "#2a3f5f"
            },
            "error_y": {
             "color": "#2a3f5f"
            },
            "marker": {
             "line": {
              "color": "#E5ECF6",
              "width": 0.5
             },
             "pattern": {
              "fillmode": "overlay",
              "size": 10,
              "solidity": 0.2
             }
            },
            "type": "bar"
           }
          ],
          "barpolar": [
           {
            "marker": {
             "line": {
              "color": "#E5ECF6",
              "width": 0.5
             },
             "pattern": {
              "fillmode": "overlay",
              "size": 10,
              "solidity": 0.2
             }
            },
            "type": "barpolar"
           }
          ],
          "carpet": [
           {
            "aaxis": {
             "endlinecolor": "#2a3f5f",
             "gridcolor": "white",
             "linecolor": "white",
             "minorgridcolor": "white",
             "startlinecolor": "#2a3f5f"
            },
            "baxis": {
             "endlinecolor": "#2a3f5f",
             "gridcolor": "white",
             "linecolor": "white",
             "minorgridcolor": "white",
             "startlinecolor": "#2a3f5f"
            },
            "type": "carpet"
           }
          ],
          "choropleth": [
           {
            "colorbar": {
             "outlinewidth": 0,
             "ticks": ""
            },
            "type": "choropleth"
           }
          ],
          "contour": [
           {
            "colorbar": {
             "outlinewidth": 0,
             "ticks": ""
            },
            "colorscale": [
             [
              0,
              "#0d0887"
             ],
             [
              0.1111111111111111,
              "#46039f"
             ],
             [
              0.2222222222222222,
              "#7201a8"
             ],
             [
              0.3333333333333333,
              "#9c179e"
             ],
             [
              0.4444444444444444,
              "#bd3786"
             ],
             [
              0.5555555555555556,
              "#d8576b"
             ],
             [
              0.6666666666666666,
              "#ed7953"
             ],
             [
              0.7777777777777778,
              "#fb9f3a"
             ],
             [
              0.8888888888888888,
              "#fdca26"
             ],
             [
              1,
              "#f0f921"
             ]
            ],
            "type": "contour"
           }
          ],
          "contourcarpet": [
           {
            "colorbar": {
             "outlinewidth": 0,
             "ticks": ""
            },
            "type": "contourcarpet"
           }
          ],
          "heatmap": [
           {
            "colorbar": {
             "outlinewidth": 0,
             "ticks": ""
            },
            "colorscale": [
             [
              0,
              "#0d0887"
             ],
             [
              0.1111111111111111,
              "#46039f"
             ],
             [
              0.2222222222222222,
              "#7201a8"
             ],
             [
              0.3333333333333333,
              "#9c179e"
             ],
             [
              0.4444444444444444,
              "#bd3786"
             ],
             [
              0.5555555555555556,
              "#d8576b"
             ],
             [
              0.6666666666666666,
              "#ed7953"
             ],
             [
              0.7777777777777778,
              "#fb9f3a"
             ],
             [
              0.8888888888888888,
              "#fdca26"
             ],
             [
              1,
              "#f0f921"
             ]
            ],
            "type": "heatmap"
           }
          ],
          "heatmapgl": [
           {
            "colorbar": {
             "outlinewidth": 0,
             "ticks": ""
            },
            "colorscale": [
             [
              0,
              "#0d0887"
             ],
             [
              0.1111111111111111,
              "#46039f"
             ],
             [
              0.2222222222222222,
              "#7201a8"
             ],
             [
              0.3333333333333333,
              "#9c179e"
             ],
             [
              0.4444444444444444,
              "#bd3786"
             ],
             [
              0.5555555555555556,
              "#d8576b"
             ],
             [
              0.6666666666666666,
              "#ed7953"
             ],
             [
              0.7777777777777778,
              "#fb9f3a"
             ],
             [
              0.8888888888888888,
              "#fdca26"
             ],
             [
              1,
              "#f0f921"
             ]
            ],
            "type": "heatmapgl"
           }
          ],
          "histogram": [
           {
            "marker": {
             "pattern": {
              "fillmode": "overlay",
              "size": 10,
              "solidity": 0.2
             }
            },
            "type": "histogram"
           }
          ],
          "histogram2d": [
           {
            "colorbar": {
             "outlinewidth": 0,
             "ticks": ""
            },
            "colorscale": [
             [
              0,
              "#0d0887"
             ],
             [
              0.1111111111111111,
              "#46039f"
             ],
             [
              0.2222222222222222,
              "#7201a8"
             ],
             [
              0.3333333333333333,
              "#9c179e"
             ],
             [
              0.4444444444444444,
              "#bd3786"
             ],
             [
              0.5555555555555556,
              "#d8576b"
             ],
             [
              0.6666666666666666,
              "#ed7953"
             ],
             [
              0.7777777777777778,
              "#fb9f3a"
             ],
             [
              0.8888888888888888,
              "#fdca26"
             ],
             [
              1,
              "#f0f921"
             ]
            ],
            "type": "histogram2d"
           }
          ],
          "histogram2dcontour": [
           {
            "colorbar": {
             "outlinewidth": 0,
             "ticks": ""
            },
            "colorscale": [
             [
              0,
              "#0d0887"
             ],
             [
              0.1111111111111111,
              "#46039f"
             ],
             [
              0.2222222222222222,
              "#7201a8"
             ],
             [
              0.3333333333333333,
              "#9c179e"
             ],
             [
              0.4444444444444444,
              "#bd3786"
             ],
             [
              0.5555555555555556,
              "#d8576b"
             ],
             [
              0.6666666666666666,
              "#ed7953"
             ],
             [
              0.7777777777777778,
              "#fb9f3a"
             ],
             [
              0.8888888888888888,
              "#fdca26"
             ],
             [
              1,
              "#f0f921"
             ]
            ],
            "type": "histogram2dcontour"
           }
          ],
          "mesh3d": [
           {
            "colorbar": {
             "outlinewidth": 0,
             "ticks": ""
            },
            "type": "mesh3d"
           }
          ],
          "parcoords": [
           {
            "line": {
             "colorbar": {
              "outlinewidth": 0,
              "ticks": ""
             }
            },
            "type": "parcoords"
           }
          ],
          "pie": [
           {
            "automargin": true,
            "type": "pie"
           }
          ],
          "scatter": [
           {
            "marker": {
             "colorbar": {
              "outlinewidth": 0,
              "ticks": ""
             }
            },
            "type": "scatter"
           }
          ],
          "scatter3d": [
           {
            "line": {
             "colorbar": {
              "outlinewidth": 0,
              "ticks": ""
             }
            },
            "marker": {
             "colorbar": {
              "outlinewidth": 0,
              "ticks": ""
             }
            },
            "type": "scatter3d"
           }
          ],
          "scattercarpet": [
           {
            "marker": {
             "colorbar": {
              "outlinewidth": 0,
              "ticks": ""
             }
            },
            "type": "scattercarpet"
           }
          ],
          "scattergeo": [
           {
            "marker": {
             "colorbar": {
              "outlinewidth": 0,
              "ticks": ""
             }
            },
            "type": "scattergeo"
           }
          ],
          "scattergl": [
           {
            "marker": {
             "colorbar": {
              "outlinewidth": 0,
              "ticks": ""
             }
            },
            "type": "scattergl"
           }
          ],
          "scattermapbox": [
           {
            "marker": {
             "colorbar": {
              "outlinewidth": 0,
              "ticks": ""
             }
            },
            "type": "scattermapbox"
           }
          ],
          "scatterpolar": [
           {
            "marker": {
             "colorbar": {
              "outlinewidth": 0,
              "ticks": ""
             }
            },
            "type": "scatterpolar"
           }
          ],
          "scatterpolargl": [
           {
            "marker": {
             "colorbar": {
              "outlinewidth": 0,
              "ticks": ""
             }
            },
            "type": "scatterpolargl"
           }
          ],
          "scatterternary": [
           {
            "marker": {
             "colorbar": {
              "outlinewidth": 0,
              "ticks": ""
             }
            },
            "type": "scatterternary"
           }
          ],
          "surface": [
           {
            "colorbar": {
             "outlinewidth": 0,
             "ticks": ""
            },
            "colorscale": [
             [
              0,
              "#0d0887"
             ],
             [
              0.1111111111111111,
              "#46039f"
             ],
             [
              0.2222222222222222,
              "#7201a8"
             ],
             [
              0.3333333333333333,
              "#9c179e"
             ],
             [
              0.4444444444444444,
              "#bd3786"
             ],
             [
              0.5555555555555556,
              "#d8576b"
             ],
             [
              0.6666666666666666,
              "#ed7953"
             ],
             [
              0.7777777777777778,
              "#fb9f3a"
             ],
             [
              0.8888888888888888,
              "#fdca26"
             ],
             [
              1,
              "#f0f921"
             ]
            ],
            "type": "surface"
           }
          ],
          "table": [
           {
            "cells": {
             "fill": {
              "color": "#EBF0F8"
             },
             "line": {
              "color": "white"
             }
            },
            "header": {
             "fill": {
              "color": "#C8D4E3"
             },
             "line": {
              "color": "white"
             }
            },
            "type": "table"
           }
          ]
         },
         "layout": {
          "annotationdefaults": {
           "arrowcolor": "#2a3f5f",
           "arrowhead": 0,
           "arrowwidth": 1
          },
          "autotypenumbers": "strict",
          "coloraxis": {
           "colorbar": {
            "outlinewidth": 0,
            "ticks": ""
           }
          },
          "colorscale": {
           "diverging": [
            [
             0,
             "#8e0152"
            ],
            [
             0.1,
             "#c51b7d"
            ],
            [
             0.2,
             "#de77ae"
            ],
            [
             0.3,
             "#f1b6da"
            ],
            [
             0.4,
             "#fde0ef"
            ],
            [
             0.5,
             "#f7f7f7"
            ],
            [
             0.6,
             "#e6f5d0"
            ],
            [
             0.7,
             "#b8e186"
            ],
            [
             0.8,
             "#7fbc41"
            ],
            [
             0.9,
             "#4d9221"
            ],
            [
             1,
             "#276419"
            ]
           ],
           "sequential": [
            [
             0,
             "#0d0887"
            ],
            [
             0.1111111111111111,
             "#46039f"
            ],
            [
             0.2222222222222222,
             "#7201a8"
            ],
            [
             0.3333333333333333,
             "#9c179e"
            ],
            [
             0.4444444444444444,
             "#bd3786"
            ],
            [
             0.5555555555555556,
             "#d8576b"
            ],
            [
             0.6666666666666666,
             "#ed7953"
            ],
            [
             0.7777777777777778,
             "#fb9f3a"
            ],
            [
             0.8888888888888888,
             "#fdca26"
            ],
            [
             1,
             "#f0f921"
            ]
           ],
           "sequentialminus": [
            [
             0,
             "#0d0887"
            ],
            [
             0.1111111111111111,
             "#46039f"
            ],
            [
             0.2222222222222222,
             "#7201a8"
            ],
            [
             0.3333333333333333,
             "#9c179e"
            ],
            [
             0.4444444444444444,
             "#bd3786"
            ],
            [
             0.5555555555555556,
             "#d8576b"
            ],
            [
             0.6666666666666666,
             "#ed7953"
            ],
            [
             0.7777777777777778,
             "#fb9f3a"
            ],
            [
             0.8888888888888888,
             "#fdca26"
            ],
            [
             1,
             "#f0f921"
            ]
           ]
          },
          "colorway": [
           "#636efa",
           "#EF553B",
           "#00cc96",
           "#ab63fa",
           "#FFA15A",
           "#19d3f3",
           "#FF6692",
           "#B6E880",
           "#FF97FF",
           "#FECB52"
          ],
          "font": {
           "color": "#2a3f5f"
          },
          "geo": {
           "bgcolor": "white",
           "lakecolor": "white",
           "landcolor": "#E5ECF6",
           "showlakes": true,
           "showland": true,
           "subunitcolor": "white"
          },
          "hoverlabel": {
           "align": "left"
          },
          "hovermode": "closest",
          "mapbox": {
           "style": "light"
          },
          "paper_bgcolor": "white",
          "plot_bgcolor": "#E5ECF6",
          "polar": {
           "angularaxis": {
            "gridcolor": "white",
            "linecolor": "white",
            "ticks": ""
           },
           "bgcolor": "#E5ECF6",
           "radialaxis": {
            "gridcolor": "white",
            "linecolor": "white",
            "ticks": ""
           }
          },
          "scene": {
           "xaxis": {
            "backgroundcolor": "#E5ECF6",
            "gridcolor": "white",
            "gridwidth": 2,
            "linecolor": "white",
            "showbackground": true,
            "ticks": "",
            "zerolinecolor": "white"
           },
           "yaxis": {
            "backgroundcolor": "#E5ECF6",
            "gridcolor": "white",
            "gridwidth": 2,
            "linecolor": "white",
            "showbackground": true,
            "ticks": "",
            "zerolinecolor": "white"
           },
           "zaxis": {
            "backgroundcolor": "#E5ECF6",
            "gridcolor": "white",
            "gridwidth": 2,
            "linecolor": "white",
            "showbackground": true,
            "ticks": "",
            "zerolinecolor": "white"
           }
          },
          "shapedefaults": {
           "line": {
            "color": "#2a3f5f"
           }
          },
          "ternary": {
           "aaxis": {
            "gridcolor": "white",
            "linecolor": "white",
            "ticks": ""
           },
           "baxis": {
            "gridcolor": "white",
            "linecolor": "white",
            "ticks": ""
           },
           "bgcolor": "#E5ECF6",
           "caxis": {
            "gridcolor": "white",
            "linecolor": "white",
            "ticks": ""
           }
          },
          "title": {
           "x": 0.05
          },
          "xaxis": {
           "automargin": true,
           "gridcolor": "white",
           "linecolor": "white",
           "ticks": "",
           "title": {
            "standoff": 15
           },
           "zerolinecolor": "white",
           "zerolinewidth": 2
          },
          "yaxis": {
           "automargin": true,
           "gridcolor": "white",
           "linecolor": "white",
           "ticks": "",
           "title": {
            "standoff": 15
           },
           "zerolinecolor": "white",
           "zerolinewidth": 2
          }
         }
        },
        "title": {
         "text": "ETH Price  Candelstick Chart",
         "x": 0.5,
         "xanchor": "center",
         "y": 0.8,
         "yanchor": "top"
        },
        "xaxis": {
         "rangeslider": {
          "visible": true
         },
         "title": {
          "text": "Time"
         }
        },
        "yaxis": {
         "ticksuffix": "$",
         "title": {
          "text": "Price in USD"
         }
        }
       }
      },
      "text/html": [
       "<div>                            <div id=\"808bd567-2a7d-44c7-9bd8-bb959fa96edc\" class=\"plotly-graph-div\" style=\"height:525px; width:100%;\"></div>            <script type=\"text/javascript\">                require([\"plotly\"], function(Plotly) {                    window.PLOTLYENV=window.PLOTLYENV || {};                                    if (document.getElementById(\"808bd567-2a7d-44c7-9bd8-bb959fa96edc\")) {                    Plotly.newPlot(                        \"808bd567-2a7d-44c7-9bd8-bb959fa96edc\",                        [{\"close\":[727.4,727.84,728.2016666666667,729.0849999999998,729.5316666666665,729.37,728.7383333333332,728.53,728.4275,724.71,723.0633333333333,723.3533333333335,723.5260000000002,720.4233333333334,721.65,722.2733333333334,721.7139999999999,721.7475,720.7683333333333,720.525,721.3875,721.9375,721.842,721.988,721.91,722.488,722.6733333333333,723.0999999999998,722.3980000000001,722.375,722.3675000000002,721.556,721.1999999999998,721.0239999999999,721.314,721.242,721.58,721.835,722.0540000000002,722.5200000000002,722.985,723.9066666666665,723.77,723.9616666666667,724.0083333333333,724.0180000000001,723.9866666666667,723.4983333333333,724.238,724.3216666666667,723.4766666666666,723.9633333333335,724.2616666666668,724.7000000000003,725.1933333333333,725.4316666666667,725.8466666666667,725.3183333333333,725.4,724.9316666666667,724.9116666666667,724.67,724.6133333333332,725.045,724.9875,723.61,723.9639999999998,724.1619999999999,723.5450000000002,723.3380000000001,723.508,723.8399999999998,723.6366666666668,723.592,724.0116666666668,724.585,724.3820000000002,724.188,724.0516666666666,724.03,723.528,723.466,723.3333333333335,722.6466666666665,723.36,723.066,723.025,724.085,724.1039999999999,724.316,724.2333333333332,724.1719999999998,723.9283333333333,723.8533333333335,724.4280000000001,724.176,724.2516666666667,725.2216666666666,725.6149999999999,725.61],\"high\":[729.12,730.0,729.54,730.59,730.61,731.0,730.03,729.83,729.74,729.19,726.0,724.98,724.87,724.31,723.45,724.99,723.71,723.57,722.83,722.3,722.59,723.01,722.96,723.28,723.38,723.38,724.97,724.89,724.9,723.74,723.0,723.0,722.23,722.13,722.12,722.08,722.6,724.31,724.3,723.38,724.3,725.0,725.0,725.64,724.5,724.5,725.0,724.4,726.65,727.25,726.2,724.9,725.38,725.68,726.04,726.26,727.55,726.97,726.78,726.99,725.82,725.29,725.99,726.0,725.81,725.67,724.76,729.05,725.0,724.71,725.0,725.0,725.54,725.62,725.27,726.44,725.99,726.25,725.77,725.6,725.26,724.97,724.23,723.93,723.94,723.94,724.0,725.01,725.22,725.99,725.92,726.99,725.78,725.17,725.72,725.72,725.8,726.93,727.53,727.62],\"low\":[726.33,726.85,726.53,727.17,728.22,728.24,727.25,727.99,727.95,723.46,720.69,721.48,721.5,718.95,718.74,719.64,720.59,720.93,720.0,720.0,719.68,720.11,720.0,720.53,720.65,721.59,721.22,721.73,721.42,721.18,720.7,720.22,719.96,719.09,719.11,720.02,720.04,720.9,721.46,721.25,721.26,722.32,723.09,723.24,723.57,723.56,723.42,722.08,722.92,723.01,721.66,723.1,722.76,723.49,723.98,724.33,724.26,723.99,723.62,723.22,723.44,723.08,723.13,723.45,723.2,722.01,722.06,721.36,722.48,722.2,722.2,722.83,723.0,722.4,722.17,723.39,723.0,723.23,723.41,723.4,722.95,722.95,722.59,721.89,722.15,720.5,721.9,721.99,723.02,723.84,722.85,723.52,722.69,722.34,723.48,723.14,723.2,722.93,724.48,724.39],\"open\":[727.3925,727.6360000000002,727.7783333333333,728.4366666666666,729.585,729.5633333333334,729.0516666666666,728.8059999999998,728.6925000000001,728.4666666666667,724.48,723.2883333333334,723.5319999999998,722.8016666666666,720.9183333333333,722.0083333333333,722.308,722.12,721.2916666666665,721.0149999999999,720.4425,721.3975,721.8079999999999,721.9960000000001,721.832,722.168,722.3533333333335,723.302,722.9,722.7800000000002,722.0550000000002,722.3880000000001,721.3316666666666,721.0020000000002,720.674,721.1419999999999,721.008,721.7316666666667,721.9860000000001,722.2866666666667,722.6216666666666,723.015,723.9916666666667,723.8783333333333,723.8450000000001,724.0020000000002,724.0016666666667,723.4733333333335,723.4159999999998,724.43,724.2599999999999,723.9366666666666,724.0316666666668,724.2600000000001,724.5,725.3266666666667,725.5833333333335,725.4583333333335,725.5980000000001,725.12,724.9350000000002,724.5799999999998,724.7916666666665,724.74,724.8924999999998,724.7316666666666,723.3960000000002,723.95,724.15,723.312,723.262,723.488,723.64,723.8520000000002,723.4533333333335,723.9933333333332,724.184,724.6419999999999,724.3616666666667,724.1859999999998,723.9579999999999,723.428,723.4383333333333,723.025,722.825,722.9920000000002,722.7416666666667,723.1700000000002,724.14,724.3100000000002,724.1899999999998,724.6659999999998,724.1599999999999,723.9050000000002,724.414,724.492,724.3966666666665,724.3533333333335,725.5,725.5383333333334],\"type\":\"candlestick\",\"x\":[\"2018-03-12T01:31:00\",\"2018-03-12T01:32:00\",\"2018-03-12T01:33:00\",\"2018-03-12T01:34:00\",\"2018-03-12T01:35:00\",\"2018-03-12T01:36:00\",\"2018-03-12T01:37:00\",\"2018-03-12T01:38:00\",\"2018-03-12T01:39:00\",\"2018-03-12T01:40:00\",\"2018-03-12T01:41:00\",\"2018-03-12T01:42:00\",\"2018-03-12T01:43:00\",\"2018-03-12T01:44:00\",\"2018-03-12T01:45:00\",\"2018-03-12T01:46:00\",\"2018-03-12T01:47:00\",\"2018-03-12T01:48:00\",\"2018-03-12T01:49:00\",\"2018-03-12T01:50:00\",\"2018-03-12T01:51:00\",\"2018-03-12T01:52:00\",\"2018-03-12T01:53:00\",\"2018-03-12T01:54:00\",\"2018-03-12T01:55:00\",\"2018-03-12T01:56:00\",\"2018-03-12T01:57:00\",\"2018-03-12T01:58:00\",\"2018-03-12T01:59:00\",\"2018-03-12T02:00:00\",\"2018-03-12T02:01:00\",\"2018-03-12T02:02:00\",\"2018-03-12T02:03:00\",\"2018-03-12T02:04:00\",\"2018-03-12T02:05:00\",\"2018-03-12T02:06:00\",\"2018-03-12T02:07:00\",\"2018-03-12T02:08:00\",\"2018-03-12T02:09:00\",\"2018-03-12T02:10:00\",\"2018-03-12T02:11:00\",\"2018-03-12T02:12:00\",\"2018-03-12T02:13:00\",\"2018-03-12T02:14:00\",\"2018-03-12T02:15:00\",\"2018-03-12T02:16:00\",\"2018-03-12T02:17:00\",\"2018-03-12T02:18:00\",\"2018-03-12T02:19:00\",\"2018-03-12T02:20:00\",\"2018-03-12T02:21:00\",\"2018-03-12T02:22:00\",\"2018-03-12T02:23:00\",\"2018-03-12T02:24:00\",\"2018-03-12T02:25:00\",\"2018-03-12T02:26:00\",\"2018-03-12T02:27:00\",\"2018-03-12T02:28:00\",\"2018-03-12T02:29:00\",\"2018-03-12T02:30:00\",\"2018-03-12T02:31:00\",\"2018-03-12T02:32:00\",\"2018-03-12T02:33:00\",\"2018-03-12T02:34:00\",\"2018-03-12T02:35:00\",\"2018-03-12T02:36:00\",\"2018-03-12T02:37:00\",\"2018-03-12T02:38:00\",\"2018-03-12T02:39:00\",\"2018-03-12T02:40:00\",\"2018-03-12T02:41:00\",\"2018-03-12T02:42:00\",\"2018-03-12T02:43:00\",\"2018-03-12T02:44:00\",\"2018-03-12T02:45:00\",\"2018-03-12T02:46:00\",\"2018-03-12T02:47:00\",\"2018-03-12T02:48:00\",\"2018-03-12T02:49:00\",\"2018-03-12T02:50:00\",\"2018-03-12T02:51:00\",\"2018-03-12T02:52:00\",\"2018-03-12T02:53:00\",\"2018-03-12T02:54:00\",\"2018-03-12T02:55:00\",\"2018-03-12T02:56:00\",\"2018-03-12T02:57:00\",\"2018-03-12T02:58:00\",\"2018-03-12T02:59:00\",\"2018-03-12T03:00:00\",\"2018-03-12T03:01:00\",\"2018-03-12T03:02:00\",\"2018-03-12T03:03:00\",\"2018-03-12T03:04:00\",\"2018-03-12T03:05:00\",\"2018-03-12T03:06:00\",\"2018-03-12T03:07:00\",\"2018-03-12T03:08:00\",\"2018-03-12T03:09:00\",\"2018-03-12T03:10:00\"]}],                        {\"template\":{\"data\":{\"bar\":[{\"error_x\":{\"color\":\"#2a3f5f\"},\"error_y\":{\"color\":\"#2a3f5f\"},\"marker\":{\"line\":{\"color\":\"#E5ECF6\",\"width\":0.5},\"pattern\":{\"fillmode\":\"overlay\",\"size\":10,\"solidity\":0.2}},\"type\":\"bar\"}],\"barpolar\":[{\"marker\":{\"line\":{\"color\":\"#E5ECF6\",\"width\":0.5},\"pattern\":{\"fillmode\":\"overlay\",\"size\":10,\"solidity\":0.2}},\"type\":\"barpolar\"}],\"carpet\":[{\"aaxis\":{\"endlinecolor\":\"#2a3f5f\",\"gridcolor\":\"white\",\"linecolor\":\"white\",\"minorgridcolor\":\"white\",\"startlinecolor\":\"#2a3f5f\"},\"baxis\":{\"endlinecolor\":\"#2a3f5f\",\"gridcolor\":\"white\",\"linecolor\":\"white\",\"minorgridcolor\":\"white\",\"startlinecolor\":\"#2a3f5f\"},\"type\":\"carpet\"}],\"choropleth\":[{\"colorbar\":{\"outlinewidth\":0,\"ticks\":\"\"},\"type\":\"choropleth\"}],\"contour\":[{\"colorbar\":{\"outlinewidth\":0,\"ticks\":\"\"},\"colorscale\":[[0.0,\"#0d0887\"],[0.1111111111111111,\"#46039f\"],[0.2222222222222222,\"#7201a8\"],[0.3333333333333333,\"#9c179e\"],[0.4444444444444444,\"#bd3786\"],[0.5555555555555556,\"#d8576b\"],[0.6666666666666666,\"#ed7953\"],[0.7777777777777778,\"#fb9f3a\"],[0.8888888888888888,\"#fdca26\"],[1.0,\"#f0f921\"]],\"type\":\"contour\"}],\"contourcarpet\":[{\"colorbar\":{\"outlinewidth\":0,\"ticks\":\"\"},\"type\":\"contourcarpet\"}],\"heatmap\":[{\"colorbar\":{\"outlinewidth\":0,\"ticks\":\"\"},\"colorscale\":[[0.0,\"#0d0887\"],[0.1111111111111111,\"#46039f\"],[0.2222222222222222,\"#7201a8\"],[0.3333333333333333,\"#9c179e\"],[0.4444444444444444,\"#bd3786\"],[0.5555555555555556,\"#d8576b\"],[0.6666666666666666,\"#ed7953\"],[0.7777777777777778,\"#fb9f3a\"],[0.8888888888888888,\"#fdca26\"],[1.0,\"#f0f921\"]],\"type\":\"heatmap\"}],\"heatmapgl\":[{\"colorbar\":{\"outlinewidth\":0,\"ticks\":\"\"},\"colorscale\":[[0.0,\"#0d0887\"],[0.1111111111111111,\"#46039f\"],[0.2222222222222222,\"#7201a8\"],[0.3333333333333333,\"#9c179e\"],[0.4444444444444444,\"#bd3786\"],[0.5555555555555556,\"#d8576b\"],[0.6666666666666666,\"#ed7953\"],[0.7777777777777778,\"#fb9f3a\"],[0.8888888888888888,\"#fdca26\"],[1.0,\"#f0f921\"]],\"type\":\"heatmapgl\"}],\"histogram\":[{\"marker\":{\"pattern\":{\"fillmode\":\"overlay\",\"size\":10,\"solidity\":0.2}},\"type\":\"histogram\"}],\"histogram2d\":[{\"colorbar\":{\"outlinewidth\":0,\"ticks\":\"\"},\"colorscale\":[[0.0,\"#0d0887\"],[0.1111111111111111,\"#46039f\"],[0.2222222222222222,\"#7201a8\"],[0.3333333333333333,\"#9c179e\"],[0.4444444444444444,\"#bd3786\"],[0.5555555555555556,\"#d8576b\"],[0.6666666666666666,\"#ed7953\"],[0.7777777777777778,\"#fb9f3a\"],[0.8888888888888888,\"#fdca26\"],[1.0,\"#f0f921\"]],\"type\":\"histogram2d\"}],\"histogram2dcontour\":[{\"colorbar\":{\"outlinewidth\":0,\"ticks\":\"\"},\"colorscale\":[[0.0,\"#0d0887\"],[0.1111111111111111,\"#46039f\"],[0.2222222222222222,\"#7201a8\"],[0.3333333333333333,\"#9c179e\"],[0.4444444444444444,\"#bd3786\"],[0.5555555555555556,\"#d8576b\"],[0.6666666666666666,\"#ed7953\"],[0.7777777777777778,\"#fb9f3a\"],[0.8888888888888888,\"#fdca26\"],[1.0,\"#f0f921\"]],\"type\":\"histogram2dcontour\"}],\"mesh3d\":[{\"colorbar\":{\"outlinewidth\":0,\"ticks\":\"\"},\"type\":\"mesh3d\"}],\"parcoords\":[{\"line\":{\"colorbar\":{\"outlinewidth\":0,\"ticks\":\"\"}},\"type\":\"parcoords\"}],\"pie\":[{\"automargin\":true,\"type\":\"pie\"}],\"scatter\":[{\"marker\":{\"colorbar\":{\"outlinewidth\":0,\"ticks\":\"\"}},\"type\":\"scatter\"}],\"scatter3d\":[{\"line\":{\"colorbar\":{\"outlinewidth\":0,\"ticks\":\"\"}},\"marker\":{\"colorbar\":{\"outlinewidth\":0,\"ticks\":\"\"}},\"type\":\"scatter3d\"}],\"scattercarpet\":[{\"marker\":{\"colorbar\":{\"outlinewidth\":0,\"ticks\":\"\"}},\"type\":\"scattercarpet\"}],\"scattergeo\":[{\"marker\":{\"colorbar\":{\"outlinewidth\":0,\"ticks\":\"\"}},\"type\":\"scattergeo\"}],\"scattergl\":[{\"marker\":{\"colorbar\":{\"outlinewidth\":0,\"ticks\":\"\"}},\"type\":\"scattergl\"}],\"scattermapbox\":[{\"marker\":{\"colorbar\":{\"outlinewidth\":0,\"ticks\":\"\"}},\"type\":\"scattermapbox\"}],\"scatterpolar\":[{\"marker\":{\"colorbar\":{\"outlinewidth\":0,\"ticks\":\"\"}},\"type\":\"scatterpolar\"}],\"scatterpolargl\":[{\"marker\":{\"colorbar\":{\"outlinewidth\":0,\"ticks\":\"\"}},\"type\":\"scatterpolargl\"}],\"scatterternary\":[{\"marker\":{\"colorbar\":{\"outlinewidth\":0,\"ticks\":\"\"}},\"type\":\"scatterternary\"}],\"surface\":[{\"colorbar\":{\"outlinewidth\":0,\"ticks\":\"\"},\"colorscale\":[[0.0,\"#0d0887\"],[0.1111111111111111,\"#46039f\"],[0.2222222222222222,\"#7201a8\"],[0.3333333333333333,\"#9c179e\"],[0.4444444444444444,\"#bd3786\"],[0.5555555555555556,\"#d8576b\"],[0.6666666666666666,\"#ed7953\"],[0.7777777777777778,\"#fb9f3a\"],[0.8888888888888888,\"#fdca26\"],[1.0,\"#f0f921\"]],\"type\":\"surface\"}],\"table\":[{\"cells\":{\"fill\":{\"color\":\"#EBF0F8\"},\"line\":{\"color\":\"white\"}},\"header\":{\"fill\":{\"color\":\"#C8D4E3\"},\"line\":{\"color\":\"white\"}},\"type\":\"table\"}]},\"layout\":{\"annotationdefaults\":{\"arrowcolor\":\"#2a3f5f\",\"arrowhead\":0,\"arrowwidth\":1},\"autotypenumbers\":\"strict\",\"coloraxis\":{\"colorbar\":{\"outlinewidth\":0,\"ticks\":\"\"}},\"colorscale\":{\"diverging\":[[0,\"#8e0152\"],[0.1,\"#c51b7d\"],[0.2,\"#de77ae\"],[0.3,\"#f1b6da\"],[0.4,\"#fde0ef\"],[0.5,\"#f7f7f7\"],[0.6,\"#e6f5d0\"],[0.7,\"#b8e186\"],[0.8,\"#7fbc41\"],[0.9,\"#4d9221\"],[1,\"#276419\"]],\"sequential\":[[0.0,\"#0d0887\"],[0.1111111111111111,\"#46039f\"],[0.2222222222222222,\"#7201a8\"],[0.3333333333333333,\"#9c179e\"],[0.4444444444444444,\"#bd3786\"],[0.5555555555555556,\"#d8576b\"],[0.6666666666666666,\"#ed7953\"],[0.7777777777777778,\"#fb9f3a\"],[0.8888888888888888,\"#fdca26\"],[1.0,\"#f0f921\"]],\"sequentialminus\":[[0.0,\"#0d0887\"],[0.1111111111111111,\"#46039f\"],[0.2222222222222222,\"#7201a8\"],[0.3333333333333333,\"#9c179e\"],[0.4444444444444444,\"#bd3786\"],[0.5555555555555556,\"#d8576b\"],[0.6666666666666666,\"#ed7953\"],[0.7777777777777778,\"#fb9f3a\"],[0.8888888888888888,\"#fdca26\"],[1.0,\"#f0f921\"]]},\"colorway\":[\"#636efa\",\"#EF553B\",\"#00cc96\",\"#ab63fa\",\"#FFA15A\",\"#19d3f3\",\"#FF6692\",\"#B6E880\",\"#FF97FF\",\"#FECB52\"],\"font\":{\"color\":\"#2a3f5f\"},\"geo\":{\"bgcolor\":\"white\",\"lakecolor\":\"white\",\"landcolor\":\"#E5ECF6\",\"showlakes\":true,\"showland\":true,\"subunitcolor\":\"white\"},\"hoverlabel\":{\"align\":\"left\"},\"hovermode\":\"closest\",\"mapbox\":{\"style\":\"light\"},\"paper_bgcolor\":\"white\",\"plot_bgcolor\":\"#E5ECF6\",\"polar\":{\"angularaxis\":{\"gridcolor\":\"white\",\"linecolor\":\"white\",\"ticks\":\"\"},\"bgcolor\":\"#E5ECF6\",\"radialaxis\":{\"gridcolor\":\"white\",\"linecolor\":\"white\",\"ticks\":\"\"}},\"scene\":{\"xaxis\":{\"backgroundcolor\":\"#E5ECF6\",\"gridcolor\":\"white\",\"gridwidth\":2,\"linecolor\":\"white\",\"showbackground\":true,\"ticks\":\"\",\"zerolinecolor\":\"white\"},\"yaxis\":{\"backgroundcolor\":\"#E5ECF6\",\"gridcolor\":\"white\",\"gridwidth\":2,\"linecolor\":\"white\",\"showbackground\":true,\"ticks\":\"\",\"zerolinecolor\":\"white\"},\"zaxis\":{\"backgroundcolor\":\"#E5ECF6\",\"gridcolor\":\"white\",\"gridwidth\":2,\"linecolor\":\"white\",\"showbackground\":true,\"ticks\":\"\",\"zerolinecolor\":\"white\"}},\"shapedefaults\":{\"line\":{\"color\":\"#2a3f5f\"}},\"ternary\":{\"aaxis\":{\"gridcolor\":\"white\",\"linecolor\":\"white\",\"ticks\":\"\"},\"baxis\":{\"gridcolor\":\"white\",\"linecolor\":\"white\",\"ticks\":\"\"},\"bgcolor\":\"#E5ECF6\",\"caxis\":{\"gridcolor\":\"white\",\"linecolor\":\"white\",\"ticks\":\"\"}},\"title\":{\"x\":0.05},\"xaxis\":{\"automargin\":true,\"gridcolor\":\"white\",\"linecolor\":\"white\",\"ticks\":\"\",\"title\":{\"standoff\":15},\"zerolinecolor\":\"white\",\"zerolinewidth\":2},\"yaxis\":{\"automargin\":true,\"gridcolor\":\"white\",\"linecolor\":\"white\",\"ticks\":\"\",\"title\":{\"standoff\":15},\"zerolinecolor\":\"white\",\"zerolinewidth\":2}}},\"title\":{\"text\":\"ETH Price  Candelstick Chart\",\"x\":0.5,\"xanchor\":\"center\",\"y\":0.8,\"yanchor\":\"top\"},\"xaxis\":{\"rangeslider\":{\"visible\":true},\"title\":{\"text\":\"Time\"}},\"yaxis\":{\"ticksuffix\":\"$\",\"title\":{\"text\":\"Price in USD\"}}},                        {\"responsive\": true}                    ).then(function(){\n",
       "                            \n",
       "var gd = document.getElementById('808bd567-2a7d-44c7-9bd8-bb959fa96edc');\n",
       "var x = new MutationObserver(function (mutations, observer) {{\n",
       "        var display = window.getComputedStyle(gd).display;\n",
       "        if (!display || display === 'none') {{\n",
       "            console.log([gd, 'removed!']);\n",
       "            Plotly.purge(gd);\n",
       "            observer.disconnect();\n",
       "        }}\n",
       "}});\n",
       "\n",
       "// Listen for the removal of the full notebook cells\n",
       "var notebookContainer = gd.closest('#notebook-container');\n",
       "if (notebookContainer) {{\n",
       "    x.observe(notebookContainer, {childList: true});\n",
       "}}\n",
       "\n",
       "// Listen for the clearing of the current output cell\n",
       "var outputEl = gd.closest('.output');\n",
       "if (outputEl) {{\n",
       "    x.observe(outputEl, {childList: true});\n",
       "}}\n",
       "\n",
       "                        })                };                });            </script>        </div>"
      ]
     },
     "metadata": {},
     "output_type": "display_data"
    }
   ],
   "source": [
    "eth_candle=c_chart(eth1[100888:100988], label=\"ETH Price \")\n",
    "eth_candle.show()"
   ]
  },
  {
   "cell_type": "markdown",
   "id": "fcd0ae76",
   "metadata": {},
   "source": [
    "#### ADA Candle Stick\n",
    "\n",
    "Overbuying around 16:20"
   ]
  },
  {
   "cell_type": "code",
   "execution_count": 116,
   "id": "90f55c4c",
   "metadata": {},
   "outputs": [
    {
     "data": {
      "application/vnd.plotly.v1+json": {
       "config": {
        "plotlyServerURL": "https://plot.ly"
       },
       "data": [
        {
         "close": [
          3076.866666666667,
          3076.652857142857,
          3080.8642857142863,
          3077.244285714286,
          3080.15,
          3079.248238231429,
          3078.587142857143,
          3077.577142857143,
          3077.662857142857,
          3073.2671428571434,
          3066.9957142857143,
          3065.7028093371428,
          3065.144285714286,
          3065.6600000000008,
          3063.0642857142857,
          3066.458571428572,
          3076.164285714286,
          3090.067142857143,
          3088.775714285715,
          3085.467142857143,
          3080.242857142857,
          3079.112857142857,
          3071.002857142857,
          3075.788571428572,
          3079.542857142857,
          3077.575714285714,
          3072.6342857142854,
          3081.0571428571425,
          3068.698571428572,
          3062.3814285714284,
          3072.2114285714283,
          3076.387142857144,
          3078.381428571429,
          3081.8714285714286,
          3087.6800000000007,
          3081.83507818,
          3075.574285714286,
          3080.32,
          3070.768571428572,
          3077.2914285714287,
          3072.427142857144,
          3075.862857142857,
          3080.080000000001,
          3082.0600000000004,
          3091.992857142857,
          3093.8,
          3099.491428571428,
          3103.213993037143,
          3104.344285714286,
          3112.3214285714284,
          3113.07,
          3106.4162341371434,
          3105.882857142857,
          3106.2714285714287,
          3102.933403662857,
          3113.227632524285,
          3110.008571428572,
          3110.011428571429,
          3115.934285714286,
          3112.82,
          3120.362857142857,
          3118.182857142857,
          3117.345714285714,
          3118.845714285714,
          3112.424285714286,
          3108.678571428572,
          3105.808571428571,
          3107.692857142857,
          3106.304285714286,
          3100.5972387757147,
          3096.848571428571,
          3094.157142857144,
          3096.4957142857147,
          3097.454285714285,
          3093.721428571428,
          3095.2471428571416,
          3091.602857142857,
          3092.981666666666,
          3092.588333333333,
          3098.107142857144,
          3103.212857142857,
          3105.264285714285,
          3094.288571428572,
          3096.84,
          3093.608571428572,
          3087.0814285714287,
          3083.967142857143,
          3076.074285714286,
          3077.292857142857,
          3077.691666666667,
          3077.742857142857,
          3079.164285714286,
          3077.6671428571435,
          3076.1342857142854,
          3075.57,
          3078.818571428572,
          3084.0814285714287,
          3084.128571428572,
          3085.908571428572,
          3090.082857142857
         ],
         "high": [
          3079.6,
          3082.35,
          3082.91,
          3081.7,
          3082.2,
          3081.12,
          3081.7,
          3079.6,
          3079.9,
          3077.99,
          3075.5,
          3069.4,
          3070.9,
          3067.34,
          3067,
          3068.7,
          3077.6,
          3096.72,
          3097.32,
          3096.08,
          3087.04601833,
          3085.18,
          3082.11,
          3078.06883287,
          3080.7,
          3084.3,
          3078.69,
          3081.7,
          3080.92,
          3069.55,
          3073.76,
          3077.8,
          3079.68,
          3083.96,
          3089.07,
          3088,
          3082.52,
          3081.34,
          3080.58,
          3079.3,
          3079.32,
          3076.77,
          3081.02,
          3084.59016365,
          3096.68,
          3096.3,
          3100.22,
          3110,
          3105.82,
          3116.62,
          3116.1,
          3115.31,
          3108.28,
          3107.61,
          3109.18,
          3116,
          3114.98,
          3112.36,
          3118.72,
          3118.46,
          3122.34,
          3124.1,
          3123.16,
          3120.1,
          3118.97,
          3112.65,
          3109.04,
          3109.75,
          3108.14,
          3106.81,
          3102.82,
          3097.29,
          3102.12,
          3099.95,
          3097.95,
          3097.26,
          3098.3,
          3094.77,
          3096.5,
          3099.36,
          3109.4,
          3106.78,
          3106.21,
          3099.5,
          3098.94,
          3094.96,
          3089.69,
          3085.18,
          3080.82,
          3080.67,
          3078.83,
          3080,
          3080.76,
          3080.9,
          3080.47,
          3080.6,
          3085.71,
          3086.3,
          3088.05,
          3091.46
         ],
         "low": [
          3075.29,
          3075.34,
          3074.06,
          3074.77,
          3072.82,
          3075.12,
          3075.21,
          3074.19,
          3073.83,
          3072,
          3064.06,
          3062.53,
          3063.25,
          3063.24,
          3059.89,
          3061.3,
          3065.74,
          3070.36,
          3086.83,
          3078,
          3078.99,
          3073.04,
          3069.33,
          3068.81,
          3072.94,
          3076.22,
          3068.94,
          3070.14,
          3066.21,
          3060.87,
          3060.82,
          3068.7,
          3073.54,
          3076.89,
          3080.96,
          3081.11,
          3074.01,
          3074,
          3070.27,
          3069.03,
          3070.74,
          3070.01,
          3074.36,
          3078.06,
          3081.22,
          3087.49,
          3093.67,
          3097.38,
          3100.36,
          3101.56,
          3109.32,
          3105.27,
          3101.82,
          3101.12,
          3101.82,
          3101.01,
          3108.48,
          3105.29,
          3108.6,
          3112.09,
          3111.11,
          3115.12,
          3115.99,
          3114.7,
          3110.18,
          3106.61,
          3104.73,
          3104.76,
          3105.5,
          3098.29,
          3094.45,
          3090.55,
          3092.29,
          3093.81,
          3091.25,
          3090.16,
          3089.62,
          3090.38,
          3091.28,
          3091.2,
          3096.93,
          3099.28,
          3092.21,
          3090.63,
          3091.43,
          3084.33,
          3081.14,
          3073.55,
          3073.34,
          3074.06,
          3071.34,
          3073.01,
          3075.97,
          3074.4,
          3074.22,
          3072.66,
          3078.38,
          3080.37,
          3083.62,
          3085.4
         ],
         "open": [
          3078.858333333333,
          3077.077142857143,
          3076.2257142857143,
          3080.41,
          3076.624285714285,
          3079.437142857142,
          3078.982857142857,
          3078.117142857143,
          3077.355714285715,
          3077.141428571429,
          3073.174285714286,
          3066.235714285715,
          3065.7914285714287,
          3064.792857142857,
          3065.672146338572,
          3063.668571428572,
          3067.682857142857,
          3075.912857142857,
          3090.02,
          3087.692857142857,
          3085.43943119,
          3079.421428571429,
          3078.894285714286,
          3070.5414285714287,
          3074.9500000000007,
          3080.897142857142,
          3077.088571428572,
          3072.035714285714,
          3079.498571428572,
          3067.74063117,
          3062.8205641400004,
          3071.915714285715,
          3076.652857142857,
          3078.491428571429,
          3082.2342857142853,
          3087.407142857142,
          3081.498571428572,
          3075.748571428572,
          3079.7514285714287,
          3071.048571428572,
          3078.16,
          3072.342821597143,
          3076.3785714285714,
          3079.732857142857,
          3083.012857142857,
          3090.787142857143,
          3094.991428571429,
          3099.625714285714,
          3102.4957142857147,
          3104.018571428572,
          3112.858571428572,
          3113.445714285714,
          3106.8862341371428,
          3106.24,
          3107.247142857143,
          3102.805714285714,
          3113.281428571429,
          3109.764285714286,
          3109.744285714285,
          3116.04,
          3113.141428571428,
          3120.928571428572,
          3118.5,
          3116.657142857144,
          3118.126334261429,
          3111.962857142857,
          3108.46,
          3105.86,
          3107.39,
          3106.130000000001,
          3100.9128571428564,
          3096.1157142857146,
          3094.898571428572,
          3095.8071428571425,
          3097.0357142857133,
          3094.125714285715,
          3096.125714285715,
          3091.9316666666664,
          3093.273333333333,
          3092.572857142857,
          3098.73,
          3103.1742857142854,
          3104.714285714286,
          3095.022857142857,
          3096.962857142857,
          3093.49,
          3087.345714285714,
          3083.698571428572,
          3075.7342857142853,
          3077.6,
          3076.912857142857,
          3077.33625078,
          3079.5442857142853,
          3078.598571428572,
          3076.391428571428,
          3075.1699999999987,
          3079.609337975715,
          3084.3844934857143,
          3084.624903472857,
          3086.32
         ],
         "type": "candlestick",
         "x": [
          "2021-09-20T15:41:00",
          "2021-09-20T15:42:00",
          "2021-09-20T15:43:00",
          "2021-09-20T15:44:00",
          "2021-09-20T15:45:00",
          "2021-09-20T15:46:00",
          "2021-09-20T15:47:00",
          "2021-09-20T15:48:00",
          "2021-09-20T15:49:00",
          "2021-09-20T15:50:00",
          "2021-09-20T15:51:00",
          "2021-09-20T15:52:00",
          "2021-09-20T15:53:00",
          "2021-09-20T15:54:00",
          "2021-09-20T15:55:00",
          "2021-09-20T15:56:00",
          "2021-09-20T15:57:00",
          "2021-09-20T15:58:00",
          "2021-09-20T15:59:00",
          "2021-09-20T16:00:00",
          "2021-09-20T16:01:00",
          "2021-09-20T16:02:00",
          "2021-09-20T16:03:00",
          "2021-09-20T16:04:00",
          "2021-09-20T16:05:00",
          "2021-09-20T16:06:00",
          "2021-09-20T16:07:00",
          "2021-09-20T16:08:00",
          "2021-09-20T16:09:00",
          "2021-09-20T16:10:00",
          "2021-09-20T16:11:00",
          "2021-09-20T16:12:00",
          "2021-09-20T16:13:00",
          "2021-09-20T16:14:00",
          "2021-09-20T16:15:00",
          "2021-09-20T16:16:00",
          "2021-09-20T16:17:00",
          "2021-09-20T16:18:00",
          "2021-09-20T16:19:00",
          "2021-09-20T16:20:00",
          "2021-09-20T16:21:00",
          "2021-09-20T16:22:00",
          "2021-09-20T16:23:00",
          "2021-09-20T16:24:00",
          "2021-09-20T16:25:00",
          "2021-09-20T16:26:00",
          "2021-09-20T16:27:00",
          "2021-09-20T16:28:00",
          "2021-09-20T16:29:00",
          "2021-09-20T16:30:00",
          "2021-09-20T16:31:00",
          "2021-09-20T16:32:00",
          "2021-09-20T16:33:00",
          "2021-09-20T16:34:00",
          "2021-09-20T16:35:00",
          "2021-09-20T16:36:00",
          "2021-09-20T16:37:00",
          "2021-09-20T16:38:00",
          "2021-09-20T16:39:00",
          "2021-09-20T16:40:00",
          "2021-09-20T16:41:00",
          "2021-09-20T16:42:00",
          "2021-09-20T16:43:00",
          "2021-09-20T16:44:00",
          "2021-09-20T16:45:00",
          "2021-09-20T16:46:00",
          "2021-09-20T16:47:00",
          "2021-09-20T16:48:00",
          "2021-09-20T16:49:00",
          "2021-09-20T16:50:00",
          "2021-09-20T16:51:00",
          "2021-09-20T16:52:00",
          "2021-09-20T16:53:00",
          "2021-09-20T16:54:00",
          "2021-09-20T16:55:00",
          "2021-09-20T16:56:00",
          "2021-09-20T16:57:00",
          "2021-09-20T16:58:00",
          "2021-09-20T16:59:00",
          "2021-09-20T17:00:00",
          "2021-09-20T17:01:00",
          "2021-09-20T17:02:00",
          "2021-09-20T17:03:00",
          "2021-09-20T17:04:00",
          "2021-09-20T17:05:00",
          "2021-09-20T17:06:00",
          "2021-09-20T17:07:00",
          "2021-09-20T17:08:00",
          "2021-09-20T17:09:00",
          "2021-09-20T17:10:00",
          "2021-09-20T17:11:00",
          "2021-09-20T17:12:00",
          "2021-09-20T17:13:00",
          "2021-09-20T17:14:00",
          "2021-09-20T17:15:00",
          "2021-09-20T17:16:00",
          "2021-09-20T17:17:00",
          "2021-09-20T17:18:00",
          "2021-09-20T17:19:00",
          "2021-09-20T17:20:00"
         ]
        }
       ],
       "layout": {
        "template": {
         "data": {
          "bar": [
           {
            "error_x": {
             "color": "#2a3f5f"
            },
            "error_y": {
             "color": "#2a3f5f"
            },
            "marker": {
             "line": {
              "color": "#E5ECF6",
              "width": 0.5
             },
             "pattern": {
              "fillmode": "overlay",
              "size": 10,
              "solidity": 0.2
             }
            },
            "type": "bar"
           }
          ],
          "barpolar": [
           {
            "marker": {
             "line": {
              "color": "#E5ECF6",
              "width": 0.5
             },
             "pattern": {
              "fillmode": "overlay",
              "size": 10,
              "solidity": 0.2
             }
            },
            "type": "barpolar"
           }
          ],
          "carpet": [
           {
            "aaxis": {
             "endlinecolor": "#2a3f5f",
             "gridcolor": "white",
             "linecolor": "white",
             "minorgridcolor": "white",
             "startlinecolor": "#2a3f5f"
            },
            "baxis": {
             "endlinecolor": "#2a3f5f",
             "gridcolor": "white",
             "linecolor": "white",
             "minorgridcolor": "white",
             "startlinecolor": "#2a3f5f"
            },
            "type": "carpet"
           }
          ],
          "choropleth": [
           {
            "colorbar": {
             "outlinewidth": 0,
             "ticks": ""
            },
            "type": "choropleth"
           }
          ],
          "contour": [
           {
            "colorbar": {
             "outlinewidth": 0,
             "ticks": ""
            },
            "colorscale": [
             [
              0,
              "#0d0887"
             ],
             [
              0.1111111111111111,
              "#46039f"
             ],
             [
              0.2222222222222222,
              "#7201a8"
             ],
             [
              0.3333333333333333,
              "#9c179e"
             ],
             [
              0.4444444444444444,
              "#bd3786"
             ],
             [
              0.5555555555555556,
              "#d8576b"
             ],
             [
              0.6666666666666666,
              "#ed7953"
             ],
             [
              0.7777777777777778,
              "#fb9f3a"
             ],
             [
              0.8888888888888888,
              "#fdca26"
             ],
             [
              1,
              "#f0f921"
             ]
            ],
            "type": "contour"
           }
          ],
          "contourcarpet": [
           {
            "colorbar": {
             "outlinewidth": 0,
             "ticks": ""
            },
            "type": "contourcarpet"
           }
          ],
          "heatmap": [
           {
            "colorbar": {
             "outlinewidth": 0,
             "ticks": ""
            },
            "colorscale": [
             [
              0,
              "#0d0887"
             ],
             [
              0.1111111111111111,
              "#46039f"
             ],
             [
              0.2222222222222222,
              "#7201a8"
             ],
             [
              0.3333333333333333,
              "#9c179e"
             ],
             [
              0.4444444444444444,
              "#bd3786"
             ],
             [
              0.5555555555555556,
              "#d8576b"
             ],
             [
              0.6666666666666666,
              "#ed7953"
             ],
             [
              0.7777777777777778,
              "#fb9f3a"
             ],
             [
              0.8888888888888888,
              "#fdca26"
             ],
             [
              1,
              "#f0f921"
             ]
            ],
            "type": "heatmap"
           }
          ],
          "heatmapgl": [
           {
            "colorbar": {
             "outlinewidth": 0,
             "ticks": ""
            },
            "colorscale": [
             [
              0,
              "#0d0887"
             ],
             [
              0.1111111111111111,
              "#46039f"
             ],
             [
              0.2222222222222222,
              "#7201a8"
             ],
             [
              0.3333333333333333,
              "#9c179e"
             ],
             [
              0.4444444444444444,
              "#bd3786"
             ],
             [
              0.5555555555555556,
              "#d8576b"
             ],
             [
              0.6666666666666666,
              "#ed7953"
             ],
             [
              0.7777777777777778,
              "#fb9f3a"
             ],
             [
              0.8888888888888888,
              "#fdca26"
             ],
             [
              1,
              "#f0f921"
             ]
            ],
            "type": "heatmapgl"
           }
          ],
          "histogram": [
           {
            "marker": {
             "pattern": {
              "fillmode": "overlay",
              "size": 10,
              "solidity": 0.2
             }
            },
            "type": "histogram"
           }
          ],
          "histogram2d": [
           {
            "colorbar": {
             "outlinewidth": 0,
             "ticks": ""
            },
            "colorscale": [
             [
              0,
              "#0d0887"
             ],
             [
              0.1111111111111111,
              "#46039f"
             ],
             [
              0.2222222222222222,
              "#7201a8"
             ],
             [
              0.3333333333333333,
              "#9c179e"
             ],
             [
              0.4444444444444444,
              "#bd3786"
             ],
             [
              0.5555555555555556,
              "#d8576b"
             ],
             [
              0.6666666666666666,
              "#ed7953"
             ],
             [
              0.7777777777777778,
              "#fb9f3a"
             ],
             [
              0.8888888888888888,
              "#fdca26"
             ],
             [
              1,
              "#f0f921"
             ]
            ],
            "type": "histogram2d"
           }
          ],
          "histogram2dcontour": [
           {
            "colorbar": {
             "outlinewidth": 0,
             "ticks": ""
            },
            "colorscale": [
             [
              0,
              "#0d0887"
             ],
             [
              0.1111111111111111,
              "#46039f"
             ],
             [
              0.2222222222222222,
              "#7201a8"
             ],
             [
              0.3333333333333333,
              "#9c179e"
             ],
             [
              0.4444444444444444,
              "#bd3786"
             ],
             [
              0.5555555555555556,
              "#d8576b"
             ],
             [
              0.6666666666666666,
              "#ed7953"
             ],
             [
              0.7777777777777778,
              "#fb9f3a"
             ],
             [
              0.8888888888888888,
              "#fdca26"
             ],
             [
              1,
              "#f0f921"
             ]
            ],
            "type": "histogram2dcontour"
           }
          ],
          "mesh3d": [
           {
            "colorbar": {
             "outlinewidth": 0,
             "ticks": ""
            },
            "type": "mesh3d"
           }
          ],
          "parcoords": [
           {
            "line": {
             "colorbar": {
              "outlinewidth": 0,
              "ticks": ""
             }
            },
            "type": "parcoords"
           }
          ],
          "pie": [
           {
            "automargin": true,
            "type": "pie"
           }
          ],
          "scatter": [
           {
            "marker": {
             "colorbar": {
              "outlinewidth": 0,
              "ticks": ""
             }
            },
            "type": "scatter"
           }
          ],
          "scatter3d": [
           {
            "line": {
             "colorbar": {
              "outlinewidth": 0,
              "ticks": ""
             }
            },
            "marker": {
             "colorbar": {
              "outlinewidth": 0,
              "ticks": ""
             }
            },
            "type": "scatter3d"
           }
          ],
          "scattercarpet": [
           {
            "marker": {
             "colorbar": {
              "outlinewidth": 0,
              "ticks": ""
             }
            },
            "type": "scattercarpet"
           }
          ],
          "scattergeo": [
           {
            "marker": {
             "colorbar": {
              "outlinewidth": 0,
              "ticks": ""
             }
            },
            "type": "scattergeo"
           }
          ],
          "scattergl": [
           {
            "marker": {
             "colorbar": {
              "outlinewidth": 0,
              "ticks": ""
             }
            },
            "type": "scattergl"
           }
          ],
          "scattermapbox": [
           {
            "marker": {
             "colorbar": {
              "outlinewidth": 0,
              "ticks": ""
             }
            },
            "type": "scattermapbox"
           }
          ],
          "scatterpolar": [
           {
            "marker": {
             "colorbar": {
              "outlinewidth": 0,
              "ticks": ""
             }
            },
            "type": "scatterpolar"
           }
          ],
          "scatterpolargl": [
           {
            "marker": {
             "colorbar": {
              "outlinewidth": 0,
              "ticks": ""
             }
            },
            "type": "scatterpolargl"
           }
          ],
          "scatterternary": [
           {
            "marker": {
             "colorbar": {
              "outlinewidth": 0,
              "ticks": ""
             }
            },
            "type": "scatterternary"
           }
          ],
          "surface": [
           {
            "colorbar": {
             "outlinewidth": 0,
             "ticks": ""
            },
            "colorscale": [
             [
              0,
              "#0d0887"
             ],
             [
              0.1111111111111111,
              "#46039f"
             ],
             [
              0.2222222222222222,
              "#7201a8"
             ],
             [
              0.3333333333333333,
              "#9c179e"
             ],
             [
              0.4444444444444444,
              "#bd3786"
             ],
             [
              0.5555555555555556,
              "#d8576b"
             ],
             [
              0.6666666666666666,
              "#ed7953"
             ],
             [
              0.7777777777777778,
              "#fb9f3a"
             ],
             [
              0.8888888888888888,
              "#fdca26"
             ],
             [
              1,
              "#f0f921"
             ]
            ],
            "type": "surface"
           }
          ],
          "table": [
           {
            "cells": {
             "fill": {
              "color": "#EBF0F8"
             },
             "line": {
              "color": "white"
             }
            },
            "header": {
             "fill": {
              "color": "#C8D4E3"
             },
             "line": {
              "color": "white"
             }
            },
            "type": "table"
           }
          ]
         },
         "layout": {
          "annotationdefaults": {
           "arrowcolor": "#2a3f5f",
           "arrowhead": 0,
           "arrowwidth": 1
          },
          "autotypenumbers": "strict",
          "coloraxis": {
           "colorbar": {
            "outlinewidth": 0,
            "ticks": ""
           }
          },
          "colorscale": {
           "diverging": [
            [
             0,
             "#8e0152"
            ],
            [
             0.1,
             "#c51b7d"
            ],
            [
             0.2,
             "#de77ae"
            ],
            [
             0.3,
             "#f1b6da"
            ],
            [
             0.4,
             "#fde0ef"
            ],
            [
             0.5,
             "#f7f7f7"
            ],
            [
             0.6,
             "#e6f5d0"
            ],
            [
             0.7,
             "#b8e186"
            ],
            [
             0.8,
             "#7fbc41"
            ],
            [
             0.9,
             "#4d9221"
            ],
            [
             1,
             "#276419"
            ]
           ],
           "sequential": [
            [
             0,
             "#0d0887"
            ],
            [
             0.1111111111111111,
             "#46039f"
            ],
            [
             0.2222222222222222,
             "#7201a8"
            ],
            [
             0.3333333333333333,
             "#9c179e"
            ],
            [
             0.4444444444444444,
             "#bd3786"
            ],
            [
             0.5555555555555556,
             "#d8576b"
            ],
            [
             0.6666666666666666,
             "#ed7953"
            ],
            [
             0.7777777777777778,
             "#fb9f3a"
            ],
            [
             0.8888888888888888,
             "#fdca26"
            ],
            [
             1,
             "#f0f921"
            ]
           ],
           "sequentialminus": [
            [
             0,
             "#0d0887"
            ],
            [
             0.1111111111111111,
             "#46039f"
            ],
            [
             0.2222222222222222,
             "#7201a8"
            ],
            [
             0.3333333333333333,
             "#9c179e"
            ],
            [
             0.4444444444444444,
             "#bd3786"
            ],
            [
             0.5555555555555556,
             "#d8576b"
            ],
            [
             0.6666666666666666,
             "#ed7953"
            ],
            [
             0.7777777777777778,
             "#fb9f3a"
            ],
            [
             0.8888888888888888,
             "#fdca26"
            ],
            [
             1,
             "#f0f921"
            ]
           ]
          },
          "colorway": [
           "#636efa",
           "#EF553B",
           "#00cc96",
           "#ab63fa",
           "#FFA15A",
           "#19d3f3",
           "#FF6692",
           "#B6E880",
           "#FF97FF",
           "#FECB52"
          ],
          "font": {
           "color": "#2a3f5f"
          },
          "geo": {
           "bgcolor": "white",
           "lakecolor": "white",
           "landcolor": "#E5ECF6",
           "showlakes": true,
           "showland": true,
           "subunitcolor": "white"
          },
          "hoverlabel": {
           "align": "left"
          },
          "hovermode": "closest",
          "mapbox": {
           "style": "light"
          },
          "paper_bgcolor": "white",
          "plot_bgcolor": "#E5ECF6",
          "polar": {
           "angularaxis": {
            "gridcolor": "white",
            "linecolor": "white",
            "ticks": ""
           },
           "bgcolor": "#E5ECF6",
           "radialaxis": {
            "gridcolor": "white",
            "linecolor": "white",
            "ticks": ""
           }
          },
          "scene": {
           "xaxis": {
            "backgroundcolor": "#E5ECF6",
            "gridcolor": "white",
            "gridwidth": 2,
            "linecolor": "white",
            "showbackground": true,
            "ticks": "",
            "zerolinecolor": "white"
           },
           "yaxis": {
            "backgroundcolor": "#E5ECF6",
            "gridcolor": "white",
            "gridwidth": 2,
            "linecolor": "white",
            "showbackground": true,
            "ticks": "",
            "zerolinecolor": "white"
           },
           "zaxis": {
            "backgroundcolor": "#E5ECF6",
            "gridcolor": "white",
            "gridwidth": 2,
            "linecolor": "white",
            "showbackground": true,
            "ticks": "",
            "zerolinecolor": "white"
           }
          },
          "shapedefaults": {
           "line": {
            "color": "#2a3f5f"
           }
          },
          "ternary": {
           "aaxis": {
            "gridcolor": "white",
            "linecolor": "white",
            "ticks": ""
           },
           "baxis": {
            "gridcolor": "white",
            "linecolor": "white",
            "ticks": ""
           },
           "bgcolor": "#E5ECF6",
           "caxis": {
            "gridcolor": "white",
            "linecolor": "white",
            "ticks": ""
           }
          },
          "title": {
           "x": 0.05
          },
          "xaxis": {
           "automargin": true,
           "gridcolor": "white",
           "linecolor": "white",
           "ticks": "",
           "title": {
            "standoff": 15
           },
           "zerolinecolor": "white",
           "zerolinewidth": 2
          },
          "yaxis": {
           "automargin": true,
           "gridcolor": "white",
           "linecolor": "white",
           "ticks": "",
           "title": {
            "standoff": 15
           },
           "zerolinecolor": "white",
           "zerolinewidth": 2
          }
         }
        },
        "title": {
         "text": "ETH Price  Candelstick Chart",
         "x": 0.5,
         "xanchor": "center",
         "y": 0.8,
         "yanchor": "top"
        },
        "xaxis": {
         "rangeslider": {
          "visible": true
         },
         "title": {
          "text": "Time"
         }
        },
        "yaxis": {
         "ticksuffix": "$",
         "title": {
          "text": "Price in USD"
         }
        }
       }
      },
      "text/html": [
       "<div>                            <div id=\"93073272-8aa4-460f-88c6-5a4ea5f4ea49\" class=\"plotly-graph-div\" style=\"height:525px; width:100%;\"></div>            <script type=\"text/javascript\">                require([\"plotly\"], function(Plotly) {                    window.PLOTLYENV=window.PLOTLYENV || {};                                    if (document.getElementById(\"93073272-8aa4-460f-88c6-5a4ea5f4ea49\")) {                    Plotly.newPlot(                        \"93073272-8aa4-460f-88c6-5a4ea5f4ea49\",                        [{\"close\":[3076.866666666667,3076.652857142857,3080.8642857142863,3077.244285714286,3080.15,3079.248238231429,3078.587142857143,3077.577142857143,3077.662857142857,3073.2671428571434,3066.9957142857143,3065.7028093371428,3065.144285714286,3065.6600000000008,3063.0642857142857,3066.458571428572,3076.164285714286,3090.067142857143,3088.775714285715,3085.467142857143,3080.242857142857,3079.112857142857,3071.002857142857,3075.788571428572,3079.542857142857,3077.575714285714,3072.6342857142854,3081.0571428571425,3068.698571428572,3062.3814285714284,3072.2114285714283,3076.387142857144,3078.381428571429,3081.8714285714286,3087.6800000000007,3081.83507818,3075.574285714286,3080.32,3070.768571428572,3077.2914285714287,3072.427142857144,3075.862857142857,3080.080000000001,3082.0600000000004,3091.992857142857,3093.8,3099.491428571428,3103.213993037143,3104.344285714286,3112.3214285714284,3113.07,3106.4162341371434,3105.882857142857,3106.2714285714287,3102.933403662857,3113.227632524285,3110.008571428572,3110.011428571429,3115.934285714286,3112.82,3120.362857142857,3118.182857142857,3117.345714285714,3118.845714285714,3112.424285714286,3108.678571428572,3105.808571428571,3107.692857142857,3106.304285714286,3100.5972387757147,3096.848571428571,3094.157142857144,3096.4957142857147,3097.454285714285,3093.721428571428,3095.2471428571416,3091.602857142857,3092.981666666666,3092.588333333333,3098.107142857144,3103.212857142857,3105.264285714285,3094.288571428572,3096.84,3093.608571428572,3087.0814285714287,3083.967142857143,3076.074285714286,3077.292857142857,3077.691666666667,3077.742857142857,3079.164285714286,3077.6671428571435,3076.1342857142854,3075.57,3078.818571428572,3084.0814285714287,3084.128571428572,3085.908571428572,3090.082857142857],\"high\":[3079.6,3082.35,3082.91,3081.7,3082.2,3081.12,3081.7,3079.6,3079.9,3077.99,3075.5,3069.4,3070.9,3067.34,3067.0,3068.7,3077.6,3096.72,3097.32,3096.08,3087.04601833,3085.18,3082.11,3078.06883287,3080.7,3084.3,3078.69,3081.7,3080.92,3069.55,3073.76,3077.8,3079.68,3083.96,3089.07,3088.0,3082.52,3081.34,3080.58,3079.3,3079.32,3076.77,3081.02,3084.59016365,3096.68,3096.3,3100.22,3110.0,3105.82,3116.62,3116.1,3115.31,3108.28,3107.61,3109.18,3116.0,3114.98,3112.36,3118.72,3118.46,3122.34,3124.1,3123.16,3120.1,3118.97,3112.65,3109.04,3109.75,3108.14,3106.81,3102.82,3097.29,3102.12,3099.95,3097.95,3097.26,3098.3,3094.77,3096.5,3099.36,3109.4,3106.78,3106.21,3099.5,3098.94,3094.96,3089.69,3085.18,3080.82,3080.67,3078.83,3080.0,3080.76,3080.9,3080.47,3080.6,3085.71,3086.3,3088.05,3091.46],\"low\":[3075.29,3075.34,3074.06,3074.77,3072.82,3075.12,3075.21,3074.19,3073.83,3072.0,3064.06,3062.53,3063.25,3063.24,3059.89,3061.3,3065.74,3070.36,3086.83,3078.0,3078.99,3073.04,3069.33,3068.81,3072.94,3076.22,3068.94,3070.14,3066.21,3060.87,3060.82,3068.7,3073.54,3076.89,3080.96,3081.11,3074.01,3074.0,3070.27,3069.03,3070.74,3070.01,3074.36,3078.06,3081.22,3087.49,3093.67,3097.38,3100.36,3101.56,3109.32,3105.27,3101.82,3101.12,3101.82,3101.01,3108.48,3105.29,3108.6,3112.09,3111.11,3115.12,3115.99,3114.7,3110.18,3106.61,3104.73,3104.76,3105.5,3098.29,3094.45,3090.55,3092.29,3093.81,3091.25,3090.16,3089.62,3090.38,3091.28,3091.2,3096.93,3099.28,3092.21,3090.63,3091.43,3084.33,3081.14,3073.55,3073.34,3074.06,3071.34,3073.01,3075.97,3074.4,3074.22,3072.66,3078.38,3080.37,3083.62,3085.4],\"open\":[3078.858333333333,3077.077142857143,3076.2257142857143,3080.41,3076.624285714285,3079.437142857142,3078.982857142857,3078.117142857143,3077.355714285715,3077.141428571429,3073.174285714286,3066.235714285715,3065.7914285714287,3064.792857142857,3065.672146338572,3063.668571428572,3067.682857142857,3075.912857142857,3090.02,3087.692857142857,3085.43943119,3079.421428571429,3078.894285714286,3070.5414285714287,3074.9500000000007,3080.897142857142,3077.088571428572,3072.035714285714,3079.498571428572,3067.74063117,3062.8205641400004,3071.915714285715,3076.652857142857,3078.491428571429,3082.2342857142853,3087.407142857142,3081.498571428572,3075.748571428572,3079.7514285714287,3071.048571428572,3078.16,3072.342821597143,3076.3785714285714,3079.732857142857,3083.012857142857,3090.787142857143,3094.991428571429,3099.625714285714,3102.4957142857147,3104.018571428572,3112.858571428572,3113.445714285714,3106.8862341371428,3106.24,3107.247142857143,3102.805714285714,3113.281428571429,3109.764285714286,3109.744285714285,3116.04,3113.141428571428,3120.928571428572,3118.5,3116.657142857144,3118.126334261429,3111.962857142857,3108.46,3105.86,3107.39,3106.130000000001,3100.9128571428564,3096.1157142857146,3094.898571428572,3095.8071428571425,3097.0357142857133,3094.125714285715,3096.125714285715,3091.9316666666664,3093.273333333333,3092.572857142857,3098.73,3103.1742857142854,3104.714285714286,3095.022857142857,3096.962857142857,3093.49,3087.345714285714,3083.698571428572,3075.7342857142853,3077.6,3076.912857142857,3077.33625078,3079.5442857142853,3078.598571428572,3076.391428571428,3075.1699999999987,3079.609337975715,3084.3844934857143,3084.624903472857,3086.32],\"type\":\"candlestick\",\"x\":[\"2021-09-20T15:41:00\",\"2021-09-20T15:42:00\",\"2021-09-20T15:43:00\",\"2021-09-20T15:44:00\",\"2021-09-20T15:45:00\",\"2021-09-20T15:46:00\",\"2021-09-20T15:47:00\",\"2021-09-20T15:48:00\",\"2021-09-20T15:49:00\",\"2021-09-20T15:50:00\",\"2021-09-20T15:51:00\",\"2021-09-20T15:52:00\",\"2021-09-20T15:53:00\",\"2021-09-20T15:54:00\",\"2021-09-20T15:55:00\",\"2021-09-20T15:56:00\",\"2021-09-20T15:57:00\",\"2021-09-20T15:58:00\",\"2021-09-20T15:59:00\",\"2021-09-20T16:00:00\",\"2021-09-20T16:01:00\",\"2021-09-20T16:02:00\",\"2021-09-20T16:03:00\",\"2021-09-20T16:04:00\",\"2021-09-20T16:05:00\",\"2021-09-20T16:06:00\",\"2021-09-20T16:07:00\",\"2021-09-20T16:08:00\",\"2021-09-20T16:09:00\",\"2021-09-20T16:10:00\",\"2021-09-20T16:11:00\",\"2021-09-20T16:12:00\",\"2021-09-20T16:13:00\",\"2021-09-20T16:14:00\",\"2021-09-20T16:15:00\",\"2021-09-20T16:16:00\",\"2021-09-20T16:17:00\",\"2021-09-20T16:18:00\",\"2021-09-20T16:19:00\",\"2021-09-20T16:20:00\",\"2021-09-20T16:21:00\",\"2021-09-20T16:22:00\",\"2021-09-20T16:23:00\",\"2021-09-20T16:24:00\",\"2021-09-20T16:25:00\",\"2021-09-20T16:26:00\",\"2021-09-20T16:27:00\",\"2021-09-20T16:28:00\",\"2021-09-20T16:29:00\",\"2021-09-20T16:30:00\",\"2021-09-20T16:31:00\",\"2021-09-20T16:32:00\",\"2021-09-20T16:33:00\",\"2021-09-20T16:34:00\",\"2021-09-20T16:35:00\",\"2021-09-20T16:36:00\",\"2021-09-20T16:37:00\",\"2021-09-20T16:38:00\",\"2021-09-20T16:39:00\",\"2021-09-20T16:40:00\",\"2021-09-20T16:41:00\",\"2021-09-20T16:42:00\",\"2021-09-20T16:43:00\",\"2021-09-20T16:44:00\",\"2021-09-20T16:45:00\",\"2021-09-20T16:46:00\",\"2021-09-20T16:47:00\",\"2021-09-20T16:48:00\",\"2021-09-20T16:49:00\",\"2021-09-20T16:50:00\",\"2021-09-20T16:51:00\",\"2021-09-20T16:52:00\",\"2021-09-20T16:53:00\",\"2021-09-20T16:54:00\",\"2021-09-20T16:55:00\",\"2021-09-20T16:56:00\",\"2021-09-20T16:57:00\",\"2021-09-20T16:58:00\",\"2021-09-20T16:59:00\",\"2021-09-20T17:00:00\",\"2021-09-20T17:01:00\",\"2021-09-20T17:02:00\",\"2021-09-20T17:03:00\",\"2021-09-20T17:04:00\",\"2021-09-20T17:05:00\",\"2021-09-20T17:06:00\",\"2021-09-20T17:07:00\",\"2021-09-20T17:08:00\",\"2021-09-20T17:09:00\",\"2021-09-20T17:10:00\",\"2021-09-20T17:11:00\",\"2021-09-20T17:12:00\",\"2021-09-20T17:13:00\",\"2021-09-20T17:14:00\",\"2021-09-20T17:15:00\",\"2021-09-20T17:16:00\",\"2021-09-20T17:17:00\",\"2021-09-20T17:18:00\",\"2021-09-20T17:19:00\",\"2021-09-20T17:20:00\"]}],                        {\"template\":{\"data\":{\"bar\":[{\"error_x\":{\"color\":\"#2a3f5f\"},\"error_y\":{\"color\":\"#2a3f5f\"},\"marker\":{\"line\":{\"color\":\"#E5ECF6\",\"width\":0.5},\"pattern\":{\"fillmode\":\"overlay\",\"size\":10,\"solidity\":0.2}},\"type\":\"bar\"}],\"barpolar\":[{\"marker\":{\"line\":{\"color\":\"#E5ECF6\",\"width\":0.5},\"pattern\":{\"fillmode\":\"overlay\",\"size\":10,\"solidity\":0.2}},\"type\":\"barpolar\"}],\"carpet\":[{\"aaxis\":{\"endlinecolor\":\"#2a3f5f\",\"gridcolor\":\"white\",\"linecolor\":\"white\",\"minorgridcolor\":\"white\",\"startlinecolor\":\"#2a3f5f\"},\"baxis\":{\"endlinecolor\":\"#2a3f5f\",\"gridcolor\":\"white\",\"linecolor\":\"white\",\"minorgridcolor\":\"white\",\"startlinecolor\":\"#2a3f5f\"},\"type\":\"carpet\"}],\"choropleth\":[{\"colorbar\":{\"outlinewidth\":0,\"ticks\":\"\"},\"type\":\"choropleth\"}],\"contour\":[{\"colorbar\":{\"outlinewidth\":0,\"ticks\":\"\"},\"colorscale\":[[0.0,\"#0d0887\"],[0.1111111111111111,\"#46039f\"],[0.2222222222222222,\"#7201a8\"],[0.3333333333333333,\"#9c179e\"],[0.4444444444444444,\"#bd3786\"],[0.5555555555555556,\"#d8576b\"],[0.6666666666666666,\"#ed7953\"],[0.7777777777777778,\"#fb9f3a\"],[0.8888888888888888,\"#fdca26\"],[1.0,\"#f0f921\"]],\"type\":\"contour\"}],\"contourcarpet\":[{\"colorbar\":{\"outlinewidth\":0,\"ticks\":\"\"},\"type\":\"contourcarpet\"}],\"heatmap\":[{\"colorbar\":{\"outlinewidth\":0,\"ticks\":\"\"},\"colorscale\":[[0.0,\"#0d0887\"],[0.1111111111111111,\"#46039f\"],[0.2222222222222222,\"#7201a8\"],[0.3333333333333333,\"#9c179e\"],[0.4444444444444444,\"#bd3786\"],[0.5555555555555556,\"#d8576b\"],[0.6666666666666666,\"#ed7953\"],[0.7777777777777778,\"#fb9f3a\"],[0.8888888888888888,\"#fdca26\"],[1.0,\"#f0f921\"]],\"type\":\"heatmap\"}],\"heatmapgl\":[{\"colorbar\":{\"outlinewidth\":0,\"ticks\":\"\"},\"colorscale\":[[0.0,\"#0d0887\"],[0.1111111111111111,\"#46039f\"],[0.2222222222222222,\"#7201a8\"],[0.3333333333333333,\"#9c179e\"],[0.4444444444444444,\"#bd3786\"],[0.5555555555555556,\"#d8576b\"],[0.6666666666666666,\"#ed7953\"],[0.7777777777777778,\"#fb9f3a\"],[0.8888888888888888,\"#fdca26\"],[1.0,\"#f0f921\"]],\"type\":\"heatmapgl\"}],\"histogram\":[{\"marker\":{\"pattern\":{\"fillmode\":\"overlay\",\"size\":10,\"solidity\":0.2}},\"type\":\"histogram\"}],\"histogram2d\":[{\"colorbar\":{\"outlinewidth\":0,\"ticks\":\"\"},\"colorscale\":[[0.0,\"#0d0887\"],[0.1111111111111111,\"#46039f\"],[0.2222222222222222,\"#7201a8\"],[0.3333333333333333,\"#9c179e\"],[0.4444444444444444,\"#bd3786\"],[0.5555555555555556,\"#d8576b\"],[0.6666666666666666,\"#ed7953\"],[0.7777777777777778,\"#fb9f3a\"],[0.8888888888888888,\"#fdca26\"],[1.0,\"#f0f921\"]],\"type\":\"histogram2d\"}],\"histogram2dcontour\":[{\"colorbar\":{\"outlinewidth\":0,\"ticks\":\"\"},\"colorscale\":[[0.0,\"#0d0887\"],[0.1111111111111111,\"#46039f\"],[0.2222222222222222,\"#7201a8\"],[0.3333333333333333,\"#9c179e\"],[0.4444444444444444,\"#bd3786\"],[0.5555555555555556,\"#d8576b\"],[0.6666666666666666,\"#ed7953\"],[0.7777777777777778,\"#fb9f3a\"],[0.8888888888888888,\"#fdca26\"],[1.0,\"#f0f921\"]],\"type\":\"histogram2dcontour\"}],\"mesh3d\":[{\"colorbar\":{\"outlinewidth\":0,\"ticks\":\"\"},\"type\":\"mesh3d\"}],\"parcoords\":[{\"line\":{\"colorbar\":{\"outlinewidth\":0,\"ticks\":\"\"}},\"type\":\"parcoords\"}],\"pie\":[{\"automargin\":true,\"type\":\"pie\"}],\"scatter\":[{\"marker\":{\"colorbar\":{\"outlinewidth\":0,\"ticks\":\"\"}},\"type\":\"scatter\"}],\"scatter3d\":[{\"line\":{\"colorbar\":{\"outlinewidth\":0,\"ticks\":\"\"}},\"marker\":{\"colorbar\":{\"outlinewidth\":0,\"ticks\":\"\"}},\"type\":\"scatter3d\"}],\"scattercarpet\":[{\"marker\":{\"colorbar\":{\"outlinewidth\":0,\"ticks\":\"\"}},\"type\":\"scattercarpet\"}],\"scattergeo\":[{\"marker\":{\"colorbar\":{\"outlinewidth\":0,\"ticks\":\"\"}},\"type\":\"scattergeo\"}],\"scattergl\":[{\"marker\":{\"colorbar\":{\"outlinewidth\":0,\"ticks\":\"\"}},\"type\":\"scattergl\"}],\"scattermapbox\":[{\"marker\":{\"colorbar\":{\"outlinewidth\":0,\"ticks\":\"\"}},\"type\":\"scattermapbox\"}],\"scatterpolar\":[{\"marker\":{\"colorbar\":{\"outlinewidth\":0,\"ticks\":\"\"}},\"type\":\"scatterpolar\"}],\"scatterpolargl\":[{\"marker\":{\"colorbar\":{\"outlinewidth\":0,\"ticks\":\"\"}},\"type\":\"scatterpolargl\"}],\"scatterternary\":[{\"marker\":{\"colorbar\":{\"outlinewidth\":0,\"ticks\":\"\"}},\"type\":\"scatterternary\"}],\"surface\":[{\"colorbar\":{\"outlinewidth\":0,\"ticks\":\"\"},\"colorscale\":[[0.0,\"#0d0887\"],[0.1111111111111111,\"#46039f\"],[0.2222222222222222,\"#7201a8\"],[0.3333333333333333,\"#9c179e\"],[0.4444444444444444,\"#bd3786\"],[0.5555555555555556,\"#d8576b\"],[0.6666666666666666,\"#ed7953\"],[0.7777777777777778,\"#fb9f3a\"],[0.8888888888888888,\"#fdca26\"],[1.0,\"#f0f921\"]],\"type\":\"surface\"}],\"table\":[{\"cells\":{\"fill\":{\"color\":\"#EBF0F8\"},\"line\":{\"color\":\"white\"}},\"header\":{\"fill\":{\"color\":\"#C8D4E3\"},\"line\":{\"color\":\"white\"}},\"type\":\"table\"}]},\"layout\":{\"annotationdefaults\":{\"arrowcolor\":\"#2a3f5f\",\"arrowhead\":0,\"arrowwidth\":1},\"autotypenumbers\":\"strict\",\"coloraxis\":{\"colorbar\":{\"outlinewidth\":0,\"ticks\":\"\"}},\"colorscale\":{\"diverging\":[[0,\"#8e0152\"],[0.1,\"#c51b7d\"],[0.2,\"#de77ae\"],[0.3,\"#f1b6da\"],[0.4,\"#fde0ef\"],[0.5,\"#f7f7f7\"],[0.6,\"#e6f5d0\"],[0.7,\"#b8e186\"],[0.8,\"#7fbc41\"],[0.9,\"#4d9221\"],[1,\"#276419\"]],\"sequential\":[[0.0,\"#0d0887\"],[0.1111111111111111,\"#46039f\"],[0.2222222222222222,\"#7201a8\"],[0.3333333333333333,\"#9c179e\"],[0.4444444444444444,\"#bd3786\"],[0.5555555555555556,\"#d8576b\"],[0.6666666666666666,\"#ed7953\"],[0.7777777777777778,\"#fb9f3a\"],[0.8888888888888888,\"#fdca26\"],[1.0,\"#f0f921\"]],\"sequentialminus\":[[0.0,\"#0d0887\"],[0.1111111111111111,\"#46039f\"],[0.2222222222222222,\"#7201a8\"],[0.3333333333333333,\"#9c179e\"],[0.4444444444444444,\"#bd3786\"],[0.5555555555555556,\"#d8576b\"],[0.6666666666666666,\"#ed7953\"],[0.7777777777777778,\"#fb9f3a\"],[0.8888888888888888,\"#fdca26\"],[1.0,\"#f0f921\"]]},\"colorway\":[\"#636efa\",\"#EF553B\",\"#00cc96\",\"#ab63fa\",\"#FFA15A\",\"#19d3f3\",\"#FF6692\",\"#B6E880\",\"#FF97FF\",\"#FECB52\"],\"font\":{\"color\":\"#2a3f5f\"},\"geo\":{\"bgcolor\":\"white\",\"lakecolor\":\"white\",\"landcolor\":\"#E5ECF6\",\"showlakes\":true,\"showland\":true,\"subunitcolor\":\"white\"},\"hoverlabel\":{\"align\":\"left\"},\"hovermode\":\"closest\",\"mapbox\":{\"style\":\"light\"},\"paper_bgcolor\":\"white\",\"plot_bgcolor\":\"#E5ECF6\",\"polar\":{\"angularaxis\":{\"gridcolor\":\"white\",\"linecolor\":\"white\",\"ticks\":\"\"},\"bgcolor\":\"#E5ECF6\",\"radialaxis\":{\"gridcolor\":\"white\",\"linecolor\":\"white\",\"ticks\":\"\"}},\"scene\":{\"xaxis\":{\"backgroundcolor\":\"#E5ECF6\",\"gridcolor\":\"white\",\"gridwidth\":2,\"linecolor\":\"white\",\"showbackground\":true,\"ticks\":\"\",\"zerolinecolor\":\"white\"},\"yaxis\":{\"backgroundcolor\":\"#E5ECF6\",\"gridcolor\":\"white\",\"gridwidth\":2,\"linecolor\":\"white\",\"showbackground\":true,\"ticks\":\"\",\"zerolinecolor\":\"white\"},\"zaxis\":{\"backgroundcolor\":\"#E5ECF6\",\"gridcolor\":\"white\",\"gridwidth\":2,\"linecolor\":\"white\",\"showbackground\":true,\"ticks\":\"\",\"zerolinecolor\":\"white\"}},\"shapedefaults\":{\"line\":{\"color\":\"#2a3f5f\"}},\"ternary\":{\"aaxis\":{\"gridcolor\":\"white\",\"linecolor\":\"white\",\"ticks\":\"\"},\"baxis\":{\"gridcolor\":\"white\",\"linecolor\":\"white\",\"ticks\":\"\"},\"bgcolor\":\"#E5ECF6\",\"caxis\":{\"gridcolor\":\"white\",\"linecolor\":\"white\",\"ticks\":\"\"}},\"title\":{\"x\":0.05},\"xaxis\":{\"automargin\":true,\"gridcolor\":\"white\",\"linecolor\":\"white\",\"ticks\":\"\",\"title\":{\"standoff\":15},\"zerolinecolor\":\"white\",\"zerolinewidth\":2},\"yaxis\":{\"automargin\":true,\"gridcolor\":\"white\",\"linecolor\":\"white\",\"ticks\":\"\",\"title\":{\"standoff\":15},\"zerolinecolor\":\"white\",\"zerolinewidth\":2}}},\"title\":{\"text\":\"ETH Price  Candelstick Chart\",\"x\":0.5,\"xanchor\":\"center\",\"y\":0.8,\"yanchor\":\"top\"},\"xaxis\":{\"rangeslider\":{\"visible\":true},\"title\":{\"text\":\"Time\"}},\"yaxis\":{\"ticksuffix\":\"$\",\"title\":{\"text\":\"Price in USD\"}}},                        {\"responsive\": true}                    ).then(function(){\n",
       "                            \n",
       "var gd = document.getElementById('93073272-8aa4-460f-88c6-5a4ea5f4ea49');\n",
       "var x = new MutationObserver(function (mutations, observer) {{\n",
       "        var display = window.getComputedStyle(gd).display;\n",
       "        if (!display || display === 'none') {{\n",
       "            console.log([gd, 'removed!']);\n",
       "            Plotly.purge(gd);\n",
       "            observer.disconnect();\n",
       "        }}\n",
       "}});\n",
       "\n",
       "// Listen for the removal of the full notebook cells\n",
       "var notebookContainer = gd.closest('#notebook-container');\n",
       "if (notebookContainer) {{\n",
       "    x.observe(notebookContainer, {childList: true});\n",
       "}}\n",
       "\n",
       "// Listen for the clearing of the current output cell\n",
       "var outputEl = gd.closest('.output');\n",
       "if (outputEl) {{\n",
       "    x.observe(outputEl, {childList: true});\n",
       "}}\n",
       "\n",
       "                        })                };                });            </script>        </div>"
      ]
     },
     "metadata": {},
     "output_type": "display_data"
    }
   ],
   "source": [
    "%matplotlib inline\n",
    "ada_candle=c_chart(eth1[-500:-400], label=\"ETH Price \")\n",
    "ada_candle.show()"
   ]
  },
  {
   "cell_type": "markdown",
   "id": "a58ffa78",
   "metadata": {},
   "source": [
    "## ARIMA Model\n"
   ]
  },
  {
   "cell_type": "code",
   "execution_count": 164,
   "id": "c9c0fa5c",
   "metadata": {},
   "outputs": [
    {
     "data": {
      "text/html": [
       "<div>\n",
       "<style scoped>\n",
       "    .dataframe tbody tr th:only-of-type {\n",
       "        vertical-align: middle;\n",
       "    }\n",
       "\n",
       "    .dataframe tbody tr th {\n",
       "        vertical-align: top;\n",
       "    }\n",
       "\n",
       "    .dataframe thead th {\n",
       "        text-align: right;\n",
       "    }\n",
       "</style>\n",
       "<table border=\"1\" class=\"dataframe\">\n",
       "  <thead>\n",
       "    <tr style=\"text-align: right;\">\n",
       "      <th></th>\n",
       "      <th>Close</th>\n",
       "      <th>Low</th>\n",
       "      <th>High</th>\n",
       "      <th>Open</th>\n",
       "    </tr>\n",
       "    <tr>\n",
       "      <th>timestamp</th>\n",
       "      <th></th>\n",
       "      <th></th>\n",
       "      <th></th>\n",
       "      <th></th>\n",
       "    </tr>\n",
       "  </thead>\n",
       "  <tbody>\n",
       "    <tr>\n",
       "      <th>2020-01-01 00:01:00</th>\n",
       "      <td>7176.200000</td>\n",
       "      <td>7151.92</td>\n",
       "      <td>7200.000000</td>\n",
       "      <td>7178.211429</td>\n",
       "    </tr>\n",
       "    <tr>\n",
       "      <th>2020-01-01 00:02:00</th>\n",
       "      <td>7175.011227</td>\n",
       "      <td>7155.00</td>\n",
       "      <td>7200.038592</td>\n",
       "      <td>7176.064286</td>\n",
       "    </tr>\n",
       "    <tr>\n",
       "      <th>2020-01-01 00:03:00</th>\n",
       "      <td>7177.224286</td>\n",
       "      <td>7156.13</td>\n",
       "      <td>7200.000000</td>\n",
       "      <td>7175.668571</td>\n",
       "    </tr>\n",
       "    <tr>\n",
       "      <th>2020-01-01 00:04:00</th>\n",
       "      <td>7173.358571</td>\n",
       "      <td>7154.97</td>\n",
       "      <td>7200.000000</td>\n",
       "      <td>7176.617143</td>\n",
       "    </tr>\n",
       "    <tr>\n",
       "      <th>2020-01-01 00:05:00</th>\n",
       "      <td>7172.134286</td>\n",
       "      <td>7136.05</td>\n",
       "      <td>7199.028800</td>\n",
       "      <td>7173.408571</td>\n",
       "    </tr>\n",
       "  </tbody>\n",
       "</table>\n",
       "</div>"
      ],
      "text/plain": [
       "                           Close      Low         High         Open\n",
       "timestamp                                                          \n",
       "2020-01-01 00:01:00  7176.200000  7151.92  7200.000000  7178.211429\n",
       "2020-01-01 00:02:00  7175.011227  7155.00  7200.038592  7176.064286\n",
       "2020-01-01 00:03:00  7177.224286  7156.13  7200.000000  7175.668571\n",
       "2020-01-01 00:04:00  7173.358571  7154.97  7200.000000  7176.617143\n",
       "2020-01-01 00:05:00  7172.134286  7136.05  7199.028800  7173.408571"
      ]
     },
     "execution_count": 164,
     "metadata": {},
     "output_type": "execute_result"
    }
   ],
   "source": [
    "btc1_mini=btc1[[\"Close\",\"Low\",\"High\",\"Open\"]]"
   ]
  },
  {
   "cell_type": "code",
   "execution_count": 174,
   "id": "92a9cd26",
   "metadata": {},
   "outputs": [
    {
     "name": "stdout",
     "output_type": "stream",
     "text": [
      "Hi\n"
     ]
    },
    {
     "data": {
      "image/png": "[encoded data removed]",
      "text/plain": [
       "<Figure size 1080x504 with 4 Axes>"
      ]
     },
     "metadata": {
      "needs_background": "light"
     },
     "output_type": "display_data"
    }
   ],
   "source": [
    "plt.rcParams[\"figure.figsize\"]=(15,7)\n",
    "btc_month=btc1_mini.resample(\"M\").mean()\n",
    "seasonal_decompose(btc_month.Close).plot()\n",
    "print(\"Hi\" % adfuller(btc_month.Close)[1])\n",
    "plt.show()\n",
    "btc_month['close_box'], lmbda = stats.boxcox(btc_month.Close)"
   ]
  },
  {
   "cell_type": "code",
   "execution_count": 175,
   "id": "e7a2dcb6",
   "metadata": {},
   "outputs": [],
   "source": [
    "qs = range(0, 3)\n",
    "ps = range(0, 3)\n",
    "d=1\n",
    "parameters = product(ps, qs)\n",
    "parameters_list = list(parameters)\n",
    "len(parameters_list)\n",
    "\n",
    "# Model Selection\n",
    "results = []\n",
    "best_aic = float(\"inf\")\n",
    "warnings.filterwarnings('ignore')\n",
    "for param in parameters_list:\n",
    "    try:\n",
    "        model = SARIMAX(btc_month.close_box, order=(param[0], d, param[1])).fit(disp=-1)\n",
    "    except ValueError:\n",
    "        print('bad parameter combination:', param)\n",
    "        continue\n",
    "    aic = model.aic\n",
    "    if aic < best_aic:\n",
    "        best_model = model\n",
    "        best_aic = aic\n",
    "        best_param = param\n",
    "    results.append([param, model.aic])"
   ]
  },
  {
   "cell_type": "code",
   "execution_count": 177,
   "id": "1dbc0a08",
   "metadata": {},
   "outputs": [
    {
     "name": "stdout",
     "output_type": "stream",
     "text": [
      "  parameters         aic\n",
      "3     (1, 0) -446.108671\n",
      "1     (0, 1) -445.320374\n",
      "6     (2, 0) -444.145496\n",
      "4     (1, 1) -444.129723\n",
      "2     (0, 2) -442.735678\n",
      "                               SARIMAX Results                                \n",
      "==============================================================================\n",
      "Dep. Variable:              close_box   No. Observations:                   45\n",
      "Model:               SARIMAX(1, 1, 0)   Log Likelihood                 225.054\n",
      "Date:                Fri, 03 Dec 2021   AIC                           -446.109\n",
      "Time:                        23:16:18   BIC                           -442.540\n",
      "Sample:                    01-31-2018   HQIC                          -444.785\n",
      "                         - 09-30-2021                                         \n",
      "Covariance Type:                  opg                                         \n",
      "==============================================================================\n",
      "                 coef    std err          z      P>|z|      [0.025      0.975]\n",
      "------------------------------------------------------------------------------\n",
      "ar.L1          0.3821      0.133      2.874      0.004       0.122       0.643\n",
      "sigma2      2.099e-06   4.32e-07      4.857      0.000    1.25e-06    2.95e-06\n",
      "===================================================================================\n",
      "Ljung-Box (L1) (Q):                   0.02   Jarque-Bera (JB):                 3.57\n",
      "Prob(Q):                              0.90   Prob(JB):                         0.17\n",
      "Heteroskedasticity (H):               0.32   Skew:                            -0.65\n",
      "Prob(H) (two-sided):                  0.03   Kurtosis:                         3.51\n",
      "===================================================================================\n",
      "\n",
      "Warnings:\n",
      "[1] Covariance matrix calculated using the outer product of gradients (complex-step).\n"
     ]
    }
   ],
   "source": [
    "result_table = pd.DataFrame(results)\n",
    "result_table.columns = ['parameters', 'aic']\n",
    "print(result_table.sort_values(by = 'aic', ascending=True).head())\n",
    "print(best_model.summary())"
   ]
  },
  {
   "cell_type": "code",
   "execution_count": 178,
   "id": "3aeccb93",
   "metadata": {},
   "outputs": [
    {
     "data": {
      "image/png": "[encoded data removed]",
      "text/plain": [
       "<Figure size 1080x864 with 4 Axes>"
      ]
     },
     "metadata": {
      "needs_background": "light"
     },
     "output_type": "display_data"
    }
   ],
   "source": [
    "best_model.plot_diagnostics(figsize=(15, 12))\n",
    "plt.show()"
   ]
  },
  {
   "cell_type": "code",
   "execution_count": 179,
   "id": "fe9b50b8",
   "metadata": {},
   "outputs": [],
   "source": [
    "def invboxcox(y,lmbda):\n",
    "    if lmbda == 0:\n",
    "        return(np.exp(y))\n",
    "    else:\n",
    "        return(np.exp(np.log(lmbda*y+1)/lmbda))"
   ]
  },
  {
   "cell_type": "code",
   "execution_count": null,
   "id": "7a232cfb",
   "metadata": {},
   "outputs": [],
   "source": [
    "btc"
   ]
  },
  {
   "cell_type": "code",
   "execution_count": 200,
   "id": "5d3545a1",
   "metadata": {},
   "outputs": [
    {
     "data": {
      "image/png": "[encoded data removed]",
      "text/plain": [
       "<Figure size 1080x504 with 1 Axes>"
      ]
     },
     "metadata": {
      "needs_background": "light"
     },
     "output_type": "display_data"
    }
   ],
   "source": [
    "# Prediction\n",
    "btc_month_pred = btc_month[['Close']]\n",
    "date_list = [datetime(2021, 3, 31), datetime(2021, 5, 30), datetime(2021, 7, 31), datetime(2021, 9, 21)]\n",
    "future = pd.DataFrame(index=date_list, columns= btc_month.columns)\n",
    "btc_month_pred = pd.concat([btc_month_pred, future])\n",
    "btc_month_pred['forecast'] = invboxcox(best_model.predict(start=datetime(2018, 1, 31), end=datetime(2021, 5, 31)), lmbda)\n",
    "plt.figure(figsize=(15,7))\n",
    "btc_month_pred.Close.plot()\n",
    "btc_month_pred.forecast.plot(color='r', ls='--', label='Predicted Close')\n",
    "plt.legend()\n",
    "plt.title('Bitcoin monthly forecast')\n",
    "plt.ylabel('USD')\n",
    "plt.show()"
   ]
  },
  {
   "cell_type": "code",
   "execution_count": null,
   "id": "524f26c5",
   "metadata": {},
   "outputs": [],
   "source": []
  }
 ],
 "metadata": {
  "kernelspec": {
   "display_name": "Python 3",
   "language": "python",
   "name": "python3"
  },
  "language_info": {
   "codemirror_mode": {
    "name": "ipython",
    "version": 3
   },
   "file_extension": ".py",
   "mimetype": "text/x-python",
   "name": "python",
   "nbconvert_exporter": "python",
   "pygments_lexer": "ipython3",
   "version": "3.8.8"
  }
 },
 "nbformat": 4,
 "nbformat_minor": 5
}
