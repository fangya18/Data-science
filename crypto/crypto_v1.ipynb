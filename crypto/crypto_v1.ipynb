{
 "cells": [
  {
   "cell_type": "code",
   "execution_count": 3,
   "id": "2073186b",
   "metadata": {},
   "outputs": [],
   "source": [
    "#import libraries\n",
    "import pandas as pd\n",
    "import numpy as np\n",
    "import os\n",
    "from datetime import datetime\n",
    "# Plot\n"
   ]
  },
  {
   "cell_type": "markdown",
   "id": "697e336e",
   "metadata": {},
   "source": [
    "# 1.Introduction\n",
    "\n",
    "# 2.Data distribution\n",
    "\n",
    "## 2.1Correlation map\n",
    "\n",
    "# 3.Prediction\n",
    "\n",
    "## 3.1 BTC\n",
    "### 3.1.1 Linear Regression\n",
    "### 3.1.2 Arima\n",
    "\n",
    "\n",
    "## 3.2 ETH\n",
    "## 3.3 ADA\n",
    "\n"
   ]
  },
  {
   "cell_type": "code",
   "execution_count": 4,
   "id": "ed801625",
   "metadata": {},
   "outputs": [
    {
     "data": {
      "text/plain": [
       "'/Users/fangya/HU/3.Kaggle'"
      ]
     },
     "execution_count": 4,
     "metadata": {},
     "output_type": "execute_result"
    }
   ],
   "source": [
    "pwd"
   ]
  },
  {
   "cell_type": "code",
   "execution_count": 5,
   "id": "65b37bc0",
   "metadata": {},
   "outputs": [],
   "source": [
    "info = pd.read_csv(\"/Users/fangya/HU/3.Kaggle/G crypto/asset_details.csv\")"
   ]
  },
  {
   "cell_type": "code",
   "execution_count": 6,
   "id": "ebfe9dbb",
   "metadata": {},
   "outputs": [
    {
     "data": {
      "text/html": [
       "<div>\n",
       "<style scoped>\n",
       "    .dataframe tbody tr th:only-of-type {\n",
       "        vertical-align: middle;\n",
       "    }\n",
       "\n",
       "    .dataframe tbody tr th {\n",
       "        vertical-align: top;\n",
       "    }\n",
       "\n",
       "    .dataframe thead th {\n",
       "        text-align: right;\n",
       "    }\n",
       "</style>\n",
       "<table border=\"1\" class=\"dataframe\">\n",
       "  <thead>\n",
       "    <tr style=\"text-align: right;\">\n",
       "      <th></th>\n",
       "      <th>Asset_ID</th>\n",
       "      <th>Weight</th>\n",
       "      <th>Asset_Name</th>\n",
       "    </tr>\n",
       "  </thead>\n",
       "  <tbody>\n",
       "    <tr>\n",
       "      <th>0</th>\n",
       "      <td>2</td>\n",
       "      <td>2.397895</td>\n",
       "      <td>Bitcoin Cash</td>\n",
       "    </tr>\n",
       "    <tr>\n",
       "      <th>1</th>\n",
       "      <td>0</td>\n",
       "      <td>4.304065</td>\n",
       "      <td>Binance Coin</td>\n",
       "    </tr>\n",
       "    <tr>\n",
       "      <th>2</th>\n",
       "      <td>1</td>\n",
       "      <td>6.779922</td>\n",
       "      <td>Bitcoin</td>\n",
       "    </tr>\n",
       "    <tr>\n",
       "      <th>3</th>\n",
       "      <td>5</td>\n",
       "      <td>1.386294</td>\n",
       "      <td>EOS.IO</td>\n",
       "    </tr>\n",
       "    <tr>\n",
       "      <th>4</th>\n",
       "      <td>7</td>\n",
       "      <td>2.079442</td>\n",
       "      <td>Ethereum Classic</td>\n",
       "    </tr>\n",
       "  </tbody>\n",
       "</table>\n",
       "</div>"
      ],
      "text/plain": [
       "   Asset_ID    Weight        Asset_Name\n",
       "0         2  2.397895      Bitcoin Cash\n",
       "1         0  4.304065      Binance Coin\n",
       "2         1  6.779922           Bitcoin\n",
       "3         5  1.386294            EOS.IO\n",
       "4         7  2.079442  Ethereum Classic"
      ]
     },
     "execution_count": 6,
     "metadata": {},
     "output_type": "execute_result"
    }
   ],
   "source": [
    "info.head()"
   ]
  },
  {
   "cell_type": "code",
   "execution_count": 7,
   "id": "e01457e6",
   "metadata": {},
   "outputs": [
    {
     "data": {
      "text/html": [
       "<div>\n",
       "<style scoped>\n",
       "    .dataframe tbody tr th:only-of-type {\n",
       "        vertical-align: middle;\n",
       "    }\n",
       "\n",
       "    .dataframe tbody tr th {\n",
       "        vertical-align: top;\n",
       "    }\n",
       "\n",
       "    .dataframe thead th {\n",
       "        text-align: right;\n",
       "    }\n",
       "</style>\n",
       "<table border=\"1\" class=\"dataframe\">\n",
       "  <thead>\n",
       "    <tr style=\"text-align: right;\">\n",
       "      <th></th>\n",
       "      <th>timestamp</th>\n",
       "      <th>Asset_ID</th>\n",
       "      <th>Count</th>\n",
       "      <th>Open</th>\n",
       "      <th>High</th>\n",
       "      <th>Low</th>\n",
       "      <th>Close</th>\n",
       "      <th>Volume</th>\n",
       "      <th>VWAP</th>\n",
       "      <th>Target</th>\n",
       "    </tr>\n",
       "  </thead>\n",
       "  <tbody>\n",
       "    <tr>\n",
       "      <th>0</th>\n",
       "      <td>1514764860</td>\n",
       "      <td>2</td>\n",
       "      <td>40.0</td>\n",
       "      <td>2376.5800</td>\n",
       "      <td>2399.5000</td>\n",
       "      <td>2357.1400</td>\n",
       "      <td>2374.5900</td>\n",
       "      <td>19.233005</td>\n",
       "      <td>2373.116392</td>\n",
       "      <td>-0.004218</td>\n",
       "    </tr>\n",
       "    <tr>\n",
       "      <th>1</th>\n",
       "      <td>1514764860</td>\n",
       "      <td>0</td>\n",
       "      <td>5.0</td>\n",
       "      <td>8.5300</td>\n",
       "      <td>8.5300</td>\n",
       "      <td>8.5300</td>\n",
       "      <td>8.5300</td>\n",
       "      <td>78.380000</td>\n",
       "      <td>8.530000</td>\n",
       "      <td>-0.014399</td>\n",
       "    </tr>\n",
       "    <tr>\n",
       "      <th>2</th>\n",
       "      <td>1514764860</td>\n",
       "      <td>1</td>\n",
       "      <td>229.0</td>\n",
       "      <td>13835.1940</td>\n",
       "      <td>14013.8000</td>\n",
       "      <td>13666.1100</td>\n",
       "      <td>13850.1760</td>\n",
       "      <td>31.550062</td>\n",
       "      <td>13827.062093</td>\n",
       "      <td>-0.014643</td>\n",
       "    </tr>\n",
       "    <tr>\n",
       "      <th>3</th>\n",
       "      <td>1514764860</td>\n",
       "      <td>5</td>\n",
       "      <td>32.0</td>\n",
       "      <td>7.6596</td>\n",
       "      <td>7.6596</td>\n",
       "      <td>7.6567</td>\n",
       "      <td>7.6576</td>\n",
       "      <td>6626.713370</td>\n",
       "      <td>7.657713</td>\n",
       "      <td>-0.013922</td>\n",
       "    </tr>\n",
       "    <tr>\n",
       "      <th>4</th>\n",
       "      <td>1514764860</td>\n",
       "      <td>7</td>\n",
       "      <td>5.0</td>\n",
       "      <td>25.9200</td>\n",
       "      <td>25.9200</td>\n",
       "      <td>25.8740</td>\n",
       "      <td>25.8770</td>\n",
       "      <td>121.087310</td>\n",
       "      <td>25.891363</td>\n",
       "      <td>-0.008264</td>\n",
       "    </tr>\n",
       "  </tbody>\n",
       "</table>\n",
       "</div>"
      ],
      "text/plain": [
       "    timestamp  Asset_ID  Count        Open        High         Low  \\\n",
       "0  1514764860         2   40.0   2376.5800   2399.5000   2357.1400   \n",
       "1  1514764860         0    5.0      8.5300      8.5300      8.5300   \n",
       "2  1514764860         1  229.0  13835.1940  14013.8000  13666.1100   \n",
       "3  1514764860         5   32.0      7.6596      7.6596      7.6567   \n",
       "4  1514764860         7    5.0     25.9200     25.9200     25.8740   \n",
       "\n",
       "        Close       Volume          VWAP    Target  \n",
       "0   2374.5900    19.233005   2373.116392 -0.004218  \n",
       "1      8.5300    78.380000      8.530000 -0.014399  \n",
       "2  13850.1760    31.550062  13827.062093 -0.014643  \n",
       "3      7.6576  6626.713370      7.657713 -0.013922  \n",
       "4     25.8770   121.087310     25.891363 -0.008264  "
      ]
     },
     "execution_count": 7,
     "metadata": {},
     "output_type": "execute_result"
    }
   ],
   "source": [
    "ctrain = pd.read_csv(\"/Users/fangya/HU/3.Kaggle/G crypto/train.csv\")\n",
    "ctrain.head()"
   ]
  },
  {
   "cell_type": "markdown",
   "id": "d4361c43",
   "metadata": {},
   "source": [
    "# BTC\n",
    "bitcoin"
   ]
  },
  {
   "cell_type": "code",
   "execution_count": 15,
   "id": "1ac371b0",
   "metadata": {},
   "outputs": [
    {
     "name": "stdout",
     "output_type": "stream",
     "text": [
      "<class 'pandas.core.frame.DataFrame'>\n",
      "Int64Index: 1956200 entries, 1514764860 to 1632182400\n",
      "Data columns (total 9 columns):\n",
      " #   Column    Non-Null Count    Dtype  \n",
      "---  ------    --------------    -----  \n",
      " 0   Asset_ID  1956200 non-null  int64  \n",
      " 1   Count     1956200 non-null  float64\n",
      " 2   Open      1956200 non-null  float64\n",
      " 3   High      1956200 non-null  float64\n",
      " 4   Low       1956200 non-null  float64\n",
      " 5   Close     1956200 non-null  float64\n",
      " 6   Volume    1956200 non-null  float64\n",
      " 7   VWAP      1956200 non-null  float64\n",
      " 8   Target    1955860 non-null  float64\n",
      "dtypes: float64(8), int64(1)\n",
      "memory usage: 149.2 MB\n"
     ]
    }
   ],
   "source": [
    "btc= ctrain[ctrain[\"Asset_ID\"]==1].set_index(\"timestamp\")\n",
    "btc.info(show_counts=True)"
   ]
  },
  {
   "cell_type": "markdown",
   "id": "375cc084",
   "metadata": {},
   "source": [
    "## ETC"
   ]
  },
  {
   "cell_type": "code",
   "execution_count": 8,
   "id": "0190438b",
   "metadata": {},
   "outputs": [
    {
     "name": "stdout",
     "output_type": "stream",
     "text": [
      "<class 'pandas.core.frame.DataFrame'>\n",
      "Int64Index: 1956200 entries, 1514764860 to 1632182400\n",
      "Data columns (total 9 columns):\n",
      " #   Column    Non-Null Count    Dtype  \n",
      "---  ------    --------------    -----  \n",
      " 0   Asset_ID  1956200 non-null  int64  \n",
      " 1   Count     1956200 non-null  float64\n",
      " 2   Open      1956200 non-null  float64\n",
      " 3   High      1956200 non-null  float64\n",
      " 4   Low       1956200 non-null  float64\n",
      " 5   Close     1956200 non-null  float64\n",
      " 6   Volume    1956200 non-null  float64\n",
      " 7   VWAP      1956200 non-null  float64\n",
      " 8   Target    1955860 non-null  float64\n",
      "dtypes: float64(8), int64(1)\n",
      "memory usage: 149.2 MB\n"
     ]
    }
   ],
   "source": [
    "eth = ctrain[ctrain[\"Asset_ID\"]==6].set_index(\"timestamp\")\n",
    "eth.info(show_counts=True)"
   ]
  },
  {
   "cell_type": "code",
   "execution_count": 9,
   "id": "7da3d1c7",
   "metadata": {},
   "outputs": [],
   "source": [
    "import matplotlib.pyplot as plt"
   ]
  },
  {
   "cell_type": "code",
   "execution_count": 10,
   "id": "d2614106",
   "metadata": {},
   "outputs": [],
   "source": [
    "import time"
   ]
  },
  {
   "cell_type": "code",
   "execution_count": 11,
   "id": "e90381ad",
   "metadata": {},
   "outputs": [],
   "source": [
    "from sklearn.preprocessing import StandardScaler"
   ]
  },
  {
   "cell_type": "code",
   "execution_count": 13,
   "id": "627925cc",
   "metadata": {},
   "outputs": [
    {
     "name": "stdout",
     "output_type": "stream",
     "text": [
      "Etherum data started from 2018-01-01T00:01:00 to 2021-09-21T00:00:00\n"
     ]
    }
   ],
   "source": [
    "# ETH start date\n",
    "eth_st =eth.index[0].astype(\"datetime64[s]\")\n",
    "eth_end =eth.index[-1].astype(\"datetime64[s]\")\n",
    "print (\"Etherum data started from\" , eth_st, \"to\" , eth_end)"
   ]
  },
  {
   "cell_type": "code",
   "execution_count": 23,
   "id": "cd8e8651",
   "metadata": {},
   "outputs": [
    {
     "data": {
      "text/plain": [
       "60    1956959\n",
       "Name: timestamp, dtype: int64"
      ]
     },
     "execution_count": 23,
     "metadata": {},
     "output_type": "execute_result"
    }
   ],
   "source": [
    "# reindex for missing value\n",
    "eth=eth.reindex(range(eth.index[0],eth.index[-1]+60,60), method=\"pad\")\n",
    "(eth.index[1:] -eth.index[:-1]).value_counts().head()"
   ]
  },
  {
   "cell_type": "code",
   "execution_count": 14,
   "id": "ad3cb872",
   "metadata": {},
   "outputs": [
    {
     "data": {
      "image/png": "[encoded data removed]",
      "text/plain": [
       "<Figure size 1080x288 with 2 Axes>"
      ]
     },
     "metadata": {
      "needs_background": "light"
     },
     "output_type": "display_data"
    }
   ],
   "source": [
    "# ETH visualization\n",
    "# 1. open price\n",
    "# 2. close price\n",
    "f= plt.figure(figsize=(15,4))\n",
    "\n",
    "ax1= f.add_subplot(121)\n",
    "plt.plot(eth[\"Open\"], label=\"Open\")\n",
    "plt.legend()\n",
    "plt.xlabel(\"Time\")\n",
    "plt.ylabel(\"Ethereum Open Price\")\n",
    "\n",
    "ax2= f.add_subplot(122)\n",
    "plt.plot(eth[\"Close\"], label=\"Close\", color=\"orange\")\n",
    "plt.legend()\n",
    "plt.xlabel(\"Time\")\n",
    "plt.ylabel(\"Ethereum Close Price\")\n",
    "\n",
    "plt.tight_layout()\n",
    "plt.show()"
   ]
  },
  {
   "cell_type": "markdown",
   "id": "7137d863",
   "metadata": {},
   "source": [
    "# ADA"
   ]
  },
  {
   "cell_type": "code",
   "execution_count": 16,
   "id": "f1b59ce4",
   "metadata": {},
   "outputs": [
    {
     "name": "stdout",
     "output_type": "stream",
     "text": [
      "<class 'pandas.core.frame.DataFrame'>\n",
      "Int64Index: 1791867 entries, 1523956260 to 1632182400\n",
      "Data columns (total 9 columns):\n",
      " #   Column    Non-Null Count    Dtype  \n",
      "---  ------    --------------    -----  \n",
      " 0   Asset_ID  1791867 non-null  int64  \n",
      " 1   Count     1791867 non-null  float64\n",
      " 2   Open      1791867 non-null  float64\n",
      " 3   High      1791867 non-null  float64\n",
      " 4   Low       1791867 non-null  float64\n",
      " 5   Close     1791867 non-null  float64\n",
      " 6   Volume    1791867 non-null  float64\n",
      " 7   VWAP      1791867 non-null  float64\n",
      " 8   Target    1773136 non-null  float64\n",
      "dtypes: float64(8), int64(1)\n",
      "memory usage: 136.7 MB\n"
     ]
    }
   ],
   "source": [
    "ada = ctrain[ctrain[\"Asset_ID\"]==3].set_index(\"timestamp\")\n",
    "ada.info(show_counts=True)"
   ]
  },
  {
   "cell_type": "code",
   "execution_count": 19,
   "id": "663d943a",
   "metadata": {},
   "outputs": [
    {
     "name": "stdout",
     "output_type": "stream",
     "text": [
      "Carnado data started from 2018-04-17T09:11:00 to 2021-09-21T00:00:00\n"
     ]
    },
    {
     "data": {
      "text/plain": [
       "60     1782506\n",
       "120       7848\n",
       "180       1090\n",
       "240        270\n",
       "300         79\n",
       "Name: timestamp, dtype: int64"
      ]
     },
     "execution_count": 19,
     "metadata": {},
     "output_type": "execute_result"
    }
   ],
   "source": [
    "# ETH start date\n",
    "ada_st =ada.index[0].astype(\"datetime64[s]\")\n",
    "ada_end =ada.index[-1].astype(\"datetime64[s]\")\n",
    "print (\"Carnado data started from\" , ada_st, \"to\" , ada_end)\n",
    "\n",
    "(ada.index[1:] -ada.index[:-1]).value_counts().head()"
   ]
  },
  {
   "cell_type": "code",
   "execution_count": 22,
   "id": "26a2cc03",
   "metadata": {},
   "outputs": [
    {
     "data": {
      "text/plain": [
       "60    1803769\n",
       "Name: timestamp, dtype: int64"
      ]
     },
     "execution_count": 22,
     "metadata": {},
     "output_type": "execute_result"
    }
   ],
   "source": [
    "# reindex for missing value\n",
    "ada=ada.reindex(range(ada.index[0],ada.index[-1]+60,60), method=\"pad\")\n",
    "(ada.index[1:] -ada.index[:-1]).value_counts().head()"
   ]
  },
  {
   "cell_type": "code",
   "execution_count": 25,
   "id": "863520d8",
   "metadata": {},
   "outputs": [],
   "source": [
    "# Plot Price History\n",
    "totimestamp= lambda s: np.int32(time.mktime(datetime.strptime(s, \"%d/%m/%Y\").timetuple()))\n",
    "\n",
    "# create intervals\n",
    "eth_2021=eth.loc[totimestamp(\"01/01/2021\") : totimestamp(\"21/09/2021\")]\n",
    "ada_2021=ada.loc[totimestamp(\"01/01/2021\") : totimestamp(\"21/09/2021\")]"
   ]
  },
  {
   "cell_type": "code",
   "execution_count": 28,
   "id": "9798158d",
   "metadata": {},
   "outputs": [
    {
     "data": {
      "image/png": "[encoded data removed]",
      "text/plain": [
       "<Figure size 504x576 with 2 Axes>"
      ]
     },
     "metadata": {
      "needs_background": "light"
     },
     "output_type": "display_data"
    }
   ],
   "source": [
    "# ETH ADA visualization close price in 2021\n",
    "f= plt.figure(figsize=(7,8))\n",
    "\n",
    "ax11= f.add_subplot(211)\n",
    "plt.plot(eth[\"Close\"], label=\"ETH\")\n",
    "plt.legend()\n",
    "plt.xlabel(\"Time\")\n",
    "plt.ylabel(\"Ethereum Close Price\")\n",
    "\n",
    "ax22= f.add_subplot(212)\n",
    "plt.plot(ada[\"Close\"], label=\"ADA\", color=\"orange\")\n",
    "plt.legend()\n",
    "plt.xlabel(\"Time\")\n",
    "plt.ylabel(\"Cardano Close Price\")\n",
    "\n",
    "plt.tight_layout()\n",
    "plt.show()"
   ]
  },
  {
   "cell_type": "markdown",
   "id": "d461ade2",
   "metadata": {},
   "source": [
    "Correlation Plot for all Asset in 2021"
   ]
  },
  {
   "cell_type": "code",
   "execution_count": 38,
   "id": "e8710aef",
   "metadata": {},
   "outputs": [],
   "source": [
    "#log return\n",
    "def log_return(series, periods=1):\n",
    "    return np.log(series).diff(periods=periods)"
   ]
  },
  {
   "cell_type": "code",
   "execution_count": 42,
   "id": "86c79f3a",
   "metadata": {},
   "outputs": [
    {
     "data": {
      "image/png": "[encoded data removed]",
      "text/plain": [
       "<Figure size 576x288 with 1 Axes>"
      ]
     },
     "metadata": {
      "needs_background": "light"
     },
     "output_type": "display_data"
    }
   ],
   "source": [
    "import scipy.stats as stats\n",
    "lret_eth=log_return(eth_2021.Close)[1:]\n",
    "lret_eth.rename(\"Eth Log Return\", inplace=True)\n",
    "plt.figure(figsize=(8,4))\n",
    "plt.plot(lret_eth)\n",
    "plt.show()"
   ]
  },
  {
   "cell_type": "code",
   "execution_count": 48,
   "id": "6375e118",
   "metadata": {},
   "outputs": [],
   "source": [
    "all2021=pd.DataFrame([])\n",
    "for asset_id, asset_name in zip(info.Asset_ID, info.Asset_Name):\n",
    "    asset=ctrain[ctrain[\"Asset_ID\"]==asset_id].set_index(\"timestamp\")\n",
    "    asset=asset.loc[totimestamp(\"01/01/2021\"):totimestamp(\"21/09/2021\")]\n",
    "    asset=asset.reindex(range(asset.index[0],asset.index[-1]+60,60), method=\"pad\")\n",
    "    lret=log_return(asset.Close.fillna(0))[1:]\n",
    "    all2021=all2021.join(lret,rsuffix=asset_name,how=\"outer\")\n",
    "    "
   ]
  },
  {
   "cell_type": "code",
   "execution_count": 49,
   "id": "0c6bb170",
   "metadata": {},
   "outputs": [
    {
     "data": {
      "text/plain": [
       "<matplotlib.colorbar.Colorbar at 0x7f88c9438c70>"
      ]
     },
     "execution_count": 49,
     "metadata": {},
     "output_type": "execute_result"
    },
    {
     "data": {
      "image/png": "[encoded data removed]",
      "text/plain": [
       "<Figure size 432x288 with 2 Axes>"
      ]
     },
     "metadata": {
      "needs_background": "light"
     },
     "output_type": "display_data"
    }
   ],
   "source": [
    "plt.imshow(all2021.corr());\n",
    "plt.yticks(info.Asset_ID, info.Asset_Name.values)\n",
    "plt.xticks(info.Asset_ID, info.Asset_Name.values,rotation=\"vertical\");\n",
    "plt.colorbar()"
   ]
  },
  {
   "cell_type": "code",
   "execution_count": null,
   "id": "9be1f5ee",
   "metadata": {},
   "outputs": [],
   "source": []
  }
 ],
 "metadata": {
  "kernelspec": {
   "display_name": "Python 3",
   "language": "python",
   "name": "python3"
  },
  "language_info": {
   "codemirror_mode": {
    "name": "ipython",
    "version": 3
   },
   "file_extension": ".py",
   "mimetype": "text/x-python",
   "name": "python",
   "nbconvert_exporter": "python",
   "pygments_lexer": "ipython3",
   "version": "3.8.8"
  }
 },
 "nbformat": 4,
 "nbformat_minor": 5
}
