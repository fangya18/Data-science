{
  "nbformat": 4,
  "nbformat_minor": 0,
  "metadata": {
    "colab": {
      "provenance": [],
      "authorship_tag": "ABX9TyMJ4IXMq6M6NlsJMm7NFm/r",
      "include_colab_link": true
    },
    "kernelspec": {
      "name": "python3",
      "display_name": "Python 3"
    },
    "language_info": {
      "name": "python"
    }
  },
  "cells": [
    {
      "cell_type": "markdown",
      "metadata": {
        "id": "view-in-github",
        "colab_type": "text"
      },
      "source": [
        "<a href=\"https://colab.research.google.com/github/fangya18/Data-science/blob/master/amazon.ipynb\" target=\"_parent\"><img src=\"https://colab.research.google.com/assets/colab-badge.svg\" alt=\"Open In Colab\"/></a>"
      ]
    },
    {
      "cell_type": "code",
      "execution_count": 1,
      "metadata": {
        "colab": {
          "base_uri": "https://localhost:8080/"
        },
        "id": "cPhu8SmTyPPM",
        "outputId": "8ca96729-e443-479c-c605-7b1c33e6c86b"
      },
      "outputs": [
        {
          "output_type": "stream",
          "name": "stdout",
          "text": [
            "Mounted at /content/drive\n"
          ]
        }
      ],
      "source": [
        "# authenticate Bigquery and Google Drive\n",
        "from google.colab import auth\n",
        "auth.authenticate_user()\n",
        "\n",
        "# mount your drive\n",
        "from google.colab import drive\n",
        "drive.mount('/content/drive')\n",
        "cd drive/MyDrive/a/"
      ]
    },
    {
      "cell_type": "markdown",
      "source": [
        "**Load Packagaes**"
      ],
      "metadata": {
        "id": "VcGyJv5hyrsj"
      }
    },
    {
      "cell_type": "code",
      "source": [
        "import numpy as np\n",
        "import pandas as pd\n",
        "import datetime as dt\n",
        "import re\n",
        "import matplotlib.pyplot as plt\n",
        "from collections import Counter\n",
        "import seaborn as sns\n",
        "from sklearn.linear_model import LinearRegression\n",
        "from nltk.tokenize import word_tokenize\n",
        "from nltk.probability import FreqDist\n",
        "import nltk\n",
        "nltk.download(\"punkt\")"
      ],
      "metadata": {
        "id": "xyyb3YxGyo99"
      },
      "execution_count": 4,
      "outputs": []
    },
    {
      "cell_type": "code",
      "source": [
        "df= pd.read_csv(\"drug2024.csv\")"
      ],
      "metadata": {
        "id": "E5X2F2WhzLmD"
      },
      "execution_count": 5,
      "outputs": []
    },
    {
      "cell_type": "code",
      "source": [
        "df.head()"
      ],
      "metadata": {
        "colab": {
          "base_uri": "https://localhost:8080/",
          "height": 1442
        },
        "id": "mOrxX6fwzZG9",
        "outputId": "08c8bebd-8b28-4e40-98a9-785db336ab75"
      },
      "execution_count": 6,
      "outputs": [
        {
          "output_type": "execute_result",
          "data": {
            "text/plain": [
              "   Unnamed: 0                                               link  \\\n",
              "0           0  https://www.amazon.com/Basic-Care-Daytime-Nigh...   \n",
              "1           1  https://www.amazon.com/TYLENOL-Symptom-Relief-...   \n",
              "2           2  https://www.amazon.com/Mucinex-Fast-Max-Streng...   \n",
              "3           3  https://www.amazon.com/Amazon-Basic-Care-Night...   \n",
              "4           4  https://www.amazon.com/Theraflu-ExpressMax-Day...   \n",
              "\n",
              "                   fsa                                               name  \\\n",
              "0  FSA or HSA eligible  Cold and Flu Relief, Daytime and Nighttime Com...   \n",
              "1  FSA or HSA eligible  Cold + Flu Severe Medicine Caplets for Fever, ...   \n",
              "2  FSA or HSA eligible  Fast-Max Maximum Strength Cold & Flu Day and N...   \n",
              "3  FSA or HSA eligible  Night Time Cold & Flu Liquid, Cherry, 12 Fl Oz...   \n",
              "4  FSA or HSA eligible  ExpressMax Severe Cold and Cough Medicine, Day...   \n",
              "\n",
              "    price                   size  \\\n",
              "0  $12.74   48 Count (Pack of 1)   \n",
              "1   $7.66   24 Count (Pack of 1)   \n",
              "2  $15.34   24 Count (Pack of 1)   \n",
              "3   $7.99   12 Fl Oz (Pack of 1)   \n",
              "4  $12.98  8.3 Fl Oz (Pack of 2)   \n",
              "\n",
              "                                           image_url              brand  \\\n",
              "0  https://m.media-amazon.com/images/I/71Yn2+VQcC...  Amazon Basic Care   \n",
              "1  https://m.media-amazon.com/images/I/81ZPNR2nA-...            Tylenol   \n",
              "2  https://m.media-amazon.com/images/I/81l8CSZQAO...            Mucinex   \n",
              "3  https://m.media-amazon.com/images/I/71BW4K0jaU...  Amazon Basic Care   \n",
              "4  https://m.media-amazon.com/images/I/91sQHZpElF...           Theraflu   \n",
              "\n",
              "             special_feature             item_dimension  ...  \\\n",
              "0                 Non Drowsy     4.38 x 2 x 3.25 inches  ...   \n",
              "1                   Targeted  0.79 x 4.52 x 2.91 inches  ...   \n",
              "2  Information already added  1.73 x 3.54 x 4.92 inches  ...   \n",
              "3                        NaN    2.5 x 2.5 x 7.25 inches  ...   \n",
              "4                        NaN     1.63 x 5.75 x 6 inches  ...   \n",
              "\n",
              "                   manufacturer        asin  origin_country  \\\n",
              "0  Perrigo Company - Basic Care  B07BQKPMFM          Canada   \n",
              "1             Johnson & Johnson  B009ITR4EY           Italy   \n",
              "2  Reckitt Benckiser Healthcare  B013Q8JZVM  United Kingdom   \n",
              "3               PERRIGO COMPANY  B074F297S8             USA   \n",
              "4               GlaxoSmithKline  B011VX2FGQ             USA   \n",
              "\n",
              "                                         ingredients  \\\n",
              "0  Daytime Cold & Flu: Active ingredients (in eac...   \n",
              "1  Active ingredients (in each caplet) Acetaminop...   \n",
              "2  Active Ingredients: (Mucinex Fast-Max Day Seve...   \n",
              "3  Active ingredients (in each 30 mL): Acetaminop...   \n",
              "4  Theraflu ExpressMax Daytime Severe Cold & Coug...   \n",
              "\n",
              "                                               about  \\\n",
              "0   \\n About this item    ACTIVE INGREDIENTS: Com...   \n",
              "1   \\n About this item    24-count of Tylenol Col...   \n",
              "2   \\n About this item    MAXIMUM STRENGTH MUCINE...   \n",
              "3   \\n About this item    ACTIVE INGREDIENTS: Act...   \n",
              "4   \\n About this item    Package contains one 8....   \n",
              "\n",
              "                                         description  \\\n",
              "0   \\n Compare to the active ingredients in Vicks...   \n",
              "1   \\n Product Description   Experience temporary...   \n",
              "2   \\n Maximum Strength Mucinex Fast-Max Day and ...   \n",
              "3   \\n Compare to Vicks NyQuil Cold & Flu active ...   \n",
              "4   \\n Theraflu ExpressMax Severe Cold and Cough ...   \n",
              "\n",
              "                                              safety  \\\n",
              "0  Safety Information Daytime/Nighttime Cold & Fl...   \n",
              "1  Safety Information Liver warning: This product...   \n",
              "2                                                NaN   \n",
              "3  Safety Information Liver warning: This product...   \n",
              "4                                                NaN   \n",
              "\n",
              "                                          directions  \\\n",
              "0  Directions Daytime Cold & Flu Directions: take...   \n",
              "1  Directions Important: Read all product informa...   \n",
              "2                                                NaN   \n",
              "3  Directions Take only as directed – see overdos...   \n",
              "4  Directions 30 mL of the cold and cough syrup c...   \n",
              "\n",
              "                                               legal   cat  \n",
              "0  Legal Disclaimer Statements regarding dietary ...  cold  \n",
              "1  Legal Disclaimer Statements regarding dietary ...  cold  \n",
              "2  Legal Disclaimer Statements regarding dietary ...  cold  \n",
              "3  Legal Disclaimer Statements regarding dietary ...  cold  \n",
              "4  Legal Disclaimer Satisfaction Guarantee If for...  cold  \n",
              "\n",
              "[5 rows x 34 columns]"
            ],
            "text/html": [
              "\n",
              "  <div id=\"df-1303c4bf-20b3-4b52-905e-953680a3bf89\" class=\"colab-df-container\">\n",
              "    <div>\n",
              "<style scoped>\n",
              "    .dataframe tbody tr th:only-of-type {\n",
              "        vertical-align: middle;\n",
              "    }\n",
              "\n",
              "    .dataframe tbody tr th {\n",
              "        vertical-align: top;\n",
              "    }\n",
              "\n",
              "    .dataframe thead th {\n",
              "        text-align: right;\n",
              "    }\n",
              "</style>\n",
              "<table border=\"1\" class=\"dataframe\">\n",
              "  <thead>\n",
              "    <tr style=\"text-align: right;\">\n",
              "      <th></th>\n",
              "      <th>Unnamed: 0</th>\n",
              "      <th>link</th>\n",
              "      <th>fsa</th>\n",
              "      <th>name</th>\n",
              "      <th>price</th>\n",
              "      <th>size</th>\n",
              "      <th>image_url</th>\n",
              "      <th>brand</th>\n",
              "      <th>special_feature</th>\n",
              "      <th>item_dimension</th>\n",
              "      <th>...</th>\n",
              "      <th>manufacturer</th>\n",
              "      <th>asin</th>\n",
              "      <th>origin_country</th>\n",
              "      <th>ingredients</th>\n",
              "      <th>about</th>\n",
              "      <th>description</th>\n",
              "      <th>safety</th>\n",
              "      <th>directions</th>\n",
              "      <th>legal</th>\n",
              "      <th>cat</th>\n",
              "    </tr>\n",
              "  </thead>\n",
              "  <tbody>\n",
              "    <tr>\n",
              "      <th>0</th>\n",
              "      <td>0</td>\n",
              "      <td>https://www.amazon.com/Basic-Care-Daytime-Nigh...</td>\n",
              "      <td>FSA or HSA eligible</td>\n",
              "      <td>Cold and Flu Relief, Daytime and Nighttime Com...</td>\n",
              "      <td>$12.74</td>\n",
              "      <td>48 Count (Pack of 1)</td>\n",
              "      <td>https://m.media-amazon.com/images/I/71Yn2+VQcC...</td>\n",
              "      <td>Amazon Basic Care</td>\n",
              "      <td>Non Drowsy</td>\n",
              "      <td>4.38 x 2 x 3.25 inches</td>\n",
              "      <td>...</td>\n",
              "      <td>Perrigo Company - Basic Care</td>\n",
              "      <td>B07BQKPMFM</td>\n",
              "      <td>Canada</td>\n",
              "      <td>Daytime Cold &amp; Flu: Active ingredients (in eac...</td>\n",
              "      <td>\\n About this item    ACTIVE INGREDIENTS: Com...</td>\n",
              "      <td>\\n Compare to the active ingredients in Vicks...</td>\n",
              "      <td>Safety Information Daytime/Nighttime Cold &amp; Fl...</td>\n",
              "      <td>Directions Daytime Cold &amp; Flu Directions: take...</td>\n",
              "      <td>Legal Disclaimer Statements regarding dietary ...</td>\n",
              "      <td>cold</td>\n",
              "    </tr>\n",
              "    <tr>\n",
              "      <th>1</th>\n",
              "      <td>1</td>\n",
              "      <td>https://www.amazon.com/TYLENOL-Symptom-Relief-...</td>\n",
              "      <td>FSA or HSA eligible</td>\n",
              "      <td>Cold + Flu Severe Medicine Caplets for Fever, ...</td>\n",
              "      <td>$7.66</td>\n",
              "      <td>24 Count (Pack of 1)</td>\n",
              "      <td>https://m.media-amazon.com/images/I/81ZPNR2nA-...</td>\n",
              "      <td>Tylenol</td>\n",
              "      <td>Targeted</td>\n",
              "      <td>0.79 x 4.52 x 2.91 inches</td>\n",
              "      <td>...</td>\n",
              "      <td>Johnson &amp; Johnson</td>\n",
              "      <td>B009ITR4EY</td>\n",
              "      <td>Italy</td>\n",
              "      <td>Active ingredients (in each caplet) Acetaminop...</td>\n",
              "      <td>\\n About this item    24-count of Tylenol Col...</td>\n",
              "      <td>\\n Product Description   Experience temporary...</td>\n",
              "      <td>Safety Information Liver warning: This product...</td>\n",
              "      <td>Directions Important: Read all product informa...</td>\n",
              "      <td>Legal Disclaimer Statements regarding dietary ...</td>\n",
              "      <td>cold</td>\n",
              "    </tr>\n",
              "    <tr>\n",
              "      <th>2</th>\n",
              "      <td>2</td>\n",
              "      <td>https://www.amazon.com/Mucinex-Fast-Max-Streng...</td>\n",
              "      <td>FSA or HSA eligible</td>\n",
              "      <td>Fast-Max Maximum Strength Cold &amp; Flu Day and N...</td>\n",
              "      <td>$15.34</td>\n",
              "      <td>24 Count (Pack of 1)</td>\n",
              "      <td>https://m.media-amazon.com/images/I/81l8CSZQAO...</td>\n",
              "      <td>Mucinex</td>\n",
              "      <td>Information already added</td>\n",
              "      <td>1.73 x 3.54 x 4.92 inches</td>\n",
              "      <td>...</td>\n",
              "      <td>Reckitt Benckiser Healthcare</td>\n",
              "      <td>B013Q8JZVM</td>\n",
              "      <td>United Kingdom</td>\n",
              "      <td>Active Ingredients: (Mucinex Fast-Max Day Seve...</td>\n",
              "      <td>\\n About this item    MAXIMUM STRENGTH MUCINE...</td>\n",
              "      <td>\\n Maximum Strength Mucinex Fast-Max Day and ...</td>\n",
              "      <td>NaN</td>\n",
              "      <td>NaN</td>\n",
              "      <td>Legal Disclaimer Statements regarding dietary ...</td>\n",
              "      <td>cold</td>\n",
              "    </tr>\n",
              "    <tr>\n",
              "      <th>3</th>\n",
              "      <td>3</td>\n",
              "      <td>https://www.amazon.com/Amazon-Basic-Care-Night...</td>\n",
              "      <td>FSA or HSA eligible</td>\n",
              "      <td>Night Time Cold &amp; Flu Liquid, Cherry, 12 Fl Oz...</td>\n",
              "      <td>$7.99</td>\n",
              "      <td>12 Fl Oz (Pack of 1)</td>\n",
              "      <td>https://m.media-amazon.com/images/I/71BW4K0jaU...</td>\n",
              "      <td>Amazon Basic Care</td>\n",
              "      <td>NaN</td>\n",
              "      <td>2.5 x 2.5 x 7.25 inches</td>\n",
              "      <td>...</td>\n",
              "      <td>PERRIGO COMPANY</td>\n",
              "      <td>B074F297S8</td>\n",
              "      <td>USA</td>\n",
              "      <td>Active ingredients (in each 30 mL): Acetaminop...</td>\n",
              "      <td>\\n About this item    ACTIVE INGREDIENTS: Act...</td>\n",
              "      <td>\\n Compare to Vicks NyQuil Cold &amp; Flu active ...</td>\n",
              "      <td>Safety Information Liver warning: This product...</td>\n",
              "      <td>Directions Take only as directed – see overdos...</td>\n",
              "      <td>Legal Disclaimer Statements regarding dietary ...</td>\n",
              "      <td>cold</td>\n",
              "    </tr>\n",
              "    <tr>\n",
              "      <th>4</th>\n",
              "      <td>4</td>\n",
              "      <td>https://www.amazon.com/Theraflu-ExpressMax-Day...</td>\n",
              "      <td>FSA or HSA eligible</td>\n",
              "      <td>ExpressMax Severe Cold and Cough Medicine, Day...</td>\n",
              "      <td>$12.98</td>\n",
              "      <td>8.3 Fl Oz (Pack of 2)</td>\n",
              "      <td>https://m.media-amazon.com/images/I/91sQHZpElF...</td>\n",
              "      <td>Theraflu</td>\n",
              "      <td>NaN</td>\n",
              "      <td>1.63 x 5.75 x 6 inches</td>\n",
              "      <td>...</td>\n",
              "      <td>GlaxoSmithKline</td>\n",
              "      <td>B011VX2FGQ</td>\n",
              "      <td>USA</td>\n",
              "      <td>Theraflu ExpressMax Daytime Severe Cold &amp; Coug...</td>\n",
              "      <td>\\n About this item    Package contains one 8....</td>\n",
              "      <td>\\n Theraflu ExpressMax Severe Cold and Cough ...</td>\n",
              "      <td>NaN</td>\n",
              "      <td>Directions 30 mL of the cold and cough syrup c...</td>\n",
              "      <td>Legal Disclaimer Satisfaction Guarantee If for...</td>\n",
              "      <td>cold</td>\n",
              "    </tr>\n",
              "  </tbody>\n",
              "</table>\n",
              "<p>5 rows × 34 columns</p>\n",
              "</div>\n",
              "    <div class=\"colab-df-buttons\">\n",
              "\n",
              "  <div class=\"colab-df-container\">\n",
              "    <button class=\"colab-df-convert\" onclick=\"convertToInteractive('df-1303c4bf-20b3-4b52-905e-953680a3bf89')\"\n",
              "            title=\"Convert this dataframe to an interactive table.\"\n",
              "            style=\"display:none;\">\n",
              "\n",
              "  <svg xmlns=\"http://www.w3.org/2000/svg\" height=\"24px\" viewBox=\"0 -960 960 960\">\n",
              "    <path d=\"M120-120v-720h720v720H120Zm60-500h600v-160H180v160Zm220 220h160v-160H400v160Zm0 220h160v-160H400v160ZM180-400h160v-160H180v160Zm440 0h160v-160H620v160ZM180-180h160v-160H180v160Zm440 0h160v-160H620v160Z\"/>\n",
              "  </svg>\n",
              "    </button>\n",
              "\n",
              "  <style>\n",
              "    .colab-df-container {\n",
              "      display:flex;\n",
              "      gap: 12px;\n",
              "    }\n",
              "\n",
              "    .colab-df-convert {\n",
              "      background-color: #E8F0FE;\n",
              "      border: none;\n",
              "      border-radius: 50%;\n",
              "      cursor: pointer;\n",
              "      display: none;\n",
              "      fill: #1967D2;\n",
              "      height: 32px;\n",
              "      padding: 0 0 0 0;\n",
              "      width: 32px;\n",
              "    }\n",
              "\n",
              "    .colab-df-convert:hover {\n",
              "      background-color: #E2EBFA;\n",
              "      box-shadow: 0px 1px 2px rgba(60, 64, 67, 0.3), 0px 1px 3px 1px rgba(60, 64, 67, 0.15);\n",
              "      fill: #174EA6;\n",
              "    }\n",
              "\n",
              "    .colab-df-buttons div {\n",
              "      margin-bottom: 4px;\n",
              "    }\n",
              "\n",
              "    [theme=dark] .colab-df-convert {\n",
              "      background-color: #3B4455;\n",
              "      fill: #D2E3FC;\n",
              "    }\n",
              "\n",
              "    [theme=dark] .colab-df-convert:hover {\n",
              "      background-color: #434B5C;\n",
              "      box-shadow: 0px 1px 3px 1px rgba(0, 0, 0, 0.15);\n",
              "      filter: drop-shadow(0px 1px 2px rgba(0, 0, 0, 0.3));\n",
              "      fill: #FFFFFF;\n",
              "    }\n",
              "  </style>\n",
              "\n",
              "    <script>\n",
              "      const buttonEl =\n",
              "        document.querySelector('#df-1303c4bf-20b3-4b52-905e-953680a3bf89 button.colab-df-convert');\n",
              "      buttonEl.style.display =\n",
              "        google.colab.kernel.accessAllowed ? 'block' : 'none';\n",
              "\n",
              "      async function convertToInteractive(key) {\n",
              "        const element = document.querySelector('#df-1303c4bf-20b3-4b52-905e-953680a3bf89');\n",
              "        const dataTable =\n",
              "          await google.colab.kernel.invokeFunction('convertToInteractive',\n",
              "                                                    [key], {});\n",
              "        if (!dataTable) return;\n",
              "\n",
              "        const docLinkHtml = 'Like what you see? Visit the ' +\n",
              "          '<a target=\"_blank\" href=https://colab.research.google.com/notebooks/data_table.ipynb>data table notebook</a>'\n",
              "          + ' to learn more about interactive tables.';\n",
              "        element.innerHTML = '';\n",
              "        dataTable['output_type'] = 'display_data';\n",
              "        await google.colab.output.renderOutput(dataTable, element);\n",
              "        const docLink = document.createElement('div');\n",
              "        docLink.innerHTML = docLinkHtml;\n",
              "        element.appendChild(docLink);\n",
              "      }\n",
              "    </script>\n",
              "  </div>\n",
              "\n",
              "\n",
              "<div id=\"df-d5a3184a-a0be-4585-beb5-6b5621e76926\">\n",
              "  <button class=\"colab-df-quickchart\" onclick=\"quickchart('df-d5a3184a-a0be-4585-beb5-6b5621e76926')\"\n",
              "            title=\"Suggest charts\"\n",
              "            style=\"display:none;\">\n",
              "\n",
              "<svg xmlns=\"http://www.w3.org/2000/svg\" height=\"24px\"viewBox=\"0 0 24 24\"\n",
              "     width=\"24px\">\n",
              "    <g>\n",
              "        <path d=\"M19 3H5c-1.1 0-2 .9-2 2v14c0 1.1.9 2 2 2h14c1.1 0 2-.9 2-2V5c0-1.1-.9-2-2-2zM9 17H7v-7h2v7zm4 0h-2V7h2v10zm4 0h-2v-4h2v4z\"/>\n",
              "    </g>\n",
              "</svg>\n",
              "  </button>\n",
              "\n",
              "<style>\n",
              "  .colab-df-quickchart {\n",
              "      --bg-color: #E8F0FE;\n",
              "      --fill-color: #1967D2;\n",
              "      --hover-bg-color: #E2EBFA;\n",
              "      --hover-fill-color: #174EA6;\n",
              "      --disabled-fill-color: #AAA;\n",
              "      --disabled-bg-color: #DDD;\n",
              "  }\n",
              "\n",
              "  [theme=dark] .colab-df-quickchart {\n",
              "      --bg-color: #3B4455;\n",
              "      --fill-color: #D2E3FC;\n",
              "      --hover-bg-color: #434B5C;\n",
              "      --hover-fill-color: #FFFFFF;\n",
              "      --disabled-bg-color: #3B4455;\n",
              "      --disabled-fill-color: #666;\n",
              "  }\n",
              "\n",
              "  .colab-df-quickchart {\n",
              "    background-color: var(--bg-color);\n",
              "    border: none;\n",
              "    border-radius: 50%;\n",
              "    cursor: pointer;\n",
              "    display: none;\n",
              "    fill: var(--fill-color);\n",
              "    height: 32px;\n",
              "    padding: 0;\n",
              "    width: 32px;\n",
              "  }\n",
              "\n",
              "  .colab-df-quickchart:hover {\n",
              "    background-color: var(--hover-bg-color);\n",
              "    box-shadow: 0 1px 2px rgba(60, 64, 67, 0.3), 0 1px 3px 1px rgba(60, 64, 67, 0.15);\n",
              "    fill: var(--button-hover-fill-color);\n",
              "  }\n",
              "\n",
              "  .colab-df-quickchart-complete:disabled,\n",
              "  .colab-df-quickchart-complete:disabled:hover {\n",
              "    background-color: var(--disabled-bg-color);\n",
              "    fill: var(--disabled-fill-color);\n",
              "    box-shadow: none;\n",
              "  }\n",
              "\n",
              "  .colab-df-spinner {\n",
              "    border: 2px solid var(--fill-color);\n",
              "    border-color: transparent;\n",
              "    border-bottom-color: var(--fill-color);\n",
              "    animation:\n",
              "      spin 1s steps(1) infinite;\n",
              "  }\n",
              "\n",
              "  @keyframes spin {\n",
              "    0% {\n",
              "      border-color: transparent;\n",
              "      border-bottom-color: var(--fill-color);\n",
              "      border-left-color: var(--fill-color);\n",
              "    }\n",
              "    20% {\n",
              "      border-color: transparent;\n",
              "      border-left-color: var(--fill-color);\n",
              "      border-top-color: var(--fill-color);\n",
              "    }\n",
              "    30% {\n",
              "      border-color: transparent;\n",
              "      border-left-color: var(--fill-color);\n",
              "      border-top-color: var(--fill-color);\n",
              "      border-right-color: var(--fill-color);\n",
              "    }\n",
              "    40% {\n",
              "      border-color: transparent;\n",
              "      border-right-color: var(--fill-color);\n",
              "      border-top-color: var(--fill-color);\n",
              "    }\n",
              "    60% {\n",
              "      border-color: transparent;\n",
              "      border-right-color: var(--fill-color);\n",
              "    }\n",
              "    80% {\n",
              "      border-color: transparent;\n",
              "      border-right-color: var(--fill-color);\n",
              "      border-bottom-color: var(--fill-color);\n",
              "    }\n",
              "    90% {\n",
              "      border-color: transparent;\n",
              "      border-bottom-color: var(--fill-color);\n",
              "    }\n",
              "  }\n",
              "</style>\n",
              "\n",
              "  <script>\n",
              "    async function quickchart(key) {\n",
              "      const quickchartButtonEl =\n",
              "        document.querySelector('#' + key + ' button');\n",
              "      quickchartButtonEl.disabled = true;  // To prevent multiple clicks.\n",
              "      quickchartButtonEl.classList.add('colab-df-spinner');\n",
              "      try {\n",
              "        const charts = await google.colab.kernel.invokeFunction(\n",
              "            'suggestCharts', [key], {});\n",
              "      } catch (error) {\n",
              "        console.error('Error during call to suggestCharts:', error);\n",
              "      }\n",
              "      quickchartButtonEl.classList.remove('colab-df-spinner');\n",
              "      quickchartButtonEl.classList.add('colab-df-quickchart-complete');\n",
              "    }\n",
              "    (() => {\n",
              "      let quickchartButtonEl =\n",
              "        document.querySelector('#df-d5a3184a-a0be-4585-beb5-6b5621e76926 button');\n",
              "      quickchartButtonEl.style.display =\n",
              "        google.colab.kernel.accessAllowed ? 'block' : 'none';\n",
              "    })();\n",
              "  </script>\n",
              "</div>\n",
              "\n",
              "    </div>\n",
              "  </div>\n"
            ]
          },
          "metadata": {},
          "execution_count": 6
        },
        {
          "output_type": "stream",
          "name": "stdout",
          "text": [
            "Warning: Total number of columns (34) exceeds max_columns (20) limiting to first (20) columns.\n"
          ]
        }
      ]
    },
    {
      "cell_type": "code",
      "source": [
        "column_names = df.columns\n",
        "print(column_names)"
      ],
      "metadata": {
        "colab": {
          "base_uri": "https://localhost:8080/"
        },
        "id": "DQ1EAvpCzoWI",
        "outputId": "7f23e1e7-7675-4731-d81f-e43fd55ab787"
      },
      "execution_count": 7,
      "outputs": [
        {
          "output_type": "stream",
          "name": "stdout",
          "text": [
            "Index(['Unnamed: 0', 'link', 'fsa', 'name', 'price', 'size', 'image_url',\n",
            "       'brand', 'special_feature', 'item_dimension', 'product_benefit',\n",
            "       'special_use', 'item_weight', 'reviews', 'rating', '5 star', '4 star',\n",
            "       '3 star', '2 star', '1 star', 'discontinued', 'product_dimension',\n",
            "       'model_number', 'first_date', 'manufacturer', 'asin', 'origin_country',\n",
            "       'ingredients', 'about', 'description', 'safety', 'directions', 'legal',\n",
            "       'cat'],\n",
            "      dtype='object')\n"
          ]
        }
      ]
    },
    {
      "cell_type": "markdown",
      "source": [
        "## 1. Desription"
      ],
      "metadata": {
        "id": "HVPbM0QV0zsU"
      }
    },
    {
      "cell_type": "code",
      "source": [
        "# Download NLTK stopwords\n",
        "import nltk\n",
        "nltk.download('stopwords')\n",
        "from nltk.corpus import stopwords\n"
      ],
      "metadata": {
        "colab": {
          "base_uri": "https://localhost:8080/"
        },
        "id": "cT6pG4Lw_ZSR",
        "outputId": "4ff0d809-76ae-4ba6-cbc2-464121e4fd42"
      },
      "execution_count": 22,
      "outputs": [
        {
          "output_type": "stream",
          "name": "stderr",
          "text": [
            "[nltk_data] Downloading package stopwords to /root/nltk_data...\n",
            "[nltk_data]   Unzipping corpora/stopwords.zip.\n"
          ]
        }
      ]
    },
    {
      "cell_type": "code",
      "source": [
        "# Set of English stopwords\n",
        "stop_words = set(stopwords.words('english'))\n"
      ],
      "metadata": {
        "id": "yeicbCaG_fCl"
      },
      "execution_count": 23,
      "outputs": []
    },
    {
      "cell_type": "code",
      "source": [
        "des50=df['description'].value_counts().head(30)\n",
        "print(des50)"
      ],
      "metadata": {
        "colab": {
          "base_uri": "https://localhost:8080/"
        },
        "id": "24mtDVJF0zEC",
        "outputId": "1adcd861-5ca2-4e34-cbbf-a876ed54d442"
      },
      "execution_count": 9,
      "outputs": [
        {
          "output_type": "stream",
          "name": "stdout",
          "text": [
            " \\n                                                                                                                                                                                                                                                                                                                                                                                                                                                                                                                                                                                                                                                                                                                                                                                                                                                                                                                                                                                                                                                                                                                                                                                                                                                                                                                                                                                                                                                                                                                                                                                                                                                    115\n",
            " \\n Supplements                                                                                                                                                                                                                                                                                                                                                                                                                                                                                                                                                                                                                                                                                                                                                                                                                                                                                                                                                                                                                                                                                                                                                                                                                                                                                                                                                                                                                                                                                                                                                                                                                                          7\n",
            " \\n These tablets go to work in seconds by starting to neutralize acid on contact to bring fast and powerful relief from heartburn. Whenever symptoms occur, chew and swallow two to three tablets, depending on the severity of your acid indigestion. These tablets are the #1 recommended brand by doctors, pharmacists and OBGYNs.                                                                                                                                                                                                                                                                                                                                                                                                                                                                                                                                                                                                                                                                                                                                                                                                                                                                                                                                                                                                                                                                                                                                                                                                                                                                                                                   7\n",
            " \\n Soothe your upset stomach with Gelusil Antacid. These tablets are fast-acting. The cool mint flavor is refreshing and leaves your mouth feeling cool. NDC Code(s): 65197-300-11                                                                                                                                                                                                                                                                                                                                                                                                                                                                                                                                                                                                                                                                                                                                                                                                                                                                                                                                                                                                                                                                                                                                                                                                                                                                                                                                                                                                                                                                      4\n",
            " \\n Chloraseptic is the Number One Sore Throat Relief Brand (1). With Chloraseptic Sore Throat Lozenges and Sprays, you get fast acting relief in a variety of flavors from a brand that has been relieving sore throats for over 55 years. Our fast-acting sprays and soothing lozenges relieve pain on contact and coat your throat for additional comfort. For on-the-go relief, try Chloraseptic Sore Throat Lozenges! This fast-acting sore throat remedy will be handy to keep in the medicine cabinet for fast, easy access at home or take them on-the-go for throat and mouth pain relief anytime or anywhere. Lozenges come in flavors like Wild Berries, Citrus and Warming Honey Lemon and in Sugar Free Wild Cherry and are for use with adults and children 6 years of age and over. Chloraseptic Sore Throat Sprays are aspirin free and sugar free and are for use with adults and children 3 years of age and over. (1) IRI Data Total Units Sold Ending 11/27/22, Multi-Outlet + Convenience                                                                                                                                                                                                                                                                                                                                                                                                                                                                                                                                                                                                                                           4\n",
            " \\n Sal de Uvas Picot Antacid is an effective treatment that quickly helps you relieve symptoms if you suffer from indigestion, reflux, or heartburn. Our product contains sodium bicarbonate and citric acid, two powerful ingredients that work together to neutralize excess stomach acids. These symptoms are well known and can start after overeating or consuming spicy or acidic foods, so you better have Sal de Uvas Picot at hand to relieve indigestion quickly. Each packet contains a single dose of effervescent powder; it is gentle on the stomach and works to eliminate discomfort. Acid reflux or heartburn symptoms are uncomfortable and painful with a burning sensation; they arise in the upper stomach and spread to your throat. Sal de Uvas Picot can also help people who suffer from gas and bloating due to overeating. To start using Sal de Uvas, pour the package's contents into a 4-ounce glass of water. Let the powder bubble and dissolve in the water and drink the entire contents of the glass. The powder will begin to balance stomach acids' excess levels in a short time, allowing heartburn symptoms to disappear. Our formula works best when taken immediately after uncomfortable symptoms appear.                                                                                                                                                                                                                                                                                                                                                                                                    4\n",
            " \\n Even at night, Maximum Strength PEPCID AC is strong enough to prevent tough heartburn, or relieve it after it strikes. Maximum Strength PEPCID AC tablets with famotidine work before, during, or after the start of heartburn symptoms.                                                                                                                                                                                                                                                                                                                                                                                                                                                                                                                                                                                                                                                                                                                                                                                                                                                                                                                                                                                                                                                                                                                                                                                                                                                                                                                                                                                                             4\n",
            " \\n Advil stops pain where it starts, providing a powerful pain reliever. Whether you have a headache, muscle ache, backache, toothache, menstrual pain, minor arthritis and other joint pain, or aches and pains from the common cold, Advil brings relief where you need it. This fever reducer and pain medicine for adults is scientifically designed to block the chemicals in the body that cause pain and fever. Each tablet contains ibuprofen 200mg, a non-steroidal anti-inflammatory drug (NSAID). Coated Advil tablets are easy to swallow, providing relief that lasts for up to 6 hours. One Advil is all it often takes for headache relief, muscle ache relief, joint pain relief, or minor arthritis pain relief, and the medicine in Advil is what doctors use most for their own aches and pains. The world's best-selling ibuprofen brand, Advil has provided safe, effective pain relief for over 35 years. By 2022, Advil will feature more sustainable packaging made with 20% less plastic per bottle, to keep nearly 500,000 pounds of plastic out of landfills. Nothing's stronger on tough pain than Advil. (1) (1) Among non-prescription analgesics                                                                                                                                                                                                                                                                                                                                                                                                                                                                         4\n",
            " \\n With one Prilosec OTC pill each morning, block your heartburn for a full 24 hours.* Heartburn happens when stomach acid refluxes into the esophagus. Prilosec OTC’s delayed-release formula helps it pass through the tough stomach acid, preventing excess acid production to block frequent heartburn.* Some other heartburn relief treatments only neutralize the stomach acid after it’s already been produced and provide shorter relief (less than 24 hours). Prilosec OTC is the #1 Doctor and Gastroenterologist recommended frequent heartburn medicine for over 15 years.† Prilosec OTC’s active ingredient, 20 mg of delayed released omeprazole, works to fight heartburn differently from treatments like acid controllers/H2s or antacids. Omeprazole blocks heartburn for a full 24 hours after taking one pill each morning.* Omeprazole is a proton pump inhibitor (PPI) and PPIs are a powerful class of frequent heartburn medicines. PPIs block heartburn by preventing excess acid production…something that antacids just can’t do. With 1 Prilosec OTC pill each morning, block heartburn for 24 hours,* unlike antacids which last only 1-3 hours. * Zero heartburn is possible with Prilosec OTC. Not for immediate relief. Take one pill per day as directed to treat frequent heartburn. May take 1 to 4 days for full effect. Compared to how antacids for heartburn. Use all heartburn medications as directed. Do not take for more than 14 days or more often than every 4 months unless directed by a doctor. Not for immediate relief. † IQVIA ProVoice Survey, 2005 – 2022. ^ Check with insurance provider        4\n",
            " \\n An Amazon Brand                                                                                                                                                                                                                                                                                                                                                                                                                                                                                                                                                                                                                                                                                                                                                                                                                                                                                                                                                                                                                                                                                                                                                                                                                                                                                                                                                                                                                                                                                                                                                                                                                                      4\n",
            " \\n Introducing our ultimate relief package for those hot and uncomfortable days! Our Product Bundle combines the soothing power of SNAKE BRAND Cooling Powder and Rescue Throat Spray made from natural chamomile, providing you with quick and effective relief from two common discomforts. When the scorching sun leaves you with heat rash and discomfort, our Body Cooling Powder will come to the rescue, providing a refreshing and cooling sensation to ease your skin. Meanwhile, our Herbal Throat Spray, infused with the calming properties of chamomile, offers instant relief to a sore and scratchy throat, leaving you feeling refreshed and rejuvenated. Embrace the natural goodness of chamomile and stay cool and comfortable all day long with this fantastic duo. Say goodbye to heat rash and sore throats, and hello to soothing relief!                                                                                                                                                                                                                                                                                                                                                                                                                                                                                                                                                                                                                                                                                                                                                                                        4\n",
            " \\n For your worst allergy symptoms, nothing works faster or stronger* than Allegra 24-Hour Adult Non-Drowsy Antihistamine Tablets. Allegra Tablets start working in one hour to give you round-the-clock relief from sneezing, runny nose, itchy and watery eyes, and itchy nose or throat. One pill is all you need for 24-hour relief. Formulated with active ingredient fexofenadine, Allegra Non-Drowsy Allergy Medicine provides powerful relief from indoor and outdoor allergies, including seasonal allergies and pet allergies. Be ready for spring allergies, fall allergies, dog allergies and more. Stock up on Allegra 24-Hour Non-Drowsy Tablets for fast*, effective allergy relief. *Starts working in one hour; applies to first dose only. Among single-ingredient branded OTC oral antihistamines.                                                                                                                                                                                                                                                                                                                                                                                                                                                                                                                                                                                                                                                                                                                                                                                                                                   3\n",
            " \\n Flonase Allergy Relief Nasal Spray relieves sneezing, itchy, watery eyes and runny nose, plus nasal congestion. This non drowsy allergy medicine delivers indoor and outdoor relief year-round. Flonase nasal spray provides 24 hour all-in-one relief of allergy symptoms caused by pollen, mold, dust and pet dander. Use the free pack of tissues to manage sneezes and sniffles on the go. Flonase is the number 1 doctor recommended brand (2) in allergy relief, and fluticasone propionate nasal spray is number 1 prescribed allergy medication (1). Formulated for adults and children 4 and up. (1) Based on IMS Health Monthly TRx Allergy Market for 12-month period ending 8/31/21. (2) Among OTC Allergy Medications based on most recent physician's survey dated 7/21/21.                                                                                                                                                                                                                                                                                                                                                                                                                                                                                                                                                                                                                                                                                                                                                                                                                                                            3\n",
            " \\n Bring your child fast fever reduction and relief from minor aches and pains due to the common cold & flu. Children's Motrin Oral Suspension with 100mg per 5mL ibuprofen is a dye-free oral suspension medicine for kids. It contains ibuprofen, a known NSAID pain-reliever and fever-reducer. Each 5mL contains 100 milligrams of ibuprofen. This kid's liquid medicine provides up to eight hours of relief from minor aches and pains due to the common cold, flu, sore throat, headache, and toothache. This oral suspension medicine formula is for children ages 2 to 11 and comes in a kid-friendly original berry flavor. Plus, the enclosed dosing cup can make it easy to dose and administer the liquid pain reliever to your child.                                                                                                                                                                                                                                                                                                                                                                                                                                                                                                                                                                                                                                                                                                                                                                                                                                                                                                     3\n",
            " \\n Get 24-hour relief from frequent heartburn with Nexium 24HR Capsules. Nexium 24HR Capsules work by blocking acid directly at the source, giving you 24 hours of protection (4) from frequent heartburn. Just one Capsule a day provides all-day, all-night protection (4) from frequent heartburn. Nexium 24HR is the #1 Selling OTC frequent heartburn brand (2). It's possible while taking Nexium 24HR. Use as directed for 14 days to treat frequent heartburn. Do not take for more than 14 days or more often than every 4 months unless directed by a doctor. Not for immediate relief. (1) Among PCPs who use a branded OTC PPI. (2) Among OTC PPI brands. Based on IRI sales data 52 weeks ending 09/04/2016. (3) It's possible while taking Nexium 24HR. Use as directed for 14 days to treat frequent heartburn. Do not take for more than 14 days or more often than every 4 months unless directed by a doctor. Not for immediate relief. (4) Use as directed for 14 days to treat frequent heartburn. Nexium 24HR may take 1-4 days for full effect.                                                                                                                                                                                                                                                                                                                                                                                                                                                                                                                                                                                   3\n",
            " \\n Research Verified Acid Reflux can help to provide a soothing response to burning in the GI tract and esophagus.                                                                                                                                                                                                                                                                                                                                                                                                                                                                                                                                                                                                                                                                                                                                                                                                                                                                                                                                                                                                                                                                                                                                                                                                                                                                                                                                                                                                                                                                                                                                      3\n",
            " \\n Reliable 1 Diphenhydramine HCl is designed to provide relief from various allergy symptoms. It contains a potent antihistamine that helps alleviate itching, sneezing, runny nose, and other discomfort caused by allergies. With its convenient capsule form, this product offers reliable relief to those in need. NDC Code: 69618-025-01                                                                                                                                                                                                                                                                                                                                                                                                                                                                                                                                                                                                                                                                                                                                                                                                                                                                                                                                                                                                                                                                                                                                                                                                                                                                                                          3\n",
            " \\n Stop the churning and burning with Boiron Acidil meltaway tablets that melt in your mouth to relieve occasional heartburn, acid indigestion, bloating, and upset stomach.* This homeopathic medicine is made with plant-based active ingredients and can be taken on a full or empty stomach.                                                                                                                                                                                                                                                                                                                                                                                                                                                                                                                                                                                                                                                                                                                                                                                                                                                                                                                                                                                                                                                                                                                                                                                                                                                                                                                                                        3\n",
            " \\n When you have a cold, turn to Vicks NyQuil Cold & Flu Nighttime Relief Liquid medicine to relieve your sneezing, sore throat, headache, minor aches and pains, fever, runny nose, and cough to help you get the rest you need.                                                                                                                                                                                                                                                                                                                                                                                                                                                                                                                                                                                                                                                                                                                                                                                                                                                                                                                                                                                                                                                                                                                                                                                                                                                                                                                                                                                                                       3\n",
            " \\n Aleve Naproxen Sodium Pain Relief Caplets are proven stronger* and longer on pain than Tylenol. Each Naproxen Sodium 220 mg pain medicine Caplet has the strength to last up to 12 hours. Aleve Caplets temporarily relieves minor aches and pains due to: minor pain of arthritis, muscular aches, backache, menstrual cramps, headache, toothache, and the common cold. Aleve pain medication also temporarily reduces fever. This effective pain reliever comes in small, oval caplets that are easy to swallow, available in a safe and convenient child‐resistant bottle. Pain happens. Aleve it. *Based on clinical data from the first six hours after initial dosing.                                                                                                                                                                                                                                                                                                                                                                                                                                                                                                                                                                                                                                                                                                                                                                                                                                                                                                                                                                        3\n",
            " \\n Get fast eye allergy itch relief with Pataday Once Daily Relief Extra Strength, the first and only full 24-hour eye allergy itch relief drop available without a prescription. A single drop of Pataday Once Daily Relief Extra Strength features the ingredient doctors prescribed most for eye allergy itch relief caused by pollen, ragweed, grass, animal hair and dander. Pataday Once Daily Relief Extra Strength is applied directly to the eye to reduce itchy allergy symptoms fast by working directly on the cells that make eyes itch for a full 24-hours.                                                                                                                                                                                                                                                                                                                                                                                                                                                                                                                                                                                                                                                                                                                                                                                                                                                                                                                                                                                                                                                                               3\n",
            " \\n See Brandstore for latest products.                                                                                                                                                                                                                                                                                                                                                                                                                                                                                                                                                                                                                                                                                                                                                                                                                                                                                                                                                                                                                                                                                                                                                                                                                                                                                                                                                                                                                                                                                                                                                                                                                  3\n",
            " \\n Tylenol 8 Hour Arthritis Pain Reliever Extended-Release Caplets temporarily relieve the minor aches and pains of arthritis, including arthritic joint pain in hands, wrists, knees, ankles, elbows and feet. The first layer of the bi-layer design delivers fast-acting medicine for quick minor arthritic joint relief while the second has an extended release, offering effective pain relief that lasts up to 8 hours. With 650 milligrams of the pain-relieving and fever reducing ingredient acetaminophen per caplet, this pain medicine also temporarily relieves aches and pains associated with muscular aches, backache, premenstrual and menstrual cramps, the common cold, headache, and toothache. This effective oral pain reliever is gentle on your stomach, but tough on minor arthritic joint pain and also works as a fever reducer. Made by the #1 doctor recommended OTC brand for pain relief and fever reduction, it can be used by adults 18 years older and is safe when used as directed.                                                                                                                                                                                                                                                                                                                                                                                                                                                                                                                                                                                                                                3\n",
            " \\n Health and Personal Care                                                                                                                                                                                                                                                                                                                                                                                                                                                                                                                                                                                                                                                                                                                                                                                                                                                                                                                                                                                                                                                                                                                                                                                                                                                                                                                                                                                                                                                                                                                                                                                                                             3\n",
            " \\n Green Ape Serenity Gummies 1500mg Extra Strength Pain Tinnitus Relief 1500 400 9000 800mg 2 pack mg dr nerve gummy                                                                                                                                                                                                                                                                                                                                                                                                                                                                                                                                                                                                                                                                                                                                                                                                                                                                                                                                                                                                                                                                                                                                                                                                                                                                                                                                                                                                                                                                                                                                   3\n",
            " \\n Why is the common cold so common? With more than 200 different viruses that can trigger a cold--and the fact that they spread easily--colds are the most common viral infection. Each year, people in the United States suffer 1 billion colds. People who are suffering from colds may spread the virus into the air or onto something they touch every time they sneeze or cough. If you touch a surface that’s carrying a cold virus and then touch your mouth, nose, or eyes, you could become infected. The easiest and most effective ways to prevent a cold are to wash your hands and stay away from people with colds. Clean hands can stop germs such as the cold virus from spreading from one person to another.                                                                                                                                                                                                                                                                                                                                                                                                                                                                                                                                                                                                                                                                                                                                                                                                                                                                                                                         3\n",
            " \\n Our Dietary Supplements are made from pure ingredients, without added fillers, additives, or preservatives. We don't use rice flour, magnesium stearate or other bulk agents in our processes, so that what you want is all you get.                                                                                                                                                                                                                                                                                                                                                                                                                                                                                                                                                                                                                                                                                                                                                                                                                                                                                                                                                                                                                                                                                                                                                                                                                                                                                                                                                                                                                 3\n",
            " \\n Experience the relief of Alavert Allergy 24 Hour Orally Disintegrating Tablets to help relieve all of your indoor and outdoor allergy symptoms. The active ingredient in this allergy medicine for adults and children 6 years and older is a non-drowsy* antihistamine (Loratadine 10 mg). Alavert Allergy comes in convenient quick-dissolving tablets that melt in your mouth. The instant a tablet touches your tongue you know relief is on its way. So easy to take - no water is needed. Alavert Allergy delivers 24 full hours of symptom relief from sneezing, runny nose, itchy, watery eyes, and itching of the nose and throat. Alavert Allergy is conveniently available over-the-counter without a doctor’s prescription so you can get back to your day. Alavert Allergy is available in citrus burst and fresh mint flavors. Review all labeled directions and warnings prior to use. *When taken as directed.                                                                                                                                                                                                                                                                                                                                                                                                                                                                                                                                                                                                                                                                                                                       3\n",
            " \\n Flonase Sensimist Allergy Relief Nasal Spray provides all-day relief for even the worst seasonal, year-round, indoor and outdoor allergies, all in a gentle mist you'll barely feel. Unlike most allergy pills, Flonase Sensimist relieves your most severe allergy symptoms, including sneezing, itchy nose, runny nose and itchy, watery eyes, plus nasal congestion. Flonase Sensimist is a 24 hour allergy medicine that contains fluticasone furoate, delivered with a patented bottle specially designed for a unique scent free and virtually drip free allergy mist. This allergy medication stops your body from overreacting to allergens all season long, outperforming a leading non-drowsy allergy pill.(1) Flonase Sensimist provides our most advanced spray technology with an ultra lightweight mist for 24-hour all-in-one allergy relief. This non drowsy allergy medicine is formulated for adults and children 12 years of age and older. Before using this adult allergy medicine, blow your nose. Shake the bottle, prime it by spraying until a fine mist appears, then spray twice into each nostril one to two times daily as needed. (1) Total nasal symptoms vs. single-ingredient 180 mg fexofenadine                                                                                                                                                                                                                                                                                                                                                                                                                   3\n",
            " \\n Get relief from minor aches and pains and temporarily reduce fevers with Motrin IB tablets that each contain 200 mg of the NSAID ibuprofen. Safe and effective when used as directed, these ibuprofen tablets work to temporarily reduce fever and relieve minor aches and pains due to the common cold, headache, muscular aches, minor pain of arthritis, toothache, backache, and menstrual cramps. Each Motrin IB tablet contains 200 milligrams of the nonsteroidal anti-inflammatory drug ibuprofen, a pain relief medicine that works fast to stop pain where it starts for powerful, effective relief. Adults and children 12 and older, take one caplet every 4 to 6 hours while symptoms persist; if pain or fever does not respond to one caplet, two caplets may be used. This site contains current product information and may differ from the information on the product packaging you may have.                                                                                                                                                                                                                                                                                                                                                                                                                                                                                                                                                                                                                                                                                                                                      3\n",
            "Name: description, dtype: int64\n"
          ]
        }
      ]
    },
    {
      "cell_type": "code",
      "source": [
        "df[\"description\"] = df[\"description\"].str.lower()"
      ],
      "metadata": {
        "id": "Q3xUlrRf9ZUi"
      },
      "execution_count": 14,
      "outputs": []
    },
    {
      "cell_type": "code",
      "source": [
        "words = df[\"description\"].str.split().explode()\n"
      ],
      "metadata": {
        "id": "ZXVFjjaC-KbG"
      },
      "execution_count": 15,
      "outputs": []
    },
    {
      "cell_type": "code",
      "source": [
        "# Remove punctuation\n",
        "words = words.str.replace('[^\\w\\s]', '', regex=True)\n"
      ],
      "metadata": {
        "id": "DBCBlPcT-T0T"
      },
      "execution_count": 16,
      "outputs": []
    },
    {
      "cell_type": "code",
      "source": [
        "# Filter out stopwords\n",
        "filtered_words = words[~words.isin(stop_words)]"
      ],
      "metadata": {
        "id": "UstCmOUC_j7O"
      },
      "execution_count": 24,
      "outputs": []
    },
    {
      "cell_type": "code",
      "source": [
        "# Count the frequency of each word\n",
        "word_freq = filtered_words.value_counts().head(40)\n",
        "print(word_freq)"
      ],
      "metadata": {
        "colab": {
          "base_uri": "https://localhost:8080/"
        },
        "id": "rvD1pJGZ-ZFz",
        "outputId": "ce72d0a0-6c66-49d5-c09b-5fd9a7b9af6f"
      },
      "execution_count": 25,
      "outputs": [
        {
          "output_type": "stream",
          "name": "stdout",
          "text": [
            "relief        2671\n",
            "              2027\n",
            "cold          1509\n",
            "pain          1447\n",
            "symptoms      1369\n",
            "tablets       1159\n",
            "allergy       1097\n",
            "heartburn     1066\n",
            "cough          903\n",
            "medicine       837\n",
            "nose           797\n",
            "throat         790\n",
            "1              790\n",
            "congestion     777\n",
            "acid           771\n",
            "strength       769\n",
            "flu            768\n",
            "fever          756\n",
            "use            658\n",
            "nasal          654\n",
            "take           640\n",
            "hours          614\n",
            "aches          610\n",
            "children       589\n",
            "years          579\n",
            "contains       573\n",
            "relieve        567\n",
            "mg             566\n",
            "minor          552\n",
            "product        535\n",
            "stomach        530\n",
            "12             520\n",
            "day            518\n",
            "mucinex        495\n",
            "headache       493\n",
            "active         487\n",
            "sore           483\n",
            "fast           476\n",
            "adults         461\n",
            "runny          452\n",
            "Name: description, dtype: int64\n"
          ]
        }
      ]
    },
    {
      "cell_type": "code",
      "source": [
        "count = df[\"description\"].str.count(\"max strength\").sum()\n",
        "count\n"
      ],
      "metadata": {
        "colab": {
          "base_uri": "https://localhost:8080/"
        },
        "id": "3oKYAkJ1BhRJ",
        "outputId": "820fc1f0-f868-4bb4-c948-2613695caec1"
      },
      "execution_count": 29,
      "outputs": [
        {
          "output_type": "execute_result",
          "data": {
            "text/plain": [
              "22.0"
            ]
          },
          "metadata": {},
          "execution_count": 29
        }
      ]
    },
    {
      "cell_type": "code",
      "source": [
        "count = df[\"description\"].str.count(\"strength\").sum()\n",
        "count\n"
      ],
      "metadata": {
        "colab": {
          "base_uri": "https://localhost:8080/"
        },
        "id": "6LhQMI89CI6V",
        "outputId": "e4a66cd7-048a-4ffd-868e-1dca1104a2d2"
      },
      "execution_count": 31,
      "outputs": [
        {
          "output_type": "execute_result",
          "data": {
            "text/plain": [
              "824.0"
            ]
          },
          "metadata": {},
          "execution_count": 31
        }
      ]
    },
    {
      "cell_type": "code",
      "source": [
        "count = df[\"description\"].str.count(\"maximum strength\").sum()\n",
        "count\n"
      ],
      "metadata": {
        "colab": {
          "base_uri": "https://localhost:8080/"
        },
        "id": "A77PTH_3Jme8",
        "outputId": "5090dedb-4af0-4a78-d76f-44837a0bf3f4"
      },
      "execution_count": 62,
      "outputs": [
        {
          "output_type": "execute_result",
          "data": {
            "text/plain": [
              "362.0"
            ]
          },
          "metadata": {},
          "execution_count": 62
        }
      ]
    },
    {
      "cell_type": "code",
      "source": [
        "count = df[\"description\"].str.count(\"non drowsy\").sum()\n",
        "count\n"
      ],
      "metadata": {
        "colab": {
          "base_uri": "https://localhost:8080/"
        },
        "id": "hNnr49BWCWV6",
        "outputId": "dc4f2658-2390-4a9f-bce2-1cb9537cd642"
      },
      "execution_count": 34,
      "outputs": [
        {
          "output_type": "execute_result",
          "data": {
            "text/plain": [
              "22.0"
            ]
          },
          "metadata": {},
          "execution_count": 34
        }
      ]
    },
    {
      "cell_type": "code",
      "source": [
        "count = df[\"description\"].str.count(\"sleepy\").sum()\n",
        "count\n"
      ],
      "metadata": {
        "colab": {
          "base_uri": "https://localhost:8080/"
        },
        "id": "4znqDVh3Cr0G",
        "outputId": "e2c21fa4-3574-445a-8a07-cfeddfbb061a"
      },
      "execution_count": 37,
      "outputs": [
        {
          "output_type": "execute_result",
          "data": {
            "text/plain": [
              "11.0"
            ]
          },
          "metadata": {},
          "execution_count": 37
        }
      ]
    },
    {
      "cell_type": "code",
      "source": [
        "count = df[\"description\"].str.count(\"long\").sum()\n",
        "count\n"
      ],
      "metadata": {
        "colab": {
          "base_uri": "https://localhost:8080/"
        },
        "id": "s_wMEu5hDn-y",
        "outputId": "9fe5e1bd-0e2f-4a65-b9dd-ec1f92e304a5"
      },
      "execution_count": 38,
      "outputs": [
        {
          "output_type": "execute_result",
          "data": {
            "text/plain": [
              "193.0"
            ]
          },
          "metadata": {},
          "execution_count": 38
        }
      ]
    },
    {
      "cell_type": "code",
      "source": [
        "count = df[\"description\"].str.count(\"fast\").sum()\n",
        "count\n"
      ],
      "metadata": {
        "colab": {
          "base_uri": "https://localhost:8080/"
        },
        "id": "4HM8BiFPD1hD",
        "outputId": "f2120ef6-9dc6-4a0d-bf81-241abbbc4d0a"
      },
      "execution_count": 39,
      "outputs": [
        {
          "output_type": "execute_result",
          "data": {
            "text/plain": [
              "835.0"
            ]
          },
          "metadata": {},
          "execution_count": 39
        }
      ]
    },
    {
      "cell_type": "code",
      "source": [
        "def find_special_des(text):\n",
        "    if isinstance(text, float):\n",
        "        # If the text is a float (e.g., NaN), return 0 for all features\n",
        "        return 0, 0, 0, 0\n",
        "\n",
        "    # Check for the presence of 'drowsy', 'fast', 'long', and 'max strength'\n",
        "    non_drowsy = 1 if 'drowsy' in text.lower() else 0\n",
        "    fast_acting = 1 if 'fast' in text.lower() else 0\n",
        "    long_lasting = 1 if 'long'  in text.lower() or 'daytime and nighttime' in text.lower() else 0\n",
        "    max_str = 1 if 'maximum strength' in text.lower() or 'max strength' in text.lower() else 0\n",
        "\n",
        "    return non_drowsy, fast_acting, long_lasting, max_str\n",
        "\n",
        "\n",
        "# Apply the function to the DataFrame\n",
        "df[['non_drowsy_spec', 'fast_acting_spec', 'long_lasting_spec', 'max_str_spec']] = df['description'].apply(find_special_des).apply(pd.Series)"
      ],
      "metadata": {
        "id": "RC8y6RDa_xFZ"
      },
      "execution_count": 63,
      "outputs": []
    },
    {
      "cell_type": "code",
      "source": [
        "df[['description','non_drowsy_spec', 'fast_acting_spec', 'long_lasting_spec', 'max_str_spec']].head(30)"
      ],
      "metadata": {
        "colab": {
          "base_uri": "https://localhost:8080/",
          "height": 990
        },
        "id": "duZUKAD7ElbZ",
        "outputId": "930ac797-ea66-4e5f-a30b-67ecbb91c768"
      },
      "execution_count": 64,
      "outputs": [
        {
          "output_type": "execute_result",
          "data": {
            "text/plain": [
              "                                          description  non_drowsy_spec  \\\n",
              "0    \\n compare to the active ingredients in vicks...                1   \n",
              "1    \\n product description   experience temporary...                0   \n",
              "2    \\n maximum strength mucinex fast-max day and ...                0   \n",
              "3    \\n compare to vicks nyquil cold & flu active ...                0   \n",
              "4    \\n theraflu expressmax severe cold and cough ...                0   \n",
              "5    \\n compare to vicks nyquil active ingredients...                0   \n",
              "6    \\n alka-seltzer plus cold & flu effervescent ...                0   \n",
              "7    \\n from the world's #1 selling otc cough and ...                1   \n",
              "8    \\n experience temporary relief from fever, so...                0   \n",
              "9    \\n knock your cold out with vicks dayquil and...                1   \n",
              "10   \\n compare to vicks dayquil and nyquil severe...                1   \n",
              "11   \\n compare to vicks nyquil severe active ingr...                0   \n",
              "12   \\n compare to the active ingredients in vicks...                1   \n",
              "13   \\n alka-seltzer plus cold and flu, power max,...                0   \n",
              "14   \\n compare to the active ingredients in vicks...                1   \n",
              "15   \\n amazon basic care nighttime severe cold, f...                0   \n",
              "16   \\n alka-seltzer plus maximum strength powerma...                1   \n",
              "17   \\n compare to the active ingredients in vicks...                1   \n",
              "18   \\n contac cold + flu day/night combo offers m...                0   \n",
              "19   \\n knock your cold out with vicks dayquil and...                1   \n",
              "20   \\n healthlife daytime/nightime cough plus col...                0   \n",
              "21   \\n airborne immune support effervescent table...                0   \n",
              "22   \\n product description   mucinex extended-rel...                0   \n",
              "23   \\n the moment you feel achy or rundown, nip f...                0   \n",
              "24   \\n maximum strength mucinex fast-max cold & f...                0   \n",
              "25   \\n whether you “caught a bug” from a friend, ...                0   \n",
              "26   \\n coricidin hbp cold & flu maximum strength ...                0   \n",
              "27   \\n intended for kids 6 to 11 years of age, ch...                0   \n",
              "28   \\n relieves sinus pressure and chest congesti...                0   \n",
              "29   \\n certain flavonoids anthocyanins are found ...                0   \n",
              "\n",
              "    fast_acting_spec  long_lasting_spec  max_str_spec  \n",
              "0                  0                  1             0  \n",
              "1                  0                  0             0  \n",
              "2                  1                  0             1  \n",
              "3                  0                  0             0  \n",
              "4                  1                  1             1  \n",
              "5                  0                  0             0  \n",
              "6                  1                  0             0  \n",
              "7                  1                  0             0  \n",
              "8                  0                  0             0  \n",
              "9                  1                  1             1  \n",
              "10                 0                  1             1  \n",
              "11                 0                  0             1  \n",
              "12                 0                  0             1  \n",
              "13                 1                  0             1  \n",
              "14                 0                  0             0  \n",
              "15                 1                  0             0  \n",
              "16                 1                  0             1  \n",
              "17                 0                  0             1  \n",
              "18                 0                  0             1  \n",
              "19                 1                  1             1  \n",
              "20                 0                  0             0  \n",
              "21                 0                  0             0  \n",
              "22                 1                  1             1  \n",
              "23                 0                  0             0  \n",
              "24                 1                  0             1  \n",
              "25                 1                  0             0  \n",
              "26                 1                  0             1  \n",
              "27                 0                  0             0  \n",
              "28                 0                  0             0  \n",
              "29                 0                  0             0  "
            ],
            "text/html": [
              "\n",
              "  <div id=\"df-f2033687-b079-4141-acbf-fd3841ddd53c\" class=\"colab-df-container\">\n",
              "    <div>\n",
              "<style scoped>\n",
              "    .dataframe tbody tr th:only-of-type {\n",
              "        vertical-align: middle;\n",
              "    }\n",
              "\n",
              "    .dataframe tbody tr th {\n",
              "        vertical-align: top;\n",
              "    }\n",
              "\n",
              "    .dataframe thead th {\n",
              "        text-align: right;\n",
              "    }\n",
              "</style>\n",
              "<table border=\"1\" class=\"dataframe\">\n",
              "  <thead>\n",
              "    <tr style=\"text-align: right;\">\n",
              "      <th></th>\n",
              "      <th>description</th>\n",
              "      <th>non_drowsy_spec</th>\n",
              "      <th>fast_acting_spec</th>\n",
              "      <th>long_lasting_spec</th>\n",
              "      <th>max_str_spec</th>\n",
              "    </tr>\n",
              "  </thead>\n",
              "  <tbody>\n",
              "    <tr>\n",
              "      <th>0</th>\n",
              "      <td>\\n compare to the active ingredients in vicks...</td>\n",
              "      <td>1</td>\n",
              "      <td>0</td>\n",
              "      <td>1</td>\n",
              "      <td>0</td>\n",
              "    </tr>\n",
              "    <tr>\n",
              "      <th>1</th>\n",
              "      <td>\\n product description   experience temporary...</td>\n",
              "      <td>0</td>\n",
              "      <td>0</td>\n",
              "      <td>0</td>\n",
              "      <td>0</td>\n",
              "    </tr>\n",
              "    <tr>\n",
              "      <th>2</th>\n",
              "      <td>\\n maximum strength mucinex fast-max day and ...</td>\n",
              "      <td>0</td>\n",
              "      <td>1</td>\n",
              "      <td>0</td>\n",
              "      <td>1</td>\n",
              "    </tr>\n",
              "    <tr>\n",
              "      <th>3</th>\n",
              "      <td>\\n compare to vicks nyquil cold &amp; flu active ...</td>\n",
              "      <td>0</td>\n",
              "      <td>0</td>\n",
              "      <td>0</td>\n",
              "      <td>0</td>\n",
              "    </tr>\n",
              "    <tr>\n",
              "      <th>4</th>\n",
              "      <td>\\n theraflu expressmax severe cold and cough ...</td>\n",
              "      <td>0</td>\n",
              "      <td>1</td>\n",
              "      <td>1</td>\n",
              "      <td>1</td>\n",
              "    </tr>\n",
              "    <tr>\n",
              "      <th>5</th>\n",
              "      <td>\\n compare to vicks nyquil active ingredients...</td>\n",
              "      <td>0</td>\n",
              "      <td>0</td>\n",
              "      <td>0</td>\n",
              "      <td>0</td>\n",
              "    </tr>\n",
              "    <tr>\n",
              "      <th>6</th>\n",
              "      <td>\\n alka-seltzer plus cold &amp; flu effervescent ...</td>\n",
              "      <td>0</td>\n",
              "      <td>1</td>\n",
              "      <td>0</td>\n",
              "      <td>0</td>\n",
              "    </tr>\n",
              "    <tr>\n",
              "      <th>7</th>\n",
              "      <td>\\n from the world's #1 selling otc cough and ...</td>\n",
              "      <td>1</td>\n",
              "      <td>1</td>\n",
              "      <td>0</td>\n",
              "      <td>0</td>\n",
              "    </tr>\n",
              "    <tr>\n",
              "      <th>8</th>\n",
              "      <td>\\n experience temporary relief from fever, so...</td>\n",
              "      <td>0</td>\n",
              "      <td>0</td>\n",
              "      <td>0</td>\n",
              "      <td>0</td>\n",
              "    </tr>\n",
              "    <tr>\n",
              "      <th>9</th>\n",
              "      <td>\\n knock your cold out with vicks dayquil and...</td>\n",
              "      <td>1</td>\n",
              "      <td>1</td>\n",
              "      <td>1</td>\n",
              "      <td>1</td>\n",
              "    </tr>\n",
              "    <tr>\n",
              "      <th>10</th>\n",
              "      <td>\\n compare to vicks dayquil and nyquil severe...</td>\n",
              "      <td>1</td>\n",
              "      <td>0</td>\n",
              "      <td>1</td>\n",
              "      <td>1</td>\n",
              "    </tr>\n",
              "    <tr>\n",
              "      <th>11</th>\n",
              "      <td>\\n compare to vicks nyquil severe active ingr...</td>\n",
              "      <td>0</td>\n",
              "      <td>0</td>\n",
              "      <td>0</td>\n",
              "      <td>1</td>\n",
              "    </tr>\n",
              "    <tr>\n",
              "      <th>12</th>\n",
              "      <td>\\n compare to the active ingredients in vicks...</td>\n",
              "      <td>1</td>\n",
              "      <td>0</td>\n",
              "      <td>0</td>\n",
              "      <td>1</td>\n",
              "    </tr>\n",
              "    <tr>\n",
              "      <th>13</th>\n",
              "      <td>\\n alka-seltzer plus cold and flu, power max,...</td>\n",
              "      <td>0</td>\n",
              "      <td>1</td>\n",
              "      <td>0</td>\n",
              "      <td>1</td>\n",
              "    </tr>\n",
              "    <tr>\n",
              "      <th>14</th>\n",
              "      <td>\\n compare to the active ingredients in vicks...</td>\n",
              "      <td>1</td>\n",
              "      <td>0</td>\n",
              "      <td>0</td>\n",
              "      <td>0</td>\n",
              "    </tr>\n",
              "    <tr>\n",
              "      <th>15</th>\n",
              "      <td>\\n amazon basic care nighttime severe cold, f...</td>\n",
              "      <td>0</td>\n",
              "      <td>1</td>\n",
              "      <td>0</td>\n",
              "      <td>0</td>\n",
              "    </tr>\n",
              "    <tr>\n",
              "      <th>16</th>\n",
              "      <td>\\n alka-seltzer plus maximum strength powerma...</td>\n",
              "      <td>1</td>\n",
              "      <td>1</td>\n",
              "      <td>0</td>\n",
              "      <td>1</td>\n",
              "    </tr>\n",
              "    <tr>\n",
              "      <th>17</th>\n",
              "      <td>\\n compare to the active ingredients in vicks...</td>\n",
              "      <td>1</td>\n",
              "      <td>0</td>\n",
              "      <td>0</td>\n",
              "      <td>1</td>\n",
              "    </tr>\n",
              "    <tr>\n",
              "      <th>18</th>\n",
              "      <td>\\n contac cold + flu day/night combo offers m...</td>\n",
              "      <td>0</td>\n",
              "      <td>0</td>\n",
              "      <td>0</td>\n",
              "      <td>1</td>\n",
              "    </tr>\n",
              "    <tr>\n",
              "      <th>19</th>\n",
              "      <td>\\n knock your cold out with vicks dayquil and...</td>\n",
              "      <td>1</td>\n",
              "      <td>1</td>\n",
              "      <td>1</td>\n",
              "      <td>1</td>\n",
              "    </tr>\n",
              "    <tr>\n",
              "      <th>20</th>\n",
              "      <td>\\n healthlife daytime/nightime cough plus col...</td>\n",
              "      <td>0</td>\n",
              "      <td>0</td>\n",
              "      <td>0</td>\n",
              "      <td>0</td>\n",
              "    </tr>\n",
              "    <tr>\n",
              "      <th>21</th>\n",
              "      <td>\\n airborne immune support effervescent table...</td>\n",
              "      <td>0</td>\n",
              "      <td>0</td>\n",
              "      <td>0</td>\n",
              "      <td>0</td>\n",
              "    </tr>\n",
              "    <tr>\n",
              "      <th>22</th>\n",
              "      <td>\\n product description   mucinex extended-rel...</td>\n",
              "      <td>0</td>\n",
              "      <td>1</td>\n",
              "      <td>1</td>\n",
              "      <td>1</td>\n",
              "    </tr>\n",
              "    <tr>\n",
              "      <th>23</th>\n",
              "      <td>\\n the moment you feel achy or rundown, nip f...</td>\n",
              "      <td>0</td>\n",
              "      <td>0</td>\n",
              "      <td>0</td>\n",
              "      <td>0</td>\n",
              "    </tr>\n",
              "    <tr>\n",
              "      <th>24</th>\n",
              "      <td>\\n maximum strength mucinex fast-max cold &amp; f...</td>\n",
              "      <td>0</td>\n",
              "      <td>1</td>\n",
              "      <td>0</td>\n",
              "      <td>1</td>\n",
              "    </tr>\n",
              "    <tr>\n",
              "      <th>25</th>\n",
              "      <td>\\n whether you “caught a bug” from a friend, ...</td>\n",
              "      <td>0</td>\n",
              "      <td>1</td>\n",
              "      <td>0</td>\n",
              "      <td>0</td>\n",
              "    </tr>\n",
              "    <tr>\n",
              "      <th>26</th>\n",
              "      <td>\\n coricidin hbp cold &amp; flu maximum strength ...</td>\n",
              "      <td>0</td>\n",
              "      <td>1</td>\n",
              "      <td>0</td>\n",
              "      <td>1</td>\n",
              "    </tr>\n",
              "    <tr>\n",
              "      <th>27</th>\n",
              "      <td>\\n intended for kids 6 to 11 years of age, ch...</td>\n",
              "      <td>0</td>\n",
              "      <td>0</td>\n",
              "      <td>0</td>\n",
              "      <td>0</td>\n",
              "    </tr>\n",
              "    <tr>\n",
              "      <th>28</th>\n",
              "      <td>\\n relieves sinus pressure and chest congesti...</td>\n",
              "      <td>0</td>\n",
              "      <td>0</td>\n",
              "      <td>0</td>\n",
              "      <td>0</td>\n",
              "    </tr>\n",
              "    <tr>\n",
              "      <th>29</th>\n",
              "      <td>\\n certain flavonoids anthocyanins are found ...</td>\n",
              "      <td>0</td>\n",
              "      <td>0</td>\n",
              "      <td>0</td>\n",
              "      <td>0</td>\n",
              "    </tr>\n",
              "  </tbody>\n",
              "</table>\n",
              "</div>\n",
              "    <div class=\"colab-df-buttons\">\n",
              "\n",
              "  <div class=\"colab-df-container\">\n",
              "    <button class=\"colab-df-convert\" onclick=\"convertToInteractive('df-f2033687-b079-4141-acbf-fd3841ddd53c')\"\n",
              "            title=\"Convert this dataframe to an interactive table.\"\n",
              "            style=\"display:none;\">\n",
              "\n",
              "  <svg xmlns=\"http://www.w3.org/2000/svg\" height=\"24px\" viewBox=\"0 -960 960 960\">\n",
              "    <path d=\"M120-120v-720h720v720H120Zm60-500h600v-160H180v160Zm220 220h160v-160H400v160Zm0 220h160v-160H400v160ZM180-400h160v-160H180v160Zm440 0h160v-160H620v160ZM180-180h160v-160H180v160Zm440 0h160v-160H620v160Z\"/>\n",
              "  </svg>\n",
              "    </button>\n",
              "\n",
              "  <style>\n",
              "    .colab-df-container {\n",
              "      display:flex;\n",
              "      gap: 12px;\n",
              "    }\n",
              "\n",
              "    .colab-df-convert {\n",
              "      background-color: #E8F0FE;\n",
              "      border: none;\n",
              "      border-radius: 50%;\n",
              "      cursor: pointer;\n",
              "      display: none;\n",
              "      fill: #1967D2;\n",
              "      height: 32px;\n",
              "      padding: 0 0 0 0;\n",
              "      width: 32px;\n",
              "    }\n",
              "\n",
              "    .colab-df-convert:hover {\n",
              "      background-color: #E2EBFA;\n",
              "      box-shadow: 0px 1px 2px rgba(60, 64, 67, 0.3), 0px 1px 3px 1px rgba(60, 64, 67, 0.15);\n",
              "      fill: #174EA6;\n",
              "    }\n",
              "\n",
              "    .colab-df-buttons div {\n",
              "      margin-bottom: 4px;\n",
              "    }\n",
              "\n",
              "    [theme=dark] .colab-df-convert {\n",
              "      background-color: #3B4455;\n",
              "      fill: #D2E3FC;\n",
              "    }\n",
              "\n",
              "    [theme=dark] .colab-df-convert:hover {\n",
              "      background-color: #434B5C;\n",
              "      box-shadow: 0px 1px 3px 1px rgba(0, 0, 0, 0.15);\n",
              "      filter: drop-shadow(0px 1px 2px rgba(0, 0, 0, 0.3));\n",
              "      fill: #FFFFFF;\n",
              "    }\n",
              "  </style>\n",
              "\n",
              "    <script>\n",
              "      const buttonEl =\n",
              "        document.querySelector('#df-f2033687-b079-4141-acbf-fd3841ddd53c button.colab-df-convert');\n",
              "      buttonEl.style.display =\n",
              "        google.colab.kernel.accessAllowed ? 'block' : 'none';\n",
              "\n",
              "      async function convertToInteractive(key) {\n",
              "        const element = document.querySelector('#df-f2033687-b079-4141-acbf-fd3841ddd53c');\n",
              "        const dataTable =\n",
              "          await google.colab.kernel.invokeFunction('convertToInteractive',\n",
              "                                                    [key], {});\n",
              "        if (!dataTable) return;\n",
              "\n",
              "        const docLinkHtml = 'Like what you see? Visit the ' +\n",
              "          '<a target=\"_blank\" href=https://colab.research.google.com/notebooks/data_table.ipynb>data table notebook</a>'\n",
              "          + ' to learn more about interactive tables.';\n",
              "        element.innerHTML = '';\n",
              "        dataTable['output_type'] = 'display_data';\n",
              "        await google.colab.output.renderOutput(dataTable, element);\n",
              "        const docLink = document.createElement('div');\n",
              "        docLink.innerHTML = docLinkHtml;\n",
              "        element.appendChild(docLink);\n",
              "      }\n",
              "    </script>\n",
              "  </div>\n",
              "\n",
              "\n",
              "<div id=\"df-47d36390-e538-4be1-97f8-302d72c9caa6\">\n",
              "  <button class=\"colab-df-quickchart\" onclick=\"quickchart('df-47d36390-e538-4be1-97f8-302d72c9caa6')\"\n",
              "            title=\"Suggest charts\"\n",
              "            style=\"display:none;\">\n",
              "\n",
              "<svg xmlns=\"http://www.w3.org/2000/svg\" height=\"24px\"viewBox=\"0 0 24 24\"\n",
              "     width=\"24px\">\n",
              "    <g>\n",
              "        <path d=\"M19 3H5c-1.1 0-2 .9-2 2v14c0 1.1.9 2 2 2h14c1.1 0 2-.9 2-2V5c0-1.1-.9-2-2-2zM9 17H7v-7h2v7zm4 0h-2V7h2v10zm4 0h-2v-4h2v4z\"/>\n",
              "    </g>\n",
              "</svg>\n",
              "  </button>\n",
              "\n",
              "<style>\n",
              "  .colab-df-quickchart {\n",
              "      --bg-color: #E8F0FE;\n",
              "      --fill-color: #1967D2;\n",
              "      --hover-bg-color: #E2EBFA;\n",
              "      --hover-fill-color: #174EA6;\n",
              "      --disabled-fill-color: #AAA;\n",
              "      --disabled-bg-color: #DDD;\n",
              "  }\n",
              "\n",
              "  [theme=dark] .colab-df-quickchart {\n",
              "      --bg-color: #3B4455;\n",
              "      --fill-color: #D2E3FC;\n",
              "      --hover-bg-color: #434B5C;\n",
              "      --hover-fill-color: #FFFFFF;\n",
              "      --disabled-bg-color: #3B4455;\n",
              "      --disabled-fill-color: #666;\n",
              "  }\n",
              "\n",
              "  .colab-df-quickchart {\n",
              "    background-color: var(--bg-color);\n",
              "    border: none;\n",
              "    border-radius: 50%;\n",
              "    cursor: pointer;\n",
              "    display: none;\n",
              "    fill: var(--fill-color);\n",
              "    height: 32px;\n",
              "    padding: 0;\n",
              "    width: 32px;\n",
              "  }\n",
              "\n",
              "  .colab-df-quickchart:hover {\n",
              "    background-color: var(--hover-bg-color);\n",
              "    box-shadow: 0 1px 2px rgba(60, 64, 67, 0.3), 0 1px 3px 1px rgba(60, 64, 67, 0.15);\n",
              "    fill: var(--button-hover-fill-color);\n",
              "  }\n",
              "\n",
              "  .colab-df-quickchart-complete:disabled,\n",
              "  .colab-df-quickchart-complete:disabled:hover {\n",
              "    background-color: var(--disabled-bg-color);\n",
              "    fill: var(--disabled-fill-color);\n",
              "    box-shadow: none;\n",
              "  }\n",
              "\n",
              "  .colab-df-spinner {\n",
              "    border: 2px solid var(--fill-color);\n",
              "    border-color: transparent;\n",
              "    border-bottom-color: var(--fill-color);\n",
              "    animation:\n",
              "      spin 1s steps(1) infinite;\n",
              "  }\n",
              "\n",
              "  @keyframes spin {\n",
              "    0% {\n",
              "      border-color: transparent;\n",
              "      border-bottom-color: var(--fill-color);\n",
              "      border-left-color: var(--fill-color);\n",
              "    }\n",
              "    20% {\n",
              "      border-color: transparent;\n",
              "      border-left-color: var(--fill-color);\n",
              "      border-top-color: var(--fill-color);\n",
              "    }\n",
              "    30% {\n",
              "      border-color: transparent;\n",
              "      border-left-color: var(--fill-color);\n",
              "      border-top-color: var(--fill-color);\n",
              "      border-right-color: var(--fill-color);\n",
              "    }\n",
              "    40% {\n",
              "      border-color: transparent;\n",
              "      border-right-color: var(--fill-color);\n",
              "      border-top-color: var(--fill-color);\n",
              "    }\n",
              "    60% {\n",
              "      border-color: transparent;\n",
              "      border-right-color: var(--fill-color);\n",
              "    }\n",
              "    80% {\n",
              "      border-color: transparent;\n",
              "      border-right-color: var(--fill-color);\n",
              "      border-bottom-color: var(--fill-color);\n",
              "    }\n",
              "    90% {\n",
              "      border-color: transparent;\n",
              "      border-bottom-color: var(--fill-color);\n",
              "    }\n",
              "  }\n",
              "</style>\n",
              "\n",
              "  <script>\n",
              "    async function quickchart(key) {\n",
              "      const quickchartButtonEl =\n",
              "        document.querySelector('#' + key + ' button');\n",
              "      quickchartButtonEl.disabled = true;  // To prevent multiple clicks.\n",
              "      quickchartButtonEl.classList.add('colab-df-spinner');\n",
              "      try {\n",
              "        const charts = await google.colab.kernel.invokeFunction(\n",
              "            'suggestCharts', [key], {});\n",
              "      } catch (error) {\n",
              "        console.error('Error during call to suggestCharts:', error);\n",
              "      }\n",
              "      quickchartButtonEl.classList.remove('colab-df-spinner');\n",
              "      quickchartButtonEl.classList.add('colab-df-quickchart-complete');\n",
              "    }\n",
              "    (() => {\n",
              "      let quickchartButtonEl =\n",
              "        document.querySelector('#df-47d36390-e538-4be1-97f8-302d72c9caa6 button');\n",
              "      quickchartButtonEl.style.display =\n",
              "        google.colab.kernel.accessAllowed ? 'block' : 'none';\n",
              "    })();\n",
              "  </script>\n",
              "</div>\n",
              "\n",
              "    </div>\n",
              "  </div>\n"
            ]
          },
          "metadata": {},
          "execution_count": 64
        }
      ]
    },
    {
      "source": [
        "from matplotlib import pyplot as plt\n",
        "_df_9['fast_acting_spec'].plot(kind='hist', bins=20, title='fast_acting_spec')\n",
        "plt.gca().spines[['top', 'right',]].set_visible(False)"
      ],
      "cell_type": "code",
      "metadata": {
        "colab": {
          "base_uri": "https://localhost:8080/",
          "height": 452
        },
        "id": "MQZ9iBqOGRwz",
        "outputId": "ff10ce4e-5edc-426e-a2e4-0910413af87e"
      },
      "execution_count": 65,
      "outputs": [
        {
          "output_type": "display_data",
          "data": {
            "text/plain": [
              "<Figure size 640x480 with 1 Axes>"
            ],
            "image/png": "[encoded data removed]"
          },
          "metadata": {}
        }
      ]
    },
    {
      "cell_type": "code",
      "source": [
        "df.shape"
      ],
      "metadata": {
        "colab": {
          "base_uri": "https://localhost:8080/"
        },
        "id": "OGm0QI6qFO3C",
        "outputId": "731c4e03-11a6-48ec-ab84-f13dc5ad3f3a"
      },
      "execution_count": 54,
      "outputs": [
        {
          "output_type": "execute_result",
          "data": {
            "text/plain": [
              "(2632, 38)"
            ]
          },
          "metadata": {},
          "execution_count": 54
        }
      ]
    },
    {
      "cell_type": "markdown",
      "source": [
        "## 2. Safety"
      ],
      "metadata": {
        "id": "-rH6Y9wK_xj3"
      }
    },
    {
      "cell_type": "code",
      "source": [
        "s50=df['safety'].value_counts().head(10)\n",
        "print(s50)"
      ],
      "metadata": {
        "colab": {
          "base_uri": "https://localhost:8080/"
        },
        "id": "G7d9yEm84CCu",
        "outputId": "d45a766d-1505-461b-cee1-0f83cf39323e"
      },
      "execution_count": 26,
      "outputs": [
        {
          "output_type": "stream",
          "name": "stdout",
          "text": [
            "Safety Information Do not use if you have ever had an allergic reaction to this product or any of its ingredients or to an antihistamine containing hydroxyzine. Ask a doctor before use if you have liver or kidney disease. Your doctor should determine if you need a different dose. Ask a doctor or pharmacist before use if you are taking tranquilizers or sedatives. When using this product Drowsiness may occur Avoid alcoholic drinks Alcohol, sedatives, and tranquilizers may increase drowsiness Be careful when driving a motor vehicle or operating machinery Stop use and ask a doctor if an allergic reaction to this product occurs. Seek medical help right away. If pregnant or breast-feeding: If breast-feeding: not recommended If pregnant: ask a health professional before use. Keep out of reach of children. In case of overdose, get medical help or contact a Poison Control Center right away. (1-800-222-1222)                                                                                                                                                                                                                                                                                                                                                                                                                                                                                                                                                                                                                                                                                                                                                                                                                                                                                                                                                                                                                                                                                                                                                                                                                                                                                                                                                                                                                                                                                                                                                                                                                                                                                                                                                                                                                                                                                                                                                                                                                                                                                                                                          9\n",
            "Safety Information See Image Above.                                                                                                                                                                                                                                                                                                                                                                                                                                                                                                                                                                                                                                                                                                                                                                                                                                                                                                                                                                                                                                                                                                                                                                                                                                                                                                                                                                                                                                                                                                                                                                                                                                                                                                                                                                                                                                                                                                                                                                                                                                                                                                                                                                                                                                                                                                                                                                                                                                                                                                                                                                                                                                                                                                                                                                                                                                                                                                                                                                                                                                                      8\n",
            "Safety Information Ask a doctor or pharmacist before use if you are presently taking a prescription drug. Antacids may interact with certain prescription drugs. When using this product, do not take more than 10 tablets in 24 hours. If pregnant do not take more than 6 tablets in 24 hours. Do not use the maximum dosage for more than 2 weeks except under the advice and supervision of a doctor. Keep out of reach of children.                                                                                                                                                                                                                                                                                                                                                                                                                                                                                                                                                                                                                                                                                                                                                                                                                                                                                                                                                                                                                                                                                                                                                                                                                                                                                                                                                                                                                                                                                                                                                                                                                                                                                                                                                                                                                                                                                                                                                                                                                                                                                                                                                                                                                                                                                                                                                                                                                                                                                                                                                                                                                                                 7\n",
            "Safety Information This product is labelled to United States standards and may differ from similar products sold elsewhere in its ingredients, labeling and allergen warnings                                                                                                                                                                                                                                                                                                                                                                                                                                                                                                                                                                                                                                                                                                                                                                                                                                                                                                                                                                                                                                                                                                                                                                                                                                                                                                                                                                                                                                                                                                                                                                                                                                                                                                                                                                                                                                                                                                                                                                                                                                                                                                                                                                                                                                                                                                                                                                                                                                                                                                                                                                                                                                                                                                                                                                                                                                                                                                            6\n",
            "Safety Information Allergy alert: Ibuprofen may cause a severe allergic reaction, especially in people allergic to aspirin. Symptoms may include: hives facial swelling asthma (wheezing) shock skin reddening rash blisters If an allergic reaction occurs, stop use and seek medical help right away. Stomach bleeding warning: This product contains an NSAID, which may cause severe stomach bleeding. The chance is higher if you are age 60 or older have had stomach ulcers or bleeding problems take a blood thinning (anticoagulant) or steroid drug take other drugs containing prescription or nonprescription NSAIDs [aspirin, ibuprofen, naproxen, or others] have 3 or more alcoholic drinks every day while using this product take more or for a longer time than directed. Heart attack and stroke warning: NSAIDs, except aspirin, increase the risk of heart attack, heart failure, and stroke. These can be be fatal. The risk is higher if you use more than directed or for longer than directed. Do not use if you have ever had an allergic reaction to any other pain reliever/fever reducer; right before or after heart surgery. Ask a doctor before use if stomach bleeding warning applies to you; you have problems or serious side effects from taking pain relievers or fever reducers; you have a history of stomach problems, such as heartburn; you have high blood pressure, heart disease, liver cirrhosis, kidney disease, asthma, or had a stroke; you are taking a diuretic. Ask a doctor or pharmacist before use if you are under a doctor's care for any serious condition; taking aspirin for heart attack or stroke, because ibuprofen may decrease this benefit of aspirin; taking any other drug. When using this product take with food or milk if stomach upset occurs. Stop use and ask a doctor if you experience any of the following signs of stomach bleeding: you have symptoms of heart problems or stroke: chest pain, trouble breathing, weakness in one part or side of body, slurred speech, leg swelling, pain gets worse or lasts more than 10 days, fever gets worse or lasts more than 3 days, redness or swelling is present in the painful area, any new symptoms appear. If pregnant or breast-feeding, ask a health professional before use. It is especially important not to use ibuprofen at 20 weeks or later in pregnancy unless definitely directed to do so by a doctor because it may cause problems in the unborn child or complications during delivery. Keep out of reach of children. In case of overdose, get medical help or contact a Poison Control Center right away. We at Bionpharma are very sensitive to the fact that many consumers consume our products and we want to ensure that these products are safe and effective. If you have any questions on the product, or want to report an adverse event or any concerns regarding the product quality, please call 1-888-235-2466 or send an email to drugsafety@bionpharma.com. A representative will contact you within 2 business days.    6\n",
            "Safety Information Warnings: Do not use: for children under 12 years of age. Ask a doctor before use if you have persistent or chronic cough such as occurs with smoking, asthma, chronic bronchitis, or emphysema; cough accompanied by too much phlegm (mucus). Stop use and ask a doctor if: cough lasts more than 7 days, comes back, or occurs with fever, rash, or persistent headache (These could be signs of a serious illness). Pregnancy/breast-feeding warning: If pregnant or breast-feeding, ask a health professional before use. Keep out of reach of children. In case of overdose, get medical help or contact a Poison Control Center right away. Other warnings: Tamper Evident: Do not use if carton is open or if printed seal on blister is broken or missing.                                                                                                                                                                                                                                                                                                                                                                                                                                                                                                                                                                                                                                                                                                                                                                                                                                                                                                                                                                                                                                                                                                                                                                                                                                                                                                                                                                                                                                                                                                                                                                                                                                                                                                                                                                                                                                                                                                                                                                                                                                                                                                                                                                                                                                                                                                    5\n",
            "Safety Information Liver warning: This product contains acetaminophen. Severe liver damage may occur if you take More than 4,000 mg of acetaminophen in 24 hours With other drugs containing acetaminophen 3 or more alcoholic drinks every day while using this product                                                                                                                                                                                                                                                                                                                                                                                                                                                                                                                                                                                                                                                                                                                                                                                                                                                                                                                                                                                                                                                                                                                                                                                                                                                                                                                                                                                                                                                                                                                                                                                                                                                                                                                                                                                                                                                                                                                                                                                                                                                                                                                                                                                                                                                                                                                                                                                                                                                                                                                                                                                                                                                                                                                                                                                                                 5\n",
            "Safety Information Do not use with other acid reducers. Ask a doctor or pharmacist before use if you take any prescription drug, non-steroidal anti-inflammatory drugs (NSAIDs) and calcium carbonate. If pregnant or breastfeeding: Ask a doctor. Keep out of reach of children. In case of overdose, call a Poison Control Centre or get medical help right away.                                                                                                                                                                                                                                                                                                                                                                                                                                                                                                                                                                                                                                                                                                                                                                                                                                                                                                                                                                                                                                                                                                                                                                                                                                                                                                                                                                                                                                                                                                                                                                                                                                                                                                                                                                                                                                                                                                                                                                                                                                                                                                                                                                                                                                                                                                                                                                                                                                                                                                                                                                                                                                                                                                                      4\n",
            "Safety Information Allergy alert: Do not use if you are allergic to esomeprazole. Do not use if you have trouble or pain swallowing food, vomiting with blood, or bloody or black stools, heartburn with lightheadedness, sweating or dizziness, chest pain or shoulder pain with shortness of breath; sweating; pain spreading to arms, neck or shoulder; or lightheadedness, or frequent chest pain. These may be signs of a serious condition. See your doctor. Ask a doctor before use if you have had heartburn over 3 months. This may be a sign of a more serious condition. Ask a doctor before use if you have frequent wheezing, particularly with heartburn, unexplained weight loss, nausea or vomiting, or stomach pain. Ask a doctor or pharmacist before use if you are taking a prescription drug. Acid reducers may interact with certain prescription drugs. Stop use and ask a doctor if your heartburn continues or worsens, you need to take this product for more than 14 days, you need to take more than 1 course of treatment every 4 months, you get diarrhea, or you develop a rash or joint pain. If pregnant or breast-feeding, ask a health professional before use. **Keep out of reach of children.** In case of overdose, get medical help or contact a Poison Control Center right away.                                                                                                                                                                                                                                                                                                                                                                                                                                                                                                                                                                                                                                                                                                                                                                                                                                                                                                                                                                                                                                                                                                                                                                                                                                                                                                                                                                                                                                                                                                                                                                                                                                                                                                                                                               4\n",
            "Safety Information Keep out of reach of children. In case of overdose, get medical help or contact Poison Control center immediately (1-800-222-1222).                                                                                                                                                                                                                                                                                                                                                                                                                                                                                                                                                                                                                                                                                                                                                                                                                                                                                                                                                                                                                                                                                                                                                                                                                                                                                                                                                                                                                                                                                                                                                                                                                                                                                                                                                                                                                                                                                                                                                                                                                                                                                                                                                                                                                                                                                                                                                                                                                                                                                                                                                                                                                                                                                                                                                                                                                                                                                                                                   4\n",
            "Name: safety, dtype: int64\n"
          ]
        }
      ]
    },
    {
      "cell_type": "code",
      "source": [
        "df[\"safety\"] = df[\"safety\"].str.lower()\n",
        "words = df[\"safety\"].str.split().explode()\n",
        "# Filter out stopwords\n",
        "filtered_words = words[~words.isin(stop_words)]\n",
        "# Count the frequency of each word\n",
        "word_freq = filtered_words.value_counts().head(40)\n",
        "print(word_freq)"
      ],
      "metadata": {
        "colab": {
          "base_uri": "https://localhost:8080/"
        },
        "id": "ngGXpBkS_6a-",
        "outputId": "70e1bb06-43ff-48f4-e418-8ca307440475"
      },
      "execution_count": 27,
      "outputs": [
        {
          "output_type": "stream",
          "name": "stdout",
          "text": [
            "use              2123\n",
            "ask              1719\n",
            "doctor           1675\n",
            "may              1425\n",
            "product           889\n",
            "taking            848\n",
            "medical           815\n",
            "safety            741\n",
            "information       731\n",
            "•                 717\n",
            "right             684\n",
            "get               629\n",
            "symptoms          627\n",
            "pain              625\n",
            "stomach           621\n",
            "help              621\n",
            "allergic          617\n",
            "stop              558\n",
            "drug              540\n",
            "liver             539\n",
            "using             537\n",
            "severe            523\n",
            "warning:          522\n",
            "3                 518\n",
            "contains          505\n",
            "reach             503\n",
            "children.         500\n",
            "away.             496\n",
            "keep              496\n",
            "take              495\n",
            "prescription      476\n",
            "serious           460\n",
            "heart             459\n",
            "lasts             452\n",
            "acetaminophen     445\n",
            "reaction          445\n",
            "pregnant          444\n",
            "pharmacist        442\n",
            "contact           441\n",
            "skin              439\n",
            "Name: safety, dtype: int64\n"
          ]
        }
      ]
    },
    {
      "cell_type": "code",
      "source": [
        "df['special_feature'].value_counts()"
      ],
      "metadata": {
        "colab": {
          "base_uri": "https://localhost:8080/"
        },
        "id": "ci65_7k82N51",
        "outputId": "8dafe0b4-a07f-4fe9-c987-9b2f8225a2c7"
      },
      "execution_count": 10,
      "outputs": [
        {
          "output_type": "execute_result",
          "data": {
            "text/plain": [
              "Non Drowsy                                                      161\n",
              "Fast-Acting                                                     141\n",
              "Fast Acting                                                     115\n",
              "Targeted                                                        100\n",
              "Long Lasting                                                     81\n",
              "                                                               ... \n",
              "Long-Lasting, Fast-Acting, Mucus Relief, Quick And Effective      1\n",
              "Undiluted, Pure                                                   1\n",
              "Quick-dissolving                                                  1\n",
              "Homeopathic Echinacea 3X                                          1\n",
              "Concentrated                                                      1\n",
              "Name: special_feature, Length: 164, dtype: int64"
            ]
          },
          "metadata": {},
          "execution_count": 10
        }
      ]
    },
    {
      "cell_type": "markdown",
      "source": [],
      "metadata": {
        "id": "cmDGQvC23tPt"
      }
    }
  ]
}