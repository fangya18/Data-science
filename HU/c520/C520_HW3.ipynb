{
 "cells": [
  {
   "cell_type": "markdown",
   "metadata": {},
   "source": [
    "### Cisc 520 Hw 3\n",
    "\n",
    "#### Part 1\n",
    "Consider the following sets:\n",
    "A={1,2,3,4,5}\n",
    "B={a,b,c,1,2,3}\n",
    "C={1，3，4，5}\n",
    "Alongise the set of integers and the set of positive integers, Calculate the following:"
   ]
  },
  {
   "cell_type": "code",
   "execution_count": 38,
   "metadata": {},
   "outputs": [
    {
     "name": "stdout",
     "output_type": "stream",
     "text": [
      "[1, 2, 3]\n"
     ]
    }
   ],
   "source": [
    "#1. B intersect A\n",
    "def intersection (A, B):\n",
    "    return list(set(A) & set(B))\n",
    "\n",
    "A=[1,2,3,4,5]\n",
    "B=[\"a\",\"b\",\"c\",1,2,3]\n",
    "print(intersection(A,B))"
   ]
  },
  {
   "cell_type": "code",
   "execution_count": 39,
   "metadata": {},
   "outputs": [
    {
     "name": "stdout",
     "output_type": "stream",
     "text": [
      "['a', 'b', 'c']\n"
     ]
    }
   ],
   "source": [
    "#2 B-Z \n",
    "B_not_Z=[\"a\",\"b\",\"c\"]\n",
    "print(B_not_Z)"
   ]
  },
  {
   "cell_type": "code",
   "execution_count": 40,
   "metadata": {},
   "outputs": [
    {
     "name": "stdout",
     "output_type": "stream",
     "text": [
      "[1, 2, 3, 4, 5]\n"
     ]
    }
   ],
   "source": [
    "#3. A union C\n",
    "def union (A, C):\n",
    "    return list(set(A) or set(C))\n",
    "A=[1,2,3,4,5]\n",
    "C=[1,3,4,5]\n",
    "print(union(A,C))"
   ]
  },
  {
   "cell_type": "code",
   "execution_count": 41,
   "metadata": {},
   "outputs": [
    {
     "data": {
      "text/plain": [
       "5"
      ]
     },
     "execution_count": 41,
     "metadata": {},
     "output_type": "execute_result"
    }
   ],
   "source": [
    "#4. |A|\n",
    "len(A)"
   ]
  },
  {
   "cell_type": "code",
   "execution_count": 4,
   "metadata": {},
   "outputs": [
    {
     "name": "stdout",
     "output_type": "stream",
     "text": [
      "[1, 3, 4, 5]\n"
     ]
    }
   ],
   "source": [
    "#5. C in A\n",
    "#def Sub (C,A):\n",
    "#    return list(set(C) in set(A))\n",
    "A=[1,2,3,4,5]\n",
    "C=[1,3,4,5]\n",
    "\n",
    "print(C)"
   ]
  },
  {
   "cell_type": "markdown",
   "metadata": {},
   "source": [
    "#### Part 2\n",
    "S= {x|x in Z and even(x)}\n",
    "\n",
    "S={2x|x in Z}\n"
   ]
  },
  {
   "cell_type": "markdown",
   "metadata": {},
   "source": [
    "##### 1 . describe why it is that these two expressions result in the same set?\n",
    "First expression represents all the even integers\n",
    "Second expression pick all the integers and multiply by 2, resulting even integers."
   ]
  },
  {
   "cell_type": "markdown",
   "metadata": {},
   "source": [
    "##### 2. Create a similar pair of expressions for the set of all odd integers\n",
    "\n",
    "S= {x|x in Z and odd(x)}\n",
    "\n",
    "S={2x+1|x in Z}\n",
    "\n",
    "##### 3. Use the set builder notation to express the set of all perfect squares\n",
    "\n",
    "P={x^2| x in Z}\n",
    "\n",
    "##### 4. Compare the cardinalities within the sets that you defined in the aove parts and the set of integers Z. Which sets have more elements? Or do they all have the same cardinality?\n",
    "\n",
    "The set of Even integers, Odd integers, integers and perfect squares have same cardinalities, because the cardinality is Infinity\n",
    "\n",
    "##### Part 3. Relational Algebra"
   ]
  },
  {
   "cell_type": "code",
   "execution_count": 35,
   "metadata": {},
   "outputs": [
    {
     "data": {
      "text/html": [
       "<div>\n",
       "<style>\n",
       "    .dataframe thead tr:only-child th {\n",
       "        text-align: right;\n",
       "    }\n",
       "\n",
       "    .dataframe thead th {\n",
       "        text-align: left;\n",
       "    }\n",
       "\n",
       "    .dataframe tbody tr th {\n",
       "        vertical-align: top;\n",
       "    }\n",
       "</style>\n",
       "<table border=\"1\" class=\"dataframe\">\n",
       "  <thead>\n",
       "    <tr style=\"text-align: right;\">\n",
       "      <th></th>\n",
       "      <th>Invoice_Customer</th>\n",
       "      <th>Invoice_Date</th>\n",
       "      <th>Invoice_id</th>\n",
       "    </tr>\n",
       "  </thead>\n",
       "  <tbody>\n",
       "    <tr>\n",
       "      <th>0</th>\n",
       "      <td>WalMart</td>\n",
       "      <td>1/15/2017</td>\n",
       "      <td>1</td>\n",
       "    </tr>\n",
       "    <tr>\n",
       "      <th>1</th>\n",
       "      <td>Target</td>\n",
       "      <td>2/6/2017</td>\n",
       "      <td>2</td>\n",
       "    </tr>\n",
       "  </tbody>\n",
       "</table>\n",
       "</div>"
      ],
      "text/plain": [
       "  Invoice_Customer Invoice_Date  Invoice_id\n",
       "0          WalMart    1/15/2017           1\n",
       "1           Target     2/6/2017           2"
      ]
     },
     "execution_count": 35,
     "metadata": {},
     "output_type": "execute_result"
    }
   ],
   "source": [
    "import numpy as np\n",
    "import pandas as pd\n",
    "dr={\"Invoice_id\" :[1,2], \"Invoice_Customer\":[\"WalMart\",\"Target\"],\"Invoice_Date\":[\"1/15/2017\",\"2/6/2017\"]}\n",
    "R=pd.DataFrame(data=dr)\n",
    "R\n",
    "\n"
   ]
  },
  {
   "cell_type": "code",
   "execution_count": 36,
   "metadata": {},
   "outputs": [
    {
     "data": {
      "text/html": [
       "<div>\n",
       "<style>\n",
       "    .dataframe thead tr:only-child th {\n",
       "        text-align: right;\n",
       "    }\n",
       "\n",
       "    .dataframe thead th {\n",
       "        text-align: left;\n",
       "    }\n",
       "\n",
       "    .dataframe tbody tr th {\n",
       "        vertical-align: top;\n",
       "    }\n",
       "</style>\n",
       "<table border=\"1\" class=\"dataframe\">\n",
       "  <thead>\n",
       "    <tr style=\"text-align: right;\">\n",
       "      <th></th>\n",
       "      <th>ID</th>\n",
       "      <th>Invoice_line_item_id</th>\n",
       "      <th>Product_ID</th>\n",
       "      <th>Quantity</th>\n",
       "    </tr>\n",
       "  </thead>\n",
       "  <tbody>\n",
       "    <tr>\n",
       "      <th>0</th>\n",
       "      <td>1</td>\n",
       "      <td>1</td>\n",
       "      <td>14</td>\n",
       "      <td>1</td>\n",
       "    </tr>\n",
       "    <tr>\n",
       "      <th>1</th>\n",
       "      <td>1</td>\n",
       "      <td>2</td>\n",
       "      <td>15</td>\n",
       "      <td>3</td>\n",
       "    </tr>\n",
       "    <tr>\n",
       "      <th>2</th>\n",
       "      <td>1</td>\n",
       "      <td>3</td>\n",
       "      <td>12</td>\n",
       "      <td>2</td>\n",
       "    </tr>\n",
       "    <tr>\n",
       "      <th>3</th>\n",
       "      <td>2</td>\n",
       "      <td>1</td>\n",
       "      <td>15</td>\n",
       "      <td>1</td>\n",
       "    </tr>\n",
       "    <tr>\n",
       "      <th>4</th>\n",
       "      <td>3</td>\n",
       "      <td>1</td>\n",
       "      <td>1</td>\n",
       "      <td>3</td>\n",
       "    </tr>\n",
       "  </tbody>\n",
       "</table>\n",
       "</div>"
      ],
      "text/plain": [
       "   ID  Invoice_line_item_id  Product_ID  Quantity\n",
       "0   1                     1          14         1\n",
       "1   1                     2          15         3\n",
       "2   1                     3          12         2\n",
       "3   2                     1          15         1\n",
       "4   3                     1           1         3"
      ]
     },
     "execution_count": 36,
     "metadata": {},
     "output_type": "execute_result"
    }
   ],
   "source": [
    "dq={\"Invoice_line_item_id\" :[1,2,3,1,1], \"Product_ID\":[14,15,12,15,1],\"Quantity\":[1,3,2,1,3],\"ID\":[1,1,1,2,3]}\n",
    "Q=pd.DataFrame(data=dq)\n",
    "Q"
   ]
  },
  {
   "cell_type": "markdown",
   "metadata": {},
   "source": [
    "##### 1. Provide the results of the following relational algebra operations\n",
    "\n",
    "1. $\\Pi_{ID,ProductID}$(Q)\n",
    "2. $R \\bowtie Q$\n",
    "3. $\\sigma_{ID}= _{1}(Q)$\n",
    "4. $\\rho_{invoicecustomer/Customer}(R)$\n",
    "5. $R \\cup Q$"
   ]
  },
  {
   "cell_type": "code",
   "execution_count": 45,
   "metadata": {},
   "outputs": [
    {
     "data": {
      "text/html": [
       "<div>\n",
       "<style>\n",
       "    .dataframe thead tr:only-child th {\n",
       "        text-align: right;\n",
       "    }\n",
       "\n",
       "    .dataframe thead th {\n",
       "        text-align: left;\n",
       "    }\n",
       "\n",
       "    .dataframe tbody tr th {\n",
       "        vertical-align: top;\n",
       "    }\n",
       "</style>\n",
       "<table border=\"1\" class=\"dataframe\">\n",
       "  <thead>\n",
       "    <tr style=\"text-align: right;\">\n",
       "      <th></th>\n",
       "      <th>ID</th>\n",
       "      <th>Product_ID</th>\n",
       "    </tr>\n",
       "  </thead>\n",
       "  <tbody>\n",
       "    <tr>\n",
       "      <th>0</th>\n",
       "      <td>1</td>\n",
       "      <td>14</td>\n",
       "    </tr>\n",
       "    <tr>\n",
       "      <th>1</th>\n",
       "      <td>1</td>\n",
       "      <td>15</td>\n",
       "    </tr>\n",
       "    <tr>\n",
       "      <th>2</th>\n",
       "      <td>1</td>\n",
       "      <td>12</td>\n",
       "    </tr>\n",
       "    <tr>\n",
       "      <th>3</th>\n",
       "      <td>2</td>\n",
       "      <td>15</td>\n",
       "    </tr>\n",
       "    <tr>\n",
       "      <th>4</th>\n",
       "      <td>3</td>\n",
       "      <td>1</td>\n",
       "    </tr>\n",
       "  </tbody>\n",
       "</table>\n",
       "</div>"
      ],
      "text/plain": [
       "   ID  Product_ID\n",
       "0   1          14\n",
       "1   1          15\n",
       "2   1          12\n",
       "3   2          15\n",
       "4   3           1"
      ]
     },
     "execution_count": 45,
     "metadata": {},
     "output_type": "execute_result"
    }
   ],
   "source": [
    "#1. \n",
    "dq1={ \"Product_ID\":[14,15,12,15,1],\"ID\":[1,1,1,2,3]}\n",
    "Q1=pd.DataFrame(data=dq1)\n",
    "Q1\n",
    "\n",
    "#2. It is an empty set. because no variable to connect R and Q\n"
   ]
  },
  {
   "cell_type": "code",
   "execution_count": 46,
   "metadata": {},
   "outputs": [
    {
     "data": {
      "text/html": [
       "<div>\n",
       "<style>\n",
       "    .dataframe thead tr:only-child th {\n",
       "        text-align: right;\n",
       "    }\n",
       "\n",
       "    .dataframe thead th {\n",
       "        text-align: left;\n",
       "    }\n",
       "\n",
       "    .dataframe tbody tr th {\n",
       "        vertical-align: top;\n",
       "    }\n",
       "</style>\n",
       "<table border=\"1\" class=\"dataframe\">\n",
       "  <thead>\n",
       "    <tr style=\"text-align: right;\">\n",
       "      <th></th>\n",
       "      <th>ID</th>\n",
       "      <th>Invoice_line_item_id</th>\n",
       "      <th>Product_ID</th>\n",
       "      <th>Quantity</th>\n",
       "    </tr>\n",
       "  </thead>\n",
       "  <tbody>\n",
       "    <tr>\n",
       "      <th>0</th>\n",
       "      <td>1</td>\n",
       "      <td>1</td>\n",
       "      <td>14</td>\n",
       "      <td>1</td>\n",
       "    </tr>\n",
       "    <tr>\n",
       "      <th>1</th>\n",
       "      <td>1</td>\n",
       "      <td>2</td>\n",
       "      <td>15</td>\n",
       "      <td>3</td>\n",
       "    </tr>\n",
       "    <tr>\n",
       "      <th>2</th>\n",
       "      <td>1</td>\n",
       "      <td>3</td>\n",
       "      <td>12</td>\n",
       "      <td>2</td>\n",
       "    </tr>\n",
       "  </tbody>\n",
       "</table>\n",
       "</div>"
      ],
      "text/plain": [
       "   ID  Invoice_line_item_id  Product_ID  Quantity\n",
       "0   1                     1          14         1\n",
       "1   1                     2          15         3\n",
       "2   1                     3          12         2"
      ]
     },
     "execution_count": 46,
     "metadata": {},
     "output_type": "execute_result"
    }
   ],
   "source": [
    "#3.\n",
    "dq3={\"Invoice_line_item_id\" :[1,2,3], \"Product_ID\":[14,15,12],\"Quantity\":[1,3,2],\"ID\":[1,1,1]}\n",
    "Q3=pd.DataFrame(data=dq3)\n",
    "Q3"
   ]
  },
  {
   "cell_type": "code",
   "execution_count": 47,
   "metadata": {},
   "outputs": [
    {
     "data": {
      "text/html": [
       "<div>\n",
       "<style>\n",
       "    .dataframe thead tr:only-child th {\n",
       "        text-align: right;\n",
       "    }\n",
       "\n",
       "    .dataframe thead th {\n",
       "        text-align: left;\n",
       "    }\n",
       "\n",
       "    .dataframe tbody tr th {\n",
       "        vertical-align: top;\n",
       "    }\n",
       "</style>\n",
       "<table border=\"1\" class=\"dataframe\">\n",
       "  <thead>\n",
       "    <tr style=\"text-align: right;\">\n",
       "      <th></th>\n",
       "      <th>Customer</th>\n",
       "      <th>Invoice_Date</th>\n",
       "      <th>Invoice_id</th>\n",
       "    </tr>\n",
       "  </thead>\n",
       "  <tbody>\n",
       "    <tr>\n",
       "      <th>0</th>\n",
       "      <td>WalMart</td>\n",
       "      <td>1/15/2017</td>\n",
       "      <td>1</td>\n",
       "    </tr>\n",
       "    <tr>\n",
       "      <th>1</th>\n",
       "      <td>Target</td>\n",
       "      <td>2/6/2017</td>\n",
       "      <td>2</td>\n",
       "    </tr>\n",
       "  </tbody>\n",
       "</table>\n",
       "</div>"
      ],
      "text/plain": [
       "  Customer Invoice_Date  Invoice_id\n",
       "0  WalMart    1/15/2017           1\n",
       "1   Target     2/6/2017           2"
      ]
     },
     "execution_count": 47,
     "metadata": {},
     "output_type": "execute_result"
    }
   ],
   "source": [
    "#4.\n",
    "dr4={\"Invoice_id\" :[1,2], \"Customer\":[\"WalMart\",\"Target\"],\"Invoice_Date\":[\"1/15/2017\",\"2/6/2017\"]}\n",
    "R4=pd.DataFrame(data=dr4)\n",
    "R4\n",
    "\n",
    "#5. Empty set, because no common variable"
   ]
  },
  {
   "cell_type": "markdown",
   "metadata": {},
   "source": [
    "##### 2. Using relational algebra express the following\n",
    "\n",
    "1. Retrieve the Product_IDs and Quantities for all line items on an invoice associated with WalMart\n",
    "\n",
    "Answer: $\\Pi_{Quantities,ProductID}$=$_{Walmart}$(Q)\n",
    "\n",
    "2. Retrieve all line items associated with Target\n",
    "\n",
    "Answer: $\\sigma_{InoviceCustomer}=_{Target} (R)$\n",
    "\n",
    "3. Retrieve all line items from  Q not associated with an invoice in R.\n",
    "\n",
    "Answer: $Q \\bowtie_{QinvoiceLineID\\neq RInvoiceID}(R)$"
   ]
  },
  {
   "cell_type": "markdown",
   "metadata": {},
   "source": [
    "###### 3. Discuss the difference between the relational cartesian product, and the standard cartesian product for sets. How do they differ? Provide an example.\n",
    "\n",
    "Answer: Relational cartesian products are simply set the elements of two sets together. Standard cartersian product need to pair up evey elements in two sets.\n",
    "\n",
    "R= {1，2}\n",
    "S={(a,1), (b,1) }\n",
    "\n",
    "$ R \\bowtie S$ :\n",
    "{(1,a,1), (2,b,1)}\n",
    "\n",
    "$ R \\times S$ :\n",
    "{(1,(a,1)),(2,(a,1) ), (1,(b,1)), (2,(b,1))}\n"
   ]
  },
  {
   "cell_type": "code",
   "execution_count": null,
   "metadata": {
    "collapsed": true
   },
   "outputs": [],
   "source": []
  }
 ],
 "metadata": {
  "kernelspec": {
   "display_name": "Python 3",
   "language": "python",
   "name": "python3"
  },
  "language_info": {
   "codemirror_mode": {
    "name": "ipython",
    "version": 3
   },
   "file_extension": ".py",
   "mimetype": "text/x-python",
   "name": "python",
   "nbconvert_exporter": "python",
   "pygments_lexer": "ipython3",
   "version": "3.6.3"
  }
 },
 "nbformat": 4,
 "nbformat_minor": 2
}
