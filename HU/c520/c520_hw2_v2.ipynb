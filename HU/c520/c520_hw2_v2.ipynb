{
 "cells": [
  {
   "cell_type": "markdown",
   "metadata": {},
   "source": [
    "# C520 hw2\n",
    "\n",
    "## Part1\n",
    "\n",
    "### 1. consider  X=3*x1*x2- x3+4*x4 +x5*x1 +3*x6 +x7*x8*x1 apply backward selection"
   ]
  },
  {
   "cell_type": "code",
   "execution_count": 1,
   "metadata": {},
   "outputs": [
    {
     "name": "stdout",
     "output_type": "stream",
     "text": [
      "11\n",
      "6\n",
      "8\n",
      "12\n",
      "7\n",
      "10\n",
      "8\n",
      "10\n",
      "10\n"
     ]
    }
   ],
   "source": [
    "import pandas\n",
    "\n",
    "#step 1. Y= all , J(Y)=11\n",
    "def f(x1,x2,x3,x4,x5,x6,x7,x8):\n",
    "    return 3*x1*x2- x3+4*x4 +x5*x1 +3*x6 +x7*x8*x1\n",
    "\n",
    "print(f(1,1,1,1,1,1,1,1))\n",
    "print(f(0,1,1,1,1,1,1,1))\n",
    "print(f(1,0,1,1,1,1,1,1))\n",
    "print(f(1,1,0,1,1,1,1,1))\n",
    "print(f(1,1,1,0,1,1,1,1))\n",
    "print(f(1,1,1,1,0,1,1,1))\n",
    "print(f(1,1,1,1,1,0,1,1))\n",
    "print(f(1,1,1,1,1,1,0,1))\n",
    "print(f(1,1,1,1,1,1,1,0))\n",
    "\n"
   ]
  },
  {
   "cell_type": "markdown",
   "metadata": {},
   "source": [
    "step 2, remove x3, because it has the highest value. f(x3)=12"
   ]
  },
  {
   "cell_type": "code",
   "execution_count": 12,
   "metadata": {},
   "outputs": [
    {
     "name": "stdout",
     "output_type": "stream",
     "text": [
      "7\n",
      "9\n",
      "8\n",
      "11\n",
      "9\n",
      "11\n",
      "11\n"
     ]
    }
   ],
   "source": [
    "\n",
    "def f1(x1,x2,x4,x5,x6,x7,x8):\n",
    "    return 3*x1*x2 +4*x4 +x5*x1 +3*x6 +x7*x8*x1\n",
    "\n",
    "print(f1(0,1,1,1,1,1,1))\n",
    "print(f1(1,0,1,1,1,1,1))\n",
    "print(f1(1,1,0,1,1,1,1))\n",
    "print(f1(1,1,1,0,1,1,1))\n",
    "print(f1(1,1,1,1,0,1,1))\n",
    "print(f1(1,1,1,1,1,0,1))\n",
    "print(f1(1,1,1,1,1,1,0))"
   ]
  },
  {
   "cell_type": "markdown",
   "metadata": {},
   "source": [
    "step 3, remove x5,x7 or x8, because it has the highest value, i pick to remove f(x5)=11"
   ]
  },
  {
   "cell_type": "code",
   "execution_count": 13,
   "metadata": {},
   "outputs": [
    {
     "name": "stdout",
     "output_type": "stream",
     "text": [
      "7\n",
      "8\n",
      "7\n",
      "8\n",
      "10\n",
      "10\n"
     ]
    }
   ],
   "source": [
    "\n",
    "def f2(x1,x2,x4,x6,x7,x8):\n",
    "    return 3*x1*x2 +4*x4 +3*x6 +x7*x8*x1\n",
    "\n",
    "print(f2(0,1,1,1,1,1))\n",
    "print(f2(1,0,1,1,1,1))\n",
    "print(f2(1,1,0,1,1,1))\n",
    "print(f2(1,1,1,0,1,1))\n",
    "print(f2(1,1,1,1,0,1))\n",
    "print(f2(1,1,1,1,1,0))"
   ]
  },
  {
   "cell_type": "code",
   "execution_count": 14,
   "metadata": {},
   "outputs": [
    {
     "name": "stdout",
     "output_type": "stream",
     "text": [
      "7\n",
      "7\n",
      "6\n",
      "7\n",
      "10\n"
     ]
    }
   ],
   "source": [
    "#step 3, remove x7 or x8, because it has impact on the function\n",
    "def f3(x1,x2,x4,x6,x8):\n",
    "    return 3*x1*x2 +4*x4 +3*x6 \n",
    "\n",
    "print(f3(0,1,1,1,1))\n",
    "print(f3(1,0,1,1,1))\n",
    "print(f3(1,1,0,1,1))\n",
    "print(f3(1,1,1,0,1))\n",
    "print(f3(1,1,1,1,0))\n",
    "\n"
   ]
  },
  {
   "cell_type": "code",
   "execution_count": 15,
   "metadata": {},
   "outputs": [
    {
     "name": "stdout",
     "output_type": "stream",
     "text": [
      "7\n",
      "7\n",
      "6\n",
      "7\n"
     ]
    }
   ],
   "source": [
    "#step 4, remove x8. \n",
    "def f4(x1,x2,x4,x6):\n",
    "    return 3*x1*x2 +4*x4 +3*x6 \n",
    "\n",
    "print(f4(0,1,1,1))\n",
    "print(f4(1,0,1,1))\n",
    "print(f4(1,1,0,1))\n",
    "print(f4(1,1,1,0))\n"
   ]
  },
  {
   "cell_type": "code",
   "execution_count": 16,
   "metadata": {},
   "outputs": [
    {
     "name": "stdout",
     "output_type": "stream",
     "text": [
      "7\n",
      "3\n",
      "4\n"
     ]
    }
   ],
   "source": [
    "#step 5, remove x1,x2 or x6.  I pick remove x1\n",
    "def f5(x2,x4,x6):\n",
    "    return 4*x4 +3*x6 \n",
    "\n",
    "print(f5(0,1,1))\n",
    "print(f5(1,0,1))\n",
    "print(f5(1,1,0))\n"
   ]
  },
  {
   "cell_type": "code",
   "execution_count": 10,
   "metadata": {},
   "outputs": [
    {
     "name": "stdout",
     "output_type": "stream",
     "text": [
      "3\n",
      "4\n"
     ]
    }
   ],
   "source": [
    "#step 6, remove x2.\n",
    "def f6(x4,x6):\n",
    "    return 4*x4 +3*x6 \n",
    "\n",
    "print(f6(0,1))\n",
    "print(f6(1,0))\n"
   ]
  },
  {
   "cell_type": "code",
   "execution_count": 11,
   "metadata": {},
   "outputs": [
    {
     "name": "stdout",
     "output_type": "stream",
     "text": [
      "0\n"
     ]
    }
   ],
   "source": [
    "#step 7, remove x6.\n",
    "def f7(x4):\n",
    "    return 4*x4 \n",
    "\n",
    "print(f7(0))\n",
    "\n",
    "#step 8, remove x4"
   ]
  },
  {
   "cell_type": "markdown",
   "metadata": {
    "collapsed": true
   },
   "source": [
    "### 2. Discuss which approach (SBS vs. SFS) is better for this particular situation.  State both which one, if any you would prefer and give a survey of the reasons why\n",
    "\n",
    "I think Forward selection is better for this particular dataset.\n",
    "because forward works best when the cardinality of Y is small\n",
    "\n",
    "### 3. Greedy optimization techniques are commonly used in computer science. Why do you think that is? Based on our discussion thus far, what are the advantages/disadvantages of greedy optimization?\n",
    "\n",
    "\n",
    "greedy algrithm cannot re-evaluate previous or future steps, only the current one but it gives us a tractable approach for selecting the best subset . It will provide us\n",
    "#the minimal set of attibutes such that the value of the objective function\n",
    "#is maximized  Greedy optimization provides a local/global max in a reasonable amount of time"
   ]
  },
  {
   "cell_type": "markdown",
   "metadata": {},
   "source": [
    "## Part 2: Hierarchy Construction\n",
    "\n",
    "A concept Hierarchy is a general relationship between various\n",
    "various attributes of a dataset, where some supersede others.\n",
    "For example, number < street < city < state < Country\n",
    "\n",
    "\n",
    "### 1. Given the attributes City, State, Street and County, establish a concept hierarchy\n",
    "\n",
    "### Answer:  street < city < county < State\n",
    "\n",
    "### 2. using the Concept of Hierarchy, can any missing values be interpolated?\n",
    "\n",
    "### Yes.\n",
    "\n",
    "\n",
    "### 3.For each missing value that can be interpolated, if any, state both what the interpolated value is, and what your confidence (qualitatively) is on the interpolation"
   ]
  },
  {
   "cell_type": "code",
   "execution_count": 17,
   "metadata": {},
   "outputs": [
    {
     "name": "stdout",
     "output_type": "stream",
     "text": [
      "['barbara Breslin', 'Millerstown', 'PA', '?', 'perry']\n"
     ]
    }
   ],
   "source": [
    "\n",
    "h= [\"barbara Breslin\", \"Millerstown\", \"PA\", \"?\", \"perry\"]\n",
    "print(h)\n",
    "\n",
    "#We are pretty confident with this interpolation, but there are \n",
    "#potential chances \"Millerstown\" in another State and County."
   ]
  },
  {
   "cell_type": "markdown",
   "metadata": {},
   "source": [
    "## part 3\n",
    " you are provided with a set of data that contains the positions of serval \n",
    " sensor along a 5ft.rod. sensor position (5in, 12in, 30in, 4ft)\n",
    " \n",
    "### 1. Normalize this data in 3 different ways."
   ]
  },
  {
   "cell_type": "code",
   "execution_count": 9,
   "metadata": {},
   "outputs": [
    {
     "name": "stdout",
     "output_type": "stream",
     "text": [
      "[ 0.08333333  0.2         0.5         0.8       ]\n",
      "[-1.12215613 -0.70321784  0.37405204  1.45132193]\n",
      "[ 0.05  0.12  0.3   0.48]\n"
     ]
    }
   ],
   "source": [
    "import numpy as np\n",
    "from matplotlib import pyplot as plt\n",
    "import scipy.stats as stats\n",
    "from scipy.stats import binned_statistic\n",
    "import matplotlib.mlab as mlab\n",
    "\n",
    "rod= [5,12, 30, 48]\n",
    "rod1= np.array(rod)\n",
    "\n",
    "#a. Normalize data Min-Max from 0 to 1.\n",
    "normlized_rod43=(rod1)*1/60 +0\n",
    "print (normlized_rod43)\n",
    "\n",
    "#b. Z-score Normalization\n",
    "mean = np.average(rod1)\n",
    "std= np.std(rod1)\n",
    "normlized_rodz= (rod1-mean)/std\n",
    "print(normlized_rodz)\n",
    "\n",
    "#c. Decimal Scaling\n",
    "normlized_rodd= (rod1)/100\n",
    "print(normlized_rodd)"
   ]
  },
  {
   "cell_type": "markdown",
   "metadata": {
    "collapsed": true
   },
   "source": [
    "### 2. I like the Min-Max normalization method, it shows me the sensors relative location on the rod.\n",
    "the Z-score Normaliztion returns negative value,\n",
    "it doesnt make sense for a length to be negative\n",
    "Decimal Scaling resulted numbers are too small to read."
   ]
  },
  {
   "cell_type": "code",
   "execution_count": null,
   "metadata": {
    "collapsed": true
   },
   "outputs": [],
   "source": []
  }
 ],
 "metadata": {
  "kernelspec": {
   "display_name": "Python 3",
   "language": "python",
   "name": "python3"
  },
  "language_info": {
   "codemirror_mode": {
    "name": "ipython",
    "version": 3
   },
   "file_extension": ".py",
   "mimetype": "text/x-python",
   "name": "python",
   "nbconvert_exporter": "python",
   "pygments_lexer": "ipython3",
   "version": "3.6.3"
  }
 },
 "nbformat": 4,
 "nbformat_minor": 2
}
