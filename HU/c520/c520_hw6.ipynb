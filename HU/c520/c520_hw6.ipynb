{
 "cells": [
  {
   "cell_type": "markdown",
   "metadata": {},
   "source": [
    "## CISC 520 Assignment 6\n",
    "\n",
    "### Part 1\n",
    "As we discussed in class, a common analytical optimization technique is the first derivative test. In this test,\n",
    "you take the first derivative of a function and solve for its zeroes. Because of the way slope works, we know then that these points will be either a minimum or a maximum.\n",
    "\n",
    "#### 1. Are these points global or local minima/maxima\n",
    "First Derivative provides us LOCAL minimum or maximum values\n",
    "\n",
    "#### 2.  Apply the First Derivative test to the function. How many minima/maxima does this function have? Can you identify which zeroes are a minimum and which are a maximum without graphing the function?\n",
    "\n",
    " $$f(x)= 3x+10*cos(x)$$\n",
    "\n",
    "Answer: \n",
    "$$f'(x)= 3-10*sin(x)$$\n",
    "\n",
    "Let's set f'(x)=0, then we have sin(x)=0.3. Therefore, there are infinite many minima/maxima for this function. Since Sin(x) is an alternating function, therefore x=17.5+2n*Pi are local Max, and x=17.5+ (2n+1)*Pi is local Min, where n is in Z.\n",
    "\n",
    "#### 3. Apply the fsolve() function, as discussed in class, to write a simple program to find minima and maxima for the above function."
   ]
  },
  {
   "cell_type": "code",
   "execution_count": 29,
   "metadata": {},
   "outputs": [
    {
     "name": "stdout",
     "output_type": "stream",
     "text": [
      "Beta0= [ 17.45760312]\n"
     ]
    }
   ],
   "source": [
    "from scipy.optimize import fsolve\n",
    "import math\n",
    "import numpy as np\n",
    "\n",
    "def system(coeff):\n",
    "    b0= coeff\n",
    "    f0=3-10*math.sin(math.radians(b0))\n",
    "    return(f0)\n",
    "\n",
    "b_guess=(0)\n",
    "b0=fsolve(system,b_guess)\n",
    "print(\"Beta0= {}\".format(b0))"
   ]
  },
  {
   "cell_type": "markdown",
   "metadata": {},
   "source": [
    "### Part 2\n",
    "\n",
    "#### 1. Least-Squares Regression\n",
    "Using the least-squares regression module discussed in class, perform a regression analysis upon the data provided in the assignment_6.csv file on Moodle. Split the data provided into training and testing data. Use whatever means you like to determine the appropriate form of the model, $f(x)$, to use."
   ]
  },
  {
   "cell_type": "code",
   "execution_count": 74,
   "metadata": {},
   "outputs": [
    {
     "name": "stdout",
     "output_type": "stream",
     "text": [
      "          X          Y\n",
      "0  0.916092  10.973234\n",
      "1  4.610461  63.649082\n",
      "2  0.164516   8.143623\n",
      "3  1.089609  13.759627\n",
      "4  1.589659  15.190665\n",
      "5  2.264226  23.217127\n",
      "6  2.656766  27.918476\n",
      "7  2.665267  28.458073\n",
      "8  4.358936  56.519672\n",
      "9  2.882788  26.703205\n",
      "[ -0.83044318  12.66276417] 3\n"
     ]
    },
    {
     "data": {
      "image/png": "[encoded data removed]",
      "text/plain": [
       "<matplotlib.figure.Figure at 0xc144cf8>"
      ]
     },
     "metadata": {},
     "output_type": "display_data"
    }
   ],
   "source": [
    "from scipy.optimize import leastsq\n",
    "import pandas as pd\n",
    "import matplotlib.pyplot as plt\n",
    "\n",
    "#Read in the data\n",
    "data=pd.read_csv(\"C:/Users/fatan/Downloads/assignment6.csv\",names=[\"X\",\"Y\"]) \n",
    "\n",
    "#Show Data structure\n",
    "print(data[0:10])\n",
    "\n",
    "#Split Training set and testing set \n",
    "#Traning set should be around 70% to 80%\n",
    "train=data[0:78]\n",
    "test=data[79:100]\n",
    "\n",
    "def residual(b,x,y):\n",
    "    return b[1]*x + b[0]-y\n",
    "\n",
    "b_guess=[0,0]\n",
    "line= 12.465*train.X -1.53\n",
    "\n",
    "#calculate the optimized parameters for training set\n",
    "b,_ =leastsq(residual,b_guess,args=(test.X, test.Y))\n",
    "print(b,_)\n",
    "\n",
    "#data visulization\n",
    "plt.scatter(test.X, test.Y)\n",
    "plt.plot(train.X, line,\"r\", label= \"Training Set Linear Reg Line\")\n",
    "plt.xlabel(\"Test Set X value\")\n",
    "plt.ylabel(\"Test Set Y value\")\n",
    "plt.title(\"Linear Model Example\")\n",
    "plt.legend()\n",
    "plt.show()\n"
   ]
  },
  {
   "cell_type": "markdown",
   "metadata": {},
   "source": [
    "#### 2.Residual Calculation\n",
    "Determine the residual sum of squares, and the sum of the residuals, given both the training data and,\n",
    "more importantly, the testing data, that you set aside.\n",
    "\n",
    "RSS(Train dataset)=-1.53\n",
    "Rss(Test dataset)=-0.83"
   ]
  },
  {
   "cell_type": "markdown",
   "metadata": {},
   "source": [
    "### Part 3\n",
    "\n",
    "#### Naive Bayes Classifier\n",
    "In Python, implement a Naïve Bayes Classifier, as discussed in class."
   ]
  },
  {
   "cell_type": "code",
   "execution_count": 95,
   "metadata": {},
   "outputs": [
    {
     "name": "stdout",
     "output_type": "stream",
     "text": [
      "['Y']\n"
     ]
    }
   ],
   "source": [
    "from sklearn.naive_bayes import GaussianNB\n",
    "\n",
    "x= np.array([[-3,7],[1,8], [1,1], [-1,0], [2,3], [-4,4], [-2,3], [1,2], [-1,4], [3,6], [-3,0], [-2,5]])\n",
    "Y = np.array([\"Y\", \"N\", \"Y\", \"Y\", \"Y\", \"N\", \"N\", \"Y\", \"Y\", \"Y\", \"N\", \"N\"])\n",
    "model = GaussianNB()\n",
    "model.fit(x, Y)\n",
    "predicted= model.predict([[1,1]])\n",
    "print (predicted)"
   ]
  },
  {
   "cell_type": "code",
   "execution_count": null,
   "metadata": {},
   "outputs": [],
   "source": []
  },
  {
   "cell_type": "code",
   "execution_count": null,
   "metadata": {},
   "outputs": [],
   "source": []
  },
  {
   "cell_type": "code",
   "execution_count": null,
   "metadata": {
    "collapsed": true
   },
   "outputs": [],
   "source": []
  }
 ],
 "metadata": {
  "kernelspec": {
   "display_name": "Python 3",
   "language": "python",
   "name": "python3"
  },
  "language_info": {
   "codemirror_mode": {
    "name": "ipython",
    "version": 3
   },
   "file_extension": ".py",
   "mimetype": "text/x-python",
   "name": "python",
   "nbconvert_exporter": "python",
   "pygments_lexer": "ipython3",
   "version": "3.6.3"
  }
 },
 "nbformat": 4,
 "nbformat_minor": 2
}
