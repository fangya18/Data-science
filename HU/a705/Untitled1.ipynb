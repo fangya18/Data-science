{
 "cells": [
  {
   "cell_type": "markdown",
   "metadata": {},
   "source": [
    "#### Linear Optimation for Reycling company \n",
    "\n",
    "there are 2 different recycling proccess\n",
    "\n",
    "              \n",
    "| Material    |Method 1: cost per ton| Method 1: Yield       | Method 2: Cost per ton | Method 2: yield  |\n",
    "| ----------- | ----------- | ----------- | ----------- | ----------- |\n",
    "| newspaper   | 13        |  0.9        |   12       | 0.85|\n",
    "| mixed paper |  11        |  0.8        |    13    |  0.85|\n",
    "| White Office Paper | 9 | 0.95 | 10 | 0.9|\n",
    "| Cardboard| 13| 0.75| 14| 0.85|\n",
    "\n",
    "Then we have the final products are summarized in the following talbe \n",
    "\n",
    "| Material    |Newsprint: cost per ton & Yield | Packaging : cost per ton & Yield |Print Stock : cost per ton & Yield|\n",
    "| ----------- | ----------- | ----------- | ----------- | \n",
    "| Recycling 1  | 5 & 0.95       |  6 & 0.9        |   8 & 0.9    | \n",
    "| Recycling 2 |  6 & 0.9       |  8 &0.95        |   7 & 0.95    |  \n",
    "\n",
    "\n",
    "Material\n",
    "* 70 tons of newspaper\n",
    "* 50 tons of mixed paper \n",
    "* 30 tons of white office paper\n",
    "* 40 tons of cardboard\n",
    "\n",
    "Production:\n",
    "* 60 newsprint pulp\n",
    "* 40 packaging paper pulp\n",
    "* 50 print stock pulp\n",
    "\n",
    "Let's use the linear optimation method to find the most efficient way\n"
   ]
  },
  {
   "cell_type": "markdown",
   "metadata": {},
   "source": [
    "#### Process Illustration Graph\n",
    "\n",
    "![](C:\\Users\\fatan\\Downloads\\IMG-4442.JPG)"
   ]
  },
  {
   "cell_type": "markdown",
   "metadata": {},
   "source": [
    "### Solution\n",
    "\n",
    "#### Linear Model \n",
    "\n",
    "#### Minimize Total Cost\n",
    " \n",
    " $$ 13x_{15} + 12x_{16} + 11x_{25}+ 13x_{26}+ 9x_{35}\n",
    "    + 10x_{36}+ 13x_{45}+ 14x_{46}+ 5x_{57}+ 6x_{58}\n",
    "    + 8x_{59} + 6x_{67}+ 8x_{68} +7x_{69}$$\n",
    "\n",
    "#### General Constraints:\n",
    "all $x_{ij} >=0$\n",
    "    \n",
    "#### Raw Material constraints :   \n",
    "\n",
    "* newspaper : $ x_{15}+ x_{16} <= 70 $\n",
    "* mixed paper $ x_{25}+ x_{26} <= 50 $\n",
    "* White office paper $ x_{35}+ x_{36} <= 30 $\n",
    "* cardboard $ x_{45}+ x_{46} <= 40 $\n",
    "\n",
    "#### Recycling Processes Constraints:\n",
    "\n",
    "* Recycle Method 1:\n",
    "\n",
    "$$ 0.9x_{15}+ 0.8x_{25}+ 0.95x_{35}+ 0.75x_{45}- x_{57}\n",
    "-x_{58} - x_{59} >= 0 $$\n",
    "\n",
    "* Recycle Method 2:\n",
    "\n",
    "$$ 0.85x_{16}+ 0.85x_{26}+ 0.9x_{36}+ 0.85x_{46}- x_{67}\n",
    "-x_{68} - x_{69} >= 0 $$\n",
    "\n",
    "#### Production Paper Constraints:\n",
    "\n",
    "* newsprint : $ 0.95x_{57}+ 0.9x_{67} >= 60 $\n",
    "* packaging paper $ 0.9x_{58}+ 0.95x_{68} >= 40 $\n",
    "* stock paper $ 0.9x_{59}+ 0.95x_{69} >= 50 $\n"
   ]
  },
  {
   "cell_type": "code",
   "execution_count": 2,
   "metadata": {
    "collapsed": true
   },
   "outputs": [],
   "source": [
    "import numpy as np\n",
    "from scipy.optimize import linprog\n",
    "from numpy.linalg import solve"
   ]
  },
  {
   "cell_type": "code",
   "execution_count": 19,
   "metadata": {},
   "outputs": [],
   "source": [
    "\n",
    "A_ub= np.array([\n",
    "    [1,1,0,0,0,0,0,0,0,0,0,0,0,0],\n",
    "    [0,0,1,1,0,0,0,0,0,0,0,0,0,0],\n",
    "    [0,0,0,0,1,1,0,0,0,0,0,0,0,0],\n",
    "    [0,0,0,0,0,0,1,1,0,0,0,0,0,0],\n",
    "    [0.95,0,0.8,0,0.95,0,0.75,0,-1,-1,-1,0,0,0],\n",
    "    [0,0.85,0,0.85,0,0.9,0,0.85,0,0,0,-1,-1,-1],\n",
    "    [0,0,0,0,0,0,0,0,0.95,0,0,0.9,0,0],\n",
    "    [0,0,0,0,0,0,0,0,0,0.9,0,0,0.95,0],\n",
    "    [0,0,0,0,0,0,0,0,0,0,0.9,0,0,0.95]\n",
    "])\n",
    "\n",
    "A_eq= np.array([[1,1,1,1,1,1,1,1,0.95,0.9,0.9,0.9,0.95,0.95]])\n",
    "b_eq= np.array([340])\n",
    "\n",
    "b_ub=np.array([70,50,30,40,0,0,60,40,50])\n",
    "\n",
    "c=np.array([13, 12, 11, 13, 9, 10, 13, 14, 5, 6,8,6,8,7])"
   ]
  },
  {
   "cell_type": "code",
   "execution_count": 20,
   "metadata": {},
   "outputs": [],
   "source": [
    "best = linprog(c, A_eq=A_eq, b_eq=b_eq, A_ub= A_ub, b_ub=b_ub,\n",
    "              bounds=(0, None))"
   ]
  },
  {
   "cell_type": "code",
   "execution_count": 21,
   "metadata": {},
   "outputs": [
    {
     "data": {
      "text/plain": [
       "3138.957688338493"
      ]
     },
     "execution_count": 21,
     "metadata": {},
     "output_type": "execute_result"
    }
   ],
   "source": [
    "best.fun"
   ]
  },
  {
   "cell_type": "code",
   "execution_count": 22,
   "metadata": {},
   "outputs": [
    {
     "data": {
      "text/plain": [
       "array([  8.08049536,  61.91950464,  50.        ,   0.        ,\n",
       "        30.        ,   0.        ,  40.        ,   0.        ,\n",
       "        63.15789474,  44.44444444,   0.        ,   0.        ,\n",
       "         0.        ,  52.63157895])"
      ]
     },
     "execution_count": 22,
     "metadata": {},
     "output_type": "execute_result"
    }
   ],
   "source": [
    "best.x\n"
   ]
  },
  {
   "cell_type": "code",
   "execution_count": null,
   "metadata": {
    "collapsed": true
   },
   "outputs": [],
   "source": []
  },
  {
   "cell_type": "code",
   "execution_count": null,
   "metadata": {
    "collapsed": true
   },
   "outputs": [],
   "source": []
  }
 ],
 "metadata": {
  "kernelspec": {
   "display_name": "Python 3",
   "language": "python",
   "name": "python3"
  },
  "language_info": {
   "codemirror_mode": {
    "name": "ipython",
    "version": 3
   },
   "file_extension": ".py",
   "mimetype": "text/x-python",
   "name": "python",
   "nbconvert_exporter": "python",
   "pygments_lexer": "ipython3",
   "version": "3.6.3"
  }
 },
 "nbformat": 4,
 "nbformat_minor": 2
}
