{
 "cells": [
  {
   "cell_type": "markdown",
   "metadata": {},
   "source": [
    "#### Normalization\n",
    "\n",
    "##### 1. Max-Min Normalization\n",
    "\n",
    "$x_{normal}= \\frac{x- min(x)}{max(x)- min(x)} $\n",
    "\n"
   ]
  },
  {
   "cell_type": "code",
   "execution_count": 101,
   "metadata": {},
   "outputs": [],
   "source": [
    "import random\n",
    "import matplotlib.pyplot as plt\n",
    "import numpy as np\n",
    "from matplotlib import colors\n",
    "from matplotlib.ticker import PercentFormatter\n",
    "from matplotlib import pylab\n",
    "\n",
    "\n",
    "y=random.sample(range(0,150),50)\n",
    "x=list(map(int,y))\n",
    "x1=np.array(x)\n",
    "xmin=min(x)\n",
    "xmax=max(x)\n",
    "\n",
    "#Max-Min normalization\n",
    "mmnorm=(x1 - xmin)/(xmax-xmin)"
   ]
  },
  {
   "cell_type": "code",
   "execution_count": 102,
   "metadata": {},
   "outputs": [
    {
     "data": {
      "image/png": "[encoded data removed]",
      "text/plain": [
       "<matplotlib.figure.Figure at 0xaa718d0>"
      ]
     },
     "metadata": {},
     "output_type": "display_data"
    }
   ],
   "source": [
    "#plot\n",
    "\n",
    "fig,axs=plt.subplots(1,2,sharey=True)\n",
    "\n",
    "#Original random number\n",
    "axs[0].hist(x, bins=10)\n",
    "axs[0].title.set_text(\"Random Data\")\n",
    "\n",
    "\n",
    "#Max-Min normalizaed histogram Plot\n",
    "axs[1].hist(mmnorm, bins=10,color=\"lightblue\")\n",
    "plt.title(\"Max-Min Normalized Data\")\n",
    "plt.show()"
   ]
  },
  {
   "cell_type": "markdown",
   "metadata": {},
   "source": [
    "##### 2. Z-score Normalization¶\n",
    "\n",
    "$X_{znormal} = \\frac{ x− mean}{sd} $  \n"
   ]
  },
  {
   "cell_type": "code",
   "execution_count": 111,
   "metadata": {},
   "outputs": [
    {
     "name": "stdout",
     "output_type": "stream",
     "text": [
      "5387.06\n",
      "2356.6846069\n",
      "[-0.16296623 -0.2936583  -0.75744544  0.86177845 -1.65998453  0.12981797\n",
      " -1.46988697 -0.60171819 -0.78672386  0.51298337  1.27931416  0.97592185\n",
      "  1.53263614 -0.97894304 -0.51939916  0.67889441  0.33858582  0.86390007\n",
      "  0.15739908  0.66192141 -1.6833224  -1.31161378 -1.31670568  0.83419733\n",
      " -0.63269391  0.85117032 -1.36592737 -1.09690537  0.06319895 -1.37398954\n",
      " -0.44768825  1.93659346 -0.50412346  0.74975667  0.86008115  0.79728106\n",
      " -0.97342682  0.11326929  1.30986556 -0.56649922  1.15456264 -0.85376719\n",
      " -1.4635221   1.8674285   1.10873555  1.45922793  0.46885357 -0.76168869\n",
      " -0.43071525  0.44594003]\n"
     ]
    },
    {
     "data": {
      "image/png": "[encoded data removed]",
      "text/plain": [
       "<matplotlib.figure.Figure at 0xab0a278>"
      ]
     },
     "metadata": {},
     "output_type": "display_data"
    }
   ],
   "source": [
    "#Z-score Normalization\n",
    "\n",
    "y2=random.sample(range(0,150),50)\n",
    "x2=list(map(int,y3))\n",
    "x21=np.array(x2)\n",
    "mean=np.mean(x21)\n",
    "sd=np.std(x21)\n",
    "print(mean)\n",
    "\n",
    "\n",
    "\n",
    "#scale normalization\n",
    "znorm=(x21-mean)/sd\n",
    "\n",
    "#plot\n",
    "\n",
    "fig,axs=plt.subplots(1,2,sharey=True)\n",
    "\n",
    "#Original random number\n",
    "axs[0].hist(x2, bins=10, color=\"green\")\n",
    "axs[0].title.set_text(\"Random Data\")\n",
    "\n",
    "\n",
    "#scale normalizaed histogram Plot\n",
    "axs[1].hist(znorm, bins=10,color=\"lightgreen\")\n",
    "plt.title(\"Z-score Normalized Data\")\n",
    "plt.show()\n",
    "\n"
   ]
  },
  {
   "cell_type": "markdown",
   "metadata": {},
   "source": [
    "##### 3. Scale Normalization\n",
    "\n",
    "$x_{norm} = \\frac{x}{10^{n}}$"
   ]
  },
  {
   "cell_type": "code",
   "execution_count": 109,
   "metadata": {},
   "outputs": [
    {
     "data": {
      "image/png": "[encoded data removed]",
      "text/plain": [
       "<matplotlib.figure.Figure at 0x8f21d30>"
      ]
     },
     "metadata": {},
     "output_type": "display_data"
    }
   ],
   "source": [
    "#scale\n",
    "\n",
    "y3=random.sample(range(1000,10000),50)\n",
    "x3=list(map(int,y3))\n",
    "x31=np.array(x3)\n",
    "\n",
    "#scale normalization\n",
    "snorm=x31/1000\n",
    "\n",
    "#plot\n",
    "\n",
    "fig,axs=plt.subplots(1,2,sharey=True)\n",
    "\n",
    "#Original random number\n",
    "axs[0].hist(x3, bins=10, color=\"orange\")\n",
    "axs[0].title.set_text(\"Random Data\")\n",
    "\n",
    "\n",
    "#scale normalizaed histogram Plot\n",
    "axs[1].hist(snorm, bins=10,color=\"yellow\")\n",
    "plt.title(\"Scale Normalized Data\")\n",
    "plt.show()"
   ]
  },
  {
   "cell_type": "code",
   "execution_count": null,
   "metadata": {
    "collapsed": true
   },
   "outputs": [],
   "source": []
  },
  {
   "cell_type": "code",
   "execution_count": null,
   "metadata": {
    "collapsed": true
   },
   "outputs": [],
   "source": []
  },
  {
   "cell_type": "code",
   "execution_count": null,
   "metadata": {
    "collapsed": true
   },
   "outputs": [],
   "source": []
  },
  {
   "cell_type": "code",
   "execution_count": null,
   "metadata": {
    "collapsed": true
   },
   "outputs": [],
   "source": []
  }
 ],
 "metadata": {
  "kernelspec": {
   "display_name": "Python 3",
   "language": "python",
   "name": "python3"
  },
  "language_info": {
   "codemirror_mode": {
    "name": "ipython",
    "version": 3
   },
   "file_extension": ".py",
   "mimetype": "text/x-python",
   "name": "python",
   "nbconvert_exporter": "python",
   "pygments_lexer": "ipython3",
   "version": "3.6.3"
  }
 },
 "nbformat": 4,
 "nbformat_minor": 2
}
