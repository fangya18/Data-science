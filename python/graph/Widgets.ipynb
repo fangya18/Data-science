{
 "cells": [
  {
   "cell_type": "markdown",
   "id": "50c859a5",
   "metadata": {},
   "source": [
    "## Python Widgets Introduction"
   ]
  },
  {
   "cell_type": "code",
   "execution_count": 29,
   "id": "12f5dc46",
   "metadata": {},
   "outputs": [],
   "source": [
    "#packages\n",
    "import ipywidgets \n",
    "from ipywidgets import IntSlider"
   ]
  },
  {
   "cell_type": "code",
   "execution_count": 30,
   "id": "1d92a16a",
   "metadata": {},
   "outputs": [],
   "source": [
    "from ipywidgets import IntSlider"
   ]
  },
  {
   "cell_type": "code",
   "execution_count": 31,
   "id": "6ab68b01",
   "metadata": {},
   "outputs": [
    {
     "data": {
      "application/vnd.jupyter.widget-view+json": {
       "model_id": "527700e6a05141a884e1db35344022f7",
       "version_major": 2,
       "version_minor": 0
      },
      "text/plain": [
       "IntSlider(value=50)"
      ]
     },
     "metadata": {},
     "output_type": "display_data"
    }
   ],
   "source": [
    "slider=IntSlider(value=50)\n",
    "slider"
   ]
  },
  {
   "cell_type": "code",
   "execution_count": 32,
   "id": "f560478f",
   "metadata": {},
   "outputs": [
    {
     "data": {
      "text/plain": [
       "50"
      ]
     },
     "execution_count": 32,
     "metadata": {},
     "output_type": "execute_result"
    }
   ],
   "source": [
    "slider.value"
   ]
  },
  {
   "cell_type": "code",
   "execution_count": 33,
   "id": "8334a870",
   "metadata": {},
   "outputs": [
    {
     "data": {
      "application/vnd.jupyter.widget-view+json": {
       "model_id": "40c01ee565a54bd997bbc30f95556535",
       "version_major": 2,
       "version_minor": 0
      },
      "text/plain": [
       "HTML(value='hi  is <b>50</b>')"
      ]
     },
     "metadata": {},
     "output_type": "display_data"
    }
   ],
   "source": [
    "from ipywidgets import HTML\n",
    "text=HTML(\"hi  is <b>{}</b>\".format(slider.value))\n",
    "text"
   ]
  },
  {
   "cell_type": "code",
   "execution_count": 34,
   "id": "f119db0d",
   "metadata": {},
   "outputs": [],
   "source": [
    "def update_html(change):\n",
    "    text.value=\"hi  is <b>{}</b>\".format(slider.value)\n",
    "slider.observe(update_html,\"value\")"
   ]
  },
  {
   "cell_type": "code",
   "execution_count": 37,
   "id": "5e4da604",
   "metadata": {},
   "outputs": [],
   "source": [
    "import numpy as np\n",
    "from bqplot import LinearScale, Scatter, Figure\n",
    "line_style={\"colors\":[\"magenta\"],\"stroke_width\":3}\n",
    "scatter_style={\"colors\":[\"white\"],\"stroke\":\"black\"}\n"
   ]
  },
  {
   "cell_type": "code",
   "execution_count": 110,
   "id": "77316ecf",
   "metadata": {},
   "outputs": [],
   "source": [
    "import plotly.graph_objs as go\n",
    "import plotly.offline as py\n",
    "import plotly\n",
    "from ipywidgets import interactive, HBox, VBox, widgets, interact"
   ]
  },
  {
   "cell_type": "markdown",
   "id": "994eb34d",
   "metadata": {},
   "source": [
    "## 1.Basic Numerical Operation"
   ]
  },
  {
   "cell_type": "code",
   "execution_count": 41,
   "id": "ce98b07f",
   "metadata": {},
   "outputs": [
    {
     "data": {
      "text/plain": [
       "121"
      ]
     },
     "execution_count": 41,
     "metadata": {},
     "output_type": "execute_result"
    }
   ],
   "source": [
    "11*11"
   ]
  },
  {
   "cell_type": "code",
   "execution_count": 44,
   "id": "2c789196",
   "metadata": {},
   "outputs": [],
   "source": [
    "def f(x):\n",
    "    print(x*x)\n",
    "    "
   ]
  },
  {
   "cell_type": "code",
   "execution_count": 46,
   "id": "a4baa3d5",
   "metadata": {},
   "outputs": [
    {
     "name": "stdout",
     "output_type": "stream",
     "text": [
      "121\n"
     ]
    }
   ],
   "source": [
    "f(11)"
   ]
  },
  {
   "cell_type": "code",
   "execution_count": 49,
   "id": "a8c17d3f",
   "metadata": {},
   "outputs": [],
   "source": [
    "from ipywidgets import *"
   ]
  },
  {
   "cell_type": "code",
   "execution_count": 51,
   "id": "8b1e2a07",
   "metadata": {},
   "outputs": [
    {
     "data": {
      "application/vnd.jupyter.widget-view+json": {
       "model_id": "9ccb4ea869fd4eea9f936f8546632929",
       "version_major": 2,
       "version_minor": 0
      },
      "text/plain": [
       "interactive(children=(IntSlider(value=50, description='x'), Output()), _dom_classes=('widget-interact',))"
      ]
     },
     "metadata": {},
     "output_type": "display_data"
    }
   ],
   "source": [
    "interact(f, x=(0,100));"
   ]
  },
  {
   "cell_type": "code",
   "execution_count": 52,
   "id": "684789e1",
   "metadata": {},
   "outputs": [
    {
     "data": {
      "application/vnd.jupyter.widget-view+json": {
       "model_id": "d89b068dd9474682945175464c8ae84f",
       "version_major": 2,
       "version_minor": 0
      },
      "text/plain": [
       "FloatSlider(value=8.0, description='Input:', max=10.0, min=5.0)"
      ]
     },
     "metadata": {},
     "output_type": "display_data"
    }
   ],
   "source": [
    "slider=FloatSlider(\n",
    "    value=8,\n",
    "    min=5.0,\n",
    "    max=10.0,\n",
    "    step=0.1,\n",
    "    description=\"Input:\",\n",
    ")\n",
    "slider"
   ]
  },
  {
   "cell_type": "code",
   "execution_count": 53,
   "id": "3afa5a8b",
   "metadata": {},
   "outputs": [
    {
     "data": {
      "text/plain": [
       "8.0"
      ]
     },
     "execution_count": 53,
     "metadata": {},
     "output_type": "execute_result"
    }
   ],
   "source": [
    "slider.value"
   ]
  },
  {
   "cell_type": "code",
   "execution_count": 54,
   "id": "fce8eed4",
   "metadata": {},
   "outputs": [],
   "source": [
    "square= slider.value *slider.value\n",
    "def handle_change(change):\n",
    "    global square\n",
    "    square=change.new*change.new\n",
    "slider.observe(handle_change,\"value\")\n"
   ]
  },
  {
   "cell_type": "code",
   "execution_count": 55,
   "id": "fc368daf",
   "metadata": {},
   "outputs": [
    {
     "data": {
      "text/plain": [
       "64.0"
      ]
     },
     "execution_count": 55,
     "metadata": {},
     "output_type": "execute_result"
    }
   ],
   "source": [
    "square"
   ]
  },
  {
   "cell_type": "code",
   "execution_count": 56,
   "id": "8cee2417",
   "metadata": {},
   "outputs": [
    {
     "data": {
      "application/vnd.jupyter.widget-view+json": {
       "model_id": "29f8d358ceba41c382240c9620552869",
       "version_major": 2,
       "version_minor": 0
      },
      "text/plain": [
       "VBox(children=(FloatSlider(value=8.0, description='Input:', max=10.0, min=5.0), FloatText(value=8.0, descripti…"
      ]
     },
     "metadata": {},
     "output_type": "display_data"
    }
   ],
   "source": [
    "text=FloatText(description=\"Value\")\n",
    "link((slider,\"value\"),(text,\"value\"))\n",
    "VBox([slider,text])"
   ]
  },
  {
   "cell_type": "markdown",
   "id": "a8b90a70",
   "metadata": {},
   "source": [
    "## 2. Widget as Framework\n"
   ]
  },
  {
   "cell_type": "code",
   "execution_count": 57,
   "id": "3c5a2747",
   "metadata": {},
   "outputs": [],
   "source": [
    "from ipywidgets import interact, interactive, fixed, interact_manual\n",
    "import ipywidgets as widgets"
   ]
  },
  {
   "cell_type": "code",
   "execution_count": 58,
   "id": "becacf8b",
   "metadata": {},
   "outputs": [],
   "source": [
    "def f(x):\n",
    "    return 3*x"
   ]
  },
  {
   "cell_type": "code",
   "execution_count": 61,
   "id": "885213d8",
   "metadata": {},
   "outputs": [
    {
     "data": {
      "text/plain": [
       "24"
      ]
     },
     "execution_count": 61,
     "metadata": {},
     "output_type": "execute_result"
    }
   ],
   "source": [
    "f(8)"
   ]
  },
  {
   "cell_type": "code",
   "execution_count": 63,
   "id": "c801b1f7",
   "metadata": {},
   "outputs": [
    {
     "data": {
      "application/vnd.jupyter.widget-view+json": {
       "model_id": "4beb89eff04744979256273515e09fd6",
       "version_major": 2,
       "version_minor": 0
      },
      "text/plain": [
       "interactive(children=(IntSlider(value=10, description='x', max=30, min=-10), Output()), _dom_classes=('widget-…"
      ]
     },
     "metadata": {},
     "output_type": "display_data"
    },
    {
     "data": {
      "text/plain": [
       "<function __main__.f(x)>"
      ]
     },
     "execution_count": 63,
     "metadata": {},
     "output_type": "execute_result"
    }
   ],
   "source": [
    "interact(f,x=10)"
   ]
  },
  {
   "cell_type": "code",
   "execution_count": 64,
   "id": "a79f6741",
   "metadata": {},
   "outputs": [
    {
     "data": {
      "application/vnd.jupyter.widget-view+json": {
       "model_id": "879efe7c787d44cc96caa4cfcd9b44a8",
       "version_major": 2,
       "version_minor": 0
      },
      "text/plain": [
       "interactive(children=(Checkbox(value=True, description='x'), Output()), _dom_classes=('widget-interact',))"
      ]
     },
     "metadata": {},
     "output_type": "display_data"
    }
   ],
   "source": [
    "interact(f,x=True);"
   ]
  },
  {
   "cell_type": "code",
   "execution_count": 66,
   "id": "aadafb67",
   "metadata": {},
   "outputs": [
    {
     "data": {
      "application/vnd.jupyter.widget-view+json": {
       "model_id": "31c4524d912843df957d297dc67d21e6",
       "version_major": 2,
       "version_minor": 0
      },
      "text/plain": [
       "interactive(children=(Text(value='hola hola', description='x'), Output()), _dom_classes=('widget-interact',))"
      ]
     },
     "metadata": {},
     "output_type": "display_data"
    },
    {
     "data": {
      "text/plain": [
       "<function __main__.f(x)>"
      ]
     },
     "execution_count": 66,
     "metadata": {},
     "output_type": "execute_result"
    }
   ],
   "source": [
    "interact(f, x=\"hola hola\")"
   ]
  },
  {
   "cell_type": "code",
   "execution_count": 67,
   "id": "c3397a10",
   "metadata": {},
   "outputs": [
    {
     "data": {
      "application/vnd.jupyter.widget-view+json": {
       "model_id": "6daec9db4bd04869b5cc8fa9c72fc4b5",
       "version_major": 2,
       "version_minor": 0
      },
      "text/plain": [
       "interactive(children=(Checkbox(value=True, description='x'), FloatSlider(value=1.0, description='y', max=3.0, …"
      ]
     },
     "metadata": {},
     "output_type": "display_data"
    }
   ],
   "source": [
    "@interact(x=True, y=1.0)\n",
    "def g(x,y):\n",
    "    return(x,y)"
   ]
  },
  {
   "cell_type": "code",
   "execution_count": 68,
   "id": "fc25f7db",
   "metadata": {},
   "outputs": [],
   "source": [
    "def h(p,g):\n",
    "    return(p,g)"
   ]
  },
  {
   "cell_type": "code",
   "execution_count": 69,
   "id": "f3dbbf42",
   "metadata": {},
   "outputs": [
    {
     "data": {
      "application/vnd.jupyter.widget-view+json": {
       "model_id": "b9572a46e8984a21acb0a3cc8e6858de",
       "version_major": 2,
       "version_minor": 0
      },
      "text/plain": [
       "interactive(children=(IntSlider(value=5, description='p', max=15, min=-5), Output()), _dom_classes=('widget-in…"
      ]
     },
     "metadata": {},
     "output_type": "display_data"
    }
   ],
   "source": [
    "interact(h,p=5,g=fixed(20));"
   ]
  },
  {
   "cell_type": "code",
   "execution_count": 70,
   "id": "207ba0ad",
   "metadata": {},
   "outputs": [
    {
     "data": {
      "application/vnd.jupyter.widget-view+json": {
       "model_id": "6c3dbd6181124e69aa4e13d1b5194c4d",
       "version_major": 2,
       "version_minor": 0
      },
      "text/plain": [
       "interactive(children=(IntSlider(value=10, description='x', max=30, min=-10), Output()), _dom_classes=('widget-…"
      ]
     },
     "metadata": {},
     "output_type": "display_data"
    },
    {
     "data": {
      "text/plain": [
       "<function __main__.f(x)>"
      ]
     },
     "execution_count": 70,
     "metadata": {},
     "output_type": "execute_result"
    }
   ],
   "source": [
    "interact(f,x=widgets.IntSlider(min=-10,max=30,step=1,value=10))"
   ]
  },
  {
   "cell_type": "code",
   "execution_count": 72,
   "id": "c12dd897",
   "metadata": {},
   "outputs": [
    {
     "data": {
      "application/vnd.jupyter.widget-view+json": {
       "model_id": "6627fb1540794c6fba022ff1c8d80b73",
       "version_major": 2,
       "version_minor": 0
      },
      "text/plain": [
       "interactive(children=(Dropdown(description='x', options=(('one', 10), ('two', 20)), value=10), Output()), _dom…"
      ]
     },
     "metadata": {},
     "output_type": "display_data"
    },
    {
     "data": {
      "text/plain": [
       "<function __main__.f(x)>"
      ]
     },
     "execution_count": 72,
     "metadata": {},
     "output_type": "execute_result"
    }
   ],
   "source": [
    "interact(f,x=[(\"one\",10),(\"two\",20)])"
   ]
  },
  {
   "cell_type": "code",
   "execution_count": 75,
   "id": "72a4fbca",
   "metadata": {},
   "outputs": [],
   "source": [
    "from IPython.display import display"
   ]
  },
  {
   "cell_type": "code",
   "execution_count": 76,
   "id": "1bec8e4d",
   "metadata": {},
   "outputs": [],
   "source": [
    "def f(a,b):\n",
    "    display(a+b)\n",
    "    return a+b"
   ]
  },
  {
   "cell_type": "code",
   "execution_count": 77,
   "id": "b58dfa23",
   "metadata": {},
   "outputs": [
    {
     "data": {
      "text/plain": [
       "8"
      ]
     },
     "metadata": {},
     "output_type": "display_data"
    },
    {
     "data": {
      "text/plain": [
       "8"
      ]
     },
     "execution_count": 77,
     "metadata": {},
     "output_type": "execute_result"
    }
   ],
   "source": [
    "f(3,5)"
   ]
  },
  {
   "cell_type": "code",
   "execution_count": 78,
   "id": "64b9025d",
   "metadata": {},
   "outputs": [],
   "source": [
    "w=interactive(f,a=10,b=20)"
   ]
  },
  {
   "cell_type": "code",
   "execution_count": 79,
   "id": "25a5ce61",
   "metadata": {},
   "outputs": [
    {
     "data": {
      "text/plain": [
       "ipywidgets.widgets.interaction.interactive"
      ]
     },
     "execution_count": 79,
     "metadata": {},
     "output_type": "execute_result"
    }
   ],
   "source": [
    "type(w)"
   ]
  },
  {
   "cell_type": "code",
   "execution_count": 80,
   "id": "b871d588",
   "metadata": {},
   "outputs": [
    {
     "data": {
      "text/plain": [
       "(IntSlider(value=10, description='a', max=30, min=-10),\n",
       " IntSlider(value=20, description='b', max=60, min=-20),\n",
       " Output())"
      ]
     },
     "execution_count": 80,
     "metadata": {},
     "output_type": "execute_result"
    }
   ],
   "source": [
    "w.children"
   ]
  },
  {
   "cell_type": "code",
   "execution_count": 81,
   "id": "4cc7c481",
   "metadata": {},
   "outputs": [
    {
     "data": {
      "application/vnd.jupyter.widget-view+json": {
       "model_id": "a726ffe960614adfb94509230bd5646d",
       "version_major": 2,
       "version_minor": 0
      },
      "text/plain": [
       "interactive(children=(IntSlider(value=10, description='a', max=30, min=-10), IntSlider(value=20, description='…"
      ]
     },
     "metadata": {},
     "output_type": "display_data"
    }
   ],
   "source": [
    "display(w)"
   ]
  },
  {
   "cell_type": "code",
   "execution_count": 82,
   "id": "96a42ce5",
   "metadata": {},
   "outputs": [
    {
     "data": {
      "text/plain": [
       "{'a': 14, 'b': 4}"
      ]
     },
     "execution_count": 82,
     "metadata": {},
     "output_type": "execute_result"
    }
   ],
   "source": [
    "w.kwargs"
   ]
  },
  {
   "cell_type": "code",
   "execution_count": 83,
   "id": "e88a621d",
   "metadata": {},
   "outputs": [
    {
     "data": {
      "text/plain": [
       "18"
      ]
     },
     "execution_count": 83,
     "metadata": {},
     "output_type": "execute_result"
    }
   ],
   "source": [
    "w.result"
   ]
  },
  {
   "cell_type": "code",
   "execution_count": 84,
   "id": "6ce3ea05",
   "metadata": {},
   "outputs": [
    {
     "data": {
      "application/vnd.jupyter.widget-view+json": {
       "model_id": "2977581b19a645128cccdad5301304dd",
       "version_major": 2,
       "version_minor": 0
      },
      "text/plain": [
       "IntSlider(value=14, description='a', max=30, min=-10)"
      ]
     },
     "metadata": {},
     "output_type": "display_data"
    }
   ],
   "source": [
    "w.children[0]"
   ]
  },
  {
   "cell_type": "markdown",
   "id": "7157ea29",
   "metadata": {},
   "source": [
    "## 3. interactive plot"
   ]
  },
  {
   "cell_type": "code",
   "execution_count": 85,
   "id": "258d7310",
   "metadata": {},
   "outputs": [],
   "source": [
    "%matplotlib inline\n",
    "import matplotlib.pyplot as plt\n"
   ]
  },
  {
   "cell_type": "code",
   "execution_count": 86,
   "id": "893cecf7",
   "metadata": {},
   "outputs": [],
   "source": [
    "def f(m,b):\n",
    "    plt.figure(2)\n",
    "    x=np.linspace(-10,10, num=1000)\n",
    "    plt.plot(x,m*x+b)\n",
    "    plt.ylim(-5,5)\n",
    "    plt.show()"
   ]
  },
  {
   "cell_type": "code",
   "execution_count": 87,
   "id": "ce596b5d",
   "metadata": {},
   "outputs": [
    {
     "data": {
      "image/png": "[encoded data removed]",
      "text/plain": [
       "<Figure size 432x288 with 1 Axes>"
      ]
     },
     "metadata": {
      "needs_background": "light"
     },
     "output_type": "display_data"
    }
   ],
   "source": [
    "f(4,5)"
   ]
  },
  {
   "cell_type": "code",
   "execution_count": 88,
   "id": "3bc96083",
   "metadata": {},
   "outputs": [
    {
     "data": {
      "application/vnd.jupyter.widget-view+json": {
       "model_id": "3ff12ca1bfb9429f8c83f3917f175de5",
       "version_major": 2,
       "version_minor": 0
      },
      "text/plain": [
       "interactive(children=(FloatSlider(value=0.0, description='m', max=2.0, min=-2.0), FloatSlider(value=0.0, descr…"
      ]
     },
     "metadata": {},
     "output_type": "display_data"
    }
   ],
   "source": [
    "interactive_plot=interactive(f,m=(-2.0,2.0),b=(-3,3,0.5))\n",
    "interactive_plot"
   ]
  },
  {
   "cell_type": "code",
   "execution_count": 90,
   "id": "3b15726a",
   "metadata": {},
   "outputs": [
    {
     "data": {
      "application/vnd.jupyter.widget-view+json": {
       "model_id": "112eef7aa1c24412b41c92567a966660",
       "version_major": 2,
       "version_minor": 0
      },
      "text/plain": [
       "interactive(children=(FloatSlider(value=10000.0, description='i', max=1000000.0, min=10000.0, step=10000.0), B…"
      ]
     },
     "metadata": {},
     "output_type": "display_data"
    },
    {
     "data": {
      "text/plain": [
       "<function __main__.slow_function(i)>"
      ]
     },
     "execution_count": 90,
     "metadata": {},
     "output_type": "execute_result"
    }
   ],
   "source": [
    "def slow_function(i):\n",
    "    from time import sleep\n",
    "    print(\"sleeping...\")\n",
    "    sleep(1)\n",
    "    print(i)\n",
    "interact_manual(slow_function,i=widgets.FloatSlider(min=1e4,max=1e6,step=1e4))    "
   ]
  },
  {
   "cell_type": "code",
   "execution_count": 92,
   "id": "7bd3fa84",
   "metadata": {},
   "outputs": [
    {
     "data": {
      "application/vnd.jupyter.widget-view+json": {
       "model_id": "22c04161a2b14ec98f7e6f7a7984f32d",
       "version_major": 2,
       "version_minor": 0
      },
      "text/plain": [
       "interactive(children=(FloatSlider(value=10000.0, description='i', max=1000000.0, min=10000.0, step=10000.0), B…"
      ]
     },
     "metadata": {},
     "output_type": "display_data"
    }
   ],
   "source": [
    "foo=interactive(slow_function,{\"manual\":True}, i=widgets.FloatSlider(min=1e4,max=1e6, step=1e4))\n",
    "foo"
   ]
  },
  {
   "cell_type": "code",
   "execution_count": 96,
   "id": "78d2d117",
   "metadata": {},
   "outputs": [
    {
     "data": {
      "application/vnd.jupyter.widget-view+json": {
       "model_id": "4c11b2606b7442f2b03270b5a88041d6",
       "version_major": 2,
       "version_minor": 0
      },
      "text/plain": [
       "HBox(children=(IntSlider(value=0), IntSlider(value=0), IntSlider(value=0)))"
      ]
     },
     "metadata": {},
     "output_type": "display_data"
    },
    {
     "data": {
      "application/vnd.jupyter.widget-view+json": {
       "model_id": "e05e600d27bf49b880e3ae42669e0a09",
       "version_major": 2,
       "version_minor": 0
      },
      "text/plain": [
       "Output()"
      ]
     },
     "metadata": {},
     "output_type": "display_data"
    }
   ],
   "source": [
    "a=widgets.IntSlider()\n",
    "b=widgets.IntSlider()\n",
    "c=widgets.IntSlider()\n",
    "\n",
    "ui=widgets.HBox([a,b,c])\n",
    "\n",
    "def f(a,b,c):\n",
    "    print((a,b,c))\n",
    "    return (a+b+c)\n",
    "\n",
    "out=widgets.interactive_output(f,{\"a\":a,\"b\":b, \"c\":c})\n",
    "display(ui,out)"
   ]
  },
  {
   "cell_type": "code",
   "execution_count": 97,
   "id": "e98eae50",
   "metadata": {},
   "outputs": [
    {
     "data": {
      "text/plain": [
       "'sdrawkcabi '"
      ]
     },
     "execution_count": 97,
     "metadata": {},
     "output_type": "execute_result"
    }
   ],
   "source": [
    "def reverse(x):\n",
    "    return x[::-1]\n",
    "reverse(\" ibackwards\")\n"
   ]
  },
  {
   "cell_type": "code",
   "execution_count": 100,
   "id": "524e0c40",
   "metadata": {},
   "outputs": [
    {
     "data": {
      "application/vnd.jupyter.widget-view+json": {
       "model_id": "b603d54d3682497c894661a8e313df80",
       "version_major": 2,
       "version_minor": 0
      },
      "text/plain": [
       "interactive(children=(FloatSlider(value=1.0, description='k', max=2.0, min=0.5), FloatSlider(value=2.0, descri…"
      ]
     },
     "metadata": {},
     "output_type": "display_data"
    },
    {
     "data": {
      "image/png": "[encoded data removed]",
      "text/plain": [
       "<Figure size 432x288 with 1 Axes>"
      ]
     },
     "metadata": {
      "needs_background": "light"
     },
     "output_type": "display_data"
    }
   ],
   "source": [
    "@interact(k=(0.5,2), p=(0,2*np.pi))\n",
    "def plot_f(k=1,p=2):\n",
    "    x=np.linspace(0,4*np.pi)\n",
    "    y=np.sin(k*x +p)\n",
    "    plt.plot(x,y)\n",
    "    \n",
    "plot_f(1.3,3)"
   ]
  },
  {
   "cell_type": "code",
   "execution_count": 103,
   "id": "896dc710",
   "metadata": {},
   "outputs": [
    {
     "data": {
      "application/vnd.jupyter.widget-view+json": {
       "model_id": "98d0190fd51f4572b96f28007242f8f9",
       "version_major": 2,
       "version_minor": 0
      },
      "text/plain": [
       "FloatText(value=0.0)"
      ]
     },
     "metadata": {},
     "output_type": "display_data"
    },
    {
     "data": {
      "application/vnd.jupyter.widget-view+json": {
       "model_id": "0b90aff01bdf407498fe8e9c53c80089",
       "version_major": 2,
       "version_minor": 0
      },
      "text/plain": [
       "FloatSlider(value=0.0)"
      ]
     },
     "metadata": {},
     "output_type": "display_data"
    }
   ],
   "source": [
    "a= widgets.FloatText()\n",
    "b= widgets.FloatSlider()\n",
    "display(a,b)\n",
    "\n",
    "mylink= widgets.link((a,\"value\"),(b,\"value\"))"
   ]
  },
  {
   "cell_type": "code",
   "execution_count": 128,
   "id": "9570021f",
   "metadata": {},
   "outputs": [
    {
     "data": {
      "application/vnd.jupyter.widget-view+json": {
       "model_id": "4eb27e99a64240f38478d0969789a815",
       "version_major": 2,
       "version_minor": 0
      },
      "text/plain": [
       "Output(layout=Layout(border='1px solid black'), outputs=({'output_type': 'stream', 'text': '0 Practice !\\n1 Pr…"
      ]
     },
     "metadata": {},
     "output_type": "display_data"
    }
   ],
   "source": [
    "out1=widgets.Output(layout={\"border\": \"1px solid black\"})\n",
    "out1\n",
    "\n",
    "with out1:\n",
    "    for i in range(2):\n",
    "        print(i, \"Practice !\")\n",
    "\n",
    "from IPython.display import YouTubeVideo\n",
    "with out1:\n",
    "    display(YouTubeVideo(\"7equ8iCkaoY\"))\n",
    "out1"
   ]
  },
  {
   "cell_type": "code",
   "execution_count": 129,
   "id": "81c54402",
   "metadata": {},
   "outputs": [],
   "source": [
    "with out1:\n",
    "    display(widgets.IntSlider())"
   ]
  },
  {
   "cell_type": "code",
   "execution_count": 133,
   "id": "0c024384",
   "metadata": {},
   "outputs": [
    {
     "data": {
      "application/vnd.jupyter.widget-view+json": {
       "model_id": "385219d629a7478b859d7865189827ac",
       "version_major": 2,
       "version_minor": 0
      },
      "text/plain": [
       "HBox(children=(VBox(children=(IntSlider(value=0, description='a'), IntSlider(value=0, description='b'), IntSli…"
      ]
     },
     "metadata": {},
     "output_type": "display_data"
    }
   ],
   "source": [
    "a=widgets.IntSlider(description=\"a\")\n",
    "b=widgets.IntSlider(description=\"b\")\n",
    "c=widgets.IntSlider(description=\"c\")\n",
    "\n",
    "def f(a,b,c):\n",
    "    print(\"{}*{}*{}={}\".format(a,b,c,a*b*c))\n",
    "\n",
    "out1=widgets.interactive_output(f, {\"a\":a,\"b\":b,\"c\":c})\n",
    "widgets.HBox([widgets.VBox([a,b,c]),out1])"
   ]
  },
  {
   "cell_type": "markdown",
   "id": "be284ca0",
   "metadata": {},
   "source": [
    "## 4. Widget  Box Layout"
   ]
  },
  {
   "cell_type": "code",
   "execution_count": 135,
   "id": "dff0e587",
   "metadata": {},
   "outputs": [
    {
     "data": {
      "application/vnd.jupyter.widget-view+json": {
       "model_id": "a8c578f85962486a887ac5a59012b2e8",
       "version_major": 2,
       "version_minor": 0
      },
      "text/plain": [
       "Button(description='Hola (50% width, 80px height) button', layout=Layout(border='2px dotted blue', height='80p…"
      ]
     },
     "metadata": {},
     "output_type": "display_data"
    }
   ],
   "source": [
    "b=Button(description=\"Hola (50% width, 80px height) button\",\n",
    "        layout=Layout(width=\"50%\", height=\"80px\", border=\"2px dotted blue\"))\n",
    "b"
   ]
  },
  {
   "cell_type": "code",
   "execution_count": 136,
   "id": "cfd42008",
   "metadata": {},
   "outputs": [
    {
     "data": {
      "application/vnd.jupyter.widget-view+json": {
       "model_id": "979c8d87ff5b402fa29c26de088e9a84",
       "version_major": 2,
       "version_minor": 0
      },
      "text/plain": [
       "Button(description='Hola layout', layout=Layout(border='2px dotted blue', height='80px', width='50%'), style=B…"
      ]
     },
     "metadata": {},
     "output_type": "display_data"
    }
   ],
   "source": [
    "Button(description=\"Hola layout\", layout=b.layout)"
   ]
  },
  {
   "cell_type": "code",
   "execution_count": 138,
   "id": "06e6589c",
   "metadata": {},
   "outputs": [
    {
     "data": {
      "application/vnd.jupyter.widget-view+json": {
       "model_id": "c40bb08575e241b089d1678c5ae37a91",
       "version_major": 2,
       "version_minor": 0
      },
      "text/plain": [
       "HBox(children=(VBox(children=(Button(description='Hola', style=ButtonStyle()), Button(description='Hello', sty…"
      ]
     },
     "metadata": {},
     "output_type": "display_data"
    }
   ],
   "source": [
    "words=[\"Hola\",\"Hello\",\"Hallo\",\"Hi\"]\n",
    "items=[Button(description=w) for w in words]\n",
    "left_box=VBox([items[0],items[1]])\n",
    "right_box=VBox([items[2],items[3]])\n",
    "HBox([left_box,right_box])"
   ]
  },
  {
   "cell_type": "code",
   "execution_count": 139,
   "id": "d9e9275e",
   "metadata": {},
   "outputs": [
    {
     "data": {
      "application/vnd.jupyter.widget-view+json": {
       "model_id": "9e0f207a14e14395ba5cf9827ec0d179",
       "version_major": 2,
       "version_minor": 0
      },
      "text/plain": [
       "Box(children=(Button(button_style='danger', description='Hola', layout=Layout(width='auto'), style=ButtonStyle…"
      ]
     },
     "metadata": {},
     "output_type": "display_data"
    }
   ],
   "source": [
    "items_layout=Layout(width=\"auto\")\n",
    "box_layout=Layout(display=\"flex\",\n",
    "                 flex_flow=\"column\",\n",
    "                 align_items=\"stretch\",\n",
    "                 border=\"solid\",\n",
    "                 width=\"20%\")\n",
    "words=[\"Hola\",\"Love\",\"Peace\",\"Dance\"]\n",
    "items=[Button(description=word, layout=items_layout, button_style=\"danger\") for word in words]\n",
    "box=Box(children=items,layout=box_layout)\n",
    "box"
   ]
  },
  {
   "cell_type": "code",
   "execution_count": 149,
   "id": "f51c343e",
   "metadata": {},
   "outputs": [
    {
     "data": {
      "application/vnd.jupyter.widget-view+json": {
       "model_id": "cce6eceb5a1248beae5a0ce4cdeca39a",
       "version_major": 2,
       "version_minor": 0
      },
      "text/plain": [
       "VBox(children=(Label(value='Scroll horizontally:'), Box(children=(Button(button_style='warning', description='…"
      ]
     },
     "metadata": {},
     "output_type": "display_data"
    }
   ],
   "source": [
    "item_layout=Layout(height=\"100px\", min_width=\"40px\")\n",
    "items=[Button(layout=item_layout,description=str(i),button_style=\"warning\")\n",
    "      for i in range(13)]\n",
    "box_layout=Layout(overflow_x=\"scroll\",\n",
    "                 border=\"3px solid black\",\n",
    "                 width=\"500px\",\n",
    "                 height=\"\",\n",
    "                 flex_flow=\"row\",\n",
    "                 display=\"flex\")\n",
    "carousel=Box(children=items, layout=box_layout)\n",
    "VBox([Label(\"Scroll horizontally:\"),carousel])\n",
    "#items[0].layout.min_width=\"10px\""
   ]
  },
  {
   "cell_type": "code",
   "execution_count": 156,
   "id": "46659186",
   "metadata": {},
   "outputs": [
    {
     "data": {
      "application/vnd.jupyter.widget-view+json": {
       "model_id": "4d44f673e1c844f9ae6131ab534f4105",
       "version_major": 2,
       "version_minor": 0
      },
      "text/plain": [
       "GridBox(children=(Button(description='0', layout=Layout(height='auto', width='auto'), style=ButtonStyle(button…"
      ]
     },
     "metadata": {},
     "output_type": "display_data"
    }
   ],
   "source": [
    "GridBox(children=[Button(description=str(i),\n",
    "                        layout=Layout(width=\"auto\", height=\"auto\"),\n",
    "                              style=ButtonStyle(button_color=\"darkseagreen\")) for i in range (8)],\n",
    "     \n",
    "        layout=Layout(width=\"50%\",\n",
    "                    grid_template_columns=\"100px 50px 100px\",\n",
    "                    grid_template_row=\"80px auto 80px\",\n",
    "                    grid_gap=\"5px 10px\")\n",
    ")\n"
   ]
  },
  {
   "cell_type": "code",
   "execution_count": 162,
   "id": "b1b8dfa6",
   "metadata": {},
   "outputs": [
    {
     "data": {
      "application/vnd.jupyter.widget-view+json": {
       "model_id": "f23231fb8b7b4a4a967ec612218e8c1f",
       "version_major": 2,
       "version_minor": 0
      },
      "text/plain": [
       "GridBox(children=(Button(description='Header', layout=Layout(grid_area='header', width='auto'), style=ButtonSt…"
      ]
     },
     "metadata": {},
     "output_type": "display_data"
    }
   ],
   "source": [
    "header=Button(description=\"Header\",\n",
    "             layout=Layout(width=\"auto\",grid_area=\"header\"),\n",
    "             style=ButtonStyle(button_color=\"lightblue\"))\n",
    "\n",
    "main=Button(description=\"Main\",\n",
    "             layout=Layout(width=\"auto\",grid_area=\"main\"),\n",
    "             style=ButtonStyle(button_color=\"moccasin\"))\n",
    "\n",
    "sidebar=Button(description=\"Sidebar\",\n",
    "             layout=Layout(width=\"auto\",grid_area=\"sidebar\"),\n",
    "             style=ButtonStyle(button_color=\"salmon\"))\n",
    "\n",
    "footer=Button(description=\"Footer\",\n",
    "             layout=Layout(width=\"auto\",grid_area=\"footer\"),\n",
    "             style=ButtonStyle(button_color=\"olive\"))\n",
    "\n",
    "GridBox(children=[header,main, sidebar,footer],\n",
    "       layout=Layout(\n",
    "       width=\"50%\",\n",
    "       grid_template_rows=\"auto auto auto\",\n",
    "       grid_template_columns=\"25% 25% 25% 25%\",\n",
    "       grid_template_areas='''\n",
    "       \"header header header header\"\n",
    "       \"main main. sidebar\"\n",
    "       \"footer footer footer footer\"\n",
    "       ''')\n",
    "       )\n"
   ]
  },
  {
   "cell_type": "code",
   "execution_count": null,
   "id": "0860252c",
   "metadata": {},
   "outputs": [],
   "source": []
  },
  {
   "cell_type": "code",
   "execution_count": null,
   "id": "605a56d2",
   "metadata": {},
   "outputs": [],
   "source": []
  }
 ],
 "metadata": {
  "kernelspec": {
   "display_name": "Python 3",
   "language": "python",
   "name": "python3"
  },
  "language_info": {
   "codemirror_mode": {
    "name": "ipython",
    "version": 3
   },
   "file_extension": ".py",
   "mimetype": "text/x-python",
   "name": "python",
   "nbconvert_exporter": "python",
   "pygments_lexer": "ipython3",
   "version": "3.8.8"
  }
 },
 "nbformat": 4,
 "nbformat_minor": 5
}
