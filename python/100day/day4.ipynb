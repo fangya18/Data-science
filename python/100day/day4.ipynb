{
 "cells": [
  {
   "cell_type": "markdown",
   "metadata": {},
   "source": [
    "## Day 4\n",
    "### For- in Loop\n",
    "#### Ex1. Sum from m to n"
   ]
  },
  {
   "cell_type": "code",
   "execution_count": 3,
   "metadata": {},
   "outputs": [],
   "source": [
    "def sum1 (m,n):\n",
    "    sum=0\n",
    "    for i in range (m,n):\n",
    "        sum += i\n",
    "    print(sum)"
   ]
  },
  {
   "cell_type": "code",
   "execution_count": 6,
   "metadata": {},
   "outputs": [
    {
     "name": "stdout",
     "output_type": "stream",
     "text": [
      "5050\n"
     ]
    }
   ],
   "source": [
    "# sum from 1 to 100 \n",
    "sum1(1,101)\n"
   ]
  },
  {
   "cell_type": "markdown",
   "metadata": {},
   "source": [
    "#### Ex2. Sum for even numbers:"
   ]
  },
  {
   "cell_type": "code",
   "execution_count": 7,
   "metadata": {},
   "outputs": [],
   "source": [
    "def sum_even(m,n):\n",
    "    sum=0\n",
    "    for i in range (m,n):\n",
    "        if i%2==0:\n",
    "            sum +=i\n",
    "    print(sum)"
   ]
  },
  {
   "cell_type": "code",
   "execution_count": 9,
   "metadata": {},
   "outputs": [
    {
     "name": "stdout",
     "output_type": "stream",
     "text": [
      "2550\n"
     ]
    }
   ],
   "source": [
    "sum_even(1,101)"
   ]
  },
  {
   "cell_type": "markdown",
   "metadata": {},
   "source": [
    "### While Loop\n",
    "#### Ex3. Number Guessing Game"
   ]
  },
  {
   "cell_type": "code",
   "execution_count": 13,
   "metadata": {},
   "outputs": [],
   "source": [
    "import random\n",
    "\n",
    "def guess(x):\n",
    "    while True:\n",
    "        number=int(input())\n",
    "        if number < x:\n",
    "            print(\"Try a larger number\")\n",
    "        elif number > x:\n",
    "            print(\"Try a smaller number\")\n",
    "        else:\n",
    "            print(\"Bingo! 撒花 *——*！！！\")\n",
    "            break"
   ]
  },
  {
   "cell_type": "code",
   "execution_count": 14,
   "metadata": {},
   "outputs": [
    {
     "name": "stdin",
     "output_type": "stream",
     "text": [
      " 3\n"
     ]
    },
    {
     "name": "stdout",
     "output_type": "stream",
     "text": [
      "Try a larger number\n"
     ]
    },
    {
     "name": "stdin",
     "output_type": "stream",
     "text": [
      " 5\n"
     ]
    },
    {
     "name": "stdout",
     "output_type": "stream",
     "text": [
      "Bingo! 撒花 *——*！！！\n"
     ]
    }
   ],
   "source": [
    "guess(5)"
   ]
  },
  {
   "cell_type": "markdown",
   "metadata": {},
   "source": [
    "#### Ex4. Multiplication Table "
   ]
  },
  {
   "cell_type": "code",
   "execution_count": 31,
   "metadata": {},
   "outputs": [],
   "source": [
    "def mtable(m,n):\n",
    "    for i in range (m,n):\n",
    "        for j in range (1, i+1):\n",
    "            print(\"%d*%d=%d \" %(i,j, i*j) , end=\"\\t\")\n",
    "        print()\n",
    "# Print the previous results        "
   ]
  },
  {
   "cell_type": "code",
   "execution_count": 32,
   "metadata": {},
   "outputs": [
    {
     "name": "stdout",
     "output_type": "stream",
     "text": [
      "1*1=1 \t\n",
      "2*1=2 \t2*2=4 \t\n",
      "3*1=3 \t3*2=6 \t3*3=9 \t\n",
      "4*1=4 \t4*2=8 \t4*3=12 \t4*4=16 \t\n",
      "5*1=5 \t5*2=10 \t5*3=15 \t5*4=20 \t5*5=25 \t\n",
      "6*1=6 \t6*2=12 \t6*3=18 \t6*4=24 \t6*5=30 \t6*6=36 \t\n",
      "7*1=7 \t7*2=14 \t7*3=21 \t7*4=28 \t7*5=35 \t7*6=42 \t7*7=49 \t\n",
      "8*1=8 \t8*2=16 \t8*3=24 \t8*4=32 \t8*5=40 \t8*6=48 \t8*7=56 \t8*8=64 \t\n",
      "9*1=9 \t9*2=18 \t9*3=27 \t9*4=36 \t9*5=45 \t9*6=54 \t9*7=63 \t9*8=72 \t9*9=81 \t\n"
     ]
    }
   ],
   "source": [
    "mtable(1,10)"
   ]
  },
  {
   "cell_type": "markdown",
   "metadata": {},
   "source": [
    "#### Ex5. The GCD and LCD "
   ]
  },
  {
   "cell_type": "code",
   "execution_count": 38,
   "metadata": {},
   "outputs": [],
   "source": [
    "def gcd_lcd(s,t):\n",
    "    if s> t:\n",
    "        s,t=t,s\n",
    "    for factor in range (s, 0, -1):\n",
    "        if s % factor ==0 and t % factor==0:\n",
    "            print(\"GCD (%d, %d)= %d\" %(s,t, factor))\n",
    "            print(\"LCM (%d, %d)= %d\" %(s,t, s*t//factor))\n",
    "            break\n",
    "        "
   ]
  },
  {
   "cell_type": "code",
   "execution_count": 34,
   "metadata": {},
   "outputs": [
    {
     "name": "stdout",
     "output_type": "stream",
     "text": [
      "GCD (2, 4)= 2\n",
      "LCM (2, 4)= 4\n"
     ]
    }
   ],
   "source": [
    "gcd_lcd(2,4)"
   ]
  },
  {
   "cell_type": "code",
   "execution_count": 35,
   "metadata": {},
   "outputs": [
    {
     "name": "stdout",
     "output_type": "stream",
     "text": [
      "GCD (1, 3)= 1\n",
      "LCM (1, 3)= 3\n"
     ]
    }
   ],
   "source": [
    "gcd_lcd(1,3)"
   ]
  },
  {
   "cell_type": "code",
   "execution_count": 39,
   "metadata": {},
   "outputs": [
    {
     "name": "stdout",
     "output_type": "stream",
     "text": [
      "GCD (3, 4)= 1\n",
      "LCM (3, 4)= 12\n"
     ]
    }
   ],
   "source": [
    "gcd_lcd(4,3)"
   ]
  },
  {
   "cell_type": "markdown",
   "metadata": {},
   "source": [
    "See you Tomorrow! \n",
    "\n",
    "\n",
    "Ref:https://github.com/jackfrued/Python-100-Days/blob/master/Day01-15/04.%E5%BE%AA%E7%8E%AF%E7%BB%93%E6%9E%84.md"
   ]
  },
  {
   "cell_type": "code",
   "execution_count": null,
   "metadata": {},
   "outputs": [],
   "source": []
  }
 ],
 "metadata": {
  "kernelspec": {
   "display_name": "Python 3",
   "language": "python",
   "name": "python3"
  },
  "language_info": {
   "codemirror_mode": {
    "name": "ipython",
    "version": 3
   },
   "file_extension": ".py",
   "mimetype": "text/x-python",
   "name": "python",
   "nbconvert_exporter": "python",
   "pygments_lexer": "ipython3",
   "version": "3.7.8"
  }
 },
 "nbformat": 4,
 "nbformat_minor": 4
}
