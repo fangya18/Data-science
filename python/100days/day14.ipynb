{
 "cells": [
  {
   "cell_type": "markdown",
   "metadata": {},
   "source": [
    "## Day 14\n",
    "### Email\n",
    "#### Ex1. Use python to send an email to myself\n",
    "* gmail: remember to change the less secure pass to: ON\n",
    "\n",
    "https://myaccount.google.com/lesssecureapps"
   ]
  },
  {
   "cell_type": "code",
   "execution_count": 26,
   "metadata": {},
   "outputs": [
    {
     "data": {
      "text/plain": [
       "(221, b'2.0.0 closing connection c5sm3748212qtp.62 - gsmtp')"
      ]
     },
     "execution_count": 26,
     "metadata": {},
     "output_type": "execute_result"
    }
   ],
   "source": [
    "import email\n",
    "import smtplib\n",
    "\n",
    "msg = email.message_from_string('Yibo asks you to play the skateboard')\n",
    "msg['From'] = \"myemail@gmail.com\"\n",
    "msg['To'] = \"myemail@gmail.com\"\n",
    "msg['Subject'] = \"Hola hola\"\n",
    "\n",
    "s = smtplib.SMTP(\"smtp.gmail.com\",587)\n",
    "s.ehlo() # Hostname to send for this command defaults to the fully qualified domain name of the local host.\n",
    "s.starttls() #Puts connection to SMTP server in TLS mode\n",
    "s.ehlo()\n",
    "s.login('myemail@gmail.com', 'iloveu')\n",
    "\n",
    "s.sendmail(\"anya.tan.sas@gmail.com\", \"anya.tan.sas@gmail.com\",  msg.as_string())\n",
    "\n",
    "s.quit()"
   ]
  },
  {
   "cell_type": "code",
   "execution_count": 27,
   "metadata": {},
   "outputs": [
    {
     "data": {
      "image/png": "[encoded data removed]",
      "text/plain": [
       "<IPython.core.display.Image object>"
      ]
     },
     "metadata": {
      "image/png": {
       "height": "275",
       "width": "500"
      }
     },
     "output_type": "display_data"
    }
   ],
   "source": [
    "from IPython.display import Image\n",
    "from IPython.display import HTML, display\n",
    "\n",
    "p1=Image(filename=\"/Users/email.png\" ,width=\"500\", height=\"275\" )\n",
    "display(p1)"
   ]
  },
  {
   "cell_type": "markdown",
   "metadata": {},
   "source": [
    "#### Reference:\n",
    "https://github.com/jackfrued/Python-100-Days/blob/master/Day01-15/14.%E7%BD%91%E7%BB%9C%E7%BC%96%E7%A8%8B%E5%85%A5%E9%97%A8%E5%92%8C%E7%BD%91%E7%BB%9C%E5%BA%94%E7%94%A8%E5%BC%80%E5%8F%91.md\n",
    "\n",
    "https://stackoverflow.com/questions/13411486/send-email-via-hotmail-in-python"
   ]
  }
 ],
 "metadata": {
  "kernelspec": {
   "display_name": "Python 3",
   "language": "python",
   "name": "python3"
  },
  "language_info": {
   "codemirror_mode": {
    "name": "ipython",
    "version": 3
   },
   "file_extension": ".py",
   "mimetype": "text/x-python",
   "name": "python",
   "nbconvert_exporter": "python",
   "pygments_lexer": "ipython3",
   "version": "3.6.3"
  }
 },
 "nbformat": 4,
 "nbformat_minor": 2
}
