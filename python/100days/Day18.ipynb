{
 "cells": [
  {
   "cell_type": "markdown",
   "metadata": {},
   "source": [
    "## Day 18\n",
    "### Function\n",
    "#### Ex1. filter, map"
   ]
  },
  {
   "cell_type": "code",
   "execution_count": 1,
   "metadata": {
    "collapsed": true
   },
   "outputs": [],
   "source": [
    "items1=list(map(lambda x: x**2, filter(lambda x: x%2, range(1,10))))\n",
    "items2=[x**2 for x in range(1,10) if x%2 ]"
   ]
  },
  {
   "cell_type": "code",
   "execution_count": 3,
   "metadata": {},
   "outputs": [
    {
     "data": {
      "text/plain": [
       "[1, 9, 25, 49, 81]"
      ]
     },
     "execution_count": 3,
     "metadata": {},
     "output_type": "execute_result"
    }
   ],
   "source": [
    "items1"
   ]
  },
  {
   "cell_type": "code",
   "execution_count": 4,
   "metadata": {},
   "outputs": [
    {
     "data": {
      "text/plain": [
       "[1, 9, 25, 49, 81]"
      ]
     },
     "execution_count": 4,
     "metadata": {},
     "output_type": "execute_result"
    }
   ],
   "source": [
    "items2"
   ]
  },
  {
   "cell_type": "code",
   "execution_count": 13,
   "metadata": {
    "collapsed": true
   },
   "outputs": [],
   "source": [
    "from functools import wraps\n",
    "from time import time\n",
    "\n",
    "\n",
    "def record(output):\n",
    "    \"\"\"可以参数化的装饰器\"\"\"\n",
    "    def decorate(func):\n",
    "\n",
    "        @wraps(func)\n",
    "        def wrapper(*args, **kwargs):\n",
    "            start = time()\n",
    "            result = func(*args, **kwargs)\n",
    "            output(func.__name__, time() - start)\n",
    "            return result\n",
    "            \n",
    "        return wrapper\n",
    "\n",
    "    return decorate"
   ]
  },
  {
   "cell_type": "code",
   "execution_count": 14,
   "metadata": {},
   "outputs": [
    {
     "data": {
      "text/plain": [
       "<function __main__.record.<locals>.decorate>"
      ]
     },
     "execution_count": 14,
     "metadata": {},
     "output_type": "execute_result"
    }
   ],
   "source": [
    "record()"
   ]
  },
  {
   "cell_type": "markdown",
   "metadata": {},
   "source": [
    "#### Ex2. Encryption\n",
    "* RSA\n",
    "* AES"
   ]
  },
  {
   "cell_type": "code",
   "execution_count": 2,
   "metadata": {
    "collapsed": true
   },
   "outputs": [],
   "source": [
    "import base64\n",
    "from hashlib import md5\n",
    "from Crypto.Cipher import AES\n",
    "from Crypto import Random\n",
    "from Crypto.PublicKey import RSA\n",
    "\n",
    "#RSA\n",
    "def rsa():\n",
    "    key_pair=RSA.generate(1024)\n",
    "    public_key=RSA.importKey(key_pair.publickey().exportKey())\n",
    "    private_key=RSA.importKey(key_pair.exportKey())\n",
    "    msg1=\"hola hola Yibo dance is awsl\"\n",
    "    data=public_key.encrypt(msg1.encode(),None)\n",
    "    msg2=base64.b64encode(data[0])\n",
    "    print(msg2)\n",
    "    data=base64.b64decode(msg2)\n",
    "    msg3=private_key.decrypt(data)\n",
    "    print(msg3.decode())\n",
    "    "
   ]
  },
  {
   "cell_type": "code",
   "execution_count": 3,
   "metadata": {},
   "outputs": [
    {
     "name": "stdout",
     "output_type": "stream",
     "text": [
      "b'MY1h+PdOYVvHX+jZb/bIGAX5VE4jZyGsYRBf7EC+//ZD6TALNlFbNhnNvOY5CNt8JreTIX3bxT0e0HqXo3Quz41XIAry+1Gf3k4WNLNHZNQCVGx6Rn+/awxTZqdiEwhhIfBk3HXW6zQJJiQ6LEF3e04Btw2SMucVPEOczWr1Nb4='\n",
      "hola hola Yibo dance is awsl\n"
     ]
    }
   ],
   "source": [
    "rsa()"
   ]
  },
  {
   "cell_type": "code",
   "execution_count": 24,
   "metadata": {},
   "outputs": [
    {
     "name": "stdout",
     "output_type": "stream",
     "text": [
      "b'RpT+\\xff\\xe7\\xd3\\x03\\xe4\\nk\\x00\\\\\\xb9\\x80\\xed\\xc1\\xbb/\\xa5'\n",
      "Yibo.W is a cool guy\n"
     ]
    }
   ],
   "source": [
    "#AES\n",
    "from Crypto.Cipher import AES\n",
    "key ='0123456789abcdef'\n",
    "IV = 16 * '\\x00'\n",
    "str1=\"Yibo.W is a cool guy\"\n",
    "cipher=AES.new(key, AES.MODE_CFB,IV=IV)\n",
    "str2=cipher.encrypt(str1)\n",
    "print(str2)\n",
    "cipher= AES.new(key, AES.MODE_CFB,IV=IV)\n",
    "str3= cipher.decrypt(str2)\n",
    "print(str3.decode())"
   ]
  },
  {
   "cell_type": "markdown",
   "metadata": {},
   "source": [
    "#### Ex3. Threading  singleton"
   ]
  },
  {
   "cell_type": "code",
   "execution_count": 43,
   "metadata": {},
   "outputs": [
    {
     "name": "stdout",
     "output_type": "stream",
     "text": [
      "Leader\n",
      "True\n",
      "Old school: Yibo Wang\n",
      "Old school: Yibo Wang\n"
     ]
    }
   ],
   "source": [
    "import threading\n",
    "from functools import wraps\n",
    "\n",
    "\n",
    "def singleton(cls):\n",
    "    instances = {}\n",
    "    lock = threading.Lock()\n",
    "\n",
    "    @wraps(cls)\n",
    "    def wrapper(*args, **kwargs):\n",
    "        if cls not in instances:\n",
    "            with lock:\n",
    "                if cls not in instances:\n",
    "                    instances[cls] = cls(*args, **kwargs)\n",
    "        return instances[cls]\n",
    "    return wrapper\n",
    "\n",
    "\n",
    "@singleton\n",
    "class Leader():\n",
    "\n",
    "    def __init__(self, name, dance):\n",
    "        self.name = name\n",
    "        self.dance = dance\n",
    "\n",
    "    def __str__(self):\n",
    "        return f'{self.dance}: {self.name}'\n",
    "\n",
    "# p1 doesnt matter    \n",
    "def soc():\n",
    "    print(Leader.__name__)\n",
    "    p2 = Leader('Yibo Wang', 'Old school')\n",
    "    p1 = Leader('Jackson Yee', 'Urban')\n",
    "    print(p1 == p2)\n",
    "    print(p2)\n",
    "    print(p1)\n",
    "\n",
    "soc()"
   ]
  },
  {
   "cell_type": "markdown",
   "metadata": {},
   "source": [
    "#### Ex4. Poker Game"
   ]
  },
  {
   "cell_type": "code",
   "execution_count": 45,
   "metadata": {},
   "outputs": [
    {
     "name": "stdout",
     "output_type": "stream",
     "text": [
      "Yibo: [♠︎7, ♠︎10, ♠︎Q, ♥︎4, ♥︎Q, ♣︎2, ♣︎5, ♣︎6, ♣︎9, ♦︎A, ♦︎4, ♦︎9, ♦︎K]\n",
      "Lay: [♠︎5, ♠︎6, ♠︎8, ♠︎9, ♥︎A, ♥︎2, ♥︎3, ♥︎5, ♥︎J, ♣︎4, ♦︎2, ♦︎6, ♦︎J]\n",
      "Jackson: [♠︎4, ♥︎7, ♥︎8, ♥︎10, ♥︎K, ♣︎A, ♣︎3, ♣︎7, ♣︎J, ♦︎3, ♦︎5, ♦︎7, ♦︎8]\n",
      "Wa: [♠︎A, ♠︎2, ♠︎3, ♠︎J, ♠︎K, ♥︎6, ♥︎9, ♣︎8, ♣︎10, ♣︎Q, ♣︎K, ♦︎10, ♦︎Q]\n"
     ]
    }
   ],
   "source": [
    "from enum import Enum, unique\n",
    "\n",
    "import random\n",
    "\n",
    "\n",
    "@unique\n",
    "class Suite(Enum):\n",
    "\n",
    "    SPADE, HEART, CLUB, DIAMOND = range(4)\n",
    "\n",
    "    def __lt__(self, other):\n",
    "        return self.value < other.value\n",
    "\n",
    "\n",
    "class Card():\n",
    "\n",
    "    def __init__(self, suite, face):\n",
    "        self.suite = suite\n",
    "        self.face = face\n",
    "\n",
    "    def show(self):\n",
    "        suites = ['♠︎', '♥︎', '♣︎', '♦︎']\n",
    "        faces = ['', 'A', '2', '3', '4', '5', '6', '7', '8', '9', '10', 'J', 'Q', 'K']\n",
    "        return f'{suites[self.suite.value]}{faces[self.face]}'\n",
    "\n",
    "    def __repr__(self):\n",
    "        return self.show()\n",
    "\n",
    "\n",
    "class Poker():\n",
    "\n",
    "    def __init__(self):\n",
    "        self.index = 0\n",
    "        self.cards = [Card(suite, face)\n",
    "                      for suite in Suite\n",
    "                      for face in range(1, 14)]\n",
    "\n",
    "    def shuffle(self):\n",
    "        \"\"\"shuttle\"\"\"\n",
    "        random.shuffle(self.cards)\n",
    "        self.index = 0\n",
    "\n",
    "    def deal(self):\n",
    "        \"\"\"hand\"\"\"\n",
    "        card = self.cards[self.index]\n",
    "        self.index += 1\n",
    "        return card\n",
    "\n",
    "    @property\n",
    "    def has_more(self):\n",
    "        return self.index < len(self.cards)\n",
    "\n",
    "\n",
    "class Player():\n",
    "\n",
    "    def __init__(self, name):\n",
    "        self.name = name\n",
    "        self.cards = []\n",
    "\n",
    "    def get_one(self, card):\n",
    "        \"\"\"take a card\"\"\"\n",
    "        self.cards.append(card)\n",
    "\n",
    "    def sort(self, comp=lambda card: (card.suite, card.face)):\n",
    "        self.cards.sort(key=comp)\n",
    "\n",
    "\n",
    "def main():\n",
    "    poker = Poker()\n",
    "    poker.shuffle()\n",
    "    players = [Player('Yibo'), Player('Lay'), Player('Jackson'), Player('Wa')]\n",
    "    while poker.has_more:\n",
    "        for player in players:\n",
    "                player.get_one(poker.deal())\n",
    "    for player in players:\n",
    "        player.sort()\n",
    "        print(player.name, end=': ')\n",
    "        print(player.cards)\n",
    "\n",
    "\n",
    "if __name__ == '__main__':\n",
    "    main()"
   ]
  },
  {
   "cell_type": "markdown",
   "metadata": {},
   "source": [
    "#### Ex5. Python Variable Order\n",
    "* LEGB: Local -> Embedded -> Global -> Built-in\n"
   ]
  },
  {
   "cell_type": "code",
   "execution_count": 51,
   "metadata": {},
   "outputs": [
    {
     "name": "stdout",
     "output_type": "stream",
     "text": [
      "300\n",
      "200\n",
      "200\n"
     ]
    }
   ],
   "source": [
    "x=100\n",
    "\n",
    "def globalx():\n",
    "    #if no global x, then print(x)=100\n",
    "    global x\n",
    "    x=200\n",
    "    \n",
    "    def localx():\n",
    "        x=300\n",
    "        print(x)\n",
    "    \n",
    "    localx()\n",
    "    print(x)\n",
    "    \n",
    "globalx()\n",
    "print(x)"
   ]
  },
  {
   "cell_type": "code",
   "execution_count": null,
   "metadata": {
    "collapsed": true
   },
   "outputs": [],
   "source": []
  }
 ],
 "metadata": {
  "kernelspec": {
   "display_name": "Python 3",
   "language": "python",
   "name": "python3"
  },
  "language_info": {
   "codemirror_mode": {
    "name": "ipython",
    "version": 3
   },
   "file_extension": ".py",
   "mimetype": "text/x-python",
   "name": "python",
   "nbconvert_exporter": "python",
   "pygments_lexer": "ipython3",
   "version": "3.6.3"
  }
 },
 "nbformat": 4,
 "nbformat_minor": 2
}
