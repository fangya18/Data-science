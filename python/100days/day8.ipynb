{
 "cells": [
  {
   "cell_type": "markdown",
   "metadata": {},
   "source": [
    "## Day 8\n",
    "### Construct Class\n",
    "#### Ex1. Idol Class"
   ]
  },
  {
   "cell_type": "code",
   "execution_count": 2,
   "metadata": {},
   "outputs": [],
   "source": [
    "class Idol(object):\n",
    "    def __init__(self, name, age):\n",
    "        self.name=name\n",
    "        self.age=age\n",
    "    def study(self, course):\n",
    "        print(\"%s is practicing %s. \" %(self.name, course))\n",
    "    def add_oil(self):\n",
    "        if self.age <20:\n",
    "            print(\"%s : 你要努力来见我！U r very important, please treasure your importance <3\" %self.name)\n",
    "        else:\n",
    "            print(\"%s : 业务能力是别人拿不走的资本！ YAMAHA BLUE...\" %self.name)\n",
    "    def dance(self):\n",
    "        if self.age <20 :\n",
    "            print(\"%s is the Team Leader of the Street Dance of China S1 & 和1000喜一起滑冰 *_*\" %self.name)\n",
    "        else :\n",
    "            print(\"%s is the Team Leader of the Street Dance of China S3 & 和酷盖一起玩滑板 ^_^\" %self.name)"
   ]
  },
  {
   "cell_type": "code",
   "execution_count": 3,
   "metadata": {},
   "outputs": [
    {
     "name": "stdout",
     "output_type": "stream",
     "text": [
      "Yibo is practicing Skateboard. \n",
      "Yibo : 业务能力是别人拿不走的资本！ YAMAHA BLUE...\n",
      "Yibo is the Team Leader of the Street Dance of China S3 & 和酷盖一起玩滑板 ^_^\n"
     ]
    }
   ],
   "source": [
    "yibo=Idol(\"Yibo\", 23)\n",
    "yibo.study(\"Skateboard\")\n",
    "yibo.add_oil()\n",
    "yibo.dance()"
   ]
  },
  {
   "cell_type": "code",
   "execution_count": 4,
   "metadata": {},
   "outputs": [
    {
     "name": "stdout",
     "output_type": "stream",
     "text": [
      "Jackson Yee 千玺 is practicing Painting and Sculpture. \n",
      "Yibo : 业务能力是别人拿不走的资本！ YAMAHA BLUE...\n",
      "Jackson Yee 千玺 is the Team Leader of the Street Dance of China S1 & 和1000喜一起滑冰 *_*\n"
     ]
    }
   ],
   "source": [
    "jackson=Idol(\"Jackson Yee 千玺\", 19)\n",
    "jackson.study(\"Painting and Sculpture\")\n",
    "yibo.add_oil()\n",
    "jackson.dance()"
   ]
  },
  {
   "cell_type": "code",
   "execution_count": 5,
   "metadata": {},
   "outputs": [
    {
     "name": "stdout",
     "output_type": "stream",
     "text": [
      "Jackson Yee is practicing calligraphy. \n",
      "Jackson Yee : 你要努力来见我！U r very important, please treasure your importance <3\n",
      "Jackson Yee is the Team Leader of the Street Dance of China S1 & 和1000喜一起滑冰 *_*\n",
      "Yibo is practicing Lego. \n",
      "Yibo : 业务能力是别人拿不走的资本！ YAMAHA BLUE...\n",
      "Yibo is the Team Leader of the Street Dance of China S3 & 和酷盖一起玩滑板 ^_^\n"
     ]
    }
   ],
   "source": [
    "def all1():\n",
    "    id1=Idol(\"Jackson Yee\" , 19 )\n",
    "    id1.study(\"calligraphy\")\n",
    "    id1.add_oil()\n",
    "    id1.dance()\n",
    "    id2=Idol(\"Yibo\", 23)\n",
    "    id2.study(\"Lego\")\n",
    "    id2.add_oil()\n",
    "    id2.dance()\n",
    "all1()"
   ]
  },
  {
   "cell_type": "markdown",
   "metadata": {},
   "source": [
    "#### Ex2. Public vs Private Class \n",
    " \" _ _\" : public class\n",
    " \n",
    " \n",
    " \"_ \": private class, It is for internal use only, that can be modified whenever class want."
   ]
  },
  {
   "cell_type": "code",
   "execution_count": 20,
   "metadata": {
    "collapsed": true
   },
   "outputs": [],
   "source": [
    "class Test:\n",
    "    def __init__(self,foo):\n",
    "        self.__foo=foo\n",
    "    \n",
    "    def __bar(self):\n",
    "        print(self.__foo)\n",
    "        print(\"__bar\")\n",
    "        \n",
    "def main():\n",
    "    test=Test(\"hello\")\n",
    "    test._Test__bar()\n",
    "    print(test._Test__foo)\n"
   ]
  },
  {
   "cell_type": "code",
   "execution_count": 21,
   "metadata": {},
   "outputs": [
    {
     "name": "stdout",
     "output_type": "stream",
     "text": [
      "hello\n",
      "__bar\n",
      "hello\n"
     ]
    }
   ],
   "source": [
    "main()"
   ]
  },
  {
   "cell_type": "code",
   "execution_count": 11,
   "metadata": {},
   "outputs": [
    {
     "name": "stdout",
     "output_type": "stream",
     "text": [
      "hello\n",
      "__bar\n",
      "hello\n"
     ]
    }
   ],
   "source": [
    "class Test:\n",
    "\n",
    "    def __init__(self, foo):\n",
    "        self.__foo = foo\n",
    "\n",
    "    def __bar(self):\n",
    "        print(self.__foo)\n",
    "        print('__bar')\n",
    "\n",
    "\n",
    "def main():\n",
    "    test = Test('hello')\n",
    "    test._Test__bar()\n",
    "    print(test._Test__foo)\n",
    "\n",
    "\n",
    "if __name__ == \"__main__\":\n",
    "    main()"
   ]
  },
  {
   "cell_type": "markdown",
   "metadata": {},
   "source": [
    "#### Ex4. Make A Clock"
   ]
  },
  {
   "cell_type": "code",
   "execution_count": 22,
   "metadata": {
    "collapsed": true
   },
   "outputs": [],
   "source": [
    "from time import sleep\n",
    "\n",
    "class Clock(object):\n",
    "    def __init__(self, hour=0, minute=0, second=0):\n",
    "        self._hour=hour\n",
    "        self._minute=minute\n",
    "        self._second=second\n",
    "        \n",
    "    def run(self):\n",
    "        self._second +=1\n",
    "        if self._second==60:\n",
    "            self._second=0\n",
    "            self._minute +=1\n",
    "            if self._minute==60:\n",
    "                self._minute =0\n",
    "                self._hour+=1\n",
    "                if self._hour==24:\n",
    "                    self._hour=0\n",
    "    def show(self):\n",
    "        return \"%02d:%02d:%02d\" % (self._hour,self._minute, self._second)"
   ]
  },
  {
   "cell_type": "code",
   "execution_count": 30,
   "metadata": {},
   "outputs": [],
   "source": [
    "def what_time(h,m,s):\n",
    "    clock=Clock(h,m,s)\n",
    "    while True:\n",
    "        print(clock.show())\n",
    "        sleep(1)\n",
    "        clock.run()"
   ]
  },
  {
   "cell_type": "code",
   "execution_count": 31,
   "metadata": {},
   "outputs": [
    {
     "name": "stdout",
     "output_type": "stream",
     "text": [
      "10:55:58\n",
      "10:55:59\n",
      "10:56:00\n",
      "10:56:01\n",
      "10:56:02\n",
      "10:56:03\n",
      "10:56:04\n",
      "10:56:05\n",
      "10:56:06\n"
     ]
    },
    {
     "ename": "KeyboardInterrupt",
     "evalue": "",
     "output_type": "error",
     "traceback": [
      "\u001b[1;31m---------------------------------------------------------------------------\u001b[0m",
      "\u001b[1;31mKeyboardInterrupt\u001b[0m                         Traceback (most recent call last)",
      "\u001b[1;32m<ipython-input-31-0737f1f27b64>\u001b[0m in \u001b[0;36m<module>\u001b[1;34m()\u001b[0m\n\u001b[1;32m----> 1\u001b[1;33m \u001b[0mwhat_time\u001b[0m\u001b[1;33m(\u001b[0m\u001b[1;36m10\u001b[0m\u001b[1;33m,\u001b[0m\u001b[1;36m55\u001b[0m\u001b[1;33m,\u001b[0m\u001b[1;36m58\u001b[0m\u001b[1;33m)\u001b[0m\u001b[1;33m\u001b[0m\u001b[0m\n\u001b[0m",
      "\u001b[1;32m<ipython-input-30-524c13b63011>\u001b[0m in \u001b[0;36mwhat_time\u001b[1;34m(h, m, s)\u001b[0m\n\u001b[0;32m      3\u001b[0m     \u001b[1;32mwhile\u001b[0m \u001b[1;32mTrue\u001b[0m \u001b[1;32mand\u001b[0m \u001b[0mm\u001b[0m \u001b[1;33m<\u001b[0m\u001b[1;36m56\u001b[0m\u001b[1;33m:\u001b[0m\u001b[1;33m\u001b[0m\u001b[0m\n\u001b[0;32m      4\u001b[0m         \u001b[0mprint\u001b[0m\u001b[1;33m(\u001b[0m\u001b[0mclock\u001b[0m\u001b[1;33m.\u001b[0m\u001b[0mshow\u001b[0m\u001b[1;33m(\u001b[0m\u001b[1;33m)\u001b[0m\u001b[1;33m)\u001b[0m\u001b[1;33m\u001b[0m\u001b[0m\n\u001b[1;32m----> 5\u001b[1;33m         \u001b[0msleep\u001b[0m\u001b[1;33m(\u001b[0m\u001b[1;36m1\u001b[0m\u001b[1;33m)\u001b[0m\u001b[1;33m\u001b[0m\u001b[0m\n\u001b[0m\u001b[0;32m      6\u001b[0m         \u001b[0mclock\u001b[0m\u001b[1;33m.\u001b[0m\u001b[0mrun\u001b[0m\u001b[1;33m(\u001b[0m\u001b[1;33m)\u001b[0m\u001b[1;33m\u001b[0m\u001b[0m\n",
      "\u001b[1;31mKeyboardInterrupt\u001b[0m: "
     ]
    }
   ],
   "source": [
    "what_time(10,55,58)"
   ]
  },
  {
   "cell_type": "markdown",
   "metadata": {},
   "source": [
    "#### Ex5. Calculate the distance between two points"
   ]
  },
  {
   "cell_type": "code",
   "execution_count": 35,
   "metadata": {
    "collapsed": true
   },
   "outputs": [],
   "source": [
    "from math import sqrt\n",
    "\n",
    "def dist(x1,y1, x2,y2):\n",
    "    dx=x2-x1\n",
    "    dy=y2-y1\n",
    "    d= sqrt(dx**2 +dy**2 )\n",
    "    \n",
    "    print (\"the distance between the point (%d,%d) and (%d,%d) is %.2f\" %(x1,y1,x2,y2,d))"
   ]
  },
  {
   "cell_type": "code",
   "execution_count": 36,
   "metadata": {},
   "outputs": [
    {
     "name": "stdout",
     "output_type": "stream",
     "text": [
      "the distance between the point (0,0) and (3,4) is 5.00\n"
     ]
    }
   ],
   "source": [
    "dist(0,0,3,4)"
   ]
  },
  {
   "cell_type": "code",
   "execution_count": 37,
   "metadata": {},
   "outputs": [
    {
     "name": "stdout",
     "output_type": "stream",
     "text": [
      "the distance between the point (2,3) and (7,8) is 7.07\n"
     ]
    }
   ],
   "source": [
    "dist(2,3,7,8)"
   ]
  },
  {
   "cell_type": "markdown",
   "metadata": {},
   "source": [
    "#### Ex6. Calculate the distance from a point move to another point\n",
    "note: we use an empty point to set the p2 as moving!"
   ]
  },
  {
   "cell_type": "code",
   "execution_count": 39,
   "metadata": {},
   "outputs": [],
   "source": [
    "from math import sqrt\n",
    "\n",
    "class point(object):\n",
    "    def __init__(self, x,y):\n",
    "        self.x=x\n",
    "        self.y=y\n",
    "        \n",
    "    def move_by(self, dx,dy):\n",
    "        self.x += dx\n",
    "        self.y += dy\n",
    "        \n",
    "    def dist_to(self, other):\n",
    "        dx= self.x-other.x\n",
    "        dy= self.y- other.y\n",
    "        return sqrt(dx**2 +dy**2)\n",
    "\n",
    "    def __str__(self):\n",
    "        return '(%s, %s)' % (str(self.x), str(self.y))\n",
    "        "
   ]
  },
  {
   "cell_type": "code",
   "execution_count": 45,
   "metadata": {},
   "outputs": [],
   "source": [
    "def one2two():\n",
    "    p1=point(0,0)\n",
    "    print(p1)\n",
    "    p2=point(0,0)\n",
    "    p2.move_by(3,4)\n",
    "    print(p2)\n",
    "    print(p1.dist_to(p2))"
   ]
  },
  {
   "cell_type": "code",
   "execution_count": 46,
   "metadata": {},
   "outputs": [
    {
     "name": "stdout",
     "output_type": "stream",
     "text": [
      "(0, 0)\n",
      "(3, 4)\n",
      "5.0\n"
     ]
    }
   ],
   "source": [
    "one2two()"
   ]
  },
  {
   "cell_type": "code",
   "execution_count": null,
   "metadata": {
    "collapsed": true
   },
   "outputs": [],
   "source": []
  }
 ],
 "metadata": {
  "kernelspec": {
   "display_name": "Python 3",
   "language": "python",
   "name": "python3"
  },
  "language_info": {
   "codemirror_mode": {
    "name": "ipython",
    "version": 3
   },
   "file_extension": ".py",
   "mimetype": "text/x-python",
   "name": "python",
   "nbconvert_exporter": "python",
   "pygments_lexer": "ipython3",
   "version": "3.6.3"
  }
 },
 "nbformat": 4,
 "nbformat_minor": 2
}
