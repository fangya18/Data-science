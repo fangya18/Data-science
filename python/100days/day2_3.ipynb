{
 "cells": [
  {
   "cell_type": "markdown",
   "metadata": {},
   "source": [
    "## 100 days of Python\n",
    "### Day 2 \n",
    "#### Ex.1 Fahrenheit to Celsius"
   ]
  },
  {
   "cell_type": "code",
   "execution_count": 61,
   "metadata": {},
   "outputs": [],
   "source": [
    "def temp(f):\n",
    "    c=round((f-32)/1.8, 2)\n",
    "    print (\"%d fahreneit is %d celsius\" %(f, c))"
   ]
  },
  {
   "cell_type": "code",
   "execution_count": 62,
   "metadata": {},
   "outputs": [
    {
     "name": "stdout",
     "output_type": "stream",
     "text": [
      "95 fahreneit is 35 celsius\n"
     ]
    }
   ],
   "source": [
    "temp(95)"
   ]
  },
  {
   "cell_type": "markdown",
   "metadata": {},
   "source": [
    "#### Ex.2 Radius and Circle "
   ]
  },
  {
   "cell_type": "code",
   "execution_count": 17,
   "metadata": {},
   "outputs": [],
   "source": [
    "import math\n",
    "def radius(r):\n",
    "    c=round((2*r*math.pi),2)\n",
    "    print(\"The circumference of radius %.2f inch is %.2f inch\" %(r, c))\n",
    "    a=round(math.pi*r*r,2)\n",
    "    print(\"The area of radius %.2f inch is %.2f inch^2\" %(r,a))"
   ]
  },
  {
   "cell_type": "code",
   "execution_count": 18,
   "metadata": {},
   "outputs": [
    {
     "name": "stdout",
     "output_type": "stream",
     "text": [
      "The circumference of radius 3.00 inch is 18.85 inch\n",
      "The area of radius 3.00 inch is 28.27 inch^2\n"
     ]
    }
   ],
   "source": [
    "radius(3)"
   ]
  },
  {
   "cell_type": "code",
   "execution_count": 19,
   "metadata": {},
   "outputs": [
    {
     "name": "stdout",
     "output_type": "stream",
     "text": [
      "The circumference of radius 6.00 inch is 37.70 inch\n",
      "The area of radius 6.00 inch is 113.10 inch^2\n"
     ]
    }
   ],
   "source": [
    "radius(6)"
   ]
  },
  {
   "cell_type": "markdown",
   "metadata": {},
   "source": [
    "#### Ex3 Leap year"
   ]
  },
  {
   "cell_type": "code",
   "execution_count": 23,
   "metadata": {},
   "outputs": [],
   "source": [
    "def leap(y):\n",
    "    if y%4==0 and y%100!=0 or y%400==0:\n",
    "        print (\"%d is a Leap Year \" %y)\n",
    "    else:\n",
    "        print (\"%d is Not a Leap Year\" %y)"
   ]
  },
  {
   "cell_type": "code",
   "execution_count": 25,
   "metadata": {},
   "outputs": [
    {
     "name": "stdout",
     "output_type": "stream",
     "text": [
      "2020 is a Leap Year \n",
      "1000 is Not a Leap Year\n"
     ]
    }
   ],
   "source": [
    "leap(2020)\n",
    "leap(1000)"
   ]
  },
  {
   "cell_type": "code",
   "execution_count": null,
   "metadata": {},
   "outputs": [],
   "source": [
    "### Day3\n",
    "#### Ex1 Yibo"
   ]
  },
  {
   "cell_type": "code",
   "execution_count": 28,
   "metadata": {},
   "outputs": [],
   "source": [
    "def pass1(name, password):\n",
    "    if name==\"Yibo\" and password==\"0805\":\n",
    "        print(\"You are a cool guy 酷盖生日快乐！ *_*!\")\n",
    "    else:\n",
    "        print(\"Next time ^_^!\")"
   ]
  },
  {
   "cell_type": "code",
   "execution_count": 29,
   "metadata": {},
   "outputs": [
    {
     "name": "stdout",
     "output_type": "stream",
     "text": [
      "You are a cool guy 酷盖生日快乐！ *_*!\n",
      "Next time ^_^!\n"
     ]
    }
   ],
   "source": [
    "pass1(\"Yibo\", \"0805\")\n",
    "pass1(\"uniq\", \"0123\")"
   ]
  },
  {
   "cell_type": "markdown",
   "metadata": {},
   "source": [
    "#### Ex2 step wise function"
   ]
  },
  {
   "cell_type": "code",
   "execution_count": 36,
   "metadata": {},
   "outputs": [],
   "source": [
    "def fun(x):\n",
    "    if x>1:\n",
    "        f=3*x-5\n",
    "    elif -1<=x<=1:\n",
    "        f=x+2\n",
    "    else:\n",
    "        f=5*x+3\n",
    "    return (x,round(f,2))"
   ]
  },
  {
   "cell_type": "code",
   "execution_count": 37,
   "metadata": {},
   "outputs": [
    {
     "data": {
      "text/plain": [
       "(1, 3)"
      ]
     },
     "execution_count": 37,
     "metadata": {},
     "output_type": "execute_result"
    }
   ],
   "source": [
    "fun(1)"
   ]
  },
  {
   "cell_type": "code",
   "execution_count": 38,
   "metadata": {},
   "outputs": [
    {
     "data": {
      "text/plain": [
       "(1.1, -1.7)"
      ]
     },
     "execution_count": 38,
     "metadata": {},
     "output_type": "execute_result"
    }
   ],
   "source": [
    "fun(1.1)"
   ]
  },
  {
   "cell_type": "code",
   "execution_count": 39,
   "metadata": {},
   "outputs": [
    {
     "data": {
      "text/plain": [
       "(-3, -12)"
      ]
     },
     "execution_count": 39,
     "metadata": {},
     "output_type": "execute_result"
    }
   ],
   "source": [
    "fun(-3)"
   ]
  },
  {
   "cell_type": "markdown",
   "metadata": {},
   "source": [
    "#### Ex3 Inch-cm conversion"
   ]
  },
  {
   "cell_type": "code",
   "execution_count": 40,
   "metadata": {},
   "outputs": [],
   "source": [
    "def unit_c(unit,l):\n",
    "    if unit==\"inch\":\n",
    "        y=l*2.54\n",
    "        print(\"%.2f inch is %.2f cm\" %(l,y))\n",
    "    elif unit==\"cm\":\n",
    "        y=l/2.54\n",
    "        print(\"%.2f cm is %.2f inch\" %(l,y))\n",
    "    else:\n",
    "        print(\"Try a different unit\")"
   ]
  },
  {
   "cell_type": "code",
   "execution_count": 41,
   "metadata": {},
   "outputs": [
    {
     "name": "stdout",
     "output_type": "stream",
     "text": [
      "33.00 inch is 83.82 cm\n"
     ]
    }
   ],
   "source": [
    "unit_c(\"inch\", 33)"
   ]
  },
  {
   "cell_type": "code",
   "execution_count": 42,
   "metadata": {},
   "outputs": [
    {
     "name": "stdout",
     "output_type": "stream",
     "text": [
      "165.00 cm is 64.96 inch\n"
     ]
    }
   ],
   "source": [
    "unit_c(\"cm\",165)"
   ]
  },
  {
   "cell_type": "code",
   "execution_count": 43,
   "metadata": {},
   "outputs": [
    {
     "name": "stdout",
     "output_type": "stream",
     "text": [
      "Try a different unit\n"
     ]
    }
   ],
   "source": [
    "unit_c(\"uniq\",179)"
   ]
  },
  {
   "cell_type": "markdown",
   "metadata": {},
   "source": [
    "#### Ex4 Grade conversion"
   ]
  },
  {
   "cell_type": "code",
   "execution_count": 52,
   "metadata": {},
   "outputs": [],
   "source": [
    "def grade(score):\n",
    "    if score>=90:\n",
    "        grade=\"A *_*\"\n",
    "    elif score >=80:\n",
    "        grade=\"B ^_^\"\n",
    "    elif score >=70:\n",
    "        grade=\"C ~_~\"\n",
    "    elif score >=60:\n",
    "        grade=\"D #_#\"\n",
    "    else:\n",
    "        grade=\"Try again -_-!\"\n",
    "    print(\"Your grade is:\", grade)"
   ]
  },
  {
   "cell_type": "code",
   "execution_count": 53,
   "metadata": {},
   "outputs": [
    {
     "name": "stdout",
     "output_type": "stream",
     "text": [
      "Your grade is: A *_*\n",
      "Your grade is: B ^_^\n",
      "Your grade is: C ~_~\n",
      "Your grade is: D #_#\n",
      "Your grade is: Try again -_-!\n"
     ]
    }
   ],
   "source": [
    "grade(91)\n",
    "grade(88)\n",
    "grade(76)\n",
    "grade(61)\n",
    "grade(59)"
   ]
  },
  {
   "cell_type": "markdown",
   "metadata": {},
   "source": [
    "#### Ex5 Triangle area with Heron's formula"
   ]
  },
  {
   "cell_type": "code",
   "execution_count": 54,
   "metadata": {},
   "outputs": [],
   "source": [
    "def triangle(a,b,c):\n",
    "    if a+b>c and a+c>b and b+c>a:\n",
    "        ci=0.5*(a+b+c)\n",
    "        a=(ci*(ci-a)*(ci-b)*(ci-c))**0.5\n",
    "        print (\"The priemer of triangle is %.2f\" %ci)\n",
    "        print (\"The area of the triangle is %.2f\" %a)\n",
    "    else:\n",
    "        print(\"Not a triangle !\")\n",
    "        "
   ]
  },
  {
   "cell_type": "code",
   "execution_count": 55,
   "metadata": {},
   "outputs": [
    {
     "name": "stdout",
     "output_type": "stream",
     "text": [
      "The priemer of triangle is 6.00\n",
      "The area of the triangle is 6.00\n"
     ]
    }
   ],
   "source": [
    "triangle(3,4,5)"
   ]
  },
  {
   "cell_type": "code",
   "execution_count": 56,
   "metadata": {},
   "outputs": [
    {
     "name": "stdout",
     "output_type": "stream",
     "text": [
      "The priemer of triangle is 12.00\n",
      "The area of the triangle is 24.00\n"
     ]
    }
   ],
   "source": [
    "triangle(6,8,10)"
   ]
  },
  {
   "cell_type": "code",
   "execution_count": 60,
   "metadata": {},
   "outputs": [
    {
     "name": "stdout",
     "output_type": "stream",
     "text": [
      "Not a triangle !\n"
     ]
    }
   ],
   "source": [
    "triangle(1,0.5,0.5)"
   ]
  },
  {
   "cell_type": "code",
   "execution_count": null,
   "metadata": {},
   "outputs": [],
   "source": []
  }
 ],
 "metadata": {
  "kernelspec": {
   "display_name": "Python 3",
   "language": "python",
   "name": "python3"
  },
  "language_info": {
   "codemirror_mode": {
    "name": "ipython",
    "version": 3
   },
   "file_extension": ".py",
   "mimetype": "text/x-python",
   "name": "python",
   "nbconvert_exporter": "python",
   "pygments_lexer": "ipython3",
   "version": "3.7.8"
  }
 },
 "nbformat": 4,
 "nbformat_minor": 4
}
