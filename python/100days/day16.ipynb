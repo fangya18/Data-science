{
 "cells": [
  {
   "cell_type": "markdown",
   "metadata": {},
   "source": [
    "## Day 17\n",
    "### Python Key Concept: heapq, itertools, collections,\n",
    "#### Ex1. Stock Price Dictionary"
   ]
  },
  {
   "cell_type": "code",
   "execution_count": 2,
   "metadata": {},
   "outputs": [
    {
     "name": "stdout",
     "output_type": "stream",
     "text": [
      "{'GOOGL': 1575.44, 'TSLA': 2042.89, 'AMZN': 3282.09}\n"
     ]
    }
   ],
   "source": [
    "prices = {\n",
    "    'FB': 266.88,\n",
    "    'APPL': 498.96,\n",
    "    'NFLX': 442.24,\n",
    "    'GOOGL': 1575.44,\n",
    "    'TSLA': 2042.89,\n",
    "    'AMZN': 3282.09,\n",
    "    'NKE': 109.29\n",
    "}\n",
    "# Stock price > 500\n",
    "prices2={key: value for key, value in prices.items() if value > 500}\n",
    "print(prices2)"
   ]
  },
  {
   "cell_type": "markdown",
   "metadata": {},
   "source": [
    "#### Ex2. Nested dictortionary"
   ]
  },
  {
   "cell_type": "code",
   "execution_count": null,
   "metadata": {},
   "outputs": [
    {
     "name": "stdout",
     "output_type": "stream",
     "text": [
      " the urban level of Yibo Wang is: 90\n",
      "[[90.0, None, None, None], [None, None, None, None], [None, None, None, None], [None, None, None, None], [None, None, None, None]]\n"
     ]
    }
   ],
   "source": [
    "names= [\"Yibo Wang\", \"Jackson Yee\", \"Jackson Wang\", \"Lay Zhang\", \"Hanlian Zhong\"]\n",
    "dance=[\"urban\", \"old school\", \"bboy\", \"locking\"]\n",
    "scores=[[None]*len(dance) for i in range(len(names)) ]\n",
    "for row, name in enumerate(names):\n",
    "    for col, dance in enumerate(dance):\n",
    "        scores[row][col]= float(input( f' the {dance} level of {name} is: ' ))\n",
    "        print(scores)\n",
    "                                "
   ]
  },
  {
   "cell_type": "markdown",
   "metadata": {},
   "source": [
    "#### Ex3. Data structure : find the largest/smallest n elements\n",
    "* heapq : nlargest, nsmallest\n",
    "\n",
    " heapq.nlargest(n, data) "
   ]
  },
  {
   "cell_type": "code",
   "execution_count": 6,
   "metadata": {},
   "outputs": [
    {
     "name": "stdout",
     "output_type": "stream",
     "text": [
      "[99, 92, 88]\n",
      "[12, 25, 34]\n",
      "[{'name': 'AMZN', 'shares': 75, 'price': 3283.09}, {'name': 'TSLA', 'shares': 45, 'price': 2042.89}]\n",
      "[{'name': 'NFLX', 'shares': 200, 'price': 442.24}, {'name': 'FB', 'shares': 100, 'price': 266.88}]\n"
     ]
    }
   ],
   "source": [
    "import heapq\n",
    "list1 = [34, 25, 12, 99, 87, 63, 58, 78, 88, 92]\n",
    "list2 =[\n",
    "    {'name': 'FB', 'shares': 100, 'price': 266.88},\n",
    "    {'name': 'AAPL', 'shares': 50, 'price': 498.96},\n",
    "    {'name': 'NFLX', 'shares': 200, 'price': 442.24},\n",
    "    {'name': 'GOOGL', 'shares': 35, 'price': 1575.44},\n",
    "    {'name': 'TSLA', 'shares': 45, 'price': 2042.89},\n",
    "    {'name': 'AMZN', 'shares': 75, 'price': 3283.09},\n",
    "    {'name': 'NKE', 'shares': 65, 'price': 109.29}\n",
    "]\n",
    "print(heapq.nlargest(3, list1))\n",
    "print(heapq.nsmallest(3, list1))\n",
    "print(heapq.nlargest(2, list2, key=lambda x: x['price']))\n",
    "print(heapq.nlargest(2, list2, key=lambda x: x['shares']))"
   ]
  },
  {
   "cell_type": "markdown",
   "metadata": {},
   "source": [
    "#### Ex4. Itertools\n",
    "* perumuations, combinations, cartersian product"
   ]
  },
  {
   "cell_type": "code",
   "execution_count": 14,
   "metadata": {},
   "outputs": [
    {
     "name": "stdout",
     "output_type": "stream",
     "text": [
      "[('A', 'B'), ('A', 'C'), ('A', 'D'), ('B', 'A'), ('B', 'C'), ('B', 'D'), ('C', 'A'), ('C', 'B'), ('C', 'D'), ('D', 'A'), ('D', 'B'), ('D', 'C')]\n"
     ]
    }
   ],
   "source": [
    "import itertools\n",
    "\n",
    "#permutations for ABCD choose 2 elements\n",
    "p2=list(itertools.permutations(\"ABCD\", 2))\n",
    "print(p2)"
   ]
  },
  {
   "cell_type": "code",
   "execution_count": 15,
   "metadata": {},
   "outputs": [
    {
     "name": "stdout",
     "output_type": "stream",
     "text": [
      "[('A', 'B', 'C'), ('A', 'B', 'D'), ('A', 'C', 'D'), ('B', 'C', 'D')]\n"
     ]
    }
   ],
   "source": [
    "#combinations for ABCD choose 3 elements\n",
    "c3=list(itertools.combinations(\"ABCD\",3))\n",
    "print(c3)"
   ]
  },
  {
   "cell_type": "code",
   "execution_count": 17,
   "metadata": {},
   "outputs": [
    {
     "name": "stdout",
     "output_type": "stream",
     "text": [
      "[('A', '1'), ('A', '2'), ('A', '3'), ('B', '1'), ('B', '2'), ('B', '3'), ('C', '1'), ('C', '2'), ('C', '3')]\n"
     ]
    }
   ],
   "source": [
    "#cartersian product for ABC and 123\n",
    "cp=list(itertools.product(\"ABC\",\"123\"))\n",
    "print(cp)"
   ]
  },
  {
   "cell_type": "markdown",
   "metadata": {},
   "source": [
    "#### Ex5. Collections\n",
    "* namedtuple, deque, Counter, OrderedDict, defaultdict"
   ]
  },
  {
   "cell_type": "code",
   "execution_count": 3,
   "metadata": {},
   "outputs": [
    {
     "name": "stdout",
     "output_type": "stream",
     "text": [
      "[('eyes', 8), ('the', 5), ('look', 4)]\n"
     ]
    }
   ],
   "source": [
    "from collections import Counter\n",
    "# find the top three most common words\n",
    "words = [\n",
    "    'look', 'into', 'my', 'eyes', 'look', 'into', 'my', 'eyes',\n",
    "    'the', 'eyes', 'the', 'eyes', 'the', 'eyes', 'not', 'around',\n",
    "    'the', 'eyes', \"don't\", 'look', 'around', 'the', 'eyes',\n",
    "    'look', 'into', 'my', 'eyes', \"you're\", 'under'\n",
    "]\n",
    "counter = Counter(words)\n",
    "print(counter.most_common(3))"
   ]
  },
  {
   "cell_type": "code",
   "execution_count": 9,
   "metadata": {},
   "outputs": [
    {
     "name": "stdout",
     "output_type": "stream",
     "text": [
      "dancer(name='yibo wang', category='bboy')\n"
     ]
    }
   ],
   "source": [
    "#add namedtuple\n",
    "import collections\n",
    "dancer= collections.namedtuple(\"dancer\",[\"name\", \"category\"])\n",
    "soc=dancer(\"yibo wang\", \"bboy\")\n",
    "print(soc)"
   ]
  },
  {
   "cell_type": "code",
   "execution_count": 13,
   "metadata": {},
   "outputs": [
    {
     "name": "stdout",
     "output_type": "stream",
     "text": [
      "deque([1, 2, 3, 4])\n"
     ]
    }
   ],
   "source": [
    "#deque to add elements\n",
    "from collections import deque\n",
    "de1= collections.deque([1,2,3])\n",
    "de1.append(4)\n",
    "print(de1)"
   ]
  },
  {
   "cell_type": "code",
   "execution_count": 14,
   "metadata": {},
   "outputs": [
    {
     "name": "stdout",
     "output_type": "stream",
     "text": [
      "a 1\n",
      "b 2\n",
      "c 3\n"
     ]
    }
   ],
   "source": [
    "from collections import OrderedDict\n",
    "#dictionary subclass that remembers the order that keys were first inserted\n",
    "d={}\n",
    "d[\"a\"]=1\n",
    "d[\"b\"]=2\n",
    "d[\"c\"]=3\n",
    "for key, value in d.items():\n",
    "    print(key,value)"
   ]
  },
  {
   "cell_type": "code",
   "execution_count": 15,
   "metadata": {},
   "outputs": [
    {
     "name": "stdout",
     "output_type": "stream",
     "text": [
      "1\n",
      "2\n",
      "^-^\n"
     ]
    }
   ],
   "source": [
    "from collections import defaultdict\n",
    "\n",
    "def dvalue():\n",
    "    return \"^-^\"\n",
    "\n",
    "d= defaultdict(dvalue)\n",
    "d[\"a\"]=1\n",
    "d[\"b\"]=2\n",
    "\n",
    "print(d[\"a\"])\n",
    "print(d[\"b\"])\n",
    "print(d[\"c\"])"
   ]
  },
  {
   "cell_type": "code",
   "execution_count": null,
   "metadata": {
    "collapsed": true
   },
   "outputs": [],
   "source": []
  }
 ],
 "metadata": {
  "kernelspec": {
   "display_name": "Python 3",
   "language": "python",
   "name": "python3"
  },
  "language_info": {
   "codemirror_mode": {
    "name": "ipython",
    "version": 3
   },
   "file_extension": ".py",
   "mimetype": "text/x-python",
   "name": "python",
   "nbconvert_exporter": "python",
   "pygments_lexer": "ipython3",
   "version": "3.6.3"
  }
 },
 "nbformat": 4,
 "nbformat_minor": 2
}
