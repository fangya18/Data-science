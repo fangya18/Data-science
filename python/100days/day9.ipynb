{
 "cells": [
  {
   "cell_type": "markdown",
   "metadata": {},
   "source": [
    "## Day 9\n",
    "### Property\n",
    "#### Ex1. Property to set getter/setter \n",
    "* 陈情令 or 长安十二时辰 ？"
   ]
  },
  {
   "cell_type": "code",
   "execution_count": 68,
   "metadata": {},
   "outputs": [],
   "source": [
    "class tv(object):\n",
    "    def __init__(self,name,year):\n",
    "        self._name=name\n",
    "        self._year=year\n",
    "        \n",
    "    # getter: fetch info\n",
    "    @property \n",
    "    def name(self):\n",
    "        return self._name\n",
    "    \n",
    "    @property \n",
    "    def year(self):\n",
    "        return self._year\n",
    "    \n",
    "    #setter: make changes\n",
    "    @name.setter \n",
    "    def name(self,name):\n",
    "        self._name=name\n",
    "        \n",
    "    def play(self):\n",
    "        if self._year >= 2019 :\n",
    "            print(\"Let's watch %s together\" %self._name)\n",
    "        else:\n",
    "            print(\"Let's watch %s together\" %self._name)\n",
    "    "
   ]
  },
  {
   "cell_type": "code",
   "execution_count": 71,
   "metadata": {
    "collapsed": true
   },
   "outputs": [],
   "source": [
    "def tvo():\n",
    "    tv1=tv(\"陈情令 the untamed\", 2019)\n",
    "    tv1.play()\n",
    "    tv1.name=\"长安十二时辰\"\n",
    "    tv1.play()"
   ]
  },
  {
   "cell_type": "code",
   "execution_count": 72,
   "metadata": {},
   "outputs": [
    {
     "name": "stdout",
     "output_type": "stream",
     "text": [
      "Let's watch 陈情令 the untamed together\n",
      "Let's watch 长安十二时辰 together\n"
     ]
    }
   ],
   "source": [
    "tvo()"
   ]
  },
  {
   "cell_type": "markdown",
   "metadata": {},
   "source": [
    "#### Ex2. Magic Flow  \"_ _-- Slots-- _ _\""
   ]
  },
  {
   "cell_type": "code",
   "execution_count": 73,
   "metadata": {
    "collapsed": true
   },
   "outputs": [],
   "source": [
    "class tv(object):\n",
    "    # __slots__ to add an extra property _song\n",
    "    \n",
    "    __slots__= (\"_name\" , \"_year\", \"_song\")\n",
    "    def __init__(self,name,year):\n",
    "        self._name=name\n",
    "        self._year=year\n",
    "        \n",
    "    # getter: fetch info\n",
    "    @property \n",
    "    def name(self):\n",
    "        return self._name\n",
    "    \n",
    "    @property \n",
    "    def year(self):\n",
    "        return self._year\n",
    "    \n",
    "    #setter: make changes\n",
    "    @name.setter \n",
    "    def name(self,name):\n",
    "        self._name=name\n",
    "        \n",
    "    def play(self):\n",
    "        if self._year >= 2019 :\n",
    "            print(\"Let's watch %s together\" %self._name)\n",
    "        else:\n",
    "            print(\"Let's watch %s together\" %self._name)"
   ]
  },
  {
   "cell_type": "code",
   "execution_count": 80,
   "metadata": {
    "collapsed": true
   },
   "outputs": [],
   "source": [
    "def tvo():\n",
    "    tv1=tv(\"陈情令 the untamed\", 2019)\n",
    "    tv1.play()\n",
    "    tv1._song=\"忘羡\"\n",
    "    print(tv1._song)"
   ]
  },
  {
   "cell_type": "code",
   "execution_count": 81,
   "metadata": {},
   "outputs": [
    {
     "name": "stdout",
     "output_type": "stream",
     "text": [
      "Let's watch 陈情令 the untamed together\n",
      "忘羡\n"
     ]
    }
   ],
   "source": [
    "tvo()"
   ]
  },
  {
   "cell_type": "markdown",
   "metadata": {},
   "source": [
    "#### Ex3. Triangle area"
   ]
  },
  {
   "cell_type": "code",
   "execution_count": 82,
   "metadata": {
    "collapsed": true
   },
   "outputs": [],
   "source": [
    "from math import sqrt\n",
    "\n",
    "class triangle(object):\n",
    "    def __init__ (self, a,b,c):\n",
    "        self._a=a\n",
    "        self._b=b\n",
    "        self._c=c\n",
    "        \n",
    "    @staticmethod\n",
    "    def valid(a,b,c):\n",
    "        return a+b>c and b+c>a and a+c>b\n",
    "    \n",
    "    def circumference(self):\n",
    "        return self._a +self._b +self._c\n",
    "    \n",
    "    def area(self):\n",
    "        half= self.circumference()/2\n",
    "        return sqrt(half* (half- self._a)* (half-self._b)*(half - self._c))\n",
    "    "
   ]
  },
  {
   "cell_type": "code",
   "execution_count": 88,
   "metadata": {
    "collapsed": true
   },
   "outputs": [],
   "source": [
    "def tri(a,b,c):\n",
    "    if triangle.valid(a,b,c):\n",
    "        t=triangle(a,b,c)\n",
    "        print(t.circumference())\n",
    "        print(t.area())\n",
    "\n",
    "    else:\n",
    "        print (\"Oops! not a triangle -_-|||\")"
   ]
  },
  {
   "cell_type": "code",
   "execution_count": 89,
   "metadata": {},
   "outputs": [
    {
     "name": "stdout",
     "output_type": "stream",
     "text": [
      "12\n",
      "6.0\n"
     ]
    }
   ],
   "source": [
    "tri(3,4,5)"
   ]
  },
  {
   "cell_type": "code",
   "execution_count": 90,
   "metadata": {},
   "outputs": [
    {
     "name": "stdout",
     "output_type": "stream",
     "text": [
      "Oops! not a triangle -_-|||\n"
     ]
    }
   ],
   "source": [
    "tri(1,1,2)"
   ]
  },
  {
   "cell_type": "markdown",
   "metadata": {},
   "source": [
    "#### Ex4. Relations between \"Classes\"\n",
    "* is-a inheritance : student~ human , iphone ~ electronics\n",
    "\n",
    "* has-a relate: department ~ officers\n",
    "\n",
    "* usa-a dependence: driver ~ driving"
   ]
  },
  {
   "cell_type": "code",
   "execution_count": 101,
   "metadata": {
    "collapsed": true
   },
   "outputs": [],
   "source": [
    "class person(object):\n",
    "    def __init__(self, name, age):\n",
    "        self._name = name\n",
    "        self._age = age\n",
    "\n",
    "    @property\n",
    "    def name(self):\n",
    "        return self._name\n",
    "\n",
    "    @property\n",
    "    def age(self):\n",
    "        return self._age\n",
    "\n",
    "    @age.setter\n",
    "    def age(self, age):\n",
    "        self._age = age\n",
    "\n",
    "    def play(self):\n",
    "        print('%s is dancing.' % self._name)\n",
    "\n",
    "    def watch(self):\n",
    "        if self._age >= 21:\n",
    "            print('%s is watching Rap of China *_* 嘻哈.' % self._name)\n",
    "        else:\n",
    "            print('%s is learning DS Python @_@ .' % self._name)\n",
    "            \n",
    "class student(person):\n",
    "\n",
    "    def __init__(self, name, age, grade):\n",
    "        super().__init__(name, age)\n",
    "        self._grade = grade\n",
    "\n",
    "    @property\n",
    "    def grade(self):\n",
    "        return self._grade\n",
    "\n",
    "    @grade.setter\n",
    "    def grade(self, grade):\n",
    "        self._grade = grade\n",
    "\n",
    "    def study(self, course):\n",
    "        print('%s is a %s and is studying %s.' % (self._name, self._grade, course))\n",
    "        \n",
    "class teacher(person):\n",
    "\n",
    "    def __init__(self, name, age, title):\n",
    "        super().__init__(name, age)\n",
    "        self._title = title\n",
    "\n",
    "    @property\n",
    "    def title(self):\n",
    "        return self._title\n",
    "\n",
    "    @title.setter\n",
    "    def title(self, title):\n",
    "        self._title = title\n",
    "\n",
    "    def teach(self, course):\n",
    "        print('%s%s is teaching %s.' % (self._name, self._title, course))     "
   ]
  },
  {
   "cell_type": "code",
   "execution_count": 106,
   "metadata": {},
   "outputs": [],
   "source": [
    "def report():\n",
    "    id1= student(\"易烊千玺 JacksonYEE\", 20, \"sophomore\" )\n",
    "    id1.study(\"painting\")\n",
    "    id1.watch()\n",
    "    t= teacher(\"李永乐\" , 41, \" professor\")\n",
    "    t.teach(\" Fun mathematics\")\n",
    "    t.watch()"
   ]
  },
  {
   "cell_type": "code",
   "execution_count": 107,
   "metadata": {},
   "outputs": [
    {
     "name": "stdout",
     "output_type": "stream",
     "text": [
      "易烊千玺 JacksonYEE is a sophomore and is studying painting.\n",
      "易烊千玺 JacksonYEE is learning DS Python @_@ .\n",
      "李永乐 professor is teaching  Fun mathematics.\n",
      "李永乐 is watching Rap of China *_* 嘻哈.\n"
     ]
    }
   ],
   "source": [
    "report()"
   ]
  },
  {
   "cell_type": "markdown",
   "metadata": {},
   "source": [
    "#### Ex5. Class Override polymorphism"
   ]
  },
  {
   "cell_type": "code",
   "execution_count": 164,
   "metadata": {},
   "outputs": [],
   "source": [
    "from abc import ABCMeta, abstractmethod\n",
    "\n",
    "class pet(object, metaclass=ABCMeta):\n",
    "    def __init__(self, nickname):\n",
    "        self._nickname= nickname\n",
    "        \n",
    "    @abstractmethod\n",
    "    def song(self):\n",
    "        pass\n",
    "\n",
    "class snail(pet):\n",
    "    def song(self):\n",
    "        print(\"a little %s is going up step by step! \\n小小 %s 要一步一步往上爬! \\n\" %(self._nickname,self._nickname ), end=\"\\n\")\n",
    "        \n",
    "class kitty(pet):\n",
    "    def song(self):\n",
    "        print(\"Let's be %s meow meow meow, make a little naughty sound \\n我们一起学 %s 叫，一起喵喵喵喵... \\n\" %(self._nickname,self._nickname), end=\"\\n\")\n",
    "                \n",
    "class dragon(pet):\n",
    "    def song(self):\n",
    "        print(\"There's a %s in the far east, his name is China \\n遥远的东方有一条 %s，他的名字叫中国 \\n\" %(self._nickname,self._nickname), end=\"\\n\")\n",
    "\n",
    "class horse(pet):\n",
    "    def song(self):\n",
    "        print(\"You are like a wild %s , but i dont have a land of grass. \\n你是一匹野 %s, 可惜我家里没有草原 \\n\" %(self._nickname,self._nickname), end=\"\\n\")\n",
    "        \n",
    "        \n",
    "        "
   ]
  },
  {
   "cell_type": "code",
   "execution_count": 165,
   "metadata": {},
   "outputs": [],
   "source": [
    "def pet_song():\n",
    "    pets=[snail(\"snail\"), kitty(\"kitty\"), dragon(\"dragon\"), horse(\"horse\")]\n",
    "    for pet in pets:\n",
    "        pet.song()\n"
   ]
  },
  {
   "cell_type": "code",
   "execution_count": 166,
   "metadata": {
    "scrolled": true
   },
   "outputs": [
    {
     "name": "stdout",
     "output_type": "stream",
     "text": [
      "a little snail is going up step by step! \n",
      "小小 snail 要一步一步往上爬! \n",
      "\n",
      "Let's be kitty meow meow meow, make a little naughty sound \n",
      "我们一起学 kitty 叫，一起喵喵喵喵... \n",
      "\n",
      "There's a dragon in the far east, his name is China \n",
      "遥远的东方有一条 dragon，他的名字叫中国 \n",
      "\n",
      "You are like a wild horse , but i dont have a land of grass. \n",
      "你是一匹野 horse, 可惜我家里没有草原 \n",
      "\n"
     ]
    }
   ],
   "source": [
    "pet_song()"
   ]
  },
  {
   "cell_type": "markdown",
   "metadata": {},
   "source": [
    "#### Ex6. Construct a Revenue System for Tech, Bank and Pharm companies"
   ]
  },
  {
   "cell_type": "code",
   "execution_count": 1,
   "metadata": {},
   "outputs": [],
   "source": [
    "from abc import ABCMeta, abstractmethod\n",
    "\n",
    "\n",
    "class Company(object, metaclass=ABCMeta):\n",
    "\n",
    "    def __init__(self, name):\n",
    "        self._name = name\n",
    "\n",
    "    @property\n",
    "    def name(self):\n",
    "        return self._name\n",
    "\n",
    "    @abstractmethod\n",
    "    def get_rev(self):\n",
    "        pass\n",
    "\n",
    "\n",
    "class Tech(Company):\n",
    "\n",
    "    def get_rev(self):\n",
    "        return 200\n",
    "\n",
    "\n",
    "class Bank(Company):\n",
    "    def __init__(self, name, loan=0):\n",
    "        super().__init__(name)\n",
    "        self._loan = loan\n",
    "\n",
    "    @property\n",
    "    def loan(self):\n",
    "        return self._loan\n",
    "\n",
    "    @loan.setter\n",
    "    def loan(self, loan):\n",
    "        self._loan = loan if loan > 0 else 0\n",
    "\n",
    "    def get_rev(self):\n",
    "        return 0.004 * self._loan\n",
    "\n",
    "\n",
    "class Phar(Company):\n",
    "\n",
    "    def __init__(self, name, sales=0):\n",
    "        super().__init__(name)\n",
    "        self._sales = sales\n",
    "\n",
    "    @property\n",
    "    def sales(self):\n",
    "        return self._sales\n",
    "\n",
    "    @sales.setter\n",
    "    def sales(self, sales):\n",
    "        self._sales = sales if sales > 0 else 0\n",
    "\n",
    "    def get_rev(self):\n",
    "        return 40.0 + self._sales * 0.05\n",
    "\n",
    "\n",
    "def rev2019():\n",
    "    emps = [\n",
    "        Tech('Facebook'), Tech('Amazon'),Tech('Neflix'),Tech('Google'), \n",
    "        Bank(\"JP Morgen\"), Bank(\"BOA\"), Bank(\"Amex\"), \n",
    "        Phar(\"Pfizer\"), Phar('BMS'), Phar('Gilead')\n",
    "    ]\n",
    "    for emp in emps:\n",
    "        if isinstance(emp, Bank):\n",
    "            emp.loan = int(input('%s loan: Billion Dollars' % emp.name))\n",
    "        elif isinstance(emp, Phar):\n",
    "            emp.sales = float(input('%s sales records: ' % emp.name))\n",
    "        print('%s revenue is $ %s Billion dollars 撒花！⊙o⊙' %\n",
    "              (emp.name, emp.get_rev()))"
   ]
  },
  {
   "cell_type": "code",
   "execution_count": 2,
   "metadata": {},
   "outputs": [
    {
     "name": "stdout",
     "output_type": "stream",
     "text": [
      "Facebook revenue is $ 200 Billion dollars 撒花！⊙o⊙\n",
      "Amazon revenue is $ 200 Billion dollars 撒花！⊙o⊙\n",
      "Neflix revenue is $ 200 Billion dollars 撒花！⊙o⊙\n",
      "Google revenue is $ 200 Billion dollars 撒花！⊙o⊙\n",
      "JP Morgen loan: Billion Dollars15000\n",
      "JP Morgen revenue is $ 60.0 Billion dollars 撒花！⊙o⊙\n",
      "BOA loan: Billion Dollars10000\n",
      "BOA revenue is $ 40.0 Billion dollars 撒花！⊙o⊙\n",
      "Amex loan: Billion Dollars8000\n",
      "Amex revenue is $ 32.0 Billion dollars 撒花！⊙o⊙\n",
      "Pfizer sales records: 200\n",
      "Pfizer revenue is $ 50.0 Billion dollars 撒花！⊙o⊙\n",
      "BMS sales records: 100\n",
      "BMS revenue is $ 45.0 Billion dollars 撒花！⊙o⊙\n",
      "Gilead sales records: 88\n",
      "Gilead revenue is $ 44.4 Billion dollars 撒花！⊙o⊙\n"
     ]
    }
   ],
   "source": [
    "rev2019()"
   ]
  }
 ],
 "metadata": {
  "kernelspec": {
   "display_name": "Python 3",
   "language": "python",
   "name": "python3"
  },
  "language_info": {
   "codemirror_mode": {
    "name": "ipython",
    "version": 3
   },
   "file_extension": ".py",
   "mimetype": "text/x-python",
   "name": "python",
   "nbconvert_exporter": "python",
   "pygments_lexer": "ipython3",
   "version": "3.6.3"
  }
 },
 "nbformat": 4,
 "nbformat_minor": 2
}
