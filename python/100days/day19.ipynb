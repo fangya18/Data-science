{
 "cells": [
  {
   "cell_type": "markdown",
   "metadata": {},
   "source": [
    "## Day 19\n",
    "### Iteration Tools\n",
    "#### Ex1. Iteration: \n",
    "* __iter__ __next__"
   ]
  },
  {
   "cell_type": "code",
   "execution_count": 11,
   "metadata": {},
   "outputs": [
    {
     "name": "stdout",
     "output_type": "stream",
     "text": [
      "1\n",
      "1\n",
      "2\n",
      "3\n",
      "5\n",
      "8\n",
      "13\n",
      "21\n",
      "34\n",
      "55\n"
     ]
    }
   ],
   "source": [
    "class fib(object):\n",
    "    def __init__(self, num):\n",
    "        self.num=num\n",
    "        self.a, self.b=0,1\n",
    "        self.idx=0\n",
    "        \n",
    "    def __iter__(self):\n",
    "        return self\n",
    "    \n",
    "    def __next__(self):\n",
    "        if self.idx < self.num:\n",
    "            self.a, self.b =self.b, self.a+self.b\n",
    "            self.idx +=1\n",
    "            return self.a\n",
    "        raise StopIteration()\n",
    "\n",
    "def fibval():\n",
    "    fibi=fib(10)\n",
    "    for val in fibi:\n",
    "        print(val)\n",
    "fibval()"
   ]
  },
  {
   "cell_type": "code",
   "execution_count": 35,
   "metadata": {},
   "outputs": [],
   "source": [
    "def fibo(num):\n",
    "    \"\"\"生成器\"\"\"\n",
    "    a, b = 0, 1\n",
    "    for _ in range(1, num):\n",
    "        a, b = b, a + b\n",
    "        # yeild wont display the result\n",
    "        # yield a\n",
    "        print (a) "
   ]
  },
  {
   "cell_type": "code",
   "execution_count": 36,
   "metadata": {},
   "outputs": [
    {
     "name": "stdout",
     "output_type": "stream",
     "text": [
      "1\n",
      "1\n",
      "2\n",
      "3\n"
     ]
    }
   ],
   "source": [
    "fibo(5)"
   ]
  },
  {
   "cell_type": "markdown",
   "metadata": {},
   "source": [
    "#### Ex2.  Calculate the Mean"
   ]
  },
  {
   "cell_type": "code",
   "execution_count": 40,
   "metadata": {},
   "outputs": [
    {
     "name": "stdout",
     "output_type": "stream",
     "text": [
      "10.0\n"
     ]
    }
   ],
   "source": [
    "def cal_avg():\n",
    "    total, counter=0,0\n",
    "    avg_val= None\n",
    "    while True:\n",
    "        value= yield avg_val\n",
    "        total, counter= total+value, counter+1\n",
    "        avg_val=total/counter\n",
    "\n",
    "gen=cal_avg()\n",
    "next(gen)\n",
    "print(gen.send(10))"
   ]
  },
  {
   "cell_type": "markdown",
   "metadata": {},
   "source": [
    "#### Ex3. Class Pass"
   ]
  },
  {
   "cell_type": "code",
   "execution_count": 61,
   "metadata": {},
   "outputs": [],
   "source": [
    "class A():\n",
    "    def say_hello(self):\n",
    "        print('Hello, A')\n",
    "\n",
    "\n",
    "class B(A):\n",
    "    pass\n",
    "\n",
    "\n",
    "class C(A):\n",
    "    def say_hello(self):\n",
    "        print('Hello, C')\n",
    "\n",
    "\n",
    "class D(B, C):\n",
    "    pass\n"
   ]
  },
  {
   "cell_type": "code",
   "execution_count": 62,
   "metadata": {},
   "outputs": [
    {
     "name": "stdout",
     "output_type": "stream",
     "text": [
      "Hello, A\n",
      "Hello, A\n",
      "Hello, C\n",
      "Hello, C\n"
     ]
    }
   ],
   "source": [
    "a=A()\n",
    "b=B()\n",
    "c=C()\n",
    "d=D()\n",
    "a.say_hello()\n",
    "b.say_hello()\n",
    "c.say_hello()\n",
    "d.say_hello()"
   ]
  },
  {
   "cell_type": "markdown",
   "metadata": {},
   "source": [
    "#### Ex4. Printing without stop"
   ]
  },
  {
   "cell_type": "code",
   "execution_count": null,
   "metadata": {
    "collapsed": true
   },
   "outputs": [],
   "source": [
    "from threading import Thread\n",
    "from time import sleep\n",
    "\n",
    "\n",
    "def output(content):\n",
    "    while True:\n",
    "        print(content, end='')\n",
    "\n",
    "\n",
    "def print_out():\n",
    "    Thread(target=output, args=('Yibo ', ), daemon=True).start()\n",
    "    Thread(target=output, args=('Skateboard ', ), daemon=True).start()\n",
    "    sleep(5)\n",
    "    print('bye!')\n",
    "    \n",
    "print_out()"
   ]
  },
  {
   "cell_type": "markdown",
   "metadata": {},
   "source": [
    "#### Ex5. Thread \n",
    "* Lock, semaphore, condition"
   ]
  },
  {
   "cell_type": "code",
   "execution_count": null,
   "metadata": {
    "collapsed": true
   },
   "outputs": [],
   "source": [
    "from concurrent.futures import ThreadPoolExecutor\n",
    "from random import randint\n",
    "from time import sleep\n",
    "\n",
    "import threading\n",
    "\n",
    "\n",
    "class Account():\n",
    "    \"\"\"银行账户\"\"\"\n",
    "\n",
    "    def __init__(self, balance=0):\n",
    "        self.balance = balance\n",
    "        lock = threading.Lock()\n",
    "        self.condition = threading.Condition(lock)\n",
    "\n",
    "    def withdraw(self, money):\n",
    "        \"\"\"取钱\"\"\"\n",
    "        with self.condition:\n",
    "            while money > self.balance:\n",
    "                self.condition.wait()\n",
    "            new_balance = self.balance - money\n",
    "            sleep(0.001)\n",
    "            self.balance = new_balance\n",
    "\n",
    "    def deposit(self, money):\n",
    "        \"\"\"存钱\"\"\"\n",
    "        with self.condition:\n",
    "            new_balance = self.balance + money\n",
    "            sleep(0.001)\n",
    "            self.balance = new_balance\n",
    "            self.condition.notify_all()\n",
    "\n",
    "\n",
    "def add_money(account):\n",
    "    while True:\n",
    "        money = randint(5, 10)\n",
    "        account.deposit(money)\n",
    "        print(threading.current_thread().name,\n",
    "              ':', money, '====>', account.balance)\n",
    "        sleep(0.5)\n",
    "\n",
    "\n",
    "def sub_money(account):\n",
    "    while True:\n",
    "        money = randint(10, 30)\n",
    "        account.withdraw(money)\n",
    "        print(threading.current_thread().name,\n",
    "              ':', money, '<====', account.balance)\n",
    "        sleep(1)\n",
    "\n",
    "\n",
    "def money():\n",
    "    account = Account()\n",
    "    with ThreadPoolExecutor(max_workers=10) as pool:\n",
    "        for _ in range(5):\n",
    "            pool.submit(add_money, account)\n",
    "            pool.submit(sub_money, account)\n",
    "\n",
    "\n",
    "money()"
   ]
  },
  {
   "cell_type": "code",
   "execution_count": null,
   "metadata": {
    "collapsed": true
   },
   "outputs": [],
   "source": []
  }
 ],
 "metadata": {
  "kernelspec": {
   "display_name": "Python 3",
   "language": "python",
   "name": "python3"
  },
  "language_info": {
   "codemirror_mode": {
    "name": "ipython",
    "version": 3
   },
   "file_extension": ".py",
   "mimetype": "text/x-python",
   "name": "python",
   "nbconvert_exporter": "python",
   "pygments_lexer": "ipython3",
   "version": "3.6.3"
  }
 },
 "nbformat": 4,
 "nbformat_minor": 2
}
