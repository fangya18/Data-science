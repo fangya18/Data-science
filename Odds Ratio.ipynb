{
 "cells": [
  {
   "cell_type": "markdown",
   "metadata": {},
   "source": [
    "### Data Science Day 12: Odds Ration\n",
    "\n",
    "#### Learning Objectives\n",
    "##### 1. Probablity vs Odds Vs Odds Ratio\n",
    "\n",
    "1. Probability = event occur\n",
    "2. Odds= Success/ failure\n",
    "3. Odds Ratio = Odds(Group 1)/ Odds(Group 2)\n",
    "\n",
    "##### 2. Interpretation\n",
    "\n",
    "It represent the likehood in comparision\n",
    "\n",
    "##### 3. Example: UCLA Graduate School Admission dataset\n",
    "1. caluclate and interpret the odds ratio for prestige "
   ]
  },
  {
   "cell_type": "code",
   "execution_count": 52,
   "metadata": {},
   "outputs": [
    {
     "name": "stdout",
     "output_type": "stream",
     "text": [
      "   admit  gre   gpa  prestige\n",
      "0      0  380  3.61         3\n",
      "1      1  660  3.67         3\n",
      "2      1  800  4.00         1\n",
      "3      1  640  3.19         4\n",
      "4      0  520  2.93         4\n"
     ]
    }
   ],
   "source": [
    "import pandas as pd\n",
    "import statsmodels.api as sm\n",
    "import pylab as pl\n",
    "import numpy as np\n",
    "import matplotlib.pyplot as plt\n",
    "import seaborn as sns\n",
    "\n",
    "\n",
    "#import UCLA dataset  \n",
    "df = pd.read_csv(\"https://stats.idre.ucla.edu/stat/data/binary.csv\")\n",
    "df.columns=[\"admit\", \"gre\", \"gpa\", \"prestige\"]\n",
    "print (df.head())"
   ]
  },
  {
   "cell_type": "code",
   "execution_count": 12,
   "metadata": {},
   "outputs": [
    {
     "name": "stdout",
     "output_type": "stream",
     "text": [
      "            admit         gre         gpa   prestige\n",
      "count  400.000000  400.000000  400.000000  400.00000\n",
      "mean     0.317500  587.700000    3.389900    2.48500\n",
      "std      0.466087  115.516536    0.380567    0.94446\n",
      "min      0.000000  220.000000    2.260000    1.00000\n",
      "25%      0.000000  520.000000    3.130000    2.00000\n",
      "50%      0.000000  580.000000    3.395000    2.00000\n",
      "75%      1.000000  660.000000    3.670000    3.00000\n",
      "max      1.000000  800.000000    4.000000    4.00000\n"
     ]
    }
   ],
   "source": [
    "#descriptive statistics\n",
    "print (df.describe())"
   ]
  },
  {
   "cell_type": "code",
   "execution_count": 16,
   "metadata": {
    "scrolled": true
   },
   "outputs": [
    {
     "name": "stdout",
     "output_type": "stream",
     "text": [
      "prestige   1   2   3   4\n",
      "admit                   \n",
      "0         28  97  93  55\n",
      "1         33  54  28  12\n"
     ]
    },
    {
     "data": {
      "image/png": "[encoded data removed]",
      "text/plain": [
       "<matplotlib.figure.Figure at 0x81bc7f0>"
      ]
     },
     "metadata": {},
     "output_type": "display_data"
    }
   ],
   "source": []
  },
  {
   "cell_type": "code",
   "execution_count": 59,
   "metadata": {},
   "outputs": [
    {
     "data": {
      "image/png": "[encoded data removed]",
      "text/plain": [
       "<matplotlib.figure.Figure at 0xc76a9b0>"
      ]
     },
     "metadata": {},
     "output_type": "display_data"
    },
    {
     "name": "stdout",
     "output_type": "stream",
     "text": [
      "   admit  gre   gpa  prestige  dummy_rank\n",
      "0      0  380  3.61         3           2\n",
      "1      1  660  3.67         3           2\n",
      "2      1  800  4.00         1           1\n",
      "3      1  640  3.19         4           2\n",
      "4      0  520  2.93         4           2\n",
      "dummy_rank    1    2\n",
      "admit               \n",
      "0           125  148\n",
      "1            87   40\n"
     ]
    }
   ],
   "source": [
    "#1 is the most prestiges school. \n",
    "# we make a dummy_rank to group prestige 1,2 as 1 and 3,4 as 2\n",
    "df[\"dummy_rank\"]=np.where(df[\"prestige\"] <3 , 1 ,2)   \n",
    "df.hist()\n",
    "pl.show()\n",
    "#dummy_rank=pd.get_dummies(df[\"prestige\"],prefix=\"prestige\")\n",
    "print (df.head())\n",
    "\n",
    "#frequncy table prestiges vs admit\n",
    "print(pd.crosstab(df['admit'],df[\"dummy_rank\"]))"
   ]
  },
  {
   "cell_type": "code",
   "execution_count": 66,
   "metadata": {},
   "outputs": [
    {
     "name": "stdout",
     "output_type": "stream",
     "text": [
      "0.41037735849056606\n",
      "0.2127659574468085\n",
      "0.696 0.2702702702702703\n",
      "0.38831935383659527\n",
      "Optimization terminated successfully.\n",
      "         Current function value: 0.593637\n",
      "         Iterations 5\n",
      "                           Logit Regression Results                           \n",
      "==============================================================================\n",
      "Dep. Variable:                  admit   No. Observations:                  400\n",
      "Model:                          Logit   Df Residuals:                      397\n",
      "Method:                           MLE   Df Model:                            2\n",
      "Date:                Fri, 19 Oct 2018   Pseudo R-squ.:                 0.05014\n",
      "Time:                        17:22:34   Log-Likelihood:                -237.45\n",
      "converged:                       True   LL-Null:                       -249.99\n",
      "                                        LLR p-value:                 3.604e-06\n",
      "==============================================================================\n",
      "                 coef    std err          z      P>|z|      [0.025      0.975]\n",
      "------------------------------------------------------------------------------\n",
      "gre            0.0014      0.001      1.318      0.188      -0.001       0.003\n",
      "gpa            0.0247      0.204      0.121      0.904      -0.375       0.425\n",
      "dummy_rank    -1.1395      0.222     -5.144      0.000      -1.574      -0.705\n",
      "==============================================================================\n",
      "                   0         1\n",
      "gre        -0.000660  0.003368\n",
      "gpa        -0.375392  0.424737\n",
      "dummy_rank -1.573685 -0.705355\n"
     ]
    }
   ],
   "source": [
    "#Apply logistic regression\n",
    "X=df[[\"gre\",\"gpa\",\"dummy_rank\"]]\n",
    "\n",
    "logit=sm.Logit(df[\"admit\"],X)\n",
    "result=logit.fit()\n",
    "print (result.summary())\n",
    "print (result.conf_int())"
   ]
  },
  {
   "cell_type": "code",
   "execution_count": 50,
   "metadata": {},
   "outputs": [
    {
     "name": "stdout",
     "output_type": "stream",
     "text": [
      "gre           1.001355\n",
      "gpa           1.024980\n",
      "dummy_rank    0.319973\n",
      "dtype: float64\n"
     ]
    }
   ],
   "source": [
    "# Theoratical odds ratio\n",
    "print(np.exp(result.params))\n",
    "\n",
    "params= result.params\n",
    "conf=result.conf_int()\n",
    "conf[\"OR\"]=params\n",
    "conf.columns=[\"2.5%\",\"97.5%\",\"OR\"]\n",
    "print(np.exp(conf))"
   ]
  },
  {
   "cell_type": "code",
   "execution_count": 51,
   "metadata": {},
   "outputs": [
    {
     "name": "stdout",
     "output_type": "stream",
     "text": [
      "               2.5%     97.5%        OR\n",
      "gre         0.99934  1.003374  1.001355\n",
      "gpa         0.68702  1.529189  1.024980\n",
      "dummy_rank  0.20728  0.493933  0.319973\n"
     ]
    }
   ],
   "source": [
    "# Calculate Probality vs Odds vs Odds ratio\n",
    "\n",
    "prob_rank1_accept=87/(125+87)\n",
    "print(prob_rank1_accept)\n",
    "\n",
    "prob_rank2_accept=40/(148+40)\n",
    "print(prob_rank2_accept)\n",
    "\n",
    "odds_rank1=87/125\n",
    "odds_rank2=40/148\n",
    "print(odds_rank1, odds_rank2)\n",
    "\n",
    "odds_ratio=odds_rank2/odds_rank1\n",
    "print(odds_ratio)"
   ]
  },
  {
   "cell_type": "code",
   "execution_count": 57,
   "metadata": {},
   "outputs": [
    {
     "data": {
      "text/plain": [
       "Text(0,0.5,'Student Frequency Count')"
      ]
     },
     "execution_count": 57,
     "metadata": {},
     "output_type": "execute_result"
    },
    {
     "data": {
      "image/png": "[encoded data removed]",
      "text/plain": [
       "<matplotlib.figure.Figure at 0xd4b9748>"
      ]
     },
     "metadata": {},
     "output_type": "display_data"
    }
   ],
   "source": [
    "#Visulatization\n",
    "\n",
    "%matplotlib inline\n",
    "pd.crosstab(df.admit, df.dummy_rank).plot(kind=\"bar\")\n",
    "plt.title(\"Admit vs Prestige\")\n",
    "plt.xlabel(\"Admit\")\n",
    "plt.ylabel(\"Student Frequency Count\")"
   ]
  },
  {
   "cell_type": "markdown",
   "metadata": {},
   "source": [
    "#### Summary\n",
    "\n",
    "Our therotical Odds Ratio is 0.319 with a CI(0.20, 0.41), which is close to the true Odds ratio is 0.388. This means if the undergraduate school is in prestige 3 or 4, the chance of getting graduate school is 38% likely compare to undergraduate prestige 1 or 2. In other words, it is 2.5 times likely for a student to get into a graduate school graduate from Prestige 1 or 2 rather than 3 or 4.\n",
    "\n"
   ]
  }
 ],
 "metadata": {
  "kernelspec": {
   "display_name": "Python 3",
   "language": "python",
   "name": "python3"
  },
  "language_info": {
   "codemirror_mode": {
    "name": "ipython",
    "version": 3
   },
   "file_extension": ".py",
   "mimetype": "text/x-python",
   "name": "python",
   "nbconvert_exporter": "python",
   "pygments_lexer": "ipython3",
   "version": "3.6.3"
  }
 },
 "nbformat": 4,
 "nbformat_minor": 2
}
