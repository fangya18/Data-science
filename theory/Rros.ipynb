{
 "cells": [
  {
   "cell_type": "markdown",
   "metadata": {},
   "source": [
    "### Odds Ratio VS. Risk Ratio\n",
    "\n",
    "-  Definition\n",
    "\n",
    "-  Example of Arthritis Dataset\n",
    "\n",
    "- Visualization"
   ]
  },
  {
   "cell_type": "code",
   "execution_count": 33,
   "metadata": {
    "scrolled": true
   },
   "outputs": [],
   "source": [
    "#Import Library\n",
    "import numpy as np\n",
    "import pandas as pd\n",
    "import statsmodels.api as sm\n",
    "import pylab as pl\n",
    "import matplotlib.pyplot as plt\n",
    "import seaborn as sns\n"
   ]
  },
  {
   "cell_type": "code",
   "execution_count": 34,
   "metadata": {},
   "outputs": [
    {
     "name": "stdout",
     "output_type": "stream",
     "text": [
      "Censor      0   1\n",
      "Treatment        \n",
      "Placebo    29  14\n",
      "Treated    13  28\n",
      "               Estimate   SE   LCB   UCB   p-value\n",
      "--------------------------------------------------\n",
      "Odds ratio        4.462       1.785 11.154   0.001\n",
      "Log odds ratio    1.495 0.467 0.579  2.412   0.001\n",
      "Risk ratio        2.127       0.579  2.412   0.003\n",
      "Log risk ratio    0.755 0.253 0.260  1.250   0.003\n",
      "--------------------------------------------------\n"
     ]
    }
   ],
   "source": [
    "#Read in Arthritis data\n",
    "df = sm.datasets.get_rdataset(\"Arthritis\", \"vcd\").data\n",
    "\n",
    "#Create New variable Censor:\n",
    "#Censor=0 means no-improvement\n",
    "#Censor=1 means some or big improvement \n",
    "df[\"Censor\"]=np.where(df[\"Improved\"]==\"None\", \"0\", \"1\")\n",
    "\n",
    "#table for Treatment and Censor\n",
    "tab=pd.crosstab(df[\"Treatment\"], df[\"Censor\"])\n",
    "tab1=sm.stats.Table(tab)\n",
    "print(tab1.table_orig)\n",
    "\n",
    "table= np.asarray([[29,14],[13,28]])\n",
    "t22=sm.stats.Table2x2(table)\n",
    "print(t22.summary())"
   ]
  },
  {
   "cell_type": "markdown",
   "metadata": {},
   "source": [
    "#### Summary\n",
    "\n",
    "- Censor=0, Arthritis problem remains\n",
    "- Censor=1, Arthritis problem improved \n",
    "\n",
    "##### Odds Ratio\n",
    "Odds Ratio= 4.462, this implies in Placebo Group has 4.5 times more likely to remain the Arthritis problem compared to the Treatment Group.\n",
    "\n",
    "##### Risk Ratio\n",
    "Risk Ratio=2.127 means in Placebo Group the patients' Arthritis problem remains increased compared to the Patients in Treatment Group.\n",
    "\n"
   ]
  },
  {
   "cell_type": "markdown",
   "metadata": {},
   "source": [
    "#### Odds Ratio By step\n",
    "\n",
    "$Odds\\ in \\ Placebo= \\frac{29}{14}$\n",
    "\n",
    "$Odds \\ in \\ Treatment= \\frac{13}{28}$\n",
    "\n",
    "$Risk \\ Ratio = \\frac{2.0714}{0.464}=4.46$\n",
    "\n"
   ]
  },
  {
   "cell_type": "markdown",
   "metadata": {},
   "source": [
    "#### Risk Ratio\n",
    "$P(censor=0 \\ in \\ Placebo)= \\frac{29}{43}$\n",
    "\n",
    "$P(censor=0 \\ in \\ Treatment)= \\frac{13}{41}$\n",
    "\n",
    "$Risk \\ Ratio = \\frac{0.674}{0.317}=2.127$\n"
   ]
  },
  {
   "cell_type": "code",
   "execution_count": 35,
   "metadata": {},
   "outputs": [
    {
     "data": {
      "text/plain": [
       "Text(0,0.5,'Censor Status')"
      ]
     },
     "execution_count": 35,
     "metadata": {},
     "output_type": "execute_result"
    },
    {
     "data": {
      "image/png": "[encoded data removed]",
      "text/plain": [
       "<matplotlib.figure.Figure at 0xd4a3860>"
      ]
     },
     "metadata": {},
     "output_type": "display_data"
    }
   ],
   "source": [
    "#Visulatization\n",
    "\n",
    "%matplotlib inline\n",
    "pd.crosstab(df.Treatment, df.Censor).plot(kind=\"bar\")\n",
    "plt.title(\"Treatment vs Placebo\")\n",
    "plt.xlabel(\"Treatment Type for Arthritis\")\n",
    "plt.ylabel(\"Censor Status\")\n"
   ]
  },
  {
   "cell_type": "code",
   "execution_count": null,
   "metadata": {
    "collapsed": true
   },
   "outputs": [],
   "source": []
  }
 ],
 "metadata": {
  "kernelspec": {
   "display_name": "Python 3",
   "language": "python",
   "name": "python3"
  },
  "language_info": {
   "codemirror_mode": {
    "name": "ipython",
    "version": 3
   },
   "file_extension": ".py",
   "mimetype": "text/x-python",
   "name": "python",
   "nbconvert_exporter": "python",
   "pygments_lexer": "ipython3",
   "version": "3.6.3"
  }
 },
 "nbformat": 4,
 "nbformat_minor": 2
}
